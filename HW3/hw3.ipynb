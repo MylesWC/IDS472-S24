{
 "cells": [
  {
   "cell_type": "markdown",
   "metadata": {},
   "source": [
    "# Homework #3 by Tasneem Abbasi, Myles Cook, and Keegan Smith"
   ]
  },
  {
   "cell_type": "markdown",
   "metadata": {},
   "source": [
    "## Part a"
   ]
  },
  {
   "cell_type": "code",
   "execution_count": 10,
   "metadata": {},
   "outputs": [],
   "source": [
    "import pandas as pd\n",
    "from sklearn.model_selection import train_test_split\n",
    "from sklearn.linear_model import LogisticRegression\n",
    "from sklearn.metrics import accuracy_score\n",
    "from sklearn.preprocessing import StandardScaler"
   ]
  },
  {
   "cell_type": "code",
   "execution_count": 11,
   "metadata": {},
   "outputs": [
    {
     "data": {
      "text/html": [
       "<div>\n",
       "<style scoped>\n",
       "    .dataframe tbody tr th:only-of-type {\n",
       "        vertical-align: middle;\n",
       "    }\n",
       "\n",
       "    .dataframe tbody tr th {\n",
       "        vertical-align: top;\n",
       "    }\n",
       "\n",
       "    .dataframe thead th {\n",
       "        text-align: right;\n",
       "    }\n",
       "</style>\n",
       "<table border=\"1\" class=\"dataframe\">\n",
       "  <thead>\n",
       "    <tr style=\"text-align: right;\">\n",
       "      <th></th>\n",
       "      <th>Category</th>\n",
       "      <th>currency</th>\n",
       "      <th>sellerRating</th>\n",
       "      <th>Duration</th>\n",
       "      <th>endDay</th>\n",
       "      <th>ClosePrice</th>\n",
       "      <th>OpenPrice</th>\n",
       "      <th>Competitive?</th>\n",
       "    </tr>\n",
       "  </thead>\n",
       "  <tbody>\n",
       "    <tr>\n",
       "      <th>0</th>\n",
       "      <td>Music/Movie/Game</td>\n",
       "      <td>US</td>\n",
       "      <td>3249</td>\n",
       "      <td>5</td>\n",
       "      <td>Mon</td>\n",
       "      <td>0.01</td>\n",
       "      <td>0.01</td>\n",
       "      <td>0</td>\n",
       "    </tr>\n",
       "    <tr>\n",
       "      <th>1</th>\n",
       "      <td>Music/Movie/Game</td>\n",
       "      <td>US</td>\n",
       "      <td>3249</td>\n",
       "      <td>5</td>\n",
       "      <td>Mon</td>\n",
       "      <td>0.01</td>\n",
       "      <td>0.01</td>\n",
       "      <td>0</td>\n",
       "    </tr>\n",
       "    <tr>\n",
       "      <th>2</th>\n",
       "      <td>Music/Movie/Game</td>\n",
       "      <td>US</td>\n",
       "      <td>3249</td>\n",
       "      <td>5</td>\n",
       "      <td>Mon</td>\n",
       "      <td>0.01</td>\n",
       "      <td>0.01</td>\n",
       "      <td>0</td>\n",
       "    </tr>\n",
       "    <tr>\n",
       "      <th>3</th>\n",
       "      <td>Music/Movie/Game</td>\n",
       "      <td>US</td>\n",
       "      <td>3249</td>\n",
       "      <td>5</td>\n",
       "      <td>Mon</td>\n",
       "      <td>0.01</td>\n",
       "      <td>0.01</td>\n",
       "      <td>0</td>\n",
       "    </tr>\n",
       "    <tr>\n",
       "      <th>4</th>\n",
       "      <td>Music/Movie/Game</td>\n",
       "      <td>US</td>\n",
       "      <td>3249</td>\n",
       "      <td>5</td>\n",
       "      <td>Mon</td>\n",
       "      <td>0.01</td>\n",
       "      <td>0.01</td>\n",
       "      <td>0</td>\n",
       "    </tr>\n",
       "  </tbody>\n",
       "</table>\n",
       "</div>"
      ],
      "text/plain": [
       "           Category currency  sellerRating  Duration endDay  ClosePrice  \\\n",
       "0  Music/Movie/Game       US          3249         5    Mon        0.01   \n",
       "1  Music/Movie/Game       US          3249         5    Mon        0.01   \n",
       "2  Music/Movie/Game       US          3249         5    Mon        0.01   \n",
       "3  Music/Movie/Game       US          3249         5    Mon        0.01   \n",
       "4  Music/Movie/Game       US          3249         5    Mon        0.01   \n",
       "\n",
       "   OpenPrice  Competitive?  \n",
       "0       0.01             0  \n",
       "1       0.01             0  \n",
       "2       0.01             0  \n",
       "3       0.01             0  \n",
       "4       0.01             0  "
      ]
     },
     "execution_count": 11,
     "metadata": {},
     "output_type": "execute_result"
    }
   ],
   "source": [
    "# Load the data\n",
    "auctions_df = pd.read_csv('eBayAuctions.csv')\n",
    "\n",
    "# Preliminary data cleaning\n",
    "auctions_df.dropna(inplace=True)  # Drop rows with missing values\n",
    "\n",
    "# Display the first few rows of the dataframe\n",
    "auctions_df.head()"
   ]
  },
  {
   "cell_type": "code",
   "execution_count": 12,
   "metadata": {},
   "outputs": [],
   "source": [
    "# Drop rows with missing values\n",
    "auctions_df.dropna(inplace=True)\n",
    "\n",
    "# Convert columns to 'category' data type\n",
    "auctions_df['Category'] = auctions_df['Category'].astype('category')\n",
    "auctions_df['currency'] = auctions_df['currency'].astype('category')\n",
    "auctions_df['endDay'] = auctions_df['endDay'].astype('category')\n",
    "auctions_df['Duration'] = auctions_df['Duration'].astype('category')\n",
    "\n",
    "# Define categorical predictors\n",
    "cat_predictors = ['Category', 'currency', 'Duration', 'endDay']\n",
    "\n",
    "# Define all predictors\n",
    "predictors = ['Category', 'currency','sellerRating', 'Duration', 'endDay', 'ClosePrice', 'OpenPrice']\n",
    "\n",
    "# Define outcome\n",
    "outcome = 'Competitive?'\n",
    "\n",
    "# Create dummy variables for categorical predictors\n",
    "X_cat = pd.get_dummies(auctions_df[cat_predictors], dtype=int)\n",
    "\n",
    "# Concatenate categorical and numerical predictors to form feature matrix\n",
    "X = pd.concat([X_cat, auctions_df[['sellerRating', 'ClosePrice', 'OpenPrice']]], axis=1)\n",
    "\n",
    "# Define target variable\n",
    "y = auctions_df['Competitive?']"
   ]
  },
  {
   "cell_type": "code",
   "execution_count": 13,
   "metadata": {},
   "outputs": [
    {
     "name": "stdout",
     "output_type": "stream",
     "text": [
      "Category:\n",
      "                      Competitive?\n",
      "Category                          \n",
      "Music/Movie/Game          0.227955\n",
      "Collectibles              0.129456\n",
      "Toys/Hobbies              0.116323\n",
      "Antique/Art/Craft         0.093809\n",
      "SportingGoods             0.084428\n",
      "Home/Garden               0.062852\n",
      "Automotive                0.059099\n",
      "Clothing/Accessories      0.056285\n",
      "Electronics               0.041276\n",
      "Jewelry                   0.028143\n",
      "Books                     0.025328\n",
      "Computer                  0.022514\n",
      "Business/Industrial       0.011257\n",
      "Coins/Stamps              0.010319\n",
      "Health/Beauty             0.010319\n",
      "Photography               0.010319\n",
      "Pottery/Glass             0.006567\n",
      "EverythingElse            0.003752\n",
      "\n",
      "currency:\n",
      "          Competitive?\n",
      "currency              \n",
      "US            0.629456\n",
      "EUR           0.275797\n",
      "GBP           0.094747\n",
      "\n",
      "endDay:\n",
      "        Competitive?\n",
      "endDay              \n",
      "Mon         0.346154\n",
      "Sun         0.153846\n",
      "Sat         0.140713\n",
      "Fri         0.125704\n",
      "Thu         0.114447\n",
      "Tue         0.085366\n",
      "Wed         0.033771\n",
      "\n",
      "Duration:\n",
      "          Competitive?\n",
      "Duration              \n",
      "7             0.443715\n",
      "5             0.300188\n",
      "10            0.154784\n",
      "3             0.090056\n",
      "1             0.011257\n",
      "\n"
     ]
    }
   ],
   "source": [
    "# Define the categorical variables\n",
    "categorical_vars = ['Category', 'currency', 'endDay', 'Duration']\n",
    "\n",
    "# Loop over each categorical variable\n",
    "for var in categorical_vars:\n",
    "    # Create a pivot table for each variable, calculating the sum of 'Competitive?' for each category\n",
    "    pivot = auctions_df.pivot_table(index=var, values='Competitive?', aggfunc='sum')\n",
    "    \n",
    "    # Normalize the pivot table by dividing each value by the total sum\n",
    "    pivot = pivot / pivot.sum()\n",
    "    \n",
    "    # Sort the pivot table in descending order based on 'Competitive?'\n",
    "    pivot = pivot.sort_values(by='Competitive?', ascending=False)\n",
    "    \n",
    "    # Print the pivot table for each variable\n",
    "    print(f'{var}:\\n{pivot}\\n')"
   ]
  },
  {
   "cell_type": "markdown",
   "metadata": {},
   "source": [
    "# Part b"
   ]
  },
  {
   "cell_type": "code",
   "execution_count": 14,
   "metadata": {},
   "outputs": [
    {
     "ename": "NameError",
     "evalue": "name 'df_dummies' is not defined",
     "output_type": "error",
     "traceback": [
      "\u001b[0;31m---------------------------------------------------------------------------\u001b[0m",
      "\u001b[0;31mNameError\u001b[0m                                 Traceback (most recent call last)",
      "Cell \u001b[0;32mIn[14], line 2\u001b[0m\n\u001b[1;32m      1\u001b[0m \u001b[38;5;66;03m# Define predictors and outcome\u001b[39;00m\n\u001b[0;32m----> 2\u001b[0m X \u001b[38;5;241m=\u001b[39m \u001b[43mdf_dummies\u001b[49m\u001b[38;5;241m.\u001b[39mdrop(\u001b[38;5;124m'\u001b[39m\u001b[38;5;124mCompetitive?\u001b[39m\u001b[38;5;124m'\u001b[39m, axis\u001b[38;5;241m=\u001b[39m\u001b[38;5;241m1\u001b[39m)\n\u001b[1;32m      3\u001b[0m y \u001b[38;5;241m=\u001b[39m df_dummies[\u001b[38;5;124m'\u001b[39m\u001b[38;5;124mCompetitive?\u001b[39m\u001b[38;5;124m'\u001b[39m]\n\u001b[1;32m      5\u001b[0m \u001b[38;5;66;03m# Scale the data\u001b[39;00m\n",
      "\u001b[0;31mNameError\u001b[0m: name 'df_dummies' is not defined"
     ]
    }
   ],
   "source": [
    "# Define predictors and outcome\n",
    "X = df_dummies.drop('Competitive?', axis=1)\n",
    "y = df_dummies['Competitive?']\n",
    "\n",
    "# Scale the data\n",
    "scaler = StandardScaler()\n",
    "X_scaled = scaler.fit_transform(X)\n",
    "\n",
    "# Split the data\n",
    "X_train, X_valid, y_train, y_valid = train_test_split(X_scaled, y, test_size=0.40, random_state=42)\n",
    "\n",
    "# Run logistic regression\n",
    "model = LogisticRegression(max_iter=10000)\n",
    "model.fit(X_train, y_train)\n",
    "\n",
    "# Predict and calculate accuracy\n",
    "y_pred = model.predict(X_valid)\n",
    "accuracy = accuracy_score(y_valid, y_pred)\n",
    "print(f'Accuracy with all predictors: {accuracy}')"
   ]
  },
  {
   "cell_type": "markdown",
   "metadata": {},
   "source": [
    "# Part c"
   ]
  },
  {
   "cell_type": "code",
   "execution_count": null,
   "metadata": {},
   "outputs": [
    {
     "name": "stdout",
     "output_type": "stream",
     "text": [
      "Accuracy excluding price: 0.6387832699619772\n"
     ]
    }
   ],
   "source": [
    "X_excl_price = df_dummies.drop(['Competitive?', 'ClosePrice'], axis=1)\n",
    "X_train_excl_price, X_valid_excl_price, y_train, y_valid = train_test_split(X_excl_price, y, test_size=0.40, random_state=42)\n",
    "\n",
    "# Scale the data excluding price\n",
    "X_scaled_excl_price = scaler.fit_transform(X_train_excl_price)\n",
    "\n",
    "# Run logistic regression\n",
    "model_excl_price = LogisticRegression(max_iter=10000)\n",
    "model_excl_price.fit(X_scaled_excl_price, y_train)\n",
    "\n",
    "# Predict and calculate accuracy on the validation set\n",
    "X_valid_scaled_excl_price = scaler.transform(X_valid_excl_price)\n",
    "y_pred_excl_price = model_excl_price.predict(X_valid_scaled_excl_price)\n",
    "accuracy_excl_price = accuracy_score(y_valid, y_pred_excl_price)\n",
    "print(f'Accuracy excluding price: {accuracy_excl_price}')"
   ]
  },
  {
   "cell_type": "markdown",
   "metadata": {},
   "source": [
    "# Part d"
   ]
  },
  {
   "cell_type": "code",
   "execution_count": null,
   "metadata": {},
   "outputs": [
    {
     "ename": "ModuleNotFoundError",
     "evalue": "No module named 'statsmodels'",
     "output_type": "error",
     "traceback": [
      "\u001b[0;31m---------------------------------------------------------------------------\u001b[0m",
      "\u001b[0;31mModuleNotFoundError\u001b[0m                       Traceback (most recent call last)",
      "Cell \u001b[0;32mIn[8], line 1\u001b[0m\n\u001b[0;32m----> 1\u001b[0m \u001b[38;5;28;01mimport\u001b[39;00m \u001b[38;5;21;01mstatsmodels\u001b[39;00m\u001b[38;5;21;01m.\u001b[39;00m\u001b[38;5;21;01mapi\u001b[39;00m \u001b[38;5;28;01mas\u001b[39;00m \u001b[38;5;21;01msm\u001b[39;00m\n\u001b[1;32m      2\u001b[0m model_eval \u001b[38;5;241m=\u001b[39m sm\u001b[38;5;241m.\u001b[39mLogit(y_train, sm\u001b[38;5;241m.\u001b[39madd_constant(X_train))\n\u001b[1;32m      3\u001b[0m model_eval \u001b[38;5;241m=\u001b[39m model_eval\u001b[38;5;241m.\u001b[39mfit()\n",
      "\u001b[0;31mModuleNotFoundError\u001b[0m: No module named 'statsmodels'"
     ]
    }
   ],
   "source": [
    "import statsmodels.api as sm\n",
    "model_eval = sm.Logit(y_train, sm.add_constant(X_train))\n",
    "model_eval = model_eval.fit()\n",
    "print(model_eval.summary())"
   ]
  },
  {
   "cell_type": "markdown",
   "metadata": {},
   "source": [
    "The log probability of a competetive auction is increased by 0.0894 for each 1 unit (dollar) of closing price and it is statistically significant (p < 0.1)"
   ]
  },
  {
   "cell_type": "markdown",
   "metadata": {},
   "source": [
    "# Part e"
   ]
  },
  {
   "cell_type": "code",
   "execution_count": null,
   "metadata": {},
   "outputs": [
    {
     "name": "stdout",
     "output_type": "stream",
     "text": [
      "Accuracy with L1 regularization: 0.7515842839036755\n"
     ]
    }
   ],
   "source": [
    "model_regularized = LogisticRegression(penalty='l1', solver='liblinear', max_iter=10000)\n",
    "model_regularized.fit(X_scaled, y_train)\n",
    "\n",
    "# Predict and calculate accuracy on the validation set\n",
    "y_pred_regularized = model_regularized.predict(X_valid_scaled)\n",
    "accuracy_regularized = accuracy_score(y_valid, y_pred_regularized)\n",
    "print(f'Accuracy with L1 regularization: {accuracy_regularized}')"
   ]
  },
  {
   "cell_type": "markdown",
   "metadata": {},
   "source": [
    "# Part f\n",
    "\n",
    "We would recommend an auction with a duration of 5 days ending on either Friday or Monday given that those have the highest possitive coefficients, and that the auction use British Pounds (GBP) and is in the category \"photography\" although the reliance of these data is undetermined in our model. "
   ]
  }
 ],
 "metadata": {
  "kernelspec": {
   "display_name": "Python 3",
   "language": "python",
   "name": "python3"
  },
  "language_info": {
   "codemirror_mode": {
    "name": "ipython",
    "version": 3
   },
   "file_extension": ".py",
   "mimetype": "text/x-python",
   "name": "python",
   "nbconvert_exporter": "python",
   "pygments_lexer": "ipython3",
   "version": "3.11.5"
  }
 },
 "nbformat": 4,
 "nbformat_minor": 2
}
