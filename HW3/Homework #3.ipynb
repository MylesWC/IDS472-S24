{
 "cells": [
  {
   "cell_type": "markdown",
   "id": "84b56322",
   "metadata": {},
   "source": [
    "# Homework #3 by Tasneem Abbasi, Myles Cook, and Keegan Smith"
   ]
  },
  {
   "cell_type": "code",
   "execution_count": 20,
   "id": "7be91f3d",
   "metadata": {},
   "outputs": [],
   "source": [
    "import pandas as pd\n",
    "import matplotlib.pylab as plt\n",
    "from sklearn.model_selection import train_test_split\n",
    "from sklearn.naive_bayes import MultinomialNB\n",
    "from sklearn.metrics import accuracy_score, confusion_matrix"
   ]
  },
  {
   "cell_type": "code",
   "execution_count": 21,
   "id": "13bdce5d",
   "metadata": {},
   "outputs": [
    {
     "data": {
      "text/html": [
       "<div>\n",
       "<style scoped>\n",
       "    .dataframe tbody tr th:only-of-type {\n",
       "        vertical-align: middle;\n",
       "    }\n",
       "\n",
       "    .dataframe tbody tr th {\n",
       "        vertical-align: top;\n",
       "    }\n",
       "\n",
       "    .dataframe thead th {\n",
       "        text-align: right;\n",
       "    }\n",
       "</style>\n",
       "<table border=\"1\" class=\"dataframe\">\n",
       "  <thead>\n",
       "    <tr style=\"text-align: right;\">\n",
       "      <th></th>\n",
       "      <th>Category</th>\n",
       "      <th>currency</th>\n",
       "      <th>sellerRating</th>\n",
       "      <th>Duration</th>\n",
       "      <th>endDay</th>\n",
       "      <th>ClosePrice</th>\n",
       "      <th>OpenPrice</th>\n",
       "      <th>Competitive?</th>\n",
       "    </tr>\n",
       "  </thead>\n",
       "  <tbody>\n",
       "    <tr>\n",
       "      <th>0</th>\n",
       "      <td>Music/Movie/Game</td>\n",
       "      <td>US</td>\n",
       "      <td>3249</td>\n",
       "      <td>5</td>\n",
       "      <td>Mon</td>\n",
       "      <td>0.01</td>\n",
       "      <td>0.01</td>\n",
       "      <td>0</td>\n",
       "    </tr>\n",
       "    <tr>\n",
       "      <th>1</th>\n",
       "      <td>Music/Movie/Game</td>\n",
       "      <td>US</td>\n",
       "      <td>3249</td>\n",
       "      <td>5</td>\n",
       "      <td>Mon</td>\n",
       "      <td>0.01</td>\n",
       "      <td>0.01</td>\n",
       "      <td>0</td>\n",
       "    </tr>\n",
       "    <tr>\n",
       "      <th>2</th>\n",
       "      <td>Music/Movie/Game</td>\n",
       "      <td>US</td>\n",
       "      <td>3249</td>\n",
       "      <td>5</td>\n",
       "      <td>Mon</td>\n",
       "      <td>0.01</td>\n",
       "      <td>0.01</td>\n",
       "      <td>0</td>\n",
       "    </tr>\n",
       "    <tr>\n",
       "      <th>3</th>\n",
       "      <td>Music/Movie/Game</td>\n",
       "      <td>US</td>\n",
       "      <td>3249</td>\n",
       "      <td>5</td>\n",
       "      <td>Mon</td>\n",
       "      <td>0.01</td>\n",
       "      <td>0.01</td>\n",
       "      <td>0</td>\n",
       "    </tr>\n",
       "    <tr>\n",
       "      <th>4</th>\n",
       "      <td>Music/Movie/Game</td>\n",
       "      <td>US</td>\n",
       "      <td>3249</td>\n",
       "      <td>5</td>\n",
       "      <td>Mon</td>\n",
       "      <td>0.01</td>\n",
       "      <td>0.01</td>\n",
       "      <td>0</td>\n",
       "    </tr>\n",
       "  </tbody>\n",
       "</table>\n",
       "</div>"
      ],
      "text/plain": [
       "           Category currency  sellerRating  Duration endDay  ClosePrice  \\\n",
       "0  Music/Movie/Game       US          3249         5    Mon        0.01   \n",
       "1  Music/Movie/Game       US          3249         5    Mon        0.01   \n",
       "2  Music/Movie/Game       US          3249         5    Mon        0.01   \n",
       "3  Music/Movie/Game       US          3249         5    Mon        0.01   \n",
       "4  Music/Movie/Game       US          3249         5    Mon        0.01   \n",
       "\n",
       "   OpenPrice  Competitive?  \n",
       "0       0.01             0  \n",
       "1       0.01             0  \n",
       "2       0.01             0  \n",
       "3       0.01             0  \n",
       "4       0.01             0  "
      ]
     },
     "execution_count": 21,
     "metadata": {},
     "output_type": "execute_result"
    }
   ],
   "source": [
    "auctions_df = pd.read_csv('eBayAuctions.csv')\n",
    "auctions_df.head()"
   ]
  },
  {
   "cell_type": "code",
   "execution_count": 22,
   "id": "7d4c4288",
   "metadata": {},
   "outputs": [],
   "source": [
    "auctions_df.dropna(inplace=True)\n",
    "\n",
    "auctions_df['Category'] = auctions_df['Category'].astype('category')\n",
    "auctions_df['currency'] = auctions_df['currency'].astype('category')\n",
    "auctions_df['endDay'] = auctions_df['endDay'].astype('category')\n",
    "auctions_df['Duration'] = auctions_df['Duration'].astype('category')\n",
    "\n",
    "cat_predictors = ['Category', 'currency', 'Duration', 'endDay']\n",
    "predictors = ['Category', 'currency','sellerRating', 'Duration', 'endDay', 'ClosePrice', 'OpenPrice']\n",
    "outcome = 'Competitive?'\n",
    "\n",
    "X_cat = pd.get_dummies(auctions_df[cat_predictors], dtype=int)\n",
    "\n",
    "X = pd.concat([X_cat, auctions_df[['sellerRating', 'ClosePrice', 'OpenPrice']]], axis=1)\n",
    "y = auctions_df['Competitive?']"
   ]
  },
  {
   "cell_type": "markdown",
   "id": "91d1b998",
   "metadata": {},
   "source": [
    "# Problem #1a:"
   ]
  },
  {
   "cell_type": "code",
   "execution_count": 23,
   "id": "447c32b4",
   "metadata": {},
   "outputs": [
    {
     "name": "stdout",
     "output_type": "stream",
     "text": [
      "Category:\n",
      "                      Competitive?\n",
      "Category                          \n",
      "Music/Movie/Game          0.227955\n",
      "Collectibles              0.129456\n",
      "Toys/Hobbies              0.116323\n",
      "Antique/Art/Craft         0.093809\n",
      "SportingGoods             0.084428\n",
      "Home/Garden               0.062852\n",
      "Automotive                0.059099\n",
      "Clothing/Accessories      0.056285\n",
      "Electronics               0.041276\n",
      "Jewelry                   0.028143\n",
      "Books                     0.025328\n",
      "Computer                  0.022514\n",
      "Business/Industrial       0.011257\n",
      "Coins/Stamps              0.010319\n",
      "Health/Beauty             0.010319\n",
      "Photography               0.010319\n",
      "Pottery/Glass             0.006567\n",
      "EverythingElse            0.003752\n",
      "\n",
      "currency:\n",
      "          Competitive?\n",
      "currency              \n",
      "US            0.629456\n",
      "EUR           0.275797\n",
      "GBP           0.094747\n",
      "\n",
      "endDay:\n",
      "        Competitive?\n",
      "endDay              \n",
      "Mon         0.346154\n",
      "Sun         0.153846\n",
      "Sat         0.140713\n",
      "Fri         0.125704\n",
      "Thu         0.114447\n",
      "Tue         0.085366\n",
      "Wed         0.033771\n",
      "\n",
      "Duration:\n",
      "          Competitive?\n",
      "Duration              \n",
      "7             0.443715\n",
      "5             0.300188\n",
      "10            0.154784\n",
      "3             0.090056\n",
      "1             0.011257\n",
      "\n"
     ]
    }
   ],
   "source": [
    "# Define the categorical variables\n",
    "categorical_vars = ['Category', 'currency', 'endDay', 'Duration']\n",
    "\n",
    "# Loop over each categorical variable\n",
    "for var in categorical_vars:\n",
    "    # Create a pivot table for each variable, calculating the sum of 'Competitive?' for each category\n",
    "    pivot = auctions_df.pivot_table(index=var, values='Competitive?', aggfunc='sum')\n",
    "    \n",
    "    # Normalize the pivot table by dividing each value by the total sum\n",
    "    pivot = pivot / pivot.sum()\n",
    "    \n",
    "    # Sort the pivot table in descending order based on 'Competitive?'\n",
    "    pivot = pivot.sort_values(by='Competitive?', ascending=False)\n",
    "    \n",
    "    # Print the pivot table for each variable\n",
    "    print(f'{var}:\\n{pivot}\\n')"
   ]
  },
  {
   "cell_type": "markdown",
   "id": "83313301",
   "metadata": {},
   "source": [
    "# Problem #1b:"
   ]
  },
  {
   "cell_type": "code",
   "execution_count": 24,
   "id": "b5ac647f",
   "metadata": {},
   "outputs": [
    {
     "name": "stdout",
     "output_type": "stream",
     "text": [
      "Accuracy of logistic model with all predictors/features: 0.7515842839036755\n"
     ]
    }
   ],
   "source": [
    "from sklearn.linear_model import LogisticRegression\n",
    "from sklearn.metrics import accuracy_score\n",
    "\n",
    "X_train, X_valid, y_train, y_valid = train_test_split(X, y, test_size=0.40, random_state=1)\n",
    "\n",
    "# Run logistic regression with all predictors\n",
    "model = LogisticRegression(max_iter=100000)\n",
    "model.fit(X_train, y_train)\n",
    "\n",
    "# Predict on validation set\n",
    "y_pred = model.predict(X_valid)\n",
    "\n",
    "# Calculate accuracy\n",
    "accuracy = accuracy_score(y_valid, y_pred)\n",
    "print(\"Accuracy of logistic model with all predictors/features:\", accuracy)"
   ]
  },
  {
   "cell_type": "markdown",
   "id": "9b7da7f0",
   "metadata": {},
   "source": [
    "# Problem #1c:"
   ]
  },
  {
   "cell_type": "code",
   "execution_count": 25,
   "id": "2d8c8d1f",
   "metadata": {},
   "outputs": [],
   "source": [
    "X_alt = X.drop(columns='ClosePrice')"
   ]
  },
  {
   "cell_type": "code",
   "execution_count": 26,
   "id": "52771ee6",
   "metadata": {},
   "outputs": [
    {
     "name": "stdout",
     "output_type": "stream",
     "text": [
      "Accuracy of logistic model excluding price: 0.6311787072243346\n"
     ]
    }
   ],
   "source": [
    "X_train_alt, X_valid_alt, y_train_alt, y_valid_alt = train_test_split(X_alt, y, test_size=0.4, random_state=42)\n",
    "\n",
    "model_no_price = LogisticRegression(max_iter=100000)\n",
    "model_no_price.fit(X_train_alt, y_train_alt)\n",
    "\n",
    "y_pred_no_price = model_no_price.predict(X_valid_alt)\n",
    "\n",
    "accuracy_no_price = accuracy_score(y_valid_alt, y_pred_no_price)\n",
    "print(\"Accuracy of logistic model excluding price:\", accuracy_no_price)"
   ]
  },
  {
   "cell_type": "markdown",
   "id": "5498a9e8",
   "metadata": {},
   "source": [
    "Less accurate "
   ]
  },
  {
   "cell_type": "markdown",
   "id": "69c409e4",
   "metadata": {},
   "source": [
    "# Problem #1d:"
   ]
  },
  {
   "cell_type": "code",
   "execution_count": 27,
   "id": "95e0bf5a",
   "metadata": {},
   "outputs": [
    {
     "name": "stdout",
     "output_type": "stream",
     "text": [
      "Warning: Maximum number of iterations has been exceeded.\n",
      "         Current function value: 0.499076\n",
      "         Iterations: 35\n",
      "                           Logit Regression Results                           \n",
      "==============================================================================\n",
      "Dep. Variable:           Competitive?   No. Observations:                 1183\n",
      "Model:                          Logit   Df Residuals:                     1150\n",
      "Method:                           MLE   Df Model:                           32\n",
      "Date:                Wed, 28 Feb 2024   Pseudo R-squ.:                  0.2778\n",
      "Time:                        04:55:29   Log-Likelihood:                -590.41\n",
      "converged:                      False   LL-Null:                       -817.49\n",
      "Covariance Type:            nonrobust   LLR p-value:                 4.332e-76\n",
      "=================================================================================================\n",
      "                                    coef    std err          z      P>|z|      [0.025      0.975]\n",
      "-------------------------------------------------------------------------------------------------\n",
      "const                             0.4803        nan        nan        nan         nan         nan\n",
      "Category_Antique/Art/Craft       -0.6817   5.64e+06  -1.21e-07      1.000    -1.1e+07     1.1e+07\n",
      "Category_Automotive              -1.3365   5.66e+06  -2.36e-07      1.000   -1.11e+07    1.11e+07\n",
      "Category_Books                   -0.5005   5.64e+06  -8.87e-08      1.000   -1.11e+07    1.11e+07\n",
      "Category_Business/Industrial      0.5541   5.65e+06   9.81e-08      1.000   -1.11e+07    1.11e+07\n",
      "Category_Clothing/Accessories    -2.0232   5.62e+06   -3.6e-07      1.000    -1.1e+07     1.1e+07\n",
      "Category_Coins/Stamps            -2.7906   5.68e+06  -4.91e-07      1.000   -1.11e+07    1.11e+07\n",
      "Category_Collectibles            -0.7741   5.66e+06  -1.37e-07      1.000   -1.11e+07    1.11e+07\n",
      "Category_Computer                -0.8785   5.67e+06  -1.55e-07      1.000   -1.11e+07    1.11e+07\n",
      "Category_Electronics             -0.2229    5.7e+06  -3.91e-08      1.000   -1.12e+07    1.12e+07\n",
      "Category_EverythingElse          -2.4109   5.63e+06  -4.28e-07      1.000    -1.1e+07     1.1e+07\n",
      "Category_Health/Beauty           -2.6853   5.68e+06  -4.73e-07      1.000   -1.11e+07    1.11e+07\n",
      "Category_Home/Garden             -0.7681   5.66e+06  -1.36e-07      1.000   -1.11e+07    1.11e+07\n",
      "Category_Jewelry                 -1.2159   5.63e+06  -2.16e-07      1.000    -1.1e+07     1.1e+07\n",
      "Category_Music/Movie/Game        -0.6618   5.64e+06  -1.17e-07      1.000    -1.1e+07     1.1e+07\n",
      "Category_Photography             19.1249   5.66e+06   3.38e-06      1.000   -1.11e+07    1.11e+07\n",
      "Category_Pottery/Glass           -0.9200   5.68e+06  -1.62e-07      1.000   -1.11e+07    1.11e+07\n",
      "Category_SportingGoods           -0.8793   5.67e+06  -1.55e-07      1.000   -1.11e+07    1.11e+07\n",
      "Category_Toys/Hobbies            -0.4495   5.65e+06  -7.95e-08      1.000   -1.11e+07    1.11e+07\n",
      "currency_EUR                     -0.6335   6.75e+05  -9.39e-07      1.000   -1.32e+06    1.32e+06\n",
      "currency_GBP                      1.1765        nan        nan        nan         nan         nan\n",
      "currency_US                      -0.0627   6.33e+05  -9.91e-08      1.000   -1.24e+06    1.24e+06\n",
      "Duration_1                       -0.3007   5.14e+06  -5.85e-08      1.000   -1.01e+07    1.01e+07\n",
      "Duration_3                       -0.0274   5.08e+06  -5.41e-09      1.000   -9.95e+06    9.95e+06\n",
      "Duration_5                        0.4359   5.05e+06   8.62e-08      1.000   -9.91e+06    9.91e+06\n",
      "Duration_7                        0.0776   5.13e+06   1.51e-08      1.000   -1.01e+07    1.01e+07\n",
      "Duration_10                       0.2950   5.04e+06   5.85e-08      1.000   -9.89e+06    9.89e+06\n",
      "endDay_Fri                        0.4123        nan        nan        nan         nan         nan\n",
      "endDay_Mon                        0.6648        nan        nan        nan         nan         nan\n",
      "endDay_Sat                       -0.1815        nan        nan        nan         nan         nan\n",
      "endDay_Sun                       -0.0739        nan        nan        nan         nan         nan\n",
      "endDay_Thu                       -0.2113        nan        nan        nan         nan         nan\n",
      "endDay_Tue                        0.1737        nan        nan        nan         nan         nan\n",
      "endDay_Wed                       -0.3038        nan        nan        nan         nan         nan\n",
      "sellerRating                  -4.538e-05   1.67e-05     -2.715      0.007   -7.81e-05   -1.26e-05\n",
      "ClosePrice                        0.0894      0.009      9.457      0.000       0.071       0.108\n",
      "OpenPrice                        -0.1062      0.011     -9.452      0.000      -0.128      -0.084\n",
      "=================================================================================================\n"
     ]
    },
    {
     "name": "stderr",
     "output_type": "stream",
     "text": [
      "/home/codespace/.python/current/lib/python3.10/site-packages/statsmodels/base/model.py:607: ConvergenceWarning: Maximum Likelihood optimization failed to converge. Check mle_retvals\n",
      "  warnings.warn(\"Maximum Likelihood optimization failed to \"\n"
     ]
    }
   ],
   "source": [
    "import statsmodels.api as sm\n",
    "model_eval = sm.Logit(y_train, sm.add_constant(X_train))\n",
    "model_eval = model_eval.fit()\n",
    "print(model_eval.summary())"
   ]
  },
  {
   "cell_type": "markdown",
   "id": "5a33e145",
   "metadata": {},
   "source": [
    "The log probability of a competetive auction is increased by 0.0894 for each 1 unit (dollar) of closing price and it is statistically significant (p < 0.1)"
   ]
  },
  {
   "cell_type": "markdown",
   "id": "6b11f87b",
   "metadata": {},
   "source": [
    "# Problem #1e: "
   ]
  },
  {
   "cell_type": "code",
   "execution_count": 28,
   "id": "c8513a79",
   "metadata": {},
   "outputs": [
    {
     "name": "stdout",
     "output_type": "stream",
     "text": [
      "Accuracy of regularized logistic model: 0.7667934093789607\n"
     ]
    }
   ],
   "source": [
    "model_regularized = LogisticRegression(penalty='l1', solver='liblinear')\n",
    "model_regularized.fit(X_train, y_train)\n",
    "\n",
    "# Predict on validation set\n",
    "y_pred_regularized = model_regularized.predict(X_valid)\n",
    "\n",
    "# Calculate accuracy\n",
    "accuracy_regularized = accuracy_score(y_valid, y_pred_regularized)\n",
    "print(\"Accuracy of regularized logistic model:\", accuracy_regularized)"
   ]
  },
  {
   "cell_type": "markdown",
   "id": "60c24fbd",
   "metadata": {},
   "source": [
    "# Problem #1f:"
   ]
  },
  {
   "cell_type": "markdown",
   "id": "ae00ccfa",
   "metadata": {},
   "source": [
    "We would recommend an auction with a duration of 5 days ending on either Friday or Monday given that those have the highest possitive coefficients, and that the auction use British Pounds (GBP) and is in the category \"photography\" although the reliance of these data is undetermined in our model. "
   ]
  }
 ],
 "metadata": {
  "kernelspec": {
   "display_name": "Python 3 (ipykernel)",
   "language": "python",
   "name": "python3"
  },
  "language_info": {
   "codemirror_mode": {
    "name": "ipython",
    "version": 3
   },
   "file_extension": ".py",
   "mimetype": "text/x-python",
   "name": "python",
   "nbconvert_exporter": "python",
   "pygments_lexer": "ipython3",
   "version": "3.10.13"
  }
 },
 "nbformat": 4,
 "nbformat_minor": 5
}
