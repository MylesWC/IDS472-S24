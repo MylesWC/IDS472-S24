{
 "cells": [
  {
   "cell_type": "markdown",
   "metadata": {},
   "source": [
    "# Problem 2.1\n"
   ]
  },
  {
   "cell_type": "code",
   "execution_count": 3,
   "metadata": {},
   "outputs": [],
   "source": [
    "import pandas as pd\n",
    "from sklearn.model_selection import train_test_split\n",
    "from sklearn.preprocessing import StandardScaler\n",
    "from sklearn.neighbors import KNeighborsClassifier"
   ]
  },
  {
   "cell_type": "code",
   "execution_count": 4,
   "metadata": {},
   "outputs": [],
   "source": [
    "# Load the data\n",
    "data = pd.read_csv('UniversalBank.csv')\n",
    "\n",
    "# Drop the ID and ZIP Code columns as they are not useful for prediction\n",
    "data.drop(['ID', 'ZIP Code'], axis=1, inplace=True)\n",
    "\n",
    "# Convert categorical variables into dummy variables\n",
    "data = pd.get_dummies(data, columns=['Education'], drop_first=True)\n",
    "\n",
    "# Split the data into features and target variable\n",
    "X = data.drop('Personal Loan', axis=1)\n",
    "y = data['Personal Loan']\n",
    "\n",
    "# Standardize the features\n",
    "scaler = StandardScaler()\n",
    "X_scaled = scaler.fit_transform(X)\n",
    "\n",
    "# Split the data into training (60%) and validation (40%) sets\n",
    "X_train, X_val, y_train, y_val = train_test_split(X_scaled, y, test_size=0.4, random_state=42)"
   ]
  },
  {
   "cell_type": "markdown",
   "metadata": {},
   "source": [
    "# Part a:"
   ]
  },
  {
   "cell_type": "code",
   "execution_count": 5,
   "metadata": {},
   "outputs": [
    {
     "name": "stdout",
     "output_type": "stream",
     "text": [
      "Customer's loan acceptance prediction (k=1): 0\n"
     ]
    }
   ],
   "source": [
    "# Define the specific customer's data\n",
    "customer_data = pd.DataFrame({\n",
    "    'Age': [40],\n",
    "    'Experience': [10],\n",
    "    'Income': [84],\n",
    "    'Family': [2],\n",
    "    'CCAvg': [2],\n",
    "    'Mortgage': [0],\n",
    "    'Securities Account': [0],\n",
    "    'CD Account': [0],\n",
    "    'Online': [1],\n",
    "    'CreditCard': [1],\n",
    "    'Education_2': [1],\n",
    "    'Education_3': [0]\n",
    "})\n",
    "\n",
    "# Standardize the customer's data\n",
    "customer_data_scaled = scaler.transform(customer_data)\n",
    "\n",
    "# Perform k-NN classification with k=1\n",
    "knn = KNeighborsClassifier(n_neighbors=1)\n",
    "knn.fit(X_train, y_train)\n",
    "customer_prediction = knn.predict(customer_data_scaled)\n",
    "\n",
    "print(f\"Customer's loan acceptance prediction (k=1): {customer_prediction[0]}\")"
   ]
  },
  {
   "cell_type": "markdown",
   "metadata": {},
   "source": [
    "# Part b:"
   ]
  },
  {
   "cell_type": "code",
   "execution_count": 6,
   "metadata": {},
   "outputs": [
    {
     "name": "stdout",
     "output_type": "stream",
     "text": [
      "k=1, Validation Accuracy=0.96\n",
      "k=2, Validation Accuracy=0.947\n",
      "k=3, Validation Accuracy=0.956\n",
      "k=4, Validation Accuracy=0.9455\n",
      "k=5, Validation Accuracy=0.953\n",
      "k=6, Validation Accuracy=0.9425\n",
      "k=7, Validation Accuracy=0.95\n",
      "k=8, Validation Accuracy=0.9445\n",
      "k=9, Validation Accuracy=0.9475\n",
      "k=10, Validation Accuracy=0.9385\n",
      "k=11, Validation Accuracy=0.9435\n",
      "k=12, Validation Accuracy=0.938\n",
      "k=13, Validation Accuracy=0.94\n",
      "k=14, Validation Accuracy=0.9365\n",
      "k=15, Validation Accuracy=0.9415\n",
      "k=16, Validation Accuracy=0.937\n",
      "k=17, Validation Accuracy=0.94\n",
      "k=18, Validation Accuracy=0.9345\n",
      "k=19, Validation Accuracy=0.937\n",
      "k=20, Validation Accuracy=0.9315\n",
      "Best k: 1 with Accuracy: 0.96\n"
     ]
    }
   ],
   "source": [
    "from sklearn.metrics import accuracy_score\n",
    "\n",
    "# Placeholder for best k and its accuracy\n",
    "best_k = 1\n",
    "best_accuracy = 0\n",
    "\n",
    "# Try different values of k\n",
    "for k in range(1, 21):  # Trying k from 1 to 20\n",
    "    knn = KNeighborsClassifier(n_neighbors=k)\n",
    "    knn.fit(X_train, y_train)\n",
    "    val_predictions = knn.predict(X_val)\n",
    "    accuracy = accuracy_score(y_val, val_predictions)\n",
    "    print(f\"k={k}, Validation Accuracy={accuracy}\")\n",
    "    \n",
    "    if accuracy > best_accuracy:\n",
    "        best_k = k\n",
    "        best_accuracy = accuracy\n",
    "\n",
    "print(f\"Best k: {best_k} with Accuracy: {best_accuracy}\")"
   ]
  },
  {
   "cell_type": "markdown",
   "metadata": {},
   "source": [
    "# Part c:"
   ]
  },
  {
   "cell_type": "code",
   "execution_count": 7,
   "metadata": {},
   "outputs": [
    {
     "name": "stdout",
     "output_type": "stream",
     "text": [
      "Customer's loan acceptance prediction (best k=1): 0\n"
     ]
    }
   ],
   "source": [
    "# Perform k-NN classification with the best k\n",
    "knn_best = KNeighborsClassifier(n_neighbors=best_k)\n",
    "knn_best.fit(X_train, y_train)\n",
    "customer_prediction_best_k = knn_best.predict(customer_data_scaled)\n",
    "\n",
    "print(f\"Customer's loan acceptance prediction (best k={best_k}): {customer_prediction_best_k[0]}\")"
   ]
  },
  {
   "cell_type": "markdown",
   "metadata": {},
   "source": [
    "# Problem 2.2"
   ]
  }
 ],
 "metadata": {
  "kernelspec": {
   "display_name": "Python 3",
   "language": "python",
   "name": "python3"
  },
  "language_info": {
   "codemirror_mode": {
    "name": "ipython",
    "version": 3
   },
   "file_extension": ".py",
   "mimetype": "text/x-python",
   "name": "python",
   "nbconvert_exporter": "python",
   "pygments_lexer": "ipython3",
   "version": "3.11.5"
  }
 },
 "nbformat": 4,
 "nbformat_minor": 2
}
