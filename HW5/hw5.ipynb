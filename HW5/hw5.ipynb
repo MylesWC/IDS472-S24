{
 "cells": [
  {
   "cell_type": "markdown",
   "metadata": {},
   "source": [
    "# Part a"
   ]
  },
  {
   "cell_type": "code",
   "execution_count": 28,
   "metadata": {},
   "outputs": [
    {
     "name": "stdout",
     "output_type": "stream",
     "text": [
      "Training MSE: 0.0\n",
      "Validation MSE: 2101312.659130435\n",
      "Most important features:\n",
      "Age_08_04          0.834615\n",
      "KM                 0.060138\n",
      "HP                 0.051740\n",
      "Automatic_airco    0.013349\n",
      "dtype: float64\n"
     ]
    }
   ],
   "source": [
    "import pandas as pd\n",
    "from sklearn.model_selection import train_test_split\n",
    "from sklearn.tree import DecisionTreeRegressor\n",
    "from sklearn.metrics import mean_squared_error\n",
    "from sklearn.preprocessing import OneHotEncoder\n",
    "from sklearn.compose import ColumnTransformer\n",
    "from sklearn.pipeline import Pipeline\n",
    "\n",
    "# Load the data\n",
    "data = pd.read_csv('ToyotaCorolla.csv', delimiter=',')\n",
    "\n",
    "# Selecting predictors and the target variable\n",
    "X = data[['Age_08_04', 'KM', 'Fuel_Type', 'HP', 'Automatic', 'Doors', 'Quarterly_Tax', 'Mfr_Guarantee', 'Guarantee_Period', 'Airco', 'Automatic_airco', 'CD_Player', 'Powered_Windows', 'Sport_Model', 'Tow_Bar']]\n",
    "y = data['Price']\n",
    "\n",
    "# Preprocessing: Convert 'Fuel_Type' into dummies\n",
    "preprocessor = ColumnTransformer(\n",
    "    transformers=[\n",
    "        ('cat', OneHotEncoder(), ['Fuel_Type'])\n",
    "    ], remainder='passthrough')\n",
    "\n",
    "# Split the data into training and validation sets\n",
    "X_train, X_val, y_train, y_val = train_test_split(X, y, test_size=0.4, random_state=1)\n",
    "\n",
    "# Build a pipeline with preprocessing and model\n",
    "pipeline = Pipeline(steps=[('preprocessor', preprocessor),\n",
    "                           ('regressor', DecisionTreeRegressor(random_state=1))])\n",
    "\n",
    "# Fit the model\n",
    "pipeline.fit(X_train, y_train)\n",
    "\n",
    "# Predictions\n",
    "y_train_pred = pipeline.predict(X_train)\n",
    "y_val_pred = pipeline.predict(X_val)\n",
    "\n",
    "# Calculate and print MSE\n",
    "mse_train = mean_squared_error(y_train, y_train_pred)\n",
    "mse_val = mean_squared_error(y_val, y_val_pred)\n",
    "\n",
    "print(f\"Training MSE: {mse_train}\")\n",
    "print(f\"Validation MSE: {mse_val}\")\n",
    "\n",
    "# To find the most important features, we look at the feature importances of the tree\n",
    "# Note: Adjust the feature names based on the one-hot encoding\n",
    "feature_names = list(pipeline.named_steps['preprocessor'].transformers_[0][1].get_feature_names_out()) + ['Age_08_04', 'KM', 'HP', 'Automatic', 'Doors', 'Quarterly_Tax', 'Mfr_Guarantee', 'Guarantee_Period', 'Airco', 'Automatic_airco', 'CD_Player', 'Powered_Windows', 'Sport_Model', 'Tow_Bar']\n",
    "importances = pipeline.named_steps['regressor'].feature_importances_\n",
    "important_features = pd.Series(importances, index=feature_names).sort_values(ascending=False)\n",
    "\n",
    "print(\"Most important features:\")\n",
    "print(important_features.head(4))"
   ]
  },
  {
   "cell_type": "markdown",
   "metadata": {},
   "source": [
    "# Part b"
   ]
  },
  {
   "cell_type": "code",
   "execution_count": 29,
   "metadata": {},
   "outputs": [
    {
     "name": "stdout",
     "output_type": "stream",
     "text": [
      "Best parameters: {'regressor__max_depth': 6, 'regressor__min_samples_split': 7}\n",
      "Optimized Validation MSE: 1445948.9422725793\n",
      "Full-grown Tree Validation MSE: 2101312.659130435\n"
     ]
    }
   ],
   "source": [
    "from sklearn.model_selection import GridSearchCV\n",
    "\n",
    "# Define the parameter grid to search over\n",
    "param_grid = {\n",
    "    'regressor__max_depth': range(3, 10),  # Exploring tree depths from 3 to 10\n",
    "    'regressor__min_samples_split': range(2, 10)  # Minimum number of samples required to split a node\n",
    "}\n",
    "\n",
    "# Create the GridSearchCV object\n",
    "grid_search = GridSearchCV(pipeline, param_grid, cv=5, scoring='neg_mean_squared_error', return_train_score=True)\n",
    "\n",
    "# Fit the model using grid search\n",
    "grid_search.fit(X_train, y_train)\n",
    "\n",
    "# Best parameters found\n",
    "print(\"Best parameters:\", grid_search.best_params_)\n",
    "\n",
    "# Predictions with the best found model\n",
    "y_val_pred_optimized = grid_search.predict(X_val)\n",
    "\n",
    "# Calculate and print MSE for the optimized model\n",
    "mse_val_optimized = mean_squared_error(y_val, y_val_pred_optimized)\n",
    "print(f\"Optimized Validation MSE: {mse_val_optimized}\")\n",
    "\n",
    "# Comparing with the full-grown tree\n",
    "print(f\"Full-grown Tree Validation MSE: {mse_val}\")"
   ]
  }
 ],
 "metadata": {
  "kernelspec": {
   "display_name": "Python 3",
   "language": "python",
   "name": "python3"
  },
  "language_info": {
   "codemirror_mode": {
    "name": "ipython",
    "version": 3
   },
   "file_extension": ".py",
   "mimetype": "text/x-python",
   "name": "python",
   "nbconvert_exporter": "python",
   "pygments_lexer": "ipython3",
   "version": "3.11.5"
  }
 },
 "nbformat": 4,
 "nbformat_minor": 2
}
