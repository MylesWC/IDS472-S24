{
 "cells": [
  {
   "cell_type": "markdown",
   "metadata": {},
   "source": [
    "# Chapter 5. Linear Models"
   ]
  },
  {
   "cell_type": "code",
   "execution_count": 1,
   "metadata": {},
   "outputs": [],
   "source": [
    "import numpy as np\n",
    "import pandas as pd\n",
    "import seaborn as sns\n",
    "import matplotlib.pyplot as plt"
   ]
  },
  {
   "cell_type": "markdown",
   "metadata": {},
   "source": [
    "## Linear Discriminant Analysis"
   ]
  },
  {
   "cell_type": "code",
   "execution_count": 2,
   "metadata": {},
   "outputs": [
    {
     "name": "stdout",
     "output_type": "stream",
     "text": [
      "X shape = (120, 4)\n",
      "y shape = (120,)\n"
     ]
    }
   ],
   "source": [
    "arrays = np.load('data/iris_train_scaled.npz')\n",
    "X_train = arrays['X']\n",
    "y_train = arrays['y']\n",
    "arrays = np.load('data/iris_test_scaled.npz')\n",
    "X_test = arrays['X']\n",
    "y_test = arrays['y']\n",
    "\n",
    "print('X shape = {}'.format(X_train.shape) + '\\ny shape = {}'.format(y_train.shape))"
   ]
  },
  {
   "cell_type": "code",
   "execution_count": 3,
   "metadata": {},
   "outputs": [
    {
     "data": {
      "text/html": [
       "<style>#sk-container-id-1 {color: black;}#sk-container-id-1 pre{padding: 0;}#sk-container-id-1 div.sk-toggleable {background-color: white;}#sk-container-id-1 label.sk-toggleable__label {cursor: pointer;display: block;width: 100%;margin-bottom: 0;padding: 0.3em;box-sizing: border-box;text-align: center;}#sk-container-id-1 label.sk-toggleable__label-arrow:before {content: \"▸\";float: left;margin-right: 0.25em;color: #696969;}#sk-container-id-1 label.sk-toggleable__label-arrow:hover:before {color: black;}#sk-container-id-1 div.sk-estimator:hover label.sk-toggleable__label-arrow:before {color: black;}#sk-container-id-1 div.sk-toggleable__content {max-height: 0;max-width: 0;overflow: hidden;text-align: left;background-color: #f0f8ff;}#sk-container-id-1 div.sk-toggleable__content pre {margin: 0.2em;color: black;border-radius: 0.25em;background-color: #f0f8ff;}#sk-container-id-1 input.sk-toggleable__control:checked~div.sk-toggleable__content {max-height: 200px;max-width: 100%;overflow: auto;}#sk-container-id-1 input.sk-toggleable__control:checked~label.sk-toggleable__label-arrow:before {content: \"▾\";}#sk-container-id-1 div.sk-estimator input.sk-toggleable__control:checked~label.sk-toggleable__label {background-color: #d4ebff;}#sk-container-id-1 div.sk-label input.sk-toggleable__control:checked~label.sk-toggleable__label {background-color: #d4ebff;}#sk-container-id-1 input.sk-hidden--visually {border: 0;clip: rect(1px 1px 1px 1px);clip: rect(1px, 1px, 1px, 1px);height: 1px;margin: -1px;overflow: hidden;padding: 0;position: absolute;width: 1px;}#sk-container-id-1 div.sk-estimator {font-family: monospace;background-color: #f0f8ff;border: 1px dotted black;border-radius: 0.25em;box-sizing: border-box;margin-bottom: 0.5em;}#sk-container-id-1 div.sk-estimator:hover {background-color: #d4ebff;}#sk-container-id-1 div.sk-parallel-item::after {content: \"\";width: 100%;border-bottom: 1px solid gray;flex-grow: 1;}#sk-container-id-1 div.sk-label:hover label.sk-toggleable__label {background-color: #d4ebff;}#sk-container-id-1 div.sk-serial::before {content: \"\";position: absolute;border-left: 1px solid gray;box-sizing: border-box;top: 0;bottom: 0;left: 50%;z-index: 0;}#sk-container-id-1 div.sk-serial {display: flex;flex-direction: column;align-items: center;background-color: white;padding-right: 0.2em;padding-left: 0.2em;position: relative;}#sk-container-id-1 div.sk-item {position: relative;z-index: 1;}#sk-container-id-1 div.sk-parallel {display: flex;align-items: stretch;justify-content: center;background-color: white;position: relative;}#sk-container-id-1 div.sk-item::before, #sk-container-id-1 div.sk-parallel-item::before {content: \"\";position: absolute;border-left: 1px solid gray;box-sizing: border-box;top: 0;bottom: 0;left: 50%;z-index: -1;}#sk-container-id-1 div.sk-parallel-item {display: flex;flex-direction: column;z-index: 1;position: relative;background-color: white;}#sk-container-id-1 div.sk-parallel-item:first-child::after {align-self: flex-end;width: 50%;}#sk-container-id-1 div.sk-parallel-item:last-child::after {align-self: flex-start;width: 50%;}#sk-container-id-1 div.sk-parallel-item:only-child::after {width: 0;}#sk-container-id-1 div.sk-dashed-wrapped {border: 1px dashed gray;margin: 0 0.4em 0.5em 0.4em;box-sizing: border-box;padding-bottom: 0.4em;background-color: white;}#sk-container-id-1 div.sk-label label {font-family: monospace;font-weight: bold;display: inline-block;line-height: 1.2em;}#sk-container-id-1 div.sk-label-container {text-align: center;}#sk-container-id-1 div.sk-container {/* jupyter's `normalize.less` sets `[hidden] { display: none; }` but bootstrap.min.css set `[hidden] { display: none !important; }` so we also need the `!important` here to be able to override the default hidden behavior on the sphinx rendered scikit-learn.org. See: https://github.com/scikit-learn/scikit-learn/issues/21755 */display: inline-block !important;position: relative;}#sk-container-id-1 div.sk-text-repr-fallback {display: none;}</style><div id=\"sk-container-id-1\" class=\"sk-top-container\"><div class=\"sk-text-repr-fallback\"><pre>QuadraticDiscriminantAnalysis()</pre><b>In a Jupyter environment, please rerun this cell to show the HTML representation or trust the notebook. <br />On GitHub, the HTML representation is unable to render, please try loading this page with nbviewer.org.</b></div><div class=\"sk-container\" hidden><div class=\"sk-item\"><div class=\"sk-estimator sk-toggleable\"><input class=\"sk-toggleable__control sk-hidden--visually\" id=\"sk-estimator-id-1\" type=\"checkbox\" checked><label for=\"sk-estimator-id-1\" class=\"sk-toggleable__label sk-toggleable__label-arrow\">QuadraticDiscriminantAnalysis</label><div class=\"sk-toggleable__content\"><pre>QuadraticDiscriminantAnalysis()</pre></div></div></div></div></div>"
      ],
      "text/plain": [
       "QuadraticDiscriminantAnalysis()"
      ]
     },
     "execution_count": 3,
     "metadata": {},
     "output_type": "execute_result"
    }
   ],
   "source": [
    "from sklearn.discriminant_analysis import LinearDiscriminantAnalysis as LDA \n",
    "from sklearn.discriminant_analysis import QuadraticDiscriminantAnalysis as QDA\n",
    "from sklearn.neighbors import KNeighborsClassifier as KNN \n",
    "\n",
    "knn = KNN(n_neighbors=3)\n",
    "knn.fit(X_train, y_train)\n",
    "lda = LDA(solver='lsqr')\n",
    "qda = QDA()\n",
    "lda.fit(X_train, y_train)\n",
    "qda.fit(X_train, y_train)"
   ]
  },
  {
   "cell_type": "code",
   "execution_count": 4,
   "metadata": {},
   "outputs": [
    {
     "name": "stdout",
     "output_type": "stream",
     "text": [
      "[[  6.56900824   5.50421661 -35.07162555 -16.88483127]\n",
      " [ -1.7703903   -1.99980441  10.43966671   1.97466689]\n",
      " [ -4.79861793  -3.5044122   24.63195884  14.91016438]]\n",
      "\n",
      "[-33.67944828  -3.37778545 -19.90053696]\n",
      "\n",
      "[0.33333333 0.33333333 0.33333333]\n"
     ]
    }
   ],
   "source": [
    "# weight vector\n",
    "print(lda.coef_)\n",
    "print()\n",
    "\n",
    "# intercept term\n",
    "print(lda.intercept_)\n",
    "print()\n",
    "\n",
    "# estimated class priors\n",
    "print(lda.priors_)"
   ]
  },
  {
   "cell_type": "code",
   "execution_count": 5,
   "metadata": {},
   "outputs": [
    {
     "data": {
      "text/plain": [
       "array([1, 1, 1, 2, 0, 2, 1, 0, 1, 1, 1, 2, 2, 0, 2, 0, 0, 1, 0, 2, 0, 1,\n",
       "       1, 0, 2, 0, 0, 2, 2, 1])"
      ]
     },
     "execution_count": 5,
     "metadata": {},
     "output_type": "execute_result"
    }
   ],
   "source": [
    "# predicted class labels\n",
    "pd.DataFrame(X_test @ lda.coef_.T + lda.intercept_).idxmax(axis=1).values"
   ]
  },
  {
   "cell_type": "code",
   "execution_count": 6,
   "metadata": {},
   "outputs": [
    {
     "data": {
      "text/plain": [
       "array([1, 1, 1, 2, 0, 2, 1, 0, 1, 1, 1, 2, 2, 0, 2, 0, 0, 1, 0, 2, 0, 1,\n",
       "       1, 0, 2, 0, 0, 2, 2, 1])"
      ]
     },
     "execution_count": 6,
     "metadata": {},
     "output_type": "execute_result"
    }
   ],
   "source": [
    "# predicted class labels\n",
    "lda.predict(X_test)"
   ]
  },
  {
   "cell_type": "code",
   "execution_count": 7,
   "metadata": {},
   "outputs": [
    {
     "data": {
      "text/plain": [
       "array([1, 1, 1, 2, 0, 2, 1, 0, 1, 1, 1, 2, 2, 0, 2, 0, 0, 1, 0, 2, 0, 1,\n",
       "       1, 0, 2, 0, 0, 2, 2, 1])"
      ]
     },
     "execution_count": 7,
     "metadata": {},
     "output_type": "execute_result"
    }
   ],
   "source": [
    "qda.predict(X_test)"
   ]
  },
  {
   "cell_type": "code",
   "execution_count": 11,
   "metadata": {},
   "outputs": [
    {
     "name": "stdout",
     "output_type": "stream",
     "text": [
      "LDA test score = 0.9666666666666667\n",
      "QDA test score = 0.9666666666666667\n",
      "KNN test score = 0.9\n"
     ]
    }
   ],
   "source": [
    "print('LDA test score = {}'.format(lda.score(X_test, y_test)) \n",
    "      + '\\nQDA test score = {}'.format(qda.score(X_test, y_test))\n",
    "      + '\\nKNN test score = {}'.format(knn.score(X_test, y_test)))"
   ]
  },
  {
   "cell_type": "code",
   "execution_count": 10,
   "metadata": {},
   "outputs": [
    {
     "name": "stdout",
     "output_type": "stream",
     "text": [
      "LDA training score = 0.9833333333333333\n",
      "QDA training score = 0.9833333333333333\n",
      "KNN training score = 0.9666666666666667\n"
     ]
    }
   ],
   "source": [
    "print('LDA training score = {}'.format(lda.score(X_train, y_train)) \n",
    "      + '\\nQDA training score = {}'.format(qda.score(X_train, y_train))\n",
    "      + '\\nKNN training score = {}'.format(knn.score(X_train, y_train)))"
   ]
  },
  {
   "cell_type": "markdown",
   "metadata": {},
   "source": [
    "## Logistic Regression"
   ]
  },
  {
   "cell_type": "code",
   "execution_count": 9,
   "metadata": {},
   "outputs": [
    {
     "name": "stdout",
     "output_type": "stream",
     "text": [
      "X shape = (120, 4)\n",
      "y shape = (120,)\n",
      "X shape = (30, 4)\n",
      "y shape = (30,)\n"
     ]
    }
   ],
   "source": [
    "import numpy as np\n",
    "\n",
    "arrays = np.load('data/iris_train_scaled.npz')\n",
    "X_train = arrays['X']\n",
    "y_train = arrays['y']\n",
    "\n",
    "arrays = np.load('data/iris_test_scaled.npz')\n",
    "X_test = arrays['X']\n",
    "y_test = arrays['y']\n",
    "\n",
    "print('X shape = {}'.format(X_train.shape) + '\\ny shape = {}'.format(y_train.shape))\n",
    "print('X shape = {}'.format(X_test.shape) + '\\ny shape = {}'.format(y_test.shape))"
   ]
  },
  {
   "cell_type": "code",
   "execution_count": 10,
   "metadata": {},
   "outputs": [
    {
     "data": {
      "text/plain": [
       "(120, 2)"
      ]
     },
     "execution_count": 10,
     "metadata": {},
     "output_type": "execute_result"
    }
   ],
   "source": [
    "X_train = X_train[:,[1,2]]\n",
    "X_test = X_test[:,[1,2]]\n",
    "X_train.shape"
   ]
  },
  {
   "cell_type": "code",
   "execution_count": 11,
   "metadata": {},
   "outputs": [
    {
     "name": "stdout",
     "output_type": "stream",
     "text": [
      "The accuracy for C=0.01 on the training data is 0.817\n",
      "The accuracy for C=0.01 on the test data is 0.833\n",
      "The accuracy for C=100 on the training data is 0.950\n",
      "The accuracy for C=100 on the test data is 0.967\n"
     ]
    },
    {
     "data": {
      "image/png": "[encoded data removed]",
      "text/plain": [
       "<Figure size 900x300 with 2 Axes>"
      ]
     },
     "metadata": {},
     "output_type": "display_data"
    }
   ],
   "source": [
    "import matplotlib.pyplot as plt\n",
    "from matplotlib.colors import ListedColormap\n",
    "from sklearn.linear_model import LogisticRegression as LRR\n",
    "\n",
    "color = ['aquamarine', 'bisque', 'lightgrey']\n",
    "cmap = ListedColormap(color)\n",
    "mins = X_train.min(axis=0) - 0.1\n",
    "maxs = X_train.max(axis=0) + 0.1\n",
    "x = np.arange(mins[0], maxs[0], 0.01)\n",
    "y = np.arange(mins[1], maxs[1], 0.01)\n",
    "X, Y = np.meshgrid(x, y)\n",
    "coordinates = np.array([X.ravel(), Y.ravel()]).T\n",
    "fig, axs = plt.subplots(1, 2, figsize=(6, 2), dpi = 150)\n",
    "fig.tight_layout()\n",
    "\n",
    "C_val = [0.01, 100]\n",
    "for ax, C in zip(axs.ravel(), C_val):\n",
    "    lrr = LRR(C=C)\n",
    "    lrr.fit(X_train, y_train)\n",
    "    Z = lrr.predict(coordinates)\n",
    "    Z = Z.reshape(X.shape)\n",
    "    ax.tick_params(axis='both', labelsize=6)\n",
    "    ax.set_title('LRR Decision Regions: C=' + str(C), fontsize=8)\n",
    "    ax.pcolormesh(X, Y, Z, cmap = cmap, shading='nearest')\n",
    "    ax.contour(X ,Y, Z, colors='black', linewidths=0.5)\n",
    "    ax.plot(X_train[y_train==0, 0], X_train[y_train==0, 1],\n",
    "            'g.', markersize=4)\n",
    "    ax.plot(X_train[y_train==1, 0], X_train[y_train==1, 1],\n",
    "            'r.', markersize=4)\n",
    "    ax.plot(X_train[y_train==2, 0], X_train[y_train==2, 1],\n",
    "            'k.', markersize=4)\n",
    "    \n",
    "    if (C==C_val[0]): \n",
    "        ax.set_ylabel('petal length (normalized)', fontsize=7)\n",
    "    ax.set_xlabel('sepal width (normalized)', fontsize=7)\n",
    "    print('The accuracy for C={} on the training data is {:.3f}'.format(C, lrr.score(X_train, y_train)))\n",
    "    print('The accuracy for C={} on the test data is {:.3f}'.format(C, lrr.score(X_test, y_test)))"
   ]
  },
  {
   "cell_type": "code",
   "execution_count": 12,
   "metadata": {},
   "outputs": [
    {
     "data": {
      "text/html": [
       "<div>\n",
       "<style scoped>\n",
       "    .dataframe tbody tr th:only-of-type {\n",
       "        vertical-align: middle;\n",
       "    }\n",
       "\n",
       "    .dataframe tbody tr th {\n",
       "        vertical-align: top;\n",
       "    }\n",
       "\n",
       "    .dataframe thead th {\n",
       "        text-align: right;\n",
       "    }\n",
       "</style>\n",
       "<table border=\"1\" class=\"dataframe\">\n",
       "  <thead>\n",
       "    <tr style=\"text-align: right;\">\n",
       "      <th></th>\n",
       "      <th>0</th>\n",
       "      <th>1</th>\n",
       "      <th>2</th>\n",
       "      <th>3</th>\n",
       "      <th>4</th>\n",
       "      <th>5</th>\n",
       "      <th>6</th>\n",
       "      <th>7</th>\n",
       "      <th>8</th>\n",
       "      <th>9</th>\n",
       "      <th>...</th>\n",
       "      <th>19888</th>\n",
       "      <th>19889</th>\n",
       "      <th>19890</th>\n",
       "      <th>19891</th>\n",
       "      <th>19892</th>\n",
       "      <th>19893</th>\n",
       "      <th>19894</th>\n",
       "      <th>19895</th>\n",
       "      <th>19896</th>\n",
       "      <th>19897</th>\n",
       "    </tr>\n",
       "  </thead>\n",
       "  <tbody>\n",
       "    <tr>\n",
       "      <th>0</th>\n",
       "      <td>4.44</td>\n",
       "      <td>8.98</td>\n",
       "      <td>5.58</td>\n",
       "      <td>6.89</td>\n",
       "      <td>6.40</td>\n",
       "      <td>6.35</td>\n",
       "      <td>7.12</td>\n",
       "      <td>6.87</td>\n",
       "      <td>7.18</td>\n",
       "      <td>7.81</td>\n",
       "      <td>...</td>\n",
       "      <td>6.08</td>\n",
       "      <td>5.49</td>\n",
       "      <td>12.59</td>\n",
       "      <td>11.72</td>\n",
       "      <td>8.99</td>\n",
       "      <td>10.87</td>\n",
       "      <td>1</td>\n",
       "      <td>0</td>\n",
       "      <td>1</td>\n",
       "      <td>1</td>\n",
       "    </tr>\n",
       "    <tr>\n",
       "      <th>1</th>\n",
       "      <td>4.59</td>\n",
       "      <td>8.57</td>\n",
       "      <td>6.57</td>\n",
       "      <td>7.25</td>\n",
       "      <td>6.44</td>\n",
       "      <td>6.34</td>\n",
       "      <td>7.40</td>\n",
       "      <td>6.91</td>\n",
       "      <td>7.18</td>\n",
       "      <td>8.12</td>\n",
       "      <td>...</td>\n",
       "      <td>6.17</td>\n",
       "      <td>6.08</td>\n",
       "      <td>13.04</td>\n",
       "      <td>11.36</td>\n",
       "      <td>8.96</td>\n",
       "      <td>11.03</td>\n",
       "      <td>1</td>\n",
       "      <td>0</td>\n",
       "      <td>0</td>\n",
       "      <td>1</td>\n",
       "    </tr>\n",
       "    <tr>\n",
       "      <th>2</th>\n",
       "      <td>4.74</td>\n",
       "      <td>8.80</td>\n",
       "      <td>6.22</td>\n",
       "      <td>7.13</td>\n",
       "      <td>6.79</td>\n",
       "      <td>6.08</td>\n",
       "      <td>7.42</td>\n",
       "      <td>6.93</td>\n",
       "      <td>7.48</td>\n",
       "      <td>8.82</td>\n",
       "      <td>...</td>\n",
       "      <td>6.39</td>\n",
       "      <td>5.99</td>\n",
       "      <td>13.29</td>\n",
       "      <td>11.87</td>\n",
       "      <td>8.63</td>\n",
       "      <td>10.87</td>\n",
       "      <td>1</td>\n",
       "      <td>1</td>\n",
       "      <td>0</td>\n",
       "      <td>-1</td>\n",
       "    </tr>\n",
       "    <tr>\n",
       "      <th>3</th>\n",
       "      <td>4.62</td>\n",
       "      <td>8.77</td>\n",
       "      <td>6.32</td>\n",
       "      <td>7.34</td>\n",
       "      <td>6.29</td>\n",
       "      <td>5.65</td>\n",
       "      <td>7.12</td>\n",
       "      <td>6.89</td>\n",
       "      <td>7.27</td>\n",
       "      <td>7.18</td>\n",
       "      <td>...</td>\n",
       "      <td>6.32</td>\n",
       "      <td>5.69</td>\n",
       "      <td>13.33</td>\n",
       "      <td>12.02</td>\n",
       "      <td>8.86</td>\n",
       "      <td>11.08</td>\n",
       "      <td>0</td>\n",
       "      <td>1</td>\n",
       "      <td>1</td>\n",
       "      <td>1</td>\n",
       "    </tr>\n",
       "    <tr>\n",
       "      <th>4</th>\n",
       "      <td>4.84</td>\n",
       "      <td>8.81</td>\n",
       "      <td>6.51</td>\n",
       "      <td>7.16</td>\n",
       "      <td>6.12</td>\n",
       "      <td>5.99</td>\n",
       "      <td>7.13</td>\n",
       "      <td>6.85</td>\n",
       "      <td>7.21</td>\n",
       "      <td>7.97</td>\n",
       "      <td>...</td>\n",
       "      <td>6.57</td>\n",
       "      <td>5.59</td>\n",
       "      <td>13.22</td>\n",
       "      <td>11.87</td>\n",
       "      <td>8.89</td>\n",
       "      <td>11.15</td>\n",
       "      <td>1</td>\n",
       "      <td>1</td>\n",
       "      <td>0</td>\n",
       "      <td>1</td>\n",
       "    </tr>\n",
       "  </tbody>\n",
       "</table>\n",
       "<p>5 rows × 19898 columns</p>\n",
       "</div>"
      ],
      "text/plain": [
       "   0      1      2      3      4      5      6      7      8      9      ...  \\\n",
       "0   4.44   8.98   5.58   6.89   6.40   6.35   7.12   6.87   7.18   7.81  ...   \n",
       "1   4.59   8.57   6.57   7.25   6.44   6.34   7.40   6.91   7.18   8.12  ...   \n",
       "2   4.74   8.80   6.22   7.13   6.79   6.08   7.42   6.93   7.48   8.82  ...   \n",
       "3   4.62   8.77   6.32   7.34   6.29   5.65   7.12   6.89   7.27   7.18  ...   \n",
       "4   4.84   8.81   6.51   7.16   6.12   5.99   7.13   6.85   7.21   7.97  ...   \n",
       "\n",
       "   19888  19889  19890  19891  19892  19893  19894  19895  19896  19897  \n",
       "0   6.08   5.49  12.59  11.72   8.99  10.87      1      0      1      1  \n",
       "1   6.17   6.08  13.04  11.36   8.96  11.03      1      0      0      1  \n",
       "2   6.39   5.99  13.29  11.87   8.63  10.87      1      1      0     -1  \n",
       "3   6.32   5.69  13.33  12.02   8.86  11.08      0      1      1      1  \n",
       "4   6.57   5.59  13.22  11.87   8.89  11.15      1      1      0      1  \n",
       "\n",
       "[5 rows x 19898 columns]"
      ]
     },
     "execution_count": 12,
     "metadata": {},
     "output_type": "execute_result"
    }
   ],
   "source": [
    "# load the dataset\n",
    "import numpy as np\n",
    "import pandas as pd\n",
    "\n",
    "data = pd.read_csv('data/GenomicData_OralCancer.txt', sep=\" \", header=None)\n",
    "data.head()"
   ]
  },
  {
   "cell_type": "code",
   "execution_count": 13,
   "metadata": {},
   "outputs": [
    {
     "data": {
      "text/html": [
       "<div>\n",
       "<style scoped>\n",
       "    .dataframe tbody tr th:only-of-type {\n",
       "        vertical-align: middle;\n",
       "    }\n",
       "\n",
       "    .dataframe tbody tr th {\n",
       "        vertical-align: top;\n",
       "    }\n",
       "\n",
       "    .dataframe thead th {\n",
       "        text-align: right;\n",
       "    }\n",
       "</style>\n",
       "<table border=\"1\" class=\"dataframe\">\n",
       "  <thead>\n",
       "    <tr style=\"text-align: right;\">\n",
       "      <th></th>\n",
       "      <th>OR4F17</th>\n",
       "      <th>SEPT14</th>\n",
       "      <th>OR4F16</th>\n",
       "      <th>GPAM</th>\n",
       "      <th>LOC100287934</th>\n",
       "      <th>LOC643837</th>\n",
       "      <th>SAMD11</th>\n",
       "      <th>KLHL17</th>\n",
       "      <th>PLEKHN1</th>\n",
       "      <th>ISG15</th>\n",
       "      <th>...</th>\n",
       "      <th>MRGPRX3</th>\n",
       "      <th>OR8G1</th>\n",
       "      <th>SPRR2F</th>\n",
       "      <th>NME2</th>\n",
       "      <th>GRINL1A</th>\n",
       "      <th>UBE2V1</th>\n",
       "      <th>alcohol</th>\n",
       "      <th>smoking</th>\n",
       "      <th>histology</th>\n",
       "      <th>oral_cancer_output</th>\n",
       "    </tr>\n",
       "  </thead>\n",
       "  <tbody>\n",
       "    <tr>\n",
       "      <th>0</th>\n",
       "      <td>4.44</td>\n",
       "      <td>8.98</td>\n",
       "      <td>5.58</td>\n",
       "      <td>6.89</td>\n",
       "      <td>6.40</td>\n",
       "      <td>6.35</td>\n",
       "      <td>7.12</td>\n",
       "      <td>6.87</td>\n",
       "      <td>7.18</td>\n",
       "      <td>7.81</td>\n",
       "      <td>...</td>\n",
       "      <td>6.08</td>\n",
       "      <td>5.49</td>\n",
       "      <td>12.59</td>\n",
       "      <td>11.72</td>\n",
       "      <td>8.99</td>\n",
       "      <td>10.87</td>\n",
       "      <td>1</td>\n",
       "      <td>0</td>\n",
       "      <td>1</td>\n",
       "      <td>1</td>\n",
       "    </tr>\n",
       "    <tr>\n",
       "      <th>1</th>\n",
       "      <td>4.59</td>\n",
       "      <td>8.57</td>\n",
       "      <td>6.57</td>\n",
       "      <td>7.25</td>\n",
       "      <td>6.44</td>\n",
       "      <td>6.34</td>\n",
       "      <td>7.40</td>\n",
       "      <td>6.91</td>\n",
       "      <td>7.18</td>\n",
       "      <td>8.12</td>\n",
       "      <td>...</td>\n",
       "      <td>6.17</td>\n",
       "      <td>6.08</td>\n",
       "      <td>13.04</td>\n",
       "      <td>11.36</td>\n",
       "      <td>8.96</td>\n",
       "      <td>11.03</td>\n",
       "      <td>1</td>\n",
       "      <td>0</td>\n",
       "      <td>0</td>\n",
       "      <td>1</td>\n",
       "    </tr>\n",
       "    <tr>\n",
       "      <th>2</th>\n",
       "      <td>4.74</td>\n",
       "      <td>8.80</td>\n",
       "      <td>6.22</td>\n",
       "      <td>7.13</td>\n",
       "      <td>6.79</td>\n",
       "      <td>6.08</td>\n",
       "      <td>7.42</td>\n",
       "      <td>6.93</td>\n",
       "      <td>7.48</td>\n",
       "      <td>8.82</td>\n",
       "      <td>...</td>\n",
       "      <td>6.39</td>\n",
       "      <td>5.99</td>\n",
       "      <td>13.29</td>\n",
       "      <td>11.87</td>\n",
       "      <td>8.63</td>\n",
       "      <td>10.87</td>\n",
       "      <td>1</td>\n",
       "      <td>1</td>\n",
       "      <td>0</td>\n",
       "      <td>-1</td>\n",
       "    </tr>\n",
       "    <tr>\n",
       "      <th>3</th>\n",
       "      <td>4.62</td>\n",
       "      <td>8.77</td>\n",
       "      <td>6.32</td>\n",
       "      <td>7.34</td>\n",
       "      <td>6.29</td>\n",
       "      <td>5.65</td>\n",
       "      <td>7.12</td>\n",
       "      <td>6.89</td>\n",
       "      <td>7.27</td>\n",
       "      <td>7.18</td>\n",
       "      <td>...</td>\n",
       "      <td>6.32</td>\n",
       "      <td>5.69</td>\n",
       "      <td>13.33</td>\n",
       "      <td>12.02</td>\n",
       "      <td>8.86</td>\n",
       "      <td>11.08</td>\n",
       "      <td>0</td>\n",
       "      <td>1</td>\n",
       "      <td>1</td>\n",
       "      <td>1</td>\n",
       "    </tr>\n",
       "    <tr>\n",
       "      <th>4</th>\n",
       "      <td>4.84</td>\n",
       "      <td>8.81</td>\n",
       "      <td>6.51</td>\n",
       "      <td>7.16</td>\n",
       "      <td>6.12</td>\n",
       "      <td>5.99</td>\n",
       "      <td>7.13</td>\n",
       "      <td>6.85</td>\n",
       "      <td>7.21</td>\n",
       "      <td>7.97</td>\n",
       "      <td>...</td>\n",
       "      <td>6.57</td>\n",
       "      <td>5.59</td>\n",
       "      <td>13.22</td>\n",
       "      <td>11.87</td>\n",
       "      <td>8.89</td>\n",
       "      <td>11.15</td>\n",
       "      <td>1</td>\n",
       "      <td>1</td>\n",
       "      <td>0</td>\n",
       "      <td>1</td>\n",
       "    </tr>\n",
       "  </tbody>\n",
       "</table>\n",
       "<p>5 rows × 19898 columns</p>\n",
       "</div>"
      ],
      "text/plain": [
       "0  OR4F17  SEPT14  OR4F16  GPAM  LOC100287934  LOC643837  SAMD11  KLHL17  \\\n",
       "0    4.44    8.98    5.58  6.89          6.40       6.35    7.12    6.87   \n",
       "1    4.59    8.57    6.57  7.25          6.44       6.34    7.40    6.91   \n",
       "2    4.74    8.80    6.22  7.13          6.79       6.08    7.42    6.93   \n",
       "3    4.62    8.77    6.32  7.34          6.29       5.65    7.12    6.89   \n",
       "4    4.84    8.81    6.51  7.16          6.12       5.99    7.13    6.85   \n",
       "\n",
       "0  PLEKHN1  ISG15  ...  MRGPRX3  OR8G1  SPRR2F   NME2  GRINL1A  UBE2V1  \\\n",
       "0     7.18   7.81  ...     6.08   5.49   12.59  11.72     8.99   10.87   \n",
       "1     7.18   8.12  ...     6.17   6.08   13.04  11.36     8.96   11.03   \n",
       "2     7.48   8.82  ...     6.39   5.99   13.29  11.87     8.63   10.87   \n",
       "3     7.27   7.18  ...     6.32   5.69   13.33  12.02     8.86   11.08   \n",
       "4     7.21   7.97  ...     6.57   5.59   13.22  11.87     8.89   11.15   \n",
       "\n",
       "0  alcohol  smoking  histology  oral_cancer_output  \n",
       "0        1        0          1                   1  \n",
       "1        1        0          0                   1  \n",
       "2        1        1          0                  -1  \n",
       "3        0        1          1                   1  \n",
       "4        1        1          0                   1  \n",
       "\n",
       "[5 rows x 19898 columns]"
      ]
     },
     "execution_count": 13,
     "metadata": {},
     "output_type": "execute_result"
    }
   ],
   "source": [
    "header = pd.read_csv('data/GenomicData_OralCancer_var_names.txt', header=None)\n",
    "data.columns=header.iloc[:,0]\n",
    "data.head()"
   ]
  },
  {
   "cell_type": "code",
   "execution_count": 14,
   "metadata": {},
   "outputs": [
    {
     "data": {
      "text/html": [
       "<div>\n",
       "<style scoped>\n",
       "    .dataframe tbody tr th:only-of-type {\n",
       "        vertical-align: middle;\n",
       "    }\n",
       "\n",
       "    .dataframe tbody tr th {\n",
       "        vertical-align: top;\n",
       "    }\n",
       "\n",
       "    .dataframe thead th {\n",
       "        text-align: right;\n",
       "    }\n",
       "</style>\n",
       "<table border=\"1\" class=\"dataframe\">\n",
       "  <thead>\n",
       "    <tr style=\"text-align: right;\">\n",
       "      <th></th>\n",
       "      <th>OR4F17</th>\n",
       "      <th>SEPT14</th>\n",
       "      <th>OR4F16</th>\n",
       "      <th>GPAM</th>\n",
       "      <th>LOC100287934</th>\n",
       "      <th>LOC643837</th>\n",
       "      <th>SAMD11</th>\n",
       "      <th>KLHL17</th>\n",
       "      <th>PLEKHN1</th>\n",
       "      <th>ISG15</th>\n",
       "      <th>...</th>\n",
       "      <th>MRGPRX3</th>\n",
       "      <th>OR8G1</th>\n",
       "      <th>SPRR2F</th>\n",
       "      <th>NME2</th>\n",
       "      <th>GRINL1A</th>\n",
       "      <th>UBE2V1</th>\n",
       "      <th>alcohol</th>\n",
       "      <th>smoking</th>\n",
       "      <th>histology</th>\n",
       "      <th>oral_cancer_output</th>\n",
       "    </tr>\n",
       "  </thead>\n",
       "  <tbody>\n",
       "    <tr>\n",
       "      <th>0</th>\n",
       "      <td>4.44</td>\n",
       "      <td>8.98</td>\n",
       "      <td>5.58</td>\n",
       "      <td>6.89</td>\n",
       "      <td>6.40</td>\n",
       "      <td>6.35</td>\n",
       "      <td>7.12</td>\n",
       "      <td>6.87</td>\n",
       "      <td>7.18</td>\n",
       "      <td>7.81</td>\n",
       "      <td>...</td>\n",
       "      <td>6.08</td>\n",
       "      <td>5.49</td>\n",
       "      <td>12.59</td>\n",
       "      <td>11.72</td>\n",
       "      <td>8.99</td>\n",
       "      <td>10.87</td>\n",
       "      <td>1</td>\n",
       "      <td>0</td>\n",
       "      <td>1</td>\n",
       "      <td>-1</td>\n",
       "    </tr>\n",
       "    <tr>\n",
       "      <th>1</th>\n",
       "      <td>4.59</td>\n",
       "      <td>8.57</td>\n",
       "      <td>6.57</td>\n",
       "      <td>7.25</td>\n",
       "      <td>6.44</td>\n",
       "      <td>6.34</td>\n",
       "      <td>7.40</td>\n",
       "      <td>6.91</td>\n",
       "      <td>7.18</td>\n",
       "      <td>8.12</td>\n",
       "      <td>...</td>\n",
       "      <td>6.17</td>\n",
       "      <td>6.08</td>\n",
       "      <td>13.04</td>\n",
       "      <td>11.36</td>\n",
       "      <td>8.96</td>\n",
       "      <td>11.03</td>\n",
       "      <td>1</td>\n",
       "      <td>0</td>\n",
       "      <td>0</td>\n",
       "      <td>-1</td>\n",
       "    </tr>\n",
       "    <tr>\n",
       "      <th>2</th>\n",
       "      <td>4.74</td>\n",
       "      <td>8.80</td>\n",
       "      <td>6.22</td>\n",
       "      <td>7.13</td>\n",
       "      <td>6.79</td>\n",
       "      <td>6.08</td>\n",
       "      <td>7.42</td>\n",
       "      <td>6.93</td>\n",
       "      <td>7.48</td>\n",
       "      <td>8.82</td>\n",
       "      <td>...</td>\n",
       "      <td>6.39</td>\n",
       "      <td>5.99</td>\n",
       "      <td>13.29</td>\n",
       "      <td>11.87</td>\n",
       "      <td>8.63</td>\n",
       "      <td>10.87</td>\n",
       "      <td>1</td>\n",
       "      <td>1</td>\n",
       "      <td>0</td>\n",
       "      <td>1</td>\n",
       "    </tr>\n",
       "    <tr>\n",
       "      <th>3</th>\n",
       "      <td>4.62</td>\n",
       "      <td>8.77</td>\n",
       "      <td>6.32</td>\n",
       "      <td>7.34</td>\n",
       "      <td>6.29</td>\n",
       "      <td>5.65</td>\n",
       "      <td>7.12</td>\n",
       "      <td>6.89</td>\n",
       "      <td>7.27</td>\n",
       "      <td>7.18</td>\n",
       "      <td>...</td>\n",
       "      <td>6.32</td>\n",
       "      <td>5.69</td>\n",
       "      <td>13.33</td>\n",
       "      <td>12.02</td>\n",
       "      <td>8.86</td>\n",
       "      <td>11.08</td>\n",
       "      <td>0</td>\n",
       "      <td>1</td>\n",
       "      <td>1</td>\n",
       "      <td>-1</td>\n",
       "    </tr>\n",
       "    <tr>\n",
       "      <th>4</th>\n",
       "      <td>4.84</td>\n",
       "      <td>8.81</td>\n",
       "      <td>6.51</td>\n",
       "      <td>7.16</td>\n",
       "      <td>6.12</td>\n",
       "      <td>5.99</td>\n",
       "      <td>7.13</td>\n",
       "      <td>6.85</td>\n",
       "      <td>7.21</td>\n",
       "      <td>7.97</td>\n",
       "      <td>...</td>\n",
       "      <td>6.57</td>\n",
       "      <td>5.59</td>\n",
       "      <td>13.22</td>\n",
       "      <td>11.87</td>\n",
       "      <td>8.89</td>\n",
       "      <td>11.15</td>\n",
       "      <td>1</td>\n",
       "      <td>1</td>\n",
       "      <td>0</td>\n",
       "      <td>-1</td>\n",
       "    </tr>\n",
       "  </tbody>\n",
       "</table>\n",
       "<p>5 rows × 19898 columns</p>\n",
       "</div>"
      ],
      "text/plain": [
       "0  OR4F17  SEPT14  OR4F16  GPAM  LOC100287934  LOC643837  SAMD11  KLHL17  \\\n",
       "0    4.44    8.98    5.58  6.89          6.40       6.35    7.12    6.87   \n",
       "1    4.59    8.57    6.57  7.25          6.44       6.34    7.40    6.91   \n",
       "2    4.74    8.80    6.22  7.13          6.79       6.08    7.42    6.93   \n",
       "3    4.62    8.77    6.32  7.34          6.29       5.65    7.12    6.89   \n",
       "4    4.84    8.81    6.51  7.16          6.12       5.99    7.13    6.85   \n",
       "\n",
       "0  PLEKHN1  ISG15  ...  MRGPRX3  OR8G1  SPRR2F   NME2  GRINL1A  UBE2V1  \\\n",
       "0     7.18   7.81  ...     6.08   5.49   12.59  11.72     8.99   10.87   \n",
       "1     7.18   8.12  ...     6.17   6.08   13.04  11.36     8.96   11.03   \n",
       "2     7.48   8.82  ...     6.39   5.99   13.29  11.87     8.63   10.87   \n",
       "3     7.27   7.18  ...     6.32   5.69   13.33  12.02     8.86   11.08   \n",
       "4     7.21   7.97  ...     6.57   5.59   13.22  11.87     8.89   11.15   \n",
       "\n",
       "0  alcohol  smoking  histology  oral_cancer_output  \n",
       "0        1        0          1                  -1  \n",
       "1        1        0          0                  -1  \n",
       "2        1        1          0                   1  \n",
       "3        0        1          1                  -1  \n",
       "4        1        1          0                  -1  \n",
       "\n",
       "[5 rows x 19898 columns]"
      ]
     },
     "execution_count": 14,
     "metadata": {},
     "output_type": "execute_result"
    }
   ],
   "source": [
    "# encode the positive class (oral cancer) as 1\n",
    "data.loc[:,\"oral_cancer_output\"] = data.loc[:,\"oral_cancer_output\"]*-1 \n",
    "data.head()"
   ]
  },
  {
   "cell_type": "code",
   "execution_count": 15,
   "metadata": {},
   "outputs": [
    {
     "data": {
      "text/html": [
       "<style>#sk-container-id-2 {color: black;}#sk-container-id-2 pre{padding: 0;}#sk-container-id-2 div.sk-toggleable {background-color: white;}#sk-container-id-2 label.sk-toggleable__label {cursor: pointer;display: block;width: 100%;margin-bottom: 0;padding: 0.3em;box-sizing: border-box;text-align: center;}#sk-container-id-2 label.sk-toggleable__label-arrow:before {content: \"▸\";float: left;margin-right: 0.25em;color: #696969;}#sk-container-id-2 label.sk-toggleable__label-arrow:hover:before {color: black;}#sk-container-id-2 div.sk-estimator:hover label.sk-toggleable__label-arrow:before {color: black;}#sk-container-id-2 div.sk-toggleable__content {max-height: 0;max-width: 0;overflow: hidden;text-align: left;background-color: #f0f8ff;}#sk-container-id-2 div.sk-toggleable__content pre {margin: 0.2em;color: black;border-radius: 0.25em;background-color: #f0f8ff;}#sk-container-id-2 input.sk-toggleable__control:checked~div.sk-toggleable__content {max-height: 200px;max-width: 100%;overflow: auto;}#sk-container-id-2 input.sk-toggleable__control:checked~label.sk-toggleable__label-arrow:before {content: \"▾\";}#sk-container-id-2 div.sk-estimator input.sk-toggleable__control:checked~label.sk-toggleable__label {background-color: #d4ebff;}#sk-container-id-2 div.sk-label input.sk-toggleable__control:checked~label.sk-toggleable__label {background-color: #d4ebff;}#sk-container-id-2 input.sk-hidden--visually {border: 0;clip: rect(1px 1px 1px 1px);clip: rect(1px, 1px, 1px, 1px);height: 1px;margin: -1px;overflow: hidden;padding: 0;position: absolute;width: 1px;}#sk-container-id-2 div.sk-estimator {font-family: monospace;background-color: #f0f8ff;border: 1px dotted black;border-radius: 0.25em;box-sizing: border-box;margin-bottom: 0.5em;}#sk-container-id-2 div.sk-estimator:hover {background-color: #d4ebff;}#sk-container-id-2 div.sk-parallel-item::after {content: \"\";width: 100%;border-bottom: 1px solid gray;flex-grow: 1;}#sk-container-id-2 div.sk-label:hover label.sk-toggleable__label {background-color: #d4ebff;}#sk-container-id-2 div.sk-serial::before {content: \"\";position: absolute;border-left: 1px solid gray;box-sizing: border-box;top: 0;bottom: 0;left: 50%;z-index: 0;}#sk-container-id-2 div.sk-serial {display: flex;flex-direction: column;align-items: center;background-color: white;padding-right: 0.2em;padding-left: 0.2em;position: relative;}#sk-container-id-2 div.sk-item {position: relative;z-index: 1;}#sk-container-id-2 div.sk-parallel {display: flex;align-items: stretch;justify-content: center;background-color: white;position: relative;}#sk-container-id-2 div.sk-item::before, #sk-container-id-2 div.sk-parallel-item::before {content: \"\";position: absolute;border-left: 1px solid gray;box-sizing: border-box;top: 0;bottom: 0;left: 50%;z-index: -1;}#sk-container-id-2 div.sk-parallel-item {display: flex;flex-direction: column;z-index: 1;position: relative;background-color: white;}#sk-container-id-2 div.sk-parallel-item:first-child::after {align-self: flex-end;width: 50%;}#sk-container-id-2 div.sk-parallel-item:last-child::after {align-self: flex-start;width: 50%;}#sk-container-id-2 div.sk-parallel-item:only-child::after {width: 0;}#sk-container-id-2 div.sk-dashed-wrapped {border: 1px dashed gray;margin: 0 0.4em 0.5em 0.4em;box-sizing: border-box;padding-bottom: 0.4em;background-color: white;}#sk-container-id-2 div.sk-label label {font-family: monospace;font-weight: bold;display: inline-block;line-height: 1.2em;}#sk-container-id-2 div.sk-label-container {text-align: center;}#sk-container-id-2 div.sk-container {/* jupyter's `normalize.less` sets `[hidden] { display: none; }` but bootstrap.min.css set `[hidden] { display: none !important; }` so we also need the `!important` here to be able to override the default hidden behavior on the sphinx rendered scikit-learn.org. See: https://github.com/scikit-learn/scikit-learn/issues/21755 */display: inline-block !important;position: relative;}#sk-container-id-2 div.sk-text-repr-fallback {display: none;}</style><div id=\"sk-container-id-2\" class=\"sk-top-container\"><div class=\"sk-text-repr-fallback\"><pre>LogisticRegression(C=16, penalty=&#x27;l1&#x27;, random_state=42, solver=&#x27;liblinear&#x27;)</pre><b>In a Jupyter environment, please rerun this cell to show the HTML representation or trust the notebook. <br />On GitHub, the HTML representation is unable to render, please try loading this page with nbviewer.org.</b></div><div class=\"sk-container\" hidden><div class=\"sk-item\"><div class=\"sk-estimator sk-toggleable\"><input class=\"sk-toggleable__control sk-hidden--visually\" id=\"sk-estimator-id-2\" type=\"checkbox\" checked><label for=\"sk-estimator-id-2\" class=\"sk-toggleable__label sk-toggleable__label-arrow\">LogisticRegression</label><div class=\"sk-toggleable__content\"><pre>LogisticRegression(C=16, penalty=&#x27;l1&#x27;, random_state=42, solver=&#x27;liblinear&#x27;)</pre></div></div></div></div></div>"
      ],
      "text/plain": [
       "LogisticRegression(C=16, penalty='l1', random_state=42, solver='liblinear')"
      ]
     },
     "execution_count": 15,
     "metadata": {},
     "output_type": "execute_result"
    }
   ],
   "source": [
    "from sklearn.preprocessing import StandardScaler\n",
    "from sklearn.linear_model import LogisticRegression as LRR\n",
    "\n",
    "y_train = data.oral_cancer_output\n",
    "X_train = data.drop('oral_cancer_output', axis=1)\n",
    "scaler = StandardScaler().fit(X_train)\n",
    "X_train = scaler.transform(X_train)\n",
    "\n",
    "lrr = LRR(penalty='l1', C=16, solver='liblinear', random_state=42)\n",
    "lrr.fit(X_train, y_train)"
   ]
  },
  {
   "cell_type": "code",
   "execution_count": 16,
   "metadata": {},
   "outputs": [
    {
     "data": {
      "text/plain": [
       "292"
      ]
     },
     "execution_count": 16,
     "metadata": {},
     "output_type": "execute_result"
    }
   ],
   "source": [
    "# check the number of non-zero coefficients\n",
    "coeffs = lrr.coef_.ravel()\n",
    "np.sum(coeffs != 0)"
   ]
  },
  {
   "cell_type": "code",
   "execution_count": 17,
   "metadata": {},
   "outputs": [
    {
     "data": {
      "text/plain": [
       "array([0.74175367, 0.76221689, 0.77267586, 0.77451542, 0.78316466,\n",
       "       0.8163162 , 0.83429172, 0.83761203, 0.84076963, 0.84205156])"
      ]
     },
     "execution_count": 17,
     "metadata": {},
     "output_type": "execute_result"
    }
   ],
   "source": [
    "non_zero_coeffs = coeffs[coeffs!= 0]\n",
    "\n",
    "# odds ratios\n",
    "ORs = np.exp(non_zero_coeffs) \n",
    "sorted_args = ORs.argsort()\n",
    "ORs_sorted=ORs[sorted_args]\n",
    "ORs_sorted[:10]"
   ]
  },
  {
   "cell_type": "code",
   "execution_count": 18,
   "metadata": {},
   "outputs": [
    {
     "data": {
      "text/plain": [
       "array(['DGCR6', 'ZNF609', 'CNO', 'RNASE13', 'BRD7P3', 'HHAT', 'UBXN1',\n",
       "       'C15orf62', 'ORAI2', 'C1orf151'], dtype=object)"
      ]
     },
     "execution_count": 18,
     "metadata": {},
     "output_type": "execute_result"
    }
   ],
   "source": [
    "feature_names = header.iloc[:-1,0].values\n",
    "selected_features = feature_names[coeffs!= 0]\n",
    "selected_features_sorted = selected_features[sorted_args]\n",
    "selected_features_sorted[0:10]"
   ]
  },
  {
   "cell_type": "code",
   "execution_count": 19,
   "metadata": {},
   "outputs": [
    {
     "data": {
      "text/plain": [
       "array(['DGCR6', 'ZNF609', 'CNO', 'RNASE13', 'BRD7P3', 'HHAT', 'UBXN1',\n",
       "       'C15orf62', 'ORAI2', 'C1orf151', 'KIR2DS5', 'LOC136242', 'SNORD33',\n",
       "       'SEMG1', 'LOC100133746', 'SNORD41', 'C6orf10', 'C21orf84',\n",
       "       'DNAJA2', 'MMP26'], dtype=object)"
      ]
     },
     "execution_count": 19,
     "metadata": {},
     "output_type": "execute_result"
    }
   ],
   "source": [
    "RCO=(ORs_sorted-1.0)*100\n",
    "selected_RCOs=np.concatenate((RCO[:10], RCO[-10:]))\n",
    "features_selected_RCOs = np.concatenate((selected_features_sorted[:10], \n",
    "                                         selected_features_sorted[-10:]))\n",
    "features_selected_RCOs"
   ]
  },
  {
   "cell_type": "code",
   "execution_count": 20,
   "metadata": {},
   "outputs": [
    {
     "data": {
      "text/plain": [
       "(array([-30., -20., -10.,   0.,  10.,  20.,  30.,  40.,  50.,  60.]),\n",
       " [Text(0, -30.0, '−30'),\n",
       "  Text(0, -20.0, '−20'),\n",
       "  Text(0, -10.0, '−10'),\n",
       "  Text(0, 0.0, '0'),\n",
       "  Text(0, 10.0, '10'),\n",
       "  Text(0, 20.0, '20'),\n",
       "  Text(0, 30.0, '30'),\n",
       "  Text(0, 40.0, '40'),\n",
       "  Text(0, 50.0, '50'),\n",
       "  Text(0, 60.0, '60')])"
      ]
     },
     "execution_count": 20,
     "metadata": {},
     "output_type": "execute_result"
    },
    {
     "data": {
      "image/png": "[encoded data removed]",
      "text/plain": [
       "<Figure size 1200x600 with 1 Axes>"
      ]
     },
     "metadata": {},
     "output_type": "display_data"
    }
   ],
   "source": [
    "from matplotlib import pyplot\n",
    "import matplotlib.pyplot as plt\n",
    "\n",
    "plt.figure(figsize=(12,6))\n",
    "pyplot.bar(features_selected_RCOs, selected_RCOs, color='black')\n",
    "plt.xlabel('genes')\n",
    "plt.ylabel('RCO %')\n",
    "plt.xticks(rotation=90, fontsize=12)\n",
    "plt.yticks(fontsize=12)"
   ]
  },
  {
   "cell_type": "markdown",
   "metadata": {},
   "source": [
    "### Regression"
   ]
  },
  {
   "cell_type": "code",
   "execution_count": 21,
   "metadata": {},
   "outputs": [
    {
     "data": {
      "text/plain": [
       "Index(['crim', 'zn', 'indus', 'chas', 'nox', 'rm', 'age', 'dis', 'rad', 'tax',\n",
       "       'ptratio', 'lstat', 'medv'],\n",
       "      dtype='object')"
      ]
     },
     "execution_count": 21,
     "metadata": {},
     "output_type": "execute_result"
    }
   ],
   "source": [
    "from ISLP import load_data\n",
    "Boston = load_data(\"Boston\")\n",
    "Boston.columns"
   ]
  },
  {
   "cell_type": "code",
   "execution_count": 22,
   "metadata": {},
   "outputs": [
    {
     "data": {
      "text/html": [
       "<div>\n",
       "<style scoped>\n",
       "    .dataframe tbody tr th:only-of-type {\n",
       "        vertical-align: middle;\n",
       "    }\n",
       "\n",
       "    .dataframe tbody tr th {\n",
       "        vertical-align: top;\n",
       "    }\n",
       "\n",
       "    .dataframe thead th {\n",
       "        text-align: right;\n",
       "    }\n",
       "</style>\n",
       "<table border=\"1\" class=\"dataframe\">\n",
       "  <thead>\n",
       "    <tr style=\"text-align: right;\">\n",
       "      <th></th>\n",
       "      <th>crim</th>\n",
       "      <th>zn</th>\n",
       "      <th>indus</th>\n",
       "      <th>chas</th>\n",
       "      <th>nox</th>\n",
       "      <th>rm</th>\n",
       "      <th>age</th>\n",
       "      <th>dis</th>\n",
       "      <th>rad</th>\n",
       "      <th>tax</th>\n",
       "      <th>ptratio</th>\n",
       "      <th>lstat</th>\n",
       "      <th>medv</th>\n",
       "    </tr>\n",
       "  </thead>\n",
       "  <tbody>\n",
       "    <tr>\n",
       "      <th>0</th>\n",
       "      <td>0.00632</td>\n",
       "      <td>18.0</td>\n",
       "      <td>2.31</td>\n",
       "      <td>0</td>\n",
       "      <td>0.538</td>\n",
       "      <td>6.575</td>\n",
       "      <td>65.2</td>\n",
       "      <td>4.0900</td>\n",
       "      <td>1</td>\n",
       "      <td>296</td>\n",
       "      <td>15.3</td>\n",
       "      <td>4.98</td>\n",
       "      <td>24.0</td>\n",
       "    </tr>\n",
       "    <tr>\n",
       "      <th>1</th>\n",
       "      <td>0.02731</td>\n",
       "      <td>0.0</td>\n",
       "      <td>7.07</td>\n",
       "      <td>0</td>\n",
       "      <td>0.469</td>\n",
       "      <td>6.421</td>\n",
       "      <td>78.9</td>\n",
       "      <td>4.9671</td>\n",
       "      <td>2</td>\n",
       "      <td>242</td>\n",
       "      <td>17.8</td>\n",
       "      <td>9.14</td>\n",
       "      <td>21.6</td>\n",
       "    </tr>\n",
       "    <tr>\n",
       "      <th>2</th>\n",
       "      <td>0.02729</td>\n",
       "      <td>0.0</td>\n",
       "      <td>7.07</td>\n",
       "      <td>0</td>\n",
       "      <td>0.469</td>\n",
       "      <td>7.185</td>\n",
       "      <td>61.1</td>\n",
       "      <td>4.9671</td>\n",
       "      <td>2</td>\n",
       "      <td>242</td>\n",
       "      <td>17.8</td>\n",
       "      <td>4.03</td>\n",
       "      <td>34.7</td>\n",
       "    </tr>\n",
       "    <tr>\n",
       "      <th>3</th>\n",
       "      <td>0.03237</td>\n",
       "      <td>0.0</td>\n",
       "      <td>2.18</td>\n",
       "      <td>0</td>\n",
       "      <td>0.458</td>\n",
       "      <td>6.998</td>\n",
       "      <td>45.8</td>\n",
       "      <td>6.0622</td>\n",
       "      <td>3</td>\n",
       "      <td>222</td>\n",
       "      <td>18.7</td>\n",
       "      <td>2.94</td>\n",
       "      <td>33.4</td>\n",
       "    </tr>\n",
       "    <tr>\n",
       "      <th>4</th>\n",
       "      <td>0.06905</td>\n",
       "      <td>0.0</td>\n",
       "      <td>2.18</td>\n",
       "      <td>0</td>\n",
       "      <td>0.458</td>\n",
       "      <td>7.147</td>\n",
       "      <td>54.2</td>\n",
       "      <td>6.0622</td>\n",
       "      <td>3</td>\n",
       "      <td>222</td>\n",
       "      <td>18.7</td>\n",
       "      <td>5.33</td>\n",
       "      <td>36.2</td>\n",
       "    </tr>\n",
       "  </tbody>\n",
       "</table>\n",
       "</div>"
      ],
      "text/plain": [
       "      crim    zn  indus  chas    nox     rm   age     dis  rad  tax  ptratio  \\\n",
       "0  0.00632  18.0   2.31     0  0.538  6.575  65.2  4.0900    1  296     15.3   \n",
       "1  0.02731   0.0   7.07     0  0.469  6.421  78.9  4.9671    2  242     17.8   \n",
       "2  0.02729   0.0   7.07     0  0.469  7.185  61.1  4.9671    2  242     17.8   \n",
       "3  0.03237   0.0   2.18     0  0.458  6.998  45.8  6.0622    3  222     18.7   \n",
       "4  0.06905   0.0   2.18     0  0.458  7.147  54.2  6.0622    3  222     18.7   \n",
       "\n",
       "   lstat  medv  \n",
       "0   4.98  24.0  \n",
       "1   9.14  21.6  \n",
       "2   4.03  34.7  \n",
       "3   2.94  33.4  \n",
       "4   5.33  36.2  "
      ]
     },
     "execution_count": 22,
     "metadata": {},
     "output_type": "execute_result"
    }
   ],
   "source": [
    "Boston.head()"
   ]
  },
  {
   "cell_type": "code",
   "execution_count": 23,
   "metadata": {},
   "outputs": [
    {
     "data": {
      "text/plain": [
       "count    506.000000\n",
       "mean      22.532806\n",
       "std        9.197104\n",
       "min        5.000000\n",
       "25%       17.025000\n",
       "50%       21.200000\n",
       "75%       25.000000\n",
       "max       50.000000\n",
       "Name: medv, dtype: float64"
      ]
     },
     "execution_count": 23,
     "metadata": {},
     "output_type": "execute_result"
    }
   ],
   "source": [
    "Boston.medv.describe()"
   ]
  },
  {
   "cell_type": "code",
   "execution_count": 24,
   "metadata": {},
   "outputs": [],
   "source": [
    "from sklearn.linear_model import LinearRegression as LR"
   ]
  },
  {
   "cell_type": "code",
   "execution_count": 25,
   "metadata": {},
   "outputs": [
    {
     "data": {
      "text/html": [
       "<div>\n",
       "<style scoped>\n",
       "    .dataframe tbody tr th:only-of-type {\n",
       "        vertical-align: middle;\n",
       "    }\n",
       "\n",
       "    .dataframe tbody tr th {\n",
       "        vertical-align: top;\n",
       "    }\n",
       "\n",
       "    .dataframe thead th {\n",
       "        text-align: right;\n",
       "    }\n",
       "</style>\n",
       "<table border=\"1\" class=\"dataframe\">\n",
       "  <thead>\n",
       "    <tr style=\"text-align: right;\">\n",
       "      <th></th>\n",
       "      <th>intercept</th>\n",
       "      <th>lstat</th>\n",
       "    </tr>\n",
       "  </thead>\n",
       "  <tbody>\n",
       "    <tr>\n",
       "      <th>0</th>\n",
       "      <td>1.0</td>\n",
       "      <td>4.98</td>\n",
       "    </tr>\n",
       "    <tr>\n",
       "      <th>1</th>\n",
       "      <td>1.0</td>\n",
       "      <td>9.14</td>\n",
       "    </tr>\n",
       "    <tr>\n",
       "      <th>2</th>\n",
       "      <td>1.0</td>\n",
       "      <td>4.03</td>\n",
       "    </tr>\n",
       "    <tr>\n",
       "      <th>3</th>\n",
       "      <td>1.0</td>\n",
       "      <td>2.94</td>\n",
       "    </tr>\n",
       "  </tbody>\n",
       "</table>\n",
       "</div>"
      ],
      "text/plain": [
       "   intercept  lstat\n",
       "0        1.0   4.98\n",
       "1        1.0   9.14\n",
       "2        1.0   4.03\n",
       "3        1.0   2.94"
      ]
     },
     "execution_count": 25,
     "metadata": {},
     "output_type": "execute_result"
    }
   ],
   "source": [
    "X = pd.DataFrame({'intercept': np.ones(Boston.shape[0]), \n",
    "                  'lstat': Boston['lstat']})\n",
    "X[:4]"
   ]
  },
  {
   "cell_type": "code",
   "execution_count": 26,
   "metadata": {},
   "outputs": [],
   "source": [
    "y = Boston['medv']\n",
    "model = LR(fit_intercept=False)\n",
    "results = model.fit(X, y)"
   ]
  },
  {
   "cell_type": "code",
   "execution_count": 27,
   "metadata": {},
   "outputs": [
    {
     "data": {
      "text/plain": [
       "array([34.55384088, -0.95004935])"
      ]
     },
     "execution_count": 27,
     "metadata": {},
     "output_type": "execute_result"
    }
   ],
   "source": [
    "results.coef_"
   ]
  },
  {
   "cell_type": "code",
   "execution_count": 28,
   "metadata": {},
   "outputs": [
    {
     "name": "stdout",
     "output_type": "stream",
     "text": [
      "\u001b[0;31mType:\u001b[0m        LinearRegression\n",
      "\u001b[0;31mString form:\u001b[0m LinearRegression(fit_intercept=False)\n",
      "\u001b[0;31mFile:\u001b[0m        ~/miniconda3/lib/python3.11/site-packages/sklearn/linear_model/_base.py\n",
      "\u001b[0;31mDocstring:\u001b[0m  \n",
      "Ordinary least squares Linear Regression.\n",
      "\n",
      "LinearRegression fits a linear model with coefficients w = (w1, ..., wp)\n",
      "to minimize the residual sum of squares between the observed targets in\n",
      "the dataset, and the targets predicted by the linear approximation.\n",
      "\n",
      "Parameters\n",
      "----------\n",
      "fit_intercept : bool, default=True\n",
      "    Whether to calculate the intercept for this model. If set\n",
      "    to False, no intercept will be used in calculations\n",
      "    (i.e. data is expected to be centered).\n",
      "\n",
      "copy_X : bool, default=True\n",
      "    If True, X will be copied; else, it may be overwritten.\n",
      "\n",
      "n_jobs : int, default=None\n",
      "    The number of jobs to use for the computation. This will only provide\n",
      "    speedup in case of sufficiently large problems, that is if firstly\n",
      "    `n_targets > 1` and secondly `X` is sparse or if `positive` is set\n",
      "    to `True`. ``None`` means 1 unless in a\n",
      "    :obj:`joblib.parallel_backend` context. ``-1`` means using all\n",
      "    processors. See :term:`Glossary <n_jobs>` for more details.\n",
      "\n",
      "positive : bool, default=False\n",
      "    When set to ``True``, forces the coefficients to be positive. This\n",
      "    option is only supported for dense arrays.\n",
      "\n",
      "    .. versionadded:: 0.24\n",
      "\n",
      "Attributes\n",
      "----------\n",
      "coef_ : array of shape (n_features, ) or (n_targets, n_features)\n",
      "    Estimated coefficients for the linear regression problem.\n",
      "    If multiple targets are passed during the fit (y 2D), this\n",
      "    is a 2D array of shape (n_targets, n_features), while if only\n",
      "    one target is passed, this is a 1D array of length n_features.\n",
      "\n",
      "rank_ : int\n",
      "    Rank of matrix `X`. Only available when `X` is dense.\n",
      "\n",
      "singular_ : array of shape (min(X, y),)\n",
      "    Singular values of `X`. Only available when `X` is dense.\n",
      "\n",
      "intercept_ : float or array of shape (n_targets,)\n",
      "    Independent term in the linear model. Set to 0.0 if\n",
      "    `fit_intercept = False`.\n",
      "\n",
      "n_features_in_ : int\n",
      "    Number of features seen during :term:`fit`.\n",
      "\n",
      "    .. versionadded:: 0.24\n",
      "\n",
      "feature_names_in_ : ndarray of shape (`n_features_in_`,)\n",
      "    Names of features seen during :term:`fit`. Defined only when `X`\n",
      "    has feature names that are all strings.\n",
      "\n",
      "    .. versionadded:: 1.0\n",
      "\n",
      "See Also\n",
      "--------\n",
      "Ridge : Ridge regression addresses some of the\n",
      "    problems of Ordinary Least Squares by imposing a penalty on the\n",
      "    size of the coefficients with l2 regularization.\n",
      "Lasso : The Lasso is a linear model that estimates\n",
      "    sparse coefficients with l1 regularization.\n",
      "ElasticNet : Elastic-Net is a linear regression\n",
      "    model trained with both l1 and l2 -norm regularization of the\n",
      "    coefficients.\n",
      "\n",
      "Notes\n",
      "-----\n",
      "From the implementation point of view, this is just plain Ordinary\n",
      "Least Squares (scipy.linalg.lstsq) or Non Negative Least Squares\n",
      "(scipy.optimize.nnls) wrapped as a predictor object.\n",
      "\n",
      "Examples\n",
      "--------\n",
      ">>> import numpy as np\n",
      ">>> from sklearn.linear_model import LinearRegression\n",
      ">>> X = np.array([[1, 1], [1, 2], [2, 2], [2, 3]])\n",
      ">>> # y = 1 * x_0 + 2 * x_1 + 3\n",
      ">>> y = np.dot(X, np.array([1, 2])) + 3\n",
      ">>> reg = LinearRegression().fit(X, y)\n",
      ">>> reg.score(X, y)\n",
      "1.0\n",
      ">>> reg.coef_\n",
      "array([1., 2.])\n",
      ">>> reg.intercept_\n",
      "3.0...\n",
      ">>> reg.predict(np.array([[3, 5]]))\n",
      "array([16.])"
     ]
    }
   ],
   "source": [
    "results?"
   ]
  },
  {
   "cell_type": "code",
   "execution_count": 29,
   "metadata": {},
   "outputs": [],
   "source": [
    "def abline(ax, b, m):\n",
    "    \"Add a line with slope m and intercept b to ax\"\n",
    "    xlim = ax.get_xlim()\n",
    "    ylim = [m * xlim[0] + b, m * xlim[1] + b]\n",
    "    ax.plot(xlim, ylim)"
   ]
  },
  {
   "cell_type": "code",
   "execution_count": 30,
   "metadata": {},
   "outputs": [],
   "source": [
    "def abline(ax, b, m, *args, **kwargs):\n",
    "    \"Add a line with slope m and intercept b to ax\"\n",
    "    xlim = ax.get_xlim()\n",
    "    ylim = [m * xlim[0] + b, m * xlim[1] + b]\n",
    "    ax.plot(xlim, ylim, *args, **kwargs)\n"
   ]
  },
  {
   "cell_type": "code",
   "execution_count": 31,
   "metadata": {},
   "outputs": [
    {
     "data": {
      "text/plain": [
       "array([34.55384088, -0.95004935])"
      ]
     },
     "execution_count": 31,
     "metadata": {},
     "output_type": "execute_result"
    }
   ],
   "source": [
    "results.coef_"
   ]
  },
  {
   "cell_type": "code",
   "execution_count": 32,
   "metadata": {},
   "outputs": [
    {
     "data": {
      "text/plain": [
       "Text(0, 0.5, 'medv')"
      ]
     },
     "execution_count": 32,
     "metadata": {},
     "output_type": "execute_result"
    },
    {
     "data": {
      "image/png": "[encoded data removed]",
      "text/plain": [
       "<Figure size 640x480 with 1 Axes>"
      ]
     },
     "metadata": {},
     "output_type": "display_data"
    }
   ],
   "source": [
    "plt.scatter(Boston['lstat'], Boston['medv'], facecolors='blue', \n",
    "            edgecolors='blue', marker='o', s=10, alpha=0.5)\n",
    "plt.plot(Boston['lstat'], \n",
    "         results.coef_[0] + results.coef_[1] * Boston['lstat'], \n",
    "         color='red', linestyle='dashed', linewidth=2.5)\n",
    "plt.xlabel('lstat')\n",
    "plt.ylabel('medv')\n"
   ]
  },
  {
   "cell_type": "markdown",
   "metadata": {},
   "source": [
    "### Regularization"
   ]
  },
  {
   "cell_type": "code",
   "execution_count": 33,
   "metadata": {},
   "outputs": [],
   "source": [
    "from sklearn.linear_model import ElasticNet as EN\n",
    "from sklearn.linear_model import Ridge as RR"
   ]
  },
  {
   "cell_type": "markdown",
   "metadata": {},
   "source": [
    "We will apply different regularization methods to the `Hitters` data. We wish\n",
    "to predict a baseball player’s `Salary` on the basis of various statistics associated\n",
    "with performance in the previous year.\n",
    "\n",
    "First of all, we note that the `Salary` variable is missing for some of the\n",
    "players. The `np.isnan()` function can be used to identify the missing observations. It returns an array of the same shape as the input vector, with a `True` for any elements that are missing, and a `False` for non-missing elements. The `sum()` method can then be used to count all of the missing elements."
   ]
  },
  {
   "cell_type": "code",
   "execution_count": 34,
   "metadata": {},
   "outputs": [
    {
     "data": {
      "text/plain": [
       "59"
      ]
     },
     "execution_count": 34,
     "metadata": {},
     "output_type": "execute_result"
    }
   ],
   "source": [
    "Hitters = load_data('Hitters')\n",
    "np.isnan(Hitters['Salary']).sum()"
   ]
  },
  {
   "cell_type": "markdown",
   "metadata": {},
   "source": [
    "We see that `Salary` is missing for 59 players. The `dropna()` method of data\n",
    "frames removes all of the rows that have missing values in any variable (by\n",
    "default — see `Hitters.dropna?`)."
   ]
  },
  {
   "cell_type": "code",
   "execution_count": 35,
   "metadata": {},
   "outputs": [
    {
     "data": {
      "text/plain": [
       "(263, 20)"
      ]
     },
     "execution_count": 35,
     "metadata": {},
     "output_type": "execute_result"
    }
   ],
   "source": [
    "Hitters = Hitters.dropna()\n",
    "feature_names = Hitters.columns.drop('Salary')\n",
    "Hitters.shape"
   ]
  },
  {
   "cell_type": "code",
   "execution_count": 36,
   "metadata": {},
   "outputs": [],
   "source": [
    "Y = np.array(Hitters['Salary'])\n",
    "X = Hitters.drop('Salary', axis=1)\n",
    "change = {'League': {'A': 0, 'N': 1}, \n",
    "           'NewLeague': {'A': 0, 'N': 1},\n",
    "              'Division': {'E': 0, 'W': 1}}\n",
    "X.replace(change, inplace=True)\n",
    "X = X.astype('float64').values\n",
    "\n",
    "Xs = X - X.mean(0)[None ,:]\n",
    "X_scale = X.std(0)\n",
    "Xs = Xs / X_scale[None ,:]\n",
    "Ys = Y - Y.mean()\n"
   ]
  },
  {
   "cell_type": "markdown",
   "metadata": {},
   "source": [
    "#### Ridge"
   ]
  },
  {
   "cell_type": "code",
   "execution_count": 37,
   "metadata": {},
   "outputs": [
    {
     "name": "stdout",
     "output_type": "stream",
     "text": [
      "AtBat       -288.241\n",
      "Hits         332.875\n",
      "HmRun         36.711\n",
      "Runs         -57.672\n",
      "RBI          -26.156\n",
      "Walks        134.180\n",
      "Years        -15.613\n",
      "CAtBat      -412.204\n",
      "CHits        125.333\n",
      "CHmRun        -6.160\n",
      "CRuns        463.755\n",
      "CRBI         248.244\n",
      "CWalks      -209.499\n",
      "League        31.554\n",
      "Division     -58.463\n",
      "PutOuts       78.636\n",
      "Assists       54.188\n",
      "Errors       -22.465\n",
      "NewLeague    -12.726\n",
      "dtype: float64\n"
     ]
    }
   ],
   "source": [
    "rr = RR(alpha=0 * X.shape[0], solver='lsqr', fit_intercept=False)\n",
    "rr.fit(Xs, Ys)\n",
    "rr.solution = pd.Series(rr.coef_, \n",
    "                        index=feature_names)\n",
    "print(rr.solution.round(3))"
   ]
  },
  {
   "cell_type": "code",
   "execution_count": 38,
   "metadata": {},
   "outputs": [
    {
     "name": "stdout",
     "output_type": "stream",
     "text": [
      "AtBat       -58.575\n",
      "Hits         93.023\n",
      "HmRun       -11.547\n",
      "Runs         29.250\n",
      "RBI          20.546\n",
      "Walks        60.653\n",
      "Years       -31.619\n",
      "CAtBat       12.031\n",
      "CHits        71.249\n",
      "CHmRun       51.981\n",
      "CRuns        74.730\n",
      "CRBI         72.354\n",
      "CWalks      -43.657\n",
      "League       23.475\n",
      "Division    -59.592\n",
      "PutOuts      70.603\n",
      "Assists      18.467\n",
      "Errors      -22.087\n",
      "NewLeague    -5.355\n",
      "dtype: float64\n"
     ]
    }
   ],
   "source": [
    "rr = RR(alpha=0.1 * X.shape[0], solver='lsqr', fit_intercept=False)\n",
    "rr.fit(Xs, Ys)\n",
    "rr.solution = pd.Series(rr.coef_, \n",
    "                        index=feature_names)\n",
    "print(rr.solution.round(3))"
   ]
  },
  {
   "cell_type": "code",
   "execution_count": 65,
   "metadata": {},
   "outputs": [
    {
     "data": {
      "text/plain": [
       "(19, 101)"
      ]
     },
     "execution_count": 65,
     "metadata": {},
     "output_type": "execute_result"
    }
   ],
   "source": [
    "import warnings\n",
    "warnings.filterwarnings(\"ignore\")\n",
    "\n",
    "alphas = np.insert(10**np.linspace(-2, 8, 100) / Y.std(), 0, 0)\n",
    "soln_array = EN(fit_intercept=False).path(Xs, Ys, l1_ratio=0.,\n",
    "                                          alphas=alphas, max_iter=1e4)[1]\n",
    "soln_array.shape"
   ]
  },
  {
   "cell_type": "code",
   "execution_count": 66,
   "metadata": {},
   "outputs": [
    {
     "data": {
      "text/html": [
       "<div>\n",
       "<style scoped>\n",
       "    .dataframe tbody tr th:only-of-type {\n",
       "        vertical-align: middle;\n",
       "    }\n",
       "\n",
       "    .dataframe tbody tr th {\n",
       "        vertical-align: top;\n",
       "    }\n",
       "\n",
       "    .dataframe thead th {\n",
       "        text-align: right;\n",
       "    }\n",
       "</style>\n",
       "<table border=\"1\" class=\"dataframe\">\n",
       "  <thead>\n",
       "    <tr style=\"text-align: right;\">\n",
       "      <th></th>\n",
       "      <th>AtBat</th>\n",
       "      <th>Hits</th>\n",
       "      <th>HmRun</th>\n",
       "      <th>Runs</th>\n",
       "      <th>RBI</th>\n",
       "      <th>Walks</th>\n",
       "      <th>Years</th>\n",
       "      <th>CAtBat</th>\n",
       "      <th>CHits</th>\n",
       "      <th>CHmRun</th>\n",
       "      <th>CRuns</th>\n",
       "      <th>CRBI</th>\n",
       "      <th>CWalks</th>\n",
       "      <th>League</th>\n",
       "      <th>Division</th>\n",
       "      <th>PutOuts</th>\n",
       "      <th>Assists</th>\n",
       "      <th>Errors</th>\n",
       "      <th>NewLeague</th>\n",
       "    </tr>\n",
       "    <tr>\n",
       "      <th>log(alphas)</th>\n",
       "      <th></th>\n",
       "      <th></th>\n",
       "      <th></th>\n",
       "      <th></th>\n",
       "      <th></th>\n",
       "      <th></th>\n",
       "      <th></th>\n",
       "      <th></th>\n",
       "      <th></th>\n",
       "      <th></th>\n",
       "      <th></th>\n",
       "      <th></th>\n",
       "      <th></th>\n",
       "      <th></th>\n",
       "      <th></th>\n",
       "      <th></th>\n",
       "      <th></th>\n",
       "      <th></th>\n",
       "      <th></th>\n",
       "    </tr>\n",
       "  </thead>\n",
       "  <tbody>\n",
       "    <tr>\n",
       "      <th>-inf</th>\n",
       "      <td>-291.094556</td>\n",
       "      <td>337.830479</td>\n",
       "      <td>37.853837</td>\n",
       "      <td>-60.572479</td>\n",
       "      <td>-26.994984</td>\n",
       "      <td>135.073897</td>\n",
       "      <td>-16.693359</td>\n",
       "      <td>-391.038655</td>\n",
       "      <td>86.687617</td>\n",
       "      <td>-14.181723</td>\n",
       "      <td>480.747135</td>\n",
       "      <td>260.689886</td>\n",
       "      <td>-213.892259</td>\n",
       "      <td>31.248763</td>\n",
       "      <td>-58.414064</td>\n",
       "      <td>78.761296</td>\n",
       "      <td>53.732490</td>\n",
       "      <td>-22.160862</td>\n",
       "      <td>-12.348811</td>\n",
       "    </tr>\n",
       "    <tr>\n",
       "      <th>-10.714996</th>\n",
       "      <td>-290.991478</td>\n",
       "      <td>337.477879</td>\n",
       "      <td>37.643507</td>\n",
       "      <td>-60.246810</td>\n",
       "      <td>-26.801574</td>\n",
       "      <td>134.988353</td>\n",
       "      <td>-16.903097</td>\n",
       "      <td>-389.720125</td>\n",
       "      <td>87.808474</td>\n",
       "      <td>-13.427272</td>\n",
       "      <td>478.899034</td>\n",
       "      <td>259.336465</td>\n",
       "      <td>-213.590566</td>\n",
       "      <td>31.252274</td>\n",
       "      <td>-58.431503</td>\n",
       "      <td>78.761389</td>\n",
       "      <td>53.688281</td>\n",
       "      <td>-22.179564</td>\n",
       "      <td>-12.370117</td>\n",
       "    </tr>\n",
       "    <tr>\n",
       "      <th>-10.482412</th>\n",
       "      <td>-290.964664</td>\n",
       "      <td>337.386393</td>\n",
       "      <td>37.588886</td>\n",
       "      <td>-60.162312</td>\n",
       "      <td>-26.751340</td>\n",
       "      <td>134.966117</td>\n",
       "      <td>-16.957854</td>\n",
       "      <td>-389.373895</td>\n",
       "      <td>88.094885</td>\n",
       "      <td>-13.232142</td>\n",
       "      <td>478.419970</td>\n",
       "      <td>258.986125</td>\n",
       "      <td>-213.512449</td>\n",
       "      <td>31.253146</td>\n",
       "      <td>-58.436043</td>\n",
       "      <td>78.761421</td>\n",
       "      <td>53.676680</td>\n",
       "      <td>-22.184399</td>\n",
       "      <td>-12.375610</td>\n",
       "    </tr>\n",
       "    <tr>\n",
       "      <th>-10.249827</th>\n",
       "      <td>-290.930926</td>\n",
       "      <td>337.271434</td>\n",
       "      <td>37.520226</td>\n",
       "      <td>-60.056140</td>\n",
       "      <td>-26.688192</td>\n",
       "      <td>134.938152</td>\n",
       "      <td>-17.026850</td>\n",
       "      <td>-388.936485</td>\n",
       "      <td>88.452215</td>\n",
       "      <td>-12.987323</td>\n",
       "      <td>477.818285</td>\n",
       "      <td>258.546406</td>\n",
       "      <td>-213.414386</td>\n",
       "      <td>31.254219</td>\n",
       "      <td>-58.441758</td>\n",
       "      <td>78.761465</td>\n",
       "      <td>53.662029</td>\n",
       "      <td>-22.190465</td>\n",
       "      <td>-12.382493</td>\n",
       "    </tr>\n",
       "    <tr>\n",
       "      <th>-10.017243</th>\n",
       "      <td>-290.888505</td>\n",
       "      <td>337.127132</td>\n",
       "      <td>37.434004</td>\n",
       "      <td>-59.922876</td>\n",
       "      <td>-26.608885</td>\n",
       "      <td>134.903013</td>\n",
       "      <td>-17.113754</td>\n",
       "      <td>-388.383763</td>\n",
       "      <td>88.896737</td>\n",
       "      <td>-12.680608</td>\n",
       "      <td>477.063484</td>\n",
       "      <td>257.995250</td>\n",
       "      <td>-213.291441</td>\n",
       "      <td>31.255531</td>\n",
       "      <td>-58.448944</td>\n",
       "      <td>78.761527</td>\n",
       "      <td>53.643522</td>\n",
       "      <td>-22.198062</td>\n",
       "      <td>-12.391101</td>\n",
       "    </tr>\n",
       "    <tr>\n",
       "      <th>...</th>\n",
       "      <td>...</td>\n",
       "      <td>...</td>\n",
       "      <td>...</td>\n",
       "      <td>...</td>\n",
       "      <td>...</td>\n",
       "      <td>...</td>\n",
       "      <td>...</td>\n",
       "      <td>...</td>\n",
       "      <td>...</td>\n",
       "      <td>...</td>\n",
       "      <td>...</td>\n",
       "      <td>...</td>\n",
       "      <td>...</td>\n",
       "      <td>...</td>\n",
       "      <td>...</td>\n",
       "      <td>...</td>\n",
       "      <td>...</td>\n",
       "      <td>...</td>\n",
       "      <td>...</td>\n",
       "    </tr>\n",
       "    <tr>\n",
       "      <th>11.380518</th>\n",
       "      <td>0.002029</td>\n",
       "      <td>0.002255</td>\n",
       "      <td>0.001763</td>\n",
       "      <td>0.002158</td>\n",
       "      <td>0.002310</td>\n",
       "      <td>0.002281</td>\n",
       "      <td>0.002059</td>\n",
       "      <td>0.002704</td>\n",
       "      <td>0.002821</td>\n",
       "      <td>0.002698</td>\n",
       "      <td>0.002892</td>\n",
       "      <td>0.002914</td>\n",
       "      <td>0.002517</td>\n",
       "      <td>-0.000073</td>\n",
       "      <td>-0.000990</td>\n",
       "      <td>0.001544</td>\n",
       "      <td>0.000131</td>\n",
       "      <td>-0.000028</td>\n",
       "      <td>-0.000015</td>\n",
       "    </tr>\n",
       "    <tr>\n",
       "      <th>11.613102</th>\n",
       "      <td>0.001608</td>\n",
       "      <td>0.001787</td>\n",
       "      <td>0.001397</td>\n",
       "      <td>0.001710</td>\n",
       "      <td>0.001831</td>\n",
       "      <td>0.001808</td>\n",
       "      <td>0.001632</td>\n",
       "      <td>0.002143</td>\n",
       "      <td>0.002236</td>\n",
       "      <td>0.002138</td>\n",
       "      <td>0.002292</td>\n",
       "      <td>0.002309</td>\n",
       "      <td>0.001995</td>\n",
       "      <td>-0.000058</td>\n",
       "      <td>-0.000784</td>\n",
       "      <td>0.001224</td>\n",
       "      <td>0.000104</td>\n",
       "      <td>-0.000022</td>\n",
       "      <td>-0.000012</td>\n",
       "    </tr>\n",
       "    <tr>\n",
       "      <th>11.845686</th>\n",
       "      <td>0.001274</td>\n",
       "      <td>0.001416</td>\n",
       "      <td>0.001107</td>\n",
       "      <td>0.001355</td>\n",
       "      <td>0.001451</td>\n",
       "      <td>0.001433</td>\n",
       "      <td>0.001293</td>\n",
       "      <td>0.001698</td>\n",
       "      <td>0.001772</td>\n",
       "      <td>0.001694</td>\n",
       "      <td>0.001816</td>\n",
       "      <td>0.001830</td>\n",
       "      <td>0.001581</td>\n",
       "      <td>-0.000046</td>\n",
       "      <td>-0.000621</td>\n",
       "      <td>0.000970</td>\n",
       "      <td>0.000082</td>\n",
       "      <td>-0.000017</td>\n",
       "      <td>-0.000009</td>\n",
       "    </tr>\n",
       "    <tr>\n",
       "      <th>12.078271</th>\n",
       "      <td>0.001010</td>\n",
       "      <td>0.001122</td>\n",
       "      <td>0.000878</td>\n",
       "      <td>0.001074</td>\n",
       "      <td>0.001150</td>\n",
       "      <td>0.001135</td>\n",
       "      <td>0.001025</td>\n",
       "      <td>0.001346</td>\n",
       "      <td>0.001404</td>\n",
       "      <td>0.001343</td>\n",
       "      <td>0.001439</td>\n",
       "      <td>0.001450</td>\n",
       "      <td>0.001253</td>\n",
       "      <td>-0.000037</td>\n",
       "      <td>-0.000492</td>\n",
       "      <td>0.000769</td>\n",
       "      <td>0.000065</td>\n",
       "      <td>-0.000014</td>\n",
       "      <td>-0.000007</td>\n",
       "    </tr>\n",
       "    <tr>\n",
       "      <th>12.310855</th>\n",
       "      <td>0.000800</td>\n",
       "      <td>0.000889</td>\n",
       "      <td>0.000695</td>\n",
       "      <td>0.000851</td>\n",
       "      <td>0.000911</td>\n",
       "      <td>0.000900</td>\n",
       "      <td>0.000812</td>\n",
       "      <td>0.001067</td>\n",
       "      <td>0.001113</td>\n",
       "      <td>0.001064</td>\n",
       "      <td>0.001141</td>\n",
       "      <td>0.001149</td>\n",
       "      <td>0.000993</td>\n",
       "      <td>-0.000029</td>\n",
       "      <td>-0.000390</td>\n",
       "      <td>0.000609</td>\n",
       "      <td>0.000052</td>\n",
       "      <td>-0.000011</td>\n",
       "      <td>-0.000006</td>\n",
       "    </tr>\n",
       "  </tbody>\n",
       "</table>\n",
       "<p>101 rows × 19 columns</p>\n",
       "</div>"
      ],
      "text/plain": [
       "                  AtBat        Hits      HmRun       Runs        RBI  \\\n",
       "log(alphas)                                                            \n",
       "-inf        -291.094556  337.830479  37.853837 -60.572479 -26.994984   \n",
       "-10.714996  -290.991478  337.477879  37.643507 -60.246810 -26.801574   \n",
       "-10.482412  -290.964664  337.386393  37.588886 -60.162312 -26.751340   \n",
       "-10.249827  -290.930926  337.271434  37.520226 -60.056140 -26.688192   \n",
       "-10.017243  -290.888505  337.127132  37.434004 -59.922876 -26.608885   \n",
       "...                 ...         ...        ...        ...        ...   \n",
       " 11.380518     0.002029    0.002255   0.001763   0.002158   0.002310   \n",
       " 11.613102     0.001608    0.001787   0.001397   0.001710   0.001831   \n",
       " 11.845686     0.001274    0.001416   0.001107   0.001355   0.001451   \n",
       " 12.078271     0.001010    0.001122   0.000878   0.001074   0.001150   \n",
       " 12.310855     0.000800    0.000889   0.000695   0.000851   0.000911   \n",
       "\n",
       "                  Walks      Years      CAtBat      CHits     CHmRun  \\\n",
       "log(alphas)                                                            \n",
       "-inf         135.073897 -16.693359 -391.038655  86.687617 -14.181723   \n",
       "-10.714996   134.988353 -16.903097 -389.720125  87.808474 -13.427272   \n",
       "-10.482412   134.966117 -16.957854 -389.373895  88.094885 -13.232142   \n",
       "-10.249827   134.938152 -17.026850 -388.936485  88.452215 -12.987323   \n",
       "-10.017243   134.903013 -17.113754 -388.383763  88.896737 -12.680608   \n",
       "...                 ...        ...         ...        ...        ...   \n",
       " 11.380518     0.002281   0.002059    0.002704   0.002821   0.002698   \n",
       " 11.613102     0.001808   0.001632    0.002143   0.002236   0.002138   \n",
       " 11.845686     0.001433   0.001293    0.001698   0.001772   0.001694   \n",
       " 12.078271     0.001135   0.001025    0.001346   0.001404   0.001343   \n",
       " 12.310855     0.000900   0.000812    0.001067   0.001113   0.001064   \n",
       "\n",
       "                  CRuns        CRBI      CWalks     League   Division  \\\n",
       "log(alphas)                                                             \n",
       "-inf         480.747135  260.689886 -213.892259  31.248763 -58.414064   \n",
       "-10.714996   478.899034  259.336465 -213.590566  31.252274 -58.431503   \n",
       "-10.482412   478.419970  258.986125 -213.512449  31.253146 -58.436043   \n",
       "-10.249827   477.818285  258.546406 -213.414386  31.254219 -58.441758   \n",
       "-10.017243   477.063484  257.995250 -213.291441  31.255531 -58.448944   \n",
       "...                 ...         ...         ...        ...        ...   \n",
       " 11.380518     0.002892    0.002914    0.002517  -0.000073  -0.000990   \n",
       " 11.613102     0.002292    0.002309    0.001995  -0.000058  -0.000784   \n",
       " 11.845686     0.001816    0.001830    0.001581  -0.000046  -0.000621   \n",
       " 12.078271     0.001439    0.001450    0.001253  -0.000037  -0.000492   \n",
       " 12.310855     0.001141    0.001149    0.000993  -0.000029  -0.000390   \n",
       "\n",
       "               PutOuts    Assists     Errors  NewLeague  \n",
       "log(alphas)                                              \n",
       "-inf         78.761296  53.732490 -22.160862 -12.348811  \n",
       "-10.714996   78.761389  53.688281 -22.179564 -12.370117  \n",
       "-10.482412   78.761421  53.676680 -22.184399 -12.375610  \n",
       "-10.249827   78.761465  53.662029 -22.190465 -12.382493  \n",
       "-10.017243   78.761527  53.643522 -22.198062 -12.391101  \n",
       "...                ...        ...        ...        ...  \n",
       " 11.380518    0.001544   0.000131  -0.000028  -0.000015  \n",
       " 11.613102    0.001224   0.000104  -0.000022  -0.000012  \n",
       " 11.845686    0.000970   0.000082  -0.000017  -0.000009  \n",
       " 12.078271    0.000769   0.000065  -0.000014  -0.000007  \n",
       " 12.310855    0.000609   0.000052  -0.000011  -0.000006  \n",
       "\n",
       "[101 rows x 19 columns]"
      ]
     },
     "execution_count": 66,
     "metadata": {},
     "output_type": "execute_result"
    }
   ],
   "source": [
    "soln_path = pd.DataFrame(soln_array.T[::-1], \n",
    "                         columns=feature_names,\n",
    "                         index=np.log(alphas))\n",
    "soln_path.index.name = 'log(alphas)'\n",
    "soln_path"
   ]
  },
  {
   "cell_type": "code",
   "execution_count": 67,
   "metadata": {},
   "outputs": [
    {
     "data": {
      "text/plain": [
       "<matplotlib.legend.Legend at 0x160e36790>"
      ]
     },
     "execution_count": 67,
     "metadata": {},
     "output_type": "execute_result"
    },
    {
     "data": {
      "image/png": "[encoded data removed]",
      "text/plain": [
       "<Figure size 1200x1000 with 1 Axes>"
      ]
     },
     "metadata": {},
     "output_type": "display_data"
    }
   ],
   "source": [
    "from matplotlib.pyplot import subplots\n",
    "\n",
    "path_fig , ax = subplots(figsize=(12,10))\n",
    "soln_path.plot(ax=ax, legend=False)\n",
    "ax.set_xlabel('$\\log$(alpha)', fontsize=15)\n",
    "ax.set_ylabel('Standardized coefficients', fontsize=15)\n",
    "ax.legend(loc='upper right')"
   ]
  },
  {
   "cell_type": "markdown",
   "metadata": {},
   "source": [
    "Above we normalized `X` upfront, and fit the ridge model using `Xs`. The `Pipeline()` object in `sklearn` provides a clear way to separate feature normalization from the fitting of the ridge model itself."
   ]
  },
  {
   "cell_type": "code",
   "execution_count": 68,
   "metadata": {},
   "outputs": [
    {
     "data": {
      "text/html": [
       "<style>#sk-container-id-9 {color: black;}#sk-container-id-9 pre{padding: 0;}#sk-container-id-9 div.sk-toggleable {background-color: white;}#sk-container-id-9 label.sk-toggleable__label {cursor: pointer;display: block;width: 100%;margin-bottom: 0;padding: 0.3em;box-sizing: border-box;text-align: center;}#sk-container-id-9 label.sk-toggleable__label-arrow:before {content: \"▸\";float: left;margin-right: 0.25em;color: #696969;}#sk-container-id-9 label.sk-toggleable__label-arrow:hover:before {color: black;}#sk-container-id-9 div.sk-estimator:hover label.sk-toggleable__label-arrow:before {color: black;}#sk-container-id-9 div.sk-toggleable__content {max-height: 0;max-width: 0;overflow: hidden;text-align: left;background-color: #f0f8ff;}#sk-container-id-9 div.sk-toggleable__content pre {margin: 0.2em;color: black;border-radius: 0.25em;background-color: #f0f8ff;}#sk-container-id-9 input.sk-toggleable__control:checked~div.sk-toggleable__content {max-height: 200px;max-width: 100%;overflow: auto;}#sk-container-id-9 input.sk-toggleable__control:checked~label.sk-toggleable__label-arrow:before {content: \"▾\";}#sk-container-id-9 div.sk-estimator input.sk-toggleable__control:checked~label.sk-toggleable__label {background-color: #d4ebff;}#sk-container-id-9 div.sk-label input.sk-toggleable__control:checked~label.sk-toggleable__label {background-color: #d4ebff;}#sk-container-id-9 input.sk-hidden--visually {border: 0;clip: rect(1px 1px 1px 1px);clip: rect(1px, 1px, 1px, 1px);height: 1px;margin: -1px;overflow: hidden;padding: 0;position: absolute;width: 1px;}#sk-container-id-9 div.sk-estimator {font-family: monospace;background-color: #f0f8ff;border: 1px dotted black;border-radius: 0.25em;box-sizing: border-box;margin-bottom: 0.5em;}#sk-container-id-9 div.sk-estimator:hover {background-color: #d4ebff;}#sk-container-id-9 div.sk-parallel-item::after {content: \"\";width: 100%;border-bottom: 1px solid gray;flex-grow: 1;}#sk-container-id-9 div.sk-label:hover label.sk-toggleable__label {background-color: #d4ebff;}#sk-container-id-9 div.sk-serial::before {content: \"\";position: absolute;border-left: 1px solid gray;box-sizing: border-box;top: 0;bottom: 0;left: 50%;z-index: 0;}#sk-container-id-9 div.sk-serial {display: flex;flex-direction: column;align-items: center;background-color: white;padding-right: 0.2em;padding-left: 0.2em;position: relative;}#sk-container-id-9 div.sk-item {position: relative;z-index: 1;}#sk-container-id-9 div.sk-parallel {display: flex;align-items: stretch;justify-content: center;background-color: white;position: relative;}#sk-container-id-9 div.sk-item::before, #sk-container-id-9 div.sk-parallel-item::before {content: \"\";position: absolute;border-left: 1px solid gray;box-sizing: border-box;top: 0;bottom: 0;left: 50%;z-index: -1;}#sk-container-id-9 div.sk-parallel-item {display: flex;flex-direction: column;z-index: 1;position: relative;background-color: white;}#sk-container-id-9 div.sk-parallel-item:first-child::after {align-self: flex-end;width: 50%;}#sk-container-id-9 div.sk-parallel-item:last-child::after {align-self: flex-start;width: 50%;}#sk-container-id-9 div.sk-parallel-item:only-child::after {width: 0;}#sk-container-id-9 div.sk-dashed-wrapped {border: 1px dashed gray;margin: 0 0.4em 0.5em 0.4em;box-sizing: border-box;padding-bottom: 0.4em;background-color: white;}#sk-container-id-9 div.sk-label label {font-family: monospace;font-weight: bold;display: inline-block;line-height: 1.2em;}#sk-container-id-9 div.sk-label-container {text-align: center;}#sk-container-id-9 div.sk-container {/* jupyter's `normalize.less` sets `[hidden] { display: none; }` but bootstrap.min.css set `[hidden] { display: none !important; }` so we also need the `!important` here to be able to override the default hidden behavior on the sphinx rendered scikit-learn.org. See: https://github.com/scikit-learn/scikit-learn/issues/21755 */display: inline-block !important;position: relative;}#sk-container-id-9 div.sk-text-repr-fallback {display: none;}</style><div id=\"sk-container-id-9\" class=\"sk-top-container\"><div class=\"sk-text-repr-fallback\"><pre>Pipeline(steps=[(&#x27;scaler&#x27;, StandardScaler()),\n",
       "                (&#x27;ridge&#x27;, ElasticNet(alpha=1.97711243041609, l1_ratio=0))])</pre><b>In a Jupyter environment, please rerun this cell to show the HTML representation or trust the notebook. <br />On GitHub, the HTML representation is unable to render, please try loading this page with nbviewer.org.</b></div><div class=\"sk-container\" hidden><div class=\"sk-item sk-dashed-wrapped\"><div class=\"sk-label-container\"><div class=\"sk-label sk-toggleable\"><input class=\"sk-toggleable__control sk-hidden--visually\" id=\"sk-estimator-id-17\" type=\"checkbox\" ><label for=\"sk-estimator-id-17\" class=\"sk-toggleable__label sk-toggleable__label-arrow\">Pipeline</label><div class=\"sk-toggleable__content\"><pre>Pipeline(steps=[(&#x27;scaler&#x27;, StandardScaler()),\n",
       "                (&#x27;ridge&#x27;, ElasticNet(alpha=1.97711243041609, l1_ratio=0))])</pre></div></div></div><div class=\"sk-serial\"><div class=\"sk-item\"><div class=\"sk-estimator sk-toggleable\"><input class=\"sk-toggleable__control sk-hidden--visually\" id=\"sk-estimator-id-18\" type=\"checkbox\" ><label for=\"sk-estimator-id-18\" class=\"sk-toggleable__label sk-toggleable__label-arrow\">StandardScaler</label><div class=\"sk-toggleable__content\"><pre>StandardScaler()</pre></div></div></div><div class=\"sk-item\"><div class=\"sk-estimator sk-toggleable\"><input class=\"sk-toggleable__control sk-hidden--visually\" id=\"sk-estimator-id-19\" type=\"checkbox\" ><label for=\"sk-estimator-id-19\" class=\"sk-toggleable__label sk-toggleable__label-arrow\">ElasticNet</label><div class=\"sk-toggleable__content\"><pre>ElasticNet(alpha=1.97711243041609, l1_ratio=0)</pre></div></div></div></div></div></div></div>"
      ],
      "text/plain": [
       "Pipeline(steps=[('scaler', StandardScaler()),\n",
       "                ('ridge', ElasticNet(alpha=1.97711243041609, l1_ratio=0))])"
      ]
     },
     "execution_count": 68,
     "metadata": {},
     "output_type": "execute_result"
    }
   ],
   "source": [
    "from sklearn.pipeline import Pipeline\n",
    "\n",
    "ridge = EN(alpha=alphas[50], l1_ratio=0)\n",
    "scaler = StandardScaler(with_mean=True , with_std=True)\n",
    "pipe = Pipeline(steps=[('scaler', scaler), ('ridge', ridge)])\n",
    "pipe.fit(X, Y)"
   ]
  },
  {
   "cell_type": "code",
   "execution_count": 69,
   "metadata": {},
   "outputs": [
    {
     "data": {
      "text/plain": [
       "AtBat        16.737\n",
       "Hits         27.154\n",
       "HmRun        11.071\n",
       "Runs         22.646\n",
       "RBI          21.214\n",
       "Walks        26.593\n",
       "Years        13.134\n",
       "CAtBat       23.909\n",
       "CHits        28.376\n",
       "CHmRun       26.149\n",
       "CRuns        29.013\n",
       "CRBI         29.499\n",
       "CWalks       19.181\n",
       "League        5.677\n",
       "Division    -23.833\n",
       "PutOuts      29.312\n",
       "Assists       2.004\n",
       "Errors       -3.653\n",
       "NewLeague     3.865\n",
       "dtype: float64"
      ]
     },
     "execution_count": 69,
     "metadata": {},
     "output_type": "execute_result"
    }
   ],
   "source": [
    "pd.Series(ridge.coef_, index=feature_names).round(3)"
   ]
  },
  {
   "cell_type": "code",
   "execution_count": 70,
   "metadata": {},
   "outputs": [
    {
     "data": {
      "text/plain": [
       "array([131989.82972988])"
      ]
     },
     "execution_count": 70,
     "metadata": {},
     "output_type": "execute_result"
    }
   ],
   "source": [
    "import sklearn.model_selection as skm\n",
    "\n",
    "validation = skm.ShuffleSplit(n_splits=1, test_size=0.25, random_state=0)\n",
    "ridge.alpha = 0.01\n",
    "\n",
    "results = skm.cross_validate(ridge ,\n",
    "                             X, Y,\n",
    "                             scoring='neg_mean_squared_error',\n",
    "                             cv=validation)\n",
    "-results['test_score']"
   ]
  },
  {
   "cell_type": "markdown",
   "metadata": {},
   "source": [
    "We can use the validation-set approach to choose the tuning parameter $\\alpha$. The object\n",
    "`GridSearchCV()` allows exhaustive grid search to choose such a parameter."
   ]
  },
  {
   "cell_type": "code",
   "execution_count": 71,
   "metadata": {},
   "outputs": [
    {
     "data": {
      "text/html": [
       "<style>#sk-container-id-10 {color: black;}#sk-container-id-10 pre{padding: 0;}#sk-container-id-10 div.sk-toggleable {background-color: white;}#sk-container-id-10 label.sk-toggleable__label {cursor: pointer;display: block;width: 100%;margin-bottom: 0;padding: 0.3em;box-sizing: border-box;text-align: center;}#sk-container-id-10 label.sk-toggleable__label-arrow:before {content: \"▸\";float: left;margin-right: 0.25em;color: #696969;}#sk-container-id-10 label.sk-toggleable__label-arrow:hover:before {color: black;}#sk-container-id-10 div.sk-estimator:hover label.sk-toggleable__label-arrow:before {color: black;}#sk-container-id-10 div.sk-toggleable__content {max-height: 0;max-width: 0;overflow: hidden;text-align: left;background-color: #f0f8ff;}#sk-container-id-10 div.sk-toggleable__content pre {margin: 0.2em;color: black;border-radius: 0.25em;background-color: #f0f8ff;}#sk-container-id-10 input.sk-toggleable__control:checked~div.sk-toggleable__content {max-height: 200px;max-width: 100%;overflow: auto;}#sk-container-id-10 input.sk-toggleable__control:checked~label.sk-toggleable__label-arrow:before {content: \"▾\";}#sk-container-id-10 div.sk-estimator input.sk-toggleable__control:checked~label.sk-toggleable__label {background-color: #d4ebff;}#sk-container-id-10 div.sk-label input.sk-toggleable__control:checked~label.sk-toggleable__label {background-color: #d4ebff;}#sk-container-id-10 input.sk-hidden--visually {border: 0;clip: rect(1px 1px 1px 1px);clip: rect(1px, 1px, 1px, 1px);height: 1px;margin: -1px;overflow: hidden;padding: 0;position: absolute;width: 1px;}#sk-container-id-10 div.sk-estimator {font-family: monospace;background-color: #f0f8ff;border: 1px dotted black;border-radius: 0.25em;box-sizing: border-box;margin-bottom: 0.5em;}#sk-container-id-10 div.sk-estimator:hover {background-color: #d4ebff;}#sk-container-id-10 div.sk-parallel-item::after {content: \"\";width: 100%;border-bottom: 1px solid gray;flex-grow: 1;}#sk-container-id-10 div.sk-label:hover label.sk-toggleable__label {background-color: #d4ebff;}#sk-container-id-10 div.sk-serial::before {content: \"\";position: absolute;border-left: 1px solid gray;box-sizing: border-box;top: 0;bottom: 0;left: 50%;z-index: 0;}#sk-container-id-10 div.sk-serial {display: flex;flex-direction: column;align-items: center;background-color: white;padding-right: 0.2em;padding-left: 0.2em;position: relative;}#sk-container-id-10 div.sk-item {position: relative;z-index: 1;}#sk-container-id-10 div.sk-parallel {display: flex;align-items: stretch;justify-content: center;background-color: white;position: relative;}#sk-container-id-10 div.sk-item::before, #sk-container-id-10 div.sk-parallel-item::before {content: \"\";position: absolute;border-left: 1px solid gray;box-sizing: border-box;top: 0;bottom: 0;left: 50%;z-index: -1;}#sk-container-id-10 div.sk-parallel-item {display: flex;flex-direction: column;z-index: 1;position: relative;background-color: white;}#sk-container-id-10 div.sk-parallel-item:first-child::after {align-self: flex-end;width: 50%;}#sk-container-id-10 div.sk-parallel-item:last-child::after {align-self: flex-start;width: 50%;}#sk-container-id-10 div.sk-parallel-item:only-child::after {width: 0;}#sk-container-id-10 div.sk-dashed-wrapped {border: 1px dashed gray;margin: 0 0.4em 0.5em 0.4em;box-sizing: border-box;padding-bottom: 0.4em;background-color: white;}#sk-container-id-10 div.sk-label label {font-family: monospace;font-weight: bold;display: inline-block;line-height: 1.2em;}#sk-container-id-10 div.sk-label-container {text-align: center;}#sk-container-id-10 div.sk-container {/* jupyter's `normalize.less` sets `[hidden] { display: none; }` but bootstrap.min.css set `[hidden] { display: none !important; }` so we also need the `!important` here to be able to override the default hidden behavior on the sphinx rendered scikit-learn.org. See: https://github.com/scikit-learn/scikit-learn/issues/21755 */display: inline-block !important;position: relative;}#sk-container-id-10 div.sk-text-repr-fallback {display: none;}</style><div id=\"sk-container-id-10\" class=\"sk-top-container\"><div class=\"sk-text-repr-fallback\"><pre>ElasticNet(alpha=0.004674861409328469, l1_ratio=0)</pre><b>In a Jupyter environment, please rerun this cell to show the HTML representation or trust the notebook. <br />On GitHub, the HTML representation is unable to render, please try loading this page with nbviewer.org.</b></div><div class=\"sk-container\" hidden><div class=\"sk-item\"><div class=\"sk-estimator sk-toggleable\"><input class=\"sk-toggleable__control sk-hidden--visually\" id=\"sk-estimator-id-20\" type=\"checkbox\" checked><label for=\"sk-estimator-id-20\" class=\"sk-toggleable__label sk-toggleable__label-arrow\">ElasticNet</label><div class=\"sk-toggleable__content\"><pre>ElasticNet(alpha=0.004674861409328469, l1_ratio=0)</pre></div></div></div></div></div>"
      ],
      "text/plain": [
       "ElasticNet(alpha=0.004674861409328469, l1_ratio=0)"
      ]
     },
     "execution_count": 71,
     "metadata": {},
     "output_type": "execute_result"
    }
   ],
   "source": [
    "param_grid = {'ridge__alpha': alphas}\n",
    "\n",
    "grid = skm.GridSearchCV(pipe, param_grid, \n",
    "                        cv=validation, \n",
    "                        scoring='neg_mean_squared_error')\n",
    "grid.fit(X, Y)\n",
    "grid.best_params_['ridge__alpha']\n",
    "best_ridge = grid.best_estimator_.named_steps['ridge']\n",
    "best_ridge"
   ]
  },
  {
   "cell_type": "code",
   "execution_count": 72,
   "metadata": {},
   "outputs": [
    {
     "data": {
      "text/plain": [
       "[0.004674861409328469,\n",
       " array([-264.97207276,  288.86711419,   15.6421743 ,  -25.09894758,\n",
       "          -7.0220354 ,  122.41857935,  -41.27353538, -203.38610906,\n",
       "         127.40194443,   43.49677069,  300.85148172,  151.28105936,\n",
       "        -179.77327676,   30.94372861,  -60.49400301,   78.5265124 ,\n",
       "          46.38430414,  -23.97939773,  -13.75915381])]"
      ]
     },
     "execution_count": 72,
     "metadata": {},
     "output_type": "execute_result"
    }
   ],
   "source": [
    "[best_ridge.alpha, best_ridge.coef_]"
   ]
  },
  {
   "cell_type": "markdown",
   "metadata": {},
   "source": [
    "#### Lasso"
   ]
  },
  {
   "cell_type": "code",
   "execution_count": 73,
   "metadata": {},
   "outputs": [],
   "source": [
    "from sklearn.linear_model import Lasso as LASSO"
   ]
  },
  {
   "cell_type": "code",
   "execution_count": 77,
   "metadata": {},
   "outputs": [],
   "source": [
    "alphas , soln_array = LASSO.path(Xs, Y, \n",
    "                                 l1_ratio=1, n_alphas=100)[:2]\n",
    "soln_path = pd.DataFrame(soln_array.T, \n",
    "                         columns=feature_names, \n",
    "                         index=np.log(alphas))"
   ]
  },
  {
   "cell_type": "code",
   "execution_count": 78,
   "metadata": {},
   "outputs": [
    {
     "data": {
      "text/html": [
       "<div>\n",
       "<style scoped>\n",
       "    .dataframe tbody tr th:only-of-type {\n",
       "        vertical-align: middle;\n",
       "    }\n",
       "\n",
       "    .dataframe tbody tr th {\n",
       "        vertical-align: top;\n",
       "    }\n",
       "\n",
       "    .dataframe thead th {\n",
       "        text-align: right;\n",
       "    }\n",
       "</style>\n",
       "<table border=\"1\" class=\"dataframe\">\n",
       "  <thead>\n",
       "    <tr style=\"text-align: right;\">\n",
       "      <th></th>\n",
       "      <th>AtBat</th>\n",
       "      <th>Hits</th>\n",
       "      <th>HmRun</th>\n",
       "      <th>Runs</th>\n",
       "      <th>RBI</th>\n",
       "      <th>Walks</th>\n",
       "      <th>Years</th>\n",
       "      <th>CAtBat</th>\n",
       "      <th>CHits</th>\n",
       "      <th>CHmRun</th>\n",
       "      <th>CRuns</th>\n",
       "      <th>CRBI</th>\n",
       "      <th>CWalks</th>\n",
       "      <th>League</th>\n",
       "      <th>Division</th>\n",
       "      <th>PutOuts</th>\n",
       "      <th>Assists</th>\n",
       "      <th>Errors</th>\n",
       "      <th>NewLeague</th>\n",
       "    </tr>\n",
       "  </thead>\n",
       "  <tbody>\n",
       "    <tr>\n",
       "      <th>5.542369</th>\n",
       "      <td>0.000000</td>\n",
       "      <td>0.000000</td>\n",
       "      <td>0.000000</td>\n",
       "      <td>0.000000</td>\n",
       "      <td>0.000000</td>\n",
       "      <td>0.000000</td>\n",
       "      <td>0.000000</td>\n",
       "      <td>0.000000</td>\n",
       "      <td>0.000000</td>\n",
       "      <td>0.0</td>\n",
       "      <td>0.000000</td>\n",
       "      <td>0.000000</td>\n",
       "      <td>0.000000</td>\n",
       "      <td>-0.000000</td>\n",
       "      <td>-0.000000</td>\n",
       "      <td>0.000000</td>\n",
       "      <td>0.000000</td>\n",
       "      <td>-0.000000</td>\n",
       "      <td>-0.000000</td>\n",
       "    </tr>\n",
       "    <tr>\n",
       "      <th>5.472594</th>\n",
       "      <td>0.000000</td>\n",
       "      <td>0.000000</td>\n",
       "      <td>0.000000</td>\n",
       "      <td>0.000000</td>\n",
       "      <td>0.000000</td>\n",
       "      <td>0.000000</td>\n",
       "      <td>0.000000</td>\n",
       "      <td>0.000000</td>\n",
       "      <td>0.000000</td>\n",
       "      <td>0.0</td>\n",
       "      <td>0.000000</td>\n",
       "      <td>17.205159</td>\n",
       "      <td>0.000000</td>\n",
       "      <td>-0.000000</td>\n",
       "      <td>-0.000000</td>\n",
       "      <td>0.000000</td>\n",
       "      <td>0.000000</td>\n",
       "      <td>-0.000000</td>\n",
       "      <td>-0.000000</td>\n",
       "    </tr>\n",
       "    <tr>\n",
       "      <th>5.402819</th>\n",
       "      <td>0.000000</td>\n",
       "      <td>0.000000</td>\n",
       "      <td>0.000000</td>\n",
       "      <td>0.000000</td>\n",
       "      <td>0.000000</td>\n",
       "      <td>0.000000</td>\n",
       "      <td>0.000000</td>\n",
       "      <td>0.000000</td>\n",
       "      <td>0.000000</td>\n",
       "      <td>0.0</td>\n",
       "      <td>0.000000</td>\n",
       "      <td>33.250748</td>\n",
       "      <td>0.000000</td>\n",
       "      <td>-0.000000</td>\n",
       "      <td>-0.000000</td>\n",
       "      <td>0.000000</td>\n",
       "      <td>0.000000</td>\n",
       "      <td>0.000000</td>\n",
       "      <td>-0.000000</td>\n",
       "    </tr>\n",
       "    <tr>\n",
       "      <th>5.333043</th>\n",
       "      <td>0.000000</td>\n",
       "      <td>0.000000</td>\n",
       "      <td>0.000000</td>\n",
       "      <td>0.000000</td>\n",
       "      <td>0.000000</td>\n",
       "      <td>0.000000</td>\n",
       "      <td>0.000000</td>\n",
       "      <td>0.000000</td>\n",
       "      <td>0.000000</td>\n",
       "      <td>0.0</td>\n",
       "      <td>6.545671</td>\n",
       "      <td>42.024827</td>\n",
       "      <td>0.000000</td>\n",
       "      <td>-0.000000</td>\n",
       "      <td>-0.000000</td>\n",
       "      <td>0.000000</td>\n",
       "      <td>0.000000</td>\n",
       "      <td>0.000000</td>\n",
       "      <td>0.000000</td>\n",
       "    </tr>\n",
       "    <tr>\n",
       "      <th>5.263268</th>\n",
       "      <td>0.000000</td>\n",
       "      <td>0.000000</td>\n",
       "      <td>0.000000</td>\n",
       "      <td>0.000000</td>\n",
       "      <td>0.000000</td>\n",
       "      <td>0.000000</td>\n",
       "      <td>0.000000</td>\n",
       "      <td>0.000000</td>\n",
       "      <td>0.000000</td>\n",
       "      <td>0.0</td>\n",
       "      <td>13.727251</td>\n",
       "      <td>49.189007</td>\n",
       "      <td>0.000000</td>\n",
       "      <td>-0.000000</td>\n",
       "      <td>-0.000000</td>\n",
       "      <td>0.000000</td>\n",
       "      <td>0.000000</td>\n",
       "      <td>0.000000</td>\n",
       "      <td>0.000000</td>\n",
       "    </tr>\n",
       "    <tr>\n",
       "      <th>...</th>\n",
       "      <td>...</td>\n",
       "      <td>...</td>\n",
       "      <td>...</td>\n",
       "      <td>...</td>\n",
       "      <td>...</td>\n",
       "      <td>...</td>\n",
       "      <td>...</td>\n",
       "      <td>...</td>\n",
       "      <td>...</td>\n",
       "      <td>...</td>\n",
       "      <td>...</td>\n",
       "      <td>...</td>\n",
       "      <td>...</td>\n",
       "      <td>...</td>\n",
       "      <td>...</td>\n",
       "      <td>...</td>\n",
       "      <td>...</td>\n",
       "      <td>...</td>\n",
       "      <td>...</td>\n",
       "    </tr>\n",
       "    <tr>\n",
       "      <th>-1.086285</th>\n",
       "      <td>-292.618320</td>\n",
       "      <td>330.147359</td>\n",
       "      <td>25.671504</td>\n",
       "      <td>-49.562410</td>\n",
       "      <td>-13.598973</td>\n",
       "      <td>130.583914</td>\n",
       "      <td>-24.123416</td>\n",
       "      <td>-286.579896</td>\n",
       "      <td>31.226178</td>\n",
       "      <td>-0.0</td>\n",
       "      <td>452.829429</td>\n",
       "      <td>229.229316</td>\n",
       "      <td>-209.493673</td>\n",
       "      <td>28.373513</td>\n",
       "      <td>-58.125944</td>\n",
       "      <td>79.096546</td>\n",
       "      <td>49.338699</td>\n",
       "      <td>-20.820927</td>\n",
       "      <td>-9.515995</td>\n",
       "    </tr>\n",
       "    <tr>\n",
       "      <th>-1.156060</th>\n",
       "      <td>-292.511837</td>\n",
       "      <td>330.496934</td>\n",
       "      <td>26.317012</td>\n",
       "      <td>-50.124459</td>\n",
       "      <td>-14.357879</td>\n",
       "      <td>130.849065</td>\n",
       "      <td>-23.603337</td>\n",
       "      <td>-294.116322</td>\n",
       "      <td>37.120221</td>\n",
       "      <td>-0.0</td>\n",
       "      <td>453.537777</td>\n",
       "      <td>229.848245</td>\n",
       "      <td>-209.616048</td>\n",
       "      <td>28.584855</td>\n",
       "      <td>-58.145706</td>\n",
       "      <td>79.080585</td>\n",
       "      <td>49.655372</td>\n",
       "      <td>-20.923792</td>\n",
       "      <td>-9.725398</td>\n",
       "    </tr>\n",
       "    <tr>\n",
       "      <th>-1.225835</th>\n",
       "      <td>-292.413043</td>\n",
       "      <td>330.823484</td>\n",
       "      <td>26.918970</td>\n",
       "      <td>-50.648775</td>\n",
       "      <td>-15.065567</td>\n",
       "      <td>131.096456</td>\n",
       "      <td>-23.118630</td>\n",
       "      <td>-301.141293</td>\n",
       "      <td>42.613785</td>\n",
       "      <td>-0.0</td>\n",
       "      <td>454.198913</td>\n",
       "      <td>230.425310</td>\n",
       "      <td>-209.730604</td>\n",
       "      <td>28.781925</td>\n",
       "      <td>-58.164143</td>\n",
       "      <td>79.065724</td>\n",
       "      <td>49.950637</td>\n",
       "      <td>-21.019700</td>\n",
       "      <td>-9.920665</td>\n",
       "    </tr>\n",
       "    <tr>\n",
       "      <th>-1.295611</th>\n",
       "      <td>-292.320279</td>\n",
       "      <td>331.127368</td>\n",
       "      <td>27.480414</td>\n",
       "      <td>-51.137572</td>\n",
       "      <td>-15.725645</td>\n",
       "      <td>131.327039</td>\n",
       "      <td>-22.666199</td>\n",
       "      <td>-307.697118</td>\n",
       "      <td>47.741074</td>\n",
       "      <td>-0.0</td>\n",
       "      <td>454.814838</td>\n",
       "      <td>230.963666</td>\n",
       "      <td>-209.836915</td>\n",
       "      <td>28.965748</td>\n",
       "      <td>-58.181330</td>\n",
       "      <td>79.051835</td>\n",
       "      <td>50.226081</td>\n",
       "      <td>-21.109174</td>\n",
       "      <td>-10.102799</td>\n",
       "    </tr>\n",
       "    <tr>\n",
       "      <th>-1.365386</th>\n",
       "      <td>-292.233620</td>\n",
       "      <td>331.410616</td>\n",
       "      <td>28.004031</td>\n",
       "      <td>-51.593383</td>\n",
       "      <td>-16.341255</td>\n",
       "      <td>131.542049</td>\n",
       "      <td>-22.244172</td>\n",
       "      <td>-313.812112</td>\n",
       "      <td>52.523743</td>\n",
       "      <td>-0.0</td>\n",
       "      <td>455.389090</td>\n",
       "      <td>231.465779</td>\n",
       "      <td>-209.935936</td>\n",
       "      <td>29.137191</td>\n",
       "      <td>-58.197357</td>\n",
       "      <td>79.038876</td>\n",
       "      <td>50.482980</td>\n",
       "      <td>-21.192625</td>\n",
       "      <td>-10.272666</td>\n",
       "    </tr>\n",
       "  </tbody>\n",
       "</table>\n",
       "<p>100 rows × 19 columns</p>\n",
       "</div>"
      ],
      "text/plain": [
       "                AtBat        Hits      HmRun       Runs        RBI  \\\n",
       " 5.542369    0.000000    0.000000   0.000000   0.000000   0.000000   \n",
       " 5.472594    0.000000    0.000000   0.000000   0.000000   0.000000   \n",
       " 5.402819    0.000000    0.000000   0.000000   0.000000   0.000000   \n",
       " 5.333043    0.000000    0.000000   0.000000   0.000000   0.000000   \n",
       " 5.263268    0.000000    0.000000   0.000000   0.000000   0.000000   \n",
       "...               ...         ...        ...        ...        ...   \n",
       "-1.086285 -292.618320  330.147359  25.671504 -49.562410 -13.598973   \n",
       "-1.156060 -292.511837  330.496934  26.317012 -50.124459 -14.357879   \n",
       "-1.225835 -292.413043  330.823484  26.918970 -50.648775 -15.065567   \n",
       "-1.295611 -292.320279  331.127368  27.480414 -51.137572 -15.725645   \n",
       "-1.365386 -292.233620  331.410616  28.004031 -51.593383 -16.341255   \n",
       "\n",
       "                Walks      Years      CAtBat      CHits  CHmRun       CRuns  \\\n",
       " 5.542369    0.000000   0.000000    0.000000   0.000000     0.0    0.000000   \n",
       " 5.472594    0.000000   0.000000    0.000000   0.000000     0.0    0.000000   \n",
       " 5.402819    0.000000   0.000000    0.000000   0.000000     0.0    0.000000   \n",
       " 5.333043    0.000000   0.000000    0.000000   0.000000     0.0    6.545671   \n",
       " 5.263268    0.000000   0.000000    0.000000   0.000000     0.0   13.727251   \n",
       "...               ...        ...         ...        ...     ...         ...   \n",
       "-1.086285  130.583914 -24.123416 -286.579896  31.226178    -0.0  452.829429   \n",
       "-1.156060  130.849065 -23.603337 -294.116322  37.120221    -0.0  453.537777   \n",
       "-1.225835  131.096456 -23.118630 -301.141293  42.613785    -0.0  454.198913   \n",
       "-1.295611  131.327039 -22.666199 -307.697118  47.741074    -0.0  454.814838   \n",
       "-1.365386  131.542049 -22.244172 -313.812112  52.523743    -0.0  455.389090   \n",
       "\n",
       "                 CRBI      CWalks     League   Division    PutOuts    Assists  \\\n",
       " 5.542369    0.000000    0.000000  -0.000000  -0.000000   0.000000   0.000000   \n",
       " 5.472594   17.205159    0.000000  -0.000000  -0.000000   0.000000   0.000000   \n",
       " 5.402819   33.250748    0.000000  -0.000000  -0.000000   0.000000   0.000000   \n",
       " 5.333043   42.024827    0.000000  -0.000000  -0.000000   0.000000   0.000000   \n",
       " 5.263268   49.189007    0.000000  -0.000000  -0.000000   0.000000   0.000000   \n",
       "...               ...         ...        ...        ...        ...        ...   \n",
       "-1.086285  229.229316 -209.493673  28.373513 -58.125944  79.096546  49.338699   \n",
       "-1.156060  229.848245 -209.616048  28.584855 -58.145706  79.080585  49.655372   \n",
       "-1.225835  230.425310 -209.730604  28.781925 -58.164143  79.065724  49.950637   \n",
       "-1.295611  230.963666 -209.836915  28.965748 -58.181330  79.051835  50.226081   \n",
       "-1.365386  231.465779 -209.935936  29.137191 -58.197357  79.038876  50.482980   \n",
       "\n",
       "              Errors  NewLeague  \n",
       " 5.542369  -0.000000  -0.000000  \n",
       " 5.472594  -0.000000  -0.000000  \n",
       " 5.402819   0.000000  -0.000000  \n",
       " 5.333043   0.000000   0.000000  \n",
       " 5.263268   0.000000   0.000000  \n",
       "...              ...        ...  \n",
       "-1.086285 -20.820927  -9.515995  \n",
       "-1.156060 -20.923792  -9.725398  \n",
       "-1.225835 -21.019700  -9.920665  \n",
       "-1.295611 -21.109174 -10.102799  \n",
       "-1.365386 -21.192625 -10.272666  \n",
       "\n",
       "[100 rows x 19 columns]"
      ]
     },
     "execution_count": 78,
     "metadata": {},
     "output_type": "execute_result"
    }
   ],
   "source": [
    "soln_path"
   ]
  },
  {
   "cell_type": "code",
   "execution_count": 83,
   "metadata": {},
   "outputs": [
    {
     "data": {
      "text/plain": [
       "Text(0, 0.5, 'Standardized coefficiients')"
      ]
     },
     "execution_count": 83,
     "metadata": {},
     "output_type": "execute_result"
    },
    {
     "data": {
      "image/png": "[encoded data removed]",
      "text/plain": [
       "<Figure size 1200x1200 with 1 Axes>"
      ]
     },
     "metadata": {},
     "output_type": "display_data"
    }
   ],
   "source": [
    "path_fig , ax = subplots(figsize=(12,12))\n",
    "soln_path.plot(ax=ax, legend=False)\n",
    "ax.legend(loc='upper right')\n",
    "ax.set_xlabel('$\\log$(alpha)', fontsize=15)\n",
    "ax.set_ylabel('Standardized coefficiients', fontsize=15)"
   ]
  },
  {
   "cell_type": "code",
   "execution_count": 84,
   "metadata": {},
   "outputs": [
    {
     "data": {
      "text/plain": [
       "array([255.28209651, 238.0769376 , 222.03134882, 207.06717903,\n",
       "       193.11154419, 180.09647243, 167.95857295, 156.63872727,\n",
       "       146.08180131, 136.23637682, 127.05450099, 118.49145286,\n",
       "       110.50552551, 103.05782294,  96.1120706 ,  89.63443871,\n",
       "        83.59337754,  77.95946367,  72.70525674,  67.80516577,\n",
       "        63.23532454,  58.9734753 ,  54.99886045,  51.29212133,\n",
       "        47.83520402,  44.61127137,  41.60462098,  38.80060878,\n",
       "        36.18557761,  33.74679078,  31.47237003,  29.35123763,\n",
       "        27.37306245,  25.52820965,  23.80769376,  22.20313488,\n",
       "        20.7067179 ,  19.31115442,  18.00964724,  16.7958573 ,\n",
       "        15.66387273,  14.60818013,  13.62363768,  12.7054501 ,\n",
       "        11.84914529,  11.05055255,  10.30578229,   9.61120706,\n",
       "         8.96344387,   8.35933775,   7.79594637,   7.27052567,\n",
       "         6.78051658,   6.32353245,   5.89734753,   5.49988604,\n",
       "         5.12921213,   4.7835204 ,   4.46112714,   4.1604621 ,\n",
       "         3.88006088,   3.61855776,   3.37467908,   3.147237  ,\n",
       "         2.93512376,   2.73730624,   2.55282097,   2.38076938,\n",
       "         2.22031349,   2.07067179,   1.93111544,   1.80096472,\n",
       "         1.67958573,   1.56638727,   1.46081801,   1.36236377,\n",
       "         1.27054501,   1.18491453,   1.10505526,   1.03057823,\n",
       "         0.96112071,   0.89634439,   0.83593378,   0.77959464,\n",
       "         0.72705257,   0.67805166,   0.63235325,   0.58973475,\n",
       "         0.5499886 ,   0.51292121,   0.47835204,   0.44611271,\n",
       "         0.41604621,   0.38800609,   0.36185578,   0.33746791,\n",
       "         0.3147237 ,   0.29351238,   0.27373062,   0.2552821 ])"
      ]
     },
     "execution_count": 84,
     "metadata": {},
     "output_type": "execute_result"
    }
   ],
   "source": [
    "alphas"
   ]
  },
  {
   "cell_type": "code",
   "execution_count": null,
   "metadata": {},
   "outputs": [],
   "source": []
  }
 ],
 "metadata": {
  "kernelspec": {
   "display_name": "base",
   "language": "python",
   "name": "python3"
  },
  "language_info": {
   "codemirror_mode": {
    "name": "ipython",
    "version": 3
   },
   "file_extension": ".py",
   "mimetype": "text/x-python",
   "name": "python",
   "nbconvert_exporter": "python",
   "pygments_lexer": "ipython3",
   "version": "3.11.5"
  }
 },
 "nbformat": 4,
 "nbformat_minor": 2
}
