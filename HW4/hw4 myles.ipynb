{
 "cells": [
  {
   "cell_type": "markdown",
   "metadata": {},
   "source": [
    "\n",
    "### Step 1: Import Libraries and Load Data"
   ]
  },
  {
   "cell_type": "code",
   "execution_count": 2,
   "metadata": {},
   "outputs": [],
   "source": [
    "import pandas as pd\n",
    "import numpy as np\n",
    "from sklearn.model_selection import train_test_split\n",
    "from sklearn.naive_bayes import CategoricalNB\n",
    "from sklearn.metrics import confusion_matrix\n",
    "from sklearn.preprocessing import LabelEncoder\n",
    "\n",
    "# Load the data\n",
    "df = pd.read_csv('accidentsFull.csv') \n",
    "\n",
    "# Create the INJURY column\n",
    "df['INJURY'] = df['MAX_SEV_IR'].apply(lambda x: 'Yes' if x in [1, 2] else 'No')"
   ]
  },
  {
   "cell_type": "markdown",
   "metadata": {},
   "source": [
    "\n",
    "### Step 2: Initial Prediction with No Further Information"
   ]
  },
  {
   "cell_type": "code",
   "execution_count": 3,
   "metadata": {},
   "outputs": [
    {
     "name": "stdout",
     "output_type": "stream",
     "text": [
      "The prediction should be Yes because it is the most frequent class.\n"
     ]
    }
   ],
   "source": [
    "most_common_class = df['INJURY'].value_counts().idxmax()\n",
    "print(f\"The prediction should be {most_common_class} because it is the most frequent class.\")"
   ]
  },
  {
   "cell_type": "markdown",
   "metadata": {},
   "source": [
    "\n",
    "### Step 3: Analysis with First 12 Records"
   ]
  },
  {
   "cell_type": "code",
   "execution_count": 4,
   "metadata": {},
   "outputs": [
    {
     "name": "stdout",
     "output_type": "stream",
     "text": [
      "WEATHER_R         1         2\n",
      "INJURY                       \n",
      "No         0.333333  0.666667\n",
      "Yes        0.666667  0.333333\n",
      "TRAF_CON_R         0         1         2\n",
      "INJURY                                  \n",
      "No          0.666667  0.222222  0.111111\n",
      "Yes         1.000000  0.000000  0.000000\n"
     ]
    }
   ],
   "source": [
    "for predictor in ['WEATHER_R', 'TRAF_CON_R']:\n",
    "    df_head = df.head(12)\n",
    "    pivot_table = df_head.pivot_table(index='INJURY', columns=predictor, aggfunc='size', fill_value=0)\n",
    "    propTable = pivot_table.apply(lambda x: x / sum(x), axis=1)\n",
    "    print(propTable)\n"
   ]
  },
  {
   "cell_type": "code",
   "execution_count": 5,
   "metadata": {},
   "outputs": [
    {
     "name": "stdout",
     "output_type": "stream",
     "text": [
      "Predictions: [0 0 0 0 0 0 0 0 0 0 0 0]\n",
      "Probabilities: [[0.61403509 0.38596491]\n",
      " [0.80680571 0.19319429]\n",
      " [0.87743733 0.12256267]\n",
      " [0.73170732 0.26829268]\n",
      " [0.61403509 0.38596491]\n",
      " [0.80680571 0.19319429]\n",
      " [0.80680571 0.19319429]\n",
      " [0.61403509 0.38596491]\n",
      " [0.80680571 0.19319429]\n",
      " [0.80680571 0.19319429]\n",
      " [0.80680571 0.19319429]\n",
      " [0.64516129 0.35483871]]\n"
     ]
    }
   ],
   "source": [
    "# Encoding categorical variables for the first 12 records\n",
    "le = LabelEncoder()\n",
    "X = df[['WEATHER_R', 'TRAF_CON_R']].head(12).apply(le.fit_transform)\n",
    "y = df['INJURY'].head(12).apply(lambda x: 1 if x == 'Yes' else 0)\n",
    "\n",
    "# Naive Bayes classifier\n",
    "model = CategoricalNB()\n",
    "model.fit(X, y)\n",
    "predictions = model.predict(X)\n",
    "probabilities = model.predict_proba(X)\n",
    "\n",
    "print(\"Predictions:\", predictions)\n",
    "print(\"Probabilities:\", probabilities)"
   ]
  },
  {
   "cell_type": "markdown",
   "metadata": {},
   "source": [
    "\n",
    "### Step 4: Entire Dataset Analysis"
   ]
  },
  {
   "cell_type": "code",
   "execution_count": 6,
   "metadata": {},
   "outputs": [
    {
     "name": "stdout",
     "output_type": "stream",
     "text": [
      "[[1290 6983]\n",
      " [1107 7494]]\n"
     ]
    }
   ],
   "source": [
    "from sklearn.compose import ColumnTransformer\n",
    "from sklearn.pipeline import make_pipeline\n",
    "from sklearn.preprocessing import OneHotEncoder\n",
    "\n",
    "# Assuming 'categorical_columns' is a list of your categorical column names\n",
    "categorical_columns = ['WEATHER_R', 'TRAF_CON_R']  # Add all your categorical columns here\n",
    "\n",
    "# Create the ColumnTransformer with OneHotEncoder for categorical variables\n",
    "preprocessor = ColumnTransformer(\n",
    "    transformers=[\n",
    "        ('cat', OneHotEncoder(handle_unknown='ignore'), categorical_columns)\n",
    "    ])\n",
    "\n",
    "# Create a pipeline that encodes then fits the model\n",
    "pipeline = make_pipeline(preprocessor, CategoricalNB())\n",
    "\n",
    "# Split your dataset first (ensure 'df' does not include the target variable 'INJURY')\n",
    "X_train, X_test, y_train, y_test = train_test_split(df.drop(['INJURY', 'MAX_SEV_IR'], axis=1), df['INJURY'].apply(lambda x: 1 if x == 'Yes' else 0), test_size=0.4, random_state=42)\n",
    "\n",
    "# Fit the pipeline\n",
    "pipeline.fit(X_train, y_train)\n",
    "\n",
    "# Predict using the pipeline to ensure consistent preprocessing\n",
    "y_pred = pipeline.predict(X_test)\n",
    "\n",
    "# Confusion matrix\n",
    "print(confusion_matrix(y_test, y_pred))"
   ]
  },
  {
   "cell_type": "code",
   "execution_count": 7,
   "metadata": {},
   "outputs": [
    {
     "name": "stdout",
     "output_type": "stream",
     "text": [
      "Overall error rate: 0.48\n"
     ]
    }
   ],
   "source": [
    "# Calculate the overall error rate from the confusion matrix\n",
    "conf_matrix = confusion_matrix(y_test, y_pred)\n",
    "total_predictions = conf_matrix.sum()\n",
    "correct_predictions = np.trace(conf_matrix)\n",
    "error_rate = 1 - (correct_predictions / total_predictions)\n",
    "print(f\"Overall error rate: {error_rate:.2f}\")"
   ]
  },
  {
   "cell_type": "code",
   "execution_count": 8,
   "metadata": {},
   "outputs": [
    {
     "name": "stdout",
     "output_type": "stream",
     "text": [
      "Percentage improvement over the naive rule: 5.77%\n"
     ]
    }
   ],
   "source": [
    "# Assuming 'most_common_class_error_rate' is the error rate of always predicting the most common class\n",
    "most_common_class_error_rate = max(df['INJURY'].value_counts(normalize=True))  # This needs to be calculated based on your dataset\n",
    "\n",
    "percentage_improvement = ((most_common_class_error_rate - error_rate) / most_common_class_error_rate) * 100\n",
    "print(f\"Percentage improvement over the naive rule: {percentage_improvement:.2f}%\")"
   ]
  },
  {
   "cell_type": "markdown",
   "metadata": {},
   "source": [
    "### Zero Probability in Conditional Probabilities\n",
    "\n",
    "**Issue:** `P(INJURY = No | SPD_LIM = 5)` is zero because no data shows accidents at 5 mph without injuries.\n",
    "\n",
    "**Solution:** Use **Laplace Smoothing** to adjust counts, preventing zero probabilities and allowing for predictions on rare conditions."
   ]
  }
 ],
 "metadata": {
  "kernelspec": {
   "display_name": "Python 3",
   "language": "python",
   "name": "python3"
  },
  "language_info": {
   "codemirror_mode": {
    "name": "ipython",
    "version": 3
   },
   "file_extension": ".py",
   "mimetype": "text/x-python",
   "name": "python",
   "nbconvert_exporter": "python",
   "pygments_lexer": "ipython3",
   "version": "3.11.5"
  }
 },
 "nbformat": 4,
 "nbformat_minor": 2
}
