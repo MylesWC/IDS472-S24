{
 "cells": [
  {
   "cell_type": "markdown",
   "metadata": {},
   "source": [
    "# Homework #3 by Tasneem Abbasi, Myles Cook, and Keegan Smith"
   ]
  },
  {
   "cell_type": "markdown",
   "metadata": {},
   "source": [
    "## Part a"
   ]
  },
  {
   "cell_type": "code",
   "execution_count": null,
   "metadata": {},
   "outputs": [],
   "source": [
    "import pandas as pd\n",
    "from sklearn.model_selection import train_test_split\n",
    "from sklearn.linear_model import LogisticRegression\n",
    "from sklearn.metrics import accuracy_score\n",
    "from sklearn.preprocessing import StandardScaler"
   ]
  },
  {
   "cell_type": "code",
   "execution_count": 103,
   "metadata": {},
   "outputs": [
    {
     "data": {
      "text/html": [
       "<div>\n",
       "<style scoped>\n",
       "    .dataframe tbody tr th:only-of-type {\n",
       "        vertical-align: middle;\n",
       "    }\n",
       "\n",
       "    .dataframe tbody tr th {\n",
       "        vertical-align: top;\n",
       "    }\n",
       "\n",
       "    .dataframe thead th {\n",
       "        text-align: right;\n",
       "    }\n",
       "</style>\n",
       "<table border=\"1\" class=\"dataframe\">\n",
       "  <thead>\n",
       "    <tr style=\"text-align: right;\">\n",
       "      <th></th>\n",
       "      <th>Category</th>\n",
       "      <th>currency</th>\n",
       "      <th>sellerRating</th>\n",
       "      <th>Duration</th>\n",
       "      <th>endDay</th>\n",
       "      <th>ClosePrice</th>\n",
       "      <th>OpenPrice</th>\n",
       "      <th>Competitive?</th>\n",
       "    </tr>\n",
       "  </thead>\n",
       "  <tbody>\n",
       "    <tr>\n",
       "      <th>0</th>\n",
       "      <td>Music/Movie/Game</td>\n",
       "      <td>US</td>\n",
       "      <td>3249</td>\n",
       "      <td>5</td>\n",
       "      <td>Mon</td>\n",
       "      <td>0.01</td>\n",
       "      <td>0.01</td>\n",
       "      <td>0</td>\n",
       "    </tr>\n",
       "    <tr>\n",
       "      <th>1</th>\n",
       "      <td>Music/Movie/Game</td>\n",
       "      <td>US</td>\n",
       "      <td>3249</td>\n",
       "      <td>5</td>\n",
       "      <td>Mon</td>\n",
       "      <td>0.01</td>\n",
       "      <td>0.01</td>\n",
       "      <td>0</td>\n",
       "    </tr>\n",
       "    <tr>\n",
       "      <th>2</th>\n",
       "      <td>Music/Movie/Game</td>\n",
       "      <td>US</td>\n",
       "      <td>3249</td>\n",
       "      <td>5</td>\n",
       "      <td>Mon</td>\n",
       "      <td>0.01</td>\n",
       "      <td>0.01</td>\n",
       "      <td>0</td>\n",
       "    </tr>\n",
       "    <tr>\n",
       "      <th>3</th>\n",
       "      <td>Music/Movie/Game</td>\n",
       "      <td>US</td>\n",
       "      <td>3249</td>\n",
       "      <td>5</td>\n",
       "      <td>Mon</td>\n",
       "      <td>0.01</td>\n",
       "      <td>0.01</td>\n",
       "      <td>0</td>\n",
       "    </tr>\n",
       "    <tr>\n",
       "      <th>4</th>\n",
       "      <td>Music/Movie/Game</td>\n",
       "      <td>US</td>\n",
       "      <td>3249</td>\n",
       "      <td>5</td>\n",
       "      <td>Mon</td>\n",
       "      <td>0.01</td>\n",
       "      <td>0.01</td>\n",
       "      <td>0</td>\n",
       "    </tr>\n",
       "  </tbody>\n",
       "</table>\n",
       "</div>"
      ],
      "text/plain": [
       "           Category currency  sellerRating  Duration endDay  ClosePrice  \\\n",
       "0  Music/Movie/Game       US          3249         5    Mon        0.01   \n",
       "1  Music/Movie/Game       US          3249         5    Mon        0.01   \n",
       "2  Music/Movie/Game       US          3249         5    Mon        0.01   \n",
       "3  Music/Movie/Game       US          3249         5    Mon        0.01   \n",
       "4  Music/Movie/Game       US          3249         5    Mon        0.01   \n",
       "\n",
       "   OpenPrice  Competitive?  \n",
       "0       0.01             0  \n",
       "1       0.01             0  \n",
       "2       0.01             0  \n",
       "3       0.01             0  \n",
       "4       0.01             0  "
      ]
     },
     "execution_count": 103,
     "metadata": {},
     "output_type": "execute_result"
    }
   ],
   "source": [
    "# Load the data\n",
    "auctions_df = pd.read_csv('eBayAuctions.csv')\n",
    "\n",
    "# Preliminary data cleaning\n",
    "auctions_df.dropna(inplace=True)  # Drop rows with missing values\n",
    "\n",
    "# Display the first few rows of the dataframe\n",
    "auctions_df.head()"
   ]
  },
  {
   "cell_type": "code",
   "execution_count": 105,
   "metadata": {},
   "outputs": [],
   "source": [
    "# Drop rows with missing values\n",
    "auctions_df.dropna(inplace=True)\n",
    "\n",
    "# Convert columns to 'category' data type\n",
    "auctions_df['Category'] = auctions_df['Category'].astype('category')\n",
    "auctions_df['currency'] = auctions_df['currency'].astype('category')\n",
    "auctions_df['endDay'] = auctions_df['endDay'].astype('category')\n",
    "auctions_df['Duration'] = auctions_df['Duration'].astype('category')\n",
    "\n",
    "# Define categorical predictors\n",
    "cat_predictors = ['Category', 'currency', 'Duration', 'endDay']\n",
    "\n",
    "# Define all predictors\n",
    "predictors = ['Category', 'currency','sellerRating', 'Duration', 'endDay', 'ClosePrice', 'OpenPrice']\n",
    "\n",
    "# Define outcome\n",
    "outcome = 'Competitive?'\n",
    "\n",
    "# Create dummy variables for categorical predictors\n",
    "X_cat = pd.get_dummies(auctions_df[cat_predictors], dtype=int)\n",
    "\n",
    "# Concatenate categorical and numerical predictors to form feature matrix\n",
    "X = pd.concat([X_cat, auctions_df[['sellerRating', 'ClosePrice', 'OpenPrice']]], axis=1)\n",
    "\n",
    "# Define target variable\n",
    "y = auctions_df['Competitive?']"
   ]
  },
  {
   "cell_type": "code",
   "execution_count": 106,
   "metadata": {},
   "outputs": [
    {
     "name": "stdout",
     "output_type": "stream",
     "text": [
      "Category:\n",
      "                      Competitive?\n",
      "Category                          \n",
      "Music/Movie/Game             0.228\n",
      "Collectibles                 0.129\n",
      "Toys/Hobbies                 0.116\n",
      "Antique/Art/Craft            0.094\n",
      "SportingGoods                0.084\n",
      "Home/Garden                  0.063\n",
      "Automotive                   0.059\n",
      "Clothing/Accessories         0.056\n",
      "Electronics                  0.041\n",
      "Jewelry                      0.028\n",
      "Books                        0.025\n",
      "Computer                     0.023\n",
      "Business/Industrial          0.011\n",
      "Coins/Stamps                 0.010\n",
      "Health/Beauty                0.010\n",
      "Photography                  0.010\n",
      "Pottery/Glass                0.007\n",
      "EverythingElse               0.004\n",
      "\n",
      "currency:\n",
      "          Competitive?\n",
      "currency              \n",
      "US               0.629\n",
      "EUR              0.276\n",
      "GBP              0.095\n",
      "\n",
      "endDay:\n",
      "        Competitive?\n",
      "endDay              \n",
      "Mon            0.346\n",
      "Sun            0.154\n",
      "Sat            0.141\n",
      "Fri            0.126\n",
      "Thu            0.114\n",
      "Tue            0.085\n",
      "Wed            0.034\n",
      "\n",
      "Duration:\n",
      "          Competitive?\n",
      "Duration              \n",
      "7                0.444\n",
      "5                0.300\n",
      "10               0.155\n",
      "3                0.090\n",
      "1                0.011\n",
      "\n"
     ]
    }
   ],
   "source": [
    "# Define the categorical variables\n",
    "categorical_vars = ['Category', 'currency', 'endDay', 'Duration']\n",
    "\n",
    "# Loop over each categorical variable\n",
    "for var in categorical_vars:\n",
    "    # Create a pivot table for each variable, calculating the sum of 'Competitive?' for each category\n",
    "    pivot = auctions_df.pivot_table(index=var, values='Competitive?', aggfunc='sum')\n",
    "    \n",
    "    # Normalize the pivot table by dividing each value by the total sum\n",
    "    pivot = pivot / pivot.sum()\n",
    "    \n",
    "    # Sort the pivot table in descending order based on 'Competitive?'\n",
    "    pivot = pivot.sort_values(by='Competitive?', ascending=False)\n",
    "    \n",
    "    # Print the pivot table for each variable\n",
    "    print(f'{var}:\\n{pivot}\\n')"
   ]
  },
  {
   "cell_type": "markdown",
   "metadata": {},
   "source": [
    "# Part b"
   ]
  },
  {
   "cell_type": "code",
   "execution_count": 113,
   "metadata": {},
   "outputs": [
    {
     "name": "stdout",
     "output_type": "stream",
     "text": [
      "Accuracy with all predictors: 0.7401774397972116\n"
     ]
    }
   ],
   "source": [
    "# Define predictors and outcome\n",
    "X = df_dummies.drop('Competitive?', axis=1)\n",
    "y = df_dummies['Competitive?']\n",
    "\n",
    "# Scale the data\n",
    "scaler = StandardScaler()\n",
    "X_scaled = scaler.fit_transform(X)\n",
    "\n",
    "# Split the data\n",
    "X_train, X_valid, y_train, y_valid = train_test_split(X_scaled, y, test_size=0.40, random_state=42)\n",
    "\n",
    "# Run logistic regression\n",
    "model = LogisticRegression(max_iter=10000)\n",
    "model.fit(X_train, y_train)\n",
    "\n",
    "# Predict and calculate accuracy\n",
    "y_pred = model.predict(X_valid)\n",
    "accuracy = accuracy_score(y_valid, y_pred)\n",
    "print(f'Accuracy with all predictors: {accuracy}')"
   ]
  },
  {
   "cell_type": "markdown",
   "metadata": {},
   "source": [
    "# Part c"
   ]
  },
  {
   "cell_type": "code",
   "execution_count": 109,
   "metadata": {},
   "outputs": [
    {
     "name": "stdout",
     "output_type": "stream",
     "text": [
      "Accuracy excluding price: 0.6387832699619772\n"
     ]
    }
   ],
   "source": [
    "X_excl_price = df_dummies.drop(['Competitive?', 'ClosePrice'], axis=1)\n",
    "X_train_excl_price, X_valid_excl_price, y_train, y_valid = train_test_split(X_excl_price, y, test_size=0.40, random_state=42)\n",
    "\n",
    "# Scale the data excluding price\n",
    "X_scaled_excl_price = scaler.fit_transform(X_train_excl_price)\n",
    "\n",
    "# Run logistic regression\n",
    "model_excl_price = LogisticRegression(max_iter=10000)\n",
    "model_excl_price.fit(X_scaled_excl_price, y_train)\n",
    "\n",
    "# Predict and calculate accuracy on the validation set\n",
    "X_valid_scaled_excl_price = scaler.transform(X_valid_excl_price)\n",
    "y_pred_excl_price = model_excl_price.predict(X_valid_scaled_excl_price)\n",
    "accuracy_excl_price = accuracy_score(y_valid, y_pred_excl_price)\n",
    "print(f'Accuracy excluding price: {accuracy_excl_price}')"
   ]
  },
  {
   "cell_type": "markdown",
   "metadata": {},
   "source": [
    "# Part d"
   ]
  },
  {
   "cell_type": "code",
   "execution_count": 116,
   "metadata": {},
   "outputs": [
    {
     "name": "stdout",
     "output_type": "stream",
     "text": [
      "Optimization terminated successfully.\n",
      "         Current function value: 0.502747\n",
      "         Iterations 11\n",
      "                           Logit Regression Results                           \n",
      "==============================================================================\n",
      "Dep. Variable:           Competitive?   No. Observations:                 1183\n",
      "Model:                          Logit   Df Residuals:                     1150\n",
      "Method:                           MLE   Df Model:                           32\n",
      "Date:                Wed, 28 Feb 2024   Pseudo R-squ.:                  0.2717\n",
      "Time:                        05:01:12   Log-Likelihood:                -594.75\n",
      "converged:                       True   LL-Null:                       -816.64\n",
      "Covariance Type:            nonrobust   LLR p-value:                 5.486e-74\n",
      "==============================================================================\n",
      "                 coef    std err          z      P>|z|      [0.025      0.975]\n",
      "------------------------------------------------------------------------------\n",
      "const          1.4930      0.322      4.640      0.000       0.862       2.124\n",
      "x1            -0.2479      0.101     -2.466      0.014      -0.445      -0.051\n",
      "x2             8.2830      0.887      9.334      0.000       6.544      10.022\n",
      "x3            -4.6498      0.469     -9.911      0.000      -5.569      -3.730\n",
      "x4            -0.2137      0.112     -1.902      0.057      -0.434       0.006\n",
      "x5            -0.0496      0.076     -0.651      0.515      -0.199       0.100\n",
      "x6             0.0163      0.066      0.245      0.807      -0.114       0.146\n",
      "x7            -0.3259      0.107     -3.034      0.002      -0.536      -0.115\n",
      "x8            -0.1718      0.087     -1.981      0.048      -0.342      -0.002\n",
      "x9            -0.0524      0.100     -0.522      0.602      -0.249       0.144\n",
      "x10           -0.0534      0.076     -0.701      0.483      -0.203       0.096\n",
      "x11            0.1048      0.109      0.962      0.336      -0.109       0.318\n",
      "x12           -0.8441      2.731     -0.309      0.757      -6.197       4.508\n",
      "x13           -0.2827      0.081     -3.503      0.000      -0.441      -0.125\n",
      "x14           -0.0243      0.089     -0.273      0.785      -0.199       0.150\n",
      "x15           -0.0777      0.088     -0.885      0.376      -0.250       0.094\n",
      "x16           -0.0402      0.113     -0.356      0.722      -0.262       0.181\n",
      "x17            0.0296      0.082      0.361      0.718      -0.131       0.190\n",
      "x18           -0.0248      0.085     -0.291      0.771      -0.192       0.142\n",
      "x19           -0.0269      0.106     -0.255      0.799      -0.234       0.180\n",
      "x20            0.0132      0.100      0.131      0.896      -0.184       0.210\n",
      "x21            0.4363      0.145      3.003      0.003       0.151       0.721\n",
      "x22            0.2357      0.123      1.920      0.055      -0.005       0.476\n",
      "x23            0.1404      0.117      1.204      0.229      -0.088       0.369\n",
      "x24           -0.1189      0.103     -1.154      0.248      -0.321       0.083\n",
      "x25           -0.1199      0.099     -1.211      0.226      -0.314       0.074\n",
      "x26           -0.1218      0.156     -0.781      0.435      -0.428       0.184\n",
      "x27           -0.0284      0.091     -0.312      0.755      -0.207       0.150\n",
      "x28           -0.0411      0.083     -0.494      0.621      -0.204       0.122\n",
      "x29            0.0484      0.250      0.193      0.847      -0.442       0.539\n",
      "x30            0.1964      0.342      0.575      0.565      -0.473       0.866\n",
      "x31            0.0338      0.394      0.086      0.932      -0.738       0.806\n",
      "x32            0.0328      0.297      0.110      0.912      -0.550       0.616\n",
      "==============================================================================\n"
     ]
    }
   ],
   "source": [
    "import statsmodels.api as sm\n",
    "model_eval = sm.Logit(y_train, sm.add_constant(X_train))\n",
    "model_eval = model_eval.fit()\n",
    "print(model_eval.summary())"
   ]
  },
  {
   "cell_type": "markdown",
   "metadata": {},
   "source": [
    "The log probability of a competetive auction is increased by 0.0894 for each 1 unit (dollar) of closing price and it is statistically significant (p < 0.1)"
   ]
  },
  {
   "cell_type": "markdown",
   "metadata": {},
   "source": [
    "# Part e"
   ]
  },
  {
   "cell_type": "code",
   "execution_count": null,
   "metadata": {},
   "outputs": [
    {
     "name": "stdout",
     "output_type": "stream",
     "text": [
      "Accuracy with L1 regularization: 0.7515842839036755\n"
     ]
    }
   ],
   "source": [
    "model_regularized = LogisticRegression(penalty='l1', solver='liblinear', max_iter=10000)\n",
    "model_regularized.fit(X_scaled, y_train)\n",
    "\n",
    "# Predict and calculate accuracy on the validation set\n",
    "y_pred_regularized = model_regularized.predict(X_valid_scaled)\n",
    "accuracy_regularized = accuracy_score(y_valid, y_pred_regularized)\n",
    "print(f'Accuracy with L1 regularization: {accuracy_regularized}')"
   ]
  },
  {
   "cell_type": "markdown",
   "metadata": {},
   "source": [
    "# Part f\n",
    "\n",
    "We would recommend an auction with a duration of 5 days ending on either Friday or Monday given that those have the highest possitive coefficients, and that the auction use British Pounds (GBP) and is in the category \"photography\" although the reliance of these data is undetermined in our model. "
   ]
  }
 ],
 "metadata": {
  "kernelspec": {
   "display_name": "Python 3",
   "language": "python",
   "name": "python3"
  },
  "language_info": {
   "codemirror_mode": {
    "name": "ipython",
    "version": 3
   },
   "file_extension": ".py",
   "mimetype": "text/x-python",
   "name": "python",
   "nbconvert_exporter": "python",
   "pygments_lexer": "ipython3",
   "version": "3.10.13"
  }
 },
 "nbformat": 4,
 "nbformat_minor": 2
}
