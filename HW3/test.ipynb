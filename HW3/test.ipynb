{
 "cells": [
  {
   "cell_type": "code",
   "execution_count": 1,
   "metadata": {},
   "outputs": [],
   "source": [
    "import pandas as pd\n",
    "import matplotlib.pylab as plt\n",
    "from sklearn.model_selection import train_test_split\n",
    "from sklearn.naive_bayes import MultinomialNB\n",
    "from sklearn.metrics import accuracy_score, confusion_matrix\n",
    "from sklearn.linear_model import LogisticRegression\n",
    "import statsmodels.api as sm"
   ]
  },
  {
   "cell_type": "code",
   "execution_count": 2,
   "metadata": {},
   "outputs": [],
   "source": [
    "# Load the data\n",
    "auctions_df = pd.read_csv('eBayAuctions.csv')\n",
    "\n",
    "# Drop missing values\n",
    "auctions_df.dropna(inplace=True)\n",
    "\n",
    "# Convert categorical variables to dummy variables\n",
    "cat_predictors = ['Category', 'currency', 'Duration', 'endDay']\n",
    "X_cat = pd.get_dummies(auctions_df[cat_predictors], dtype=int)\n",
    "\n",
    "# Combine categorical and continuous predictors\n",
    "X = pd.concat([X_cat, auctions_df[['sellerRating', 'ClosePrice', 'OpenPrice']]], axis=1)\n",
    "y = auctions_df['Competitive?']\n",
    "\n",
    "# Split the data\n",
    "X_train, X_valid, y_train, y_valid = train_test_split(X, y, test_size=0.40, random_state=1)"
   ]
  },
  {
   "cell_type": "code",
   "execution_count": 3,
   "metadata": {},
   "outputs": [
    {
     "name": "stdout",
     "output_type": "stream",
     "text": [
      "Accuracy of logistic model with all predictors/features: 0.761723700887199\n",
      "Accuracy of regularized logistic model: 0.7566539923954373\n"
     ]
    }
   ],
   "source": [
    "# Logistic regression with all predictors\n",
    "model = LogisticRegression(max_iter=100000)\n",
    "model.fit(X_train, y_train)\n",
    "y_pred = model.predict(X_valid)\n",
    "accuracy = accuracy_score(y_valid, y_pred)\n",
    "print(\"Accuracy of logistic model with all predictors/features:\", accuracy)\n",
    "\n",
    "# Regularized logistic regression\n",
    "model_regularized = LogisticRegression(penalty='l1', solver='liblinear')\n",
    "model_regularized.fit(X_train, y_train)\n",
    "y_pred_regularized = model_regularized.predict(X_valid)\n",
    "accuracy_regularized = accuracy_score(y_valid, y_pred_regularized)\n",
    "print(\"Accuracy of regularized logistic model:\", accuracy_regularized)"
   ]
  },
  {
   "cell_type": "code",
   "execution_count": 4,
   "metadata": {},
   "outputs": [
    {
     "name": "stdout",
     "output_type": "stream",
     "text": [
      "Warning: Maximum number of iterations has been exceeded.\n",
      "         Current function value: 0.500518\n",
      "         Iterations: 35\n",
      "                           Logit Regression Results                           \n",
      "==============================================================================\n",
      "Dep. Variable:           Competitive?   No. Observations:                 1183\n",
      "Model:                          Logit   Df Residuals:                     1153\n",
      "Method:                           MLE   Df Model:                           29\n",
      "Date:                Wed, 28 Feb 2024   Pseudo R-squ.:                  0.2757\n",
      "Time:                        04:21:37   Log-Likelihood:                -592.11\n",
      "converged:                      False   LL-Null:                       -817.49\n",
      "Covariance Type:            nonrobust   LLR p-value:                 3.544e-77\n",
      "=================================================================================================\n",
      "                                    coef    std err          z      P>|z|      [0.025      0.975]\n",
      "-------------------------------------------------------------------------------------------------\n",
      "const                             0.5292        nan        nan        nan         nan         nan\n",
      "Duration                          0.0134      0.047      0.285      0.775      -0.078       0.105\n",
      "Category_Antique/Art/Craft       -0.7973   4.55e+06  -1.75e-07      1.000   -8.92e+06    8.92e+06\n",
      "Category_Automotive              -1.3357    4.5e+06  -2.97e-07      1.000   -8.82e+06    8.82e+06\n",
      "Category_Books                   -0.5192   4.49e+06  -1.16e-07      1.000   -8.79e+06    8.79e+06\n",
      "Category_Business/Industrial      0.5120   4.49e+06   1.14e-07      1.000   -8.79e+06    8.79e+06\n",
      "Category_Clothing/Accessories    -2.0505   4.52e+06  -4.54e-07      1.000   -8.86e+06    8.86e+06\n",
      "Category_Coins/Stamps            -2.7961    4.5e+06  -6.21e-07      1.000   -8.82e+06    8.82e+06\n",
      "Category_Collectibles            -0.7983   4.53e+06  -1.76e-07      1.000   -8.89e+06    8.89e+06\n",
      "Category_Computer                -0.9235    4.5e+06  -2.05e-07      1.000   -8.81e+06    8.81e+06\n",
      "Category_Electronics             -0.1856   4.45e+06  -4.17e-08      1.000   -8.72e+06    8.72e+06\n",
      "Category_EverythingElse          -2.5732    4.5e+06  -5.72e-07      1.000   -8.82e+06    8.82e+06\n",
      "Category_Health/Beauty           -2.7884   4.51e+06  -6.19e-07      1.000   -8.83e+06    8.83e+06\n",
      "Category_Home/Garden             -0.8181   4.48e+06  -1.82e-07      1.000   -8.79e+06    8.79e+06\n",
      "Category_Jewelry                 -1.2833   4.49e+06  -2.86e-07      1.000   -8.81e+06    8.81e+06\n",
      "Category_Music/Movie/Game        -0.6357   4.51e+06  -1.41e-07      1.000   -8.85e+06    8.85e+06\n",
      "Category_Photography             19.8096    4.5e+06   4.41e-06      1.000   -8.81e+06    8.81e+06\n",
      "Category_Pottery/Glass           -0.9615   4.52e+06  -2.13e-07      1.000   -8.86e+06    8.86e+06\n",
      "Category_SportingGoods           -0.8545   4.54e+06  -1.88e-07      1.000    -8.9e+06     8.9e+06\n",
      "Category_Toys/Hobbies            -0.4716    4.5e+06  -1.05e-07      1.000   -8.83e+06    8.83e+06\n",
      "currency_EUR                     -0.5834    4.8e+06  -1.21e-07      1.000   -9.41e+06    9.41e+06\n",
      "currency_GBP                      1.1300   4.89e+06   2.31e-07      1.000   -9.59e+06    9.59e+06\n",
      "currency_US                      -0.0174   4.89e+06  -3.56e-09      1.000   -9.59e+06    9.59e+06\n",
      "endDay_Fri                        0.3756   7.11e+06   5.29e-08      1.000   -1.39e+07    1.39e+07\n",
      "endDay_Mon                        0.7999   7.11e+06   1.13e-07      1.000   -1.39e+07    1.39e+07\n",
      "endDay_Sat                       -0.2668   7.11e+06  -3.75e-08      1.000   -1.39e+07    1.39e+07\n",
      "endDay_Sun                       -0.0755   7.11e+06  -1.06e-08      1.000   -1.39e+07    1.39e+07\n",
      "endDay_Thu                       -0.2096   7.11e+06  -2.95e-08      1.000   -1.39e+07    1.39e+07\n",
      "endDay_Tue                        0.1857   7.11e+06   2.61e-08      1.000   -1.39e+07    1.39e+07\n",
      "endDay_Wed                       -0.2801   7.11e+06  -3.94e-08      1.000   -1.39e+07    1.39e+07\n",
      "sellerRating                  -4.486e-05   1.64e-05     -2.727      0.006   -7.71e-05   -1.26e-05\n",
      "ClosePrice                        0.0899      0.009      9.509      0.000       0.071       0.108\n",
      "OpenPrice                        -0.1070      0.011     -9.534      0.000      -0.129      -0.085\n",
      "=================================================================================================\n"
     ]
    },
    {
     "name": "stderr",
     "output_type": "stream",
     "text": [
      "/home/codespace/.python/current/lib/python3.10/site-packages/statsmodels/base/model.py:607: ConvergenceWarning: Maximum Likelihood optimization failed to converge. Check mle_retvals\n",
      "  warnings.warn(\"Maximum Likelihood optimization failed to \"\n"
     ]
    }
   ],
   "source": [
    "model_eval = sm.Logit(y_train, sm.add_constant(X_train))\n",
    "result = model_eval.fit()\n",
    "print(result.summary())"
   ]
  }
 ],
 "metadata": {
  "kernelspec": {
   "display_name": "Python 3",
   "language": "python",
   "name": "python3"
  },
  "language_info": {
   "codemirror_mode": {
    "name": "ipython",
    "version": 3
   },
   "file_extension": ".py",
   "mimetype": "text/x-python",
   "name": "python",
   "nbconvert_exporter": "python",
   "pygments_lexer": "ipython3",
   "version": "3.10.13"
  }
 },
 "nbformat": 4,
 "nbformat_minor": 2
}
