{
 "cells": [
  {
   "cell_type": "markdown",
   "id": "84b56322",
   "metadata": {},
   "source": [
    "# Homework #3 by Tasneem Abbasi, Myles Cook, and Keegan Smith"
   ]
  },
  {
   "cell_type": "code",
   "execution_count": 1,
   "id": "7be91f3d",
   "metadata": {},
   "outputs": [],
   "source": [
    "import pandas as pd\n",
    "import matplotlib.pylab as plt\n",
    "from sklearn.model_selection import train_test_split\n",
    "from sklearn.naive_bayes import MultinomialNB\n",
    "from sklearn.metrics import accuracy_score, confusion_matrix"
   ]
  },
  {
   "cell_type": "code",
   "execution_count": 2,
   "id": "13bdce5d",
   "metadata": {},
   "outputs": [
    {
     "data": {
      "text/html": [
       "<div>\n",
       "<style scoped>\n",
       "    .dataframe tbody tr th:only-of-type {\n",
       "        vertical-align: middle;\n",
       "    }\n",
       "\n",
       "    .dataframe tbody tr th {\n",
       "        vertical-align: top;\n",
       "    }\n",
       "\n",
       "    .dataframe thead th {\n",
       "        text-align: right;\n",
       "    }\n",
       "</style>\n",
       "<table border=\"1\" class=\"dataframe\">\n",
       "  <thead>\n",
       "    <tr style=\"text-align: right;\">\n",
       "      <th></th>\n",
       "      <th>Category</th>\n",
       "      <th>currency</th>\n",
       "      <th>sellerRating</th>\n",
       "      <th>Duration</th>\n",
       "      <th>endDay</th>\n",
       "      <th>ClosePrice</th>\n",
       "      <th>OpenPrice</th>\n",
       "      <th>Competitive?</th>\n",
       "    </tr>\n",
       "  </thead>\n",
       "  <tbody>\n",
       "    <tr>\n",
       "      <th>0</th>\n",
       "      <td>Music/Movie/Game</td>\n",
       "      <td>US</td>\n",
       "      <td>3249</td>\n",
       "      <td>5</td>\n",
       "      <td>Mon</td>\n",
       "      <td>0.01</td>\n",
       "      <td>0.01</td>\n",
       "      <td>0</td>\n",
       "    </tr>\n",
       "    <tr>\n",
       "      <th>1</th>\n",
       "      <td>Music/Movie/Game</td>\n",
       "      <td>US</td>\n",
       "      <td>3249</td>\n",
       "      <td>5</td>\n",
       "      <td>Mon</td>\n",
       "      <td>0.01</td>\n",
       "      <td>0.01</td>\n",
       "      <td>0</td>\n",
       "    </tr>\n",
       "    <tr>\n",
       "      <th>2</th>\n",
       "      <td>Music/Movie/Game</td>\n",
       "      <td>US</td>\n",
       "      <td>3249</td>\n",
       "      <td>5</td>\n",
       "      <td>Mon</td>\n",
       "      <td>0.01</td>\n",
       "      <td>0.01</td>\n",
       "      <td>0</td>\n",
       "    </tr>\n",
       "    <tr>\n",
       "      <th>3</th>\n",
       "      <td>Music/Movie/Game</td>\n",
       "      <td>US</td>\n",
       "      <td>3249</td>\n",
       "      <td>5</td>\n",
       "      <td>Mon</td>\n",
       "      <td>0.01</td>\n",
       "      <td>0.01</td>\n",
       "      <td>0</td>\n",
       "    </tr>\n",
       "    <tr>\n",
       "      <th>4</th>\n",
       "      <td>Music/Movie/Game</td>\n",
       "      <td>US</td>\n",
       "      <td>3249</td>\n",
       "      <td>5</td>\n",
       "      <td>Mon</td>\n",
       "      <td>0.01</td>\n",
       "      <td>0.01</td>\n",
       "      <td>0</td>\n",
       "    </tr>\n",
       "  </tbody>\n",
       "</table>\n",
       "</div>"
      ],
      "text/plain": [
       "           Category currency  sellerRating  Duration endDay  ClosePrice  \\\n",
       "0  Music/Movie/Game       US          3249         5    Mon        0.01   \n",
       "1  Music/Movie/Game       US          3249         5    Mon        0.01   \n",
       "2  Music/Movie/Game       US          3249         5    Mon        0.01   \n",
       "3  Music/Movie/Game       US          3249         5    Mon        0.01   \n",
       "4  Music/Movie/Game       US          3249         5    Mon        0.01   \n",
       "\n",
       "   OpenPrice  Competitive?  \n",
       "0       0.01             0  \n",
       "1       0.01             0  \n",
       "2       0.01             0  \n",
       "3       0.01             0  \n",
       "4       0.01             0  "
      ]
     },
     "execution_count": 2,
     "metadata": {},
     "output_type": "execute_result"
    }
   ],
   "source": [
    "auctions_df = pd.read_csv('eBayAuctions.csv')\n",
    "auctions_df.head()"
   ]
  },
  {
   "cell_type": "code",
   "execution_count": 3,
   "id": "7d4c4288",
   "metadata": {},
   "outputs": [],
   "source": [
    "auctions_df.dropna(inplace=True)\n",
    "\n",
    "auctions_df['Category'] = auctions_df['Category'].astype('category')\n",
    "auctions_df['currency'] = auctions_df['currency'].astype('category')\n",
    "auctions_df['endDay'] = auctions_df['endDay'].astype('category')\n",
    "auctions_df['Duration'] = auctions_df['Duration'].astype('category')\n",
    "\n",
    "cat_predictors = ['Category', 'currency', 'Duration', 'endDay']\n",
    "numeric_predictors = ['sellerRating', 'ClosePrice', 'OpenPrice']\n",
    "outcome = 'Competitive?'\n",
    "\n",
    "X_cat = pd.get_dummies(auctions_df[cat_predictors], drop_first=True, dtype=int)\n",
    "\n",
    "X = pd.concat([X_cat, auctions_df[numeric_predictors]], axis=1)\n",
    "y = auctions_df['Competitive?']"
   ]
  },
  {
   "cell_type": "markdown",
   "id": "91d1b998",
   "metadata": {},
   "source": [
    "# Problem #1a:"
   ]
  },
  {
   "cell_type": "code",
   "execution_count": 4,
   "id": "447c32b4",
   "metadata": {},
   "outputs": [
    {
     "name": "stdout",
     "output_type": "stream",
     "text": [
      "Category:\n",
      "                      Competitive?\n",
      "Category                          \n",
      "Music/Movie/Game          0.227955\n",
      "Collectibles              0.129456\n",
      "Toys/Hobbies              0.116323\n",
      "Antique/Art/Craft         0.093809\n",
      "SportingGoods             0.084428\n",
      "Home/Garden               0.062852\n",
      "Automotive                0.059099\n",
      "Clothing/Accessories      0.056285\n",
      "Electronics               0.041276\n",
      "Jewelry                   0.028143\n",
      "Books                     0.025328\n",
      "Computer                  0.022514\n",
      "Business/Industrial       0.011257\n",
      "Coins/Stamps              0.010319\n",
      "Health/Beauty             0.010319\n",
      "Photography               0.010319\n",
      "Pottery/Glass             0.006567\n",
      "EverythingElse            0.003752\n",
      "\n",
      "currency:\n",
      "          Competitive?\n",
      "currency              \n",
      "US            0.629456\n",
      "EUR           0.275797\n",
      "GBP           0.094747\n",
      "\n",
      "endDay:\n",
      "        Competitive?\n",
      "endDay              \n",
      "Mon         0.346154\n",
      "Sun         0.153846\n",
      "Sat         0.140713\n",
      "Fri         0.125704\n",
      "Thu         0.114447\n",
      "Tue         0.085366\n",
      "Wed         0.033771\n",
      "\n",
      "Duration:\n",
      "          Competitive?\n",
      "Duration              \n",
      "7             0.443715\n",
      "5             0.300188\n",
      "10            0.154784\n",
      "3             0.090056\n",
      "1             0.011257\n",
      "\n"
     ]
    }
   ],
   "source": [
    "# Define the categorical variables\n",
    "categorical_vars = ['Category', 'currency', 'endDay', 'Duration']\n",
    "\n",
    "# Loop over each categorical variable\n",
    "for var in categorical_vars:\n",
    "    # Create a pivot table for each variable, calculating the sum of 'Competitive?' for each category\n",
    "    pivot = auctions_df.pivot_table(index=var, values='Competitive?', aggfunc='sum')\n",
    "    \n",
    "    # Normalize the pivot table by dividing each value by the total sum\n",
    "    pivot = pivot / pivot.sum()\n",
    "    \n",
    "    # Sort the pivot table in descending order based on 'Competitive?'\n",
    "    pivot = pivot.sort_values(by='Competitive?', ascending=False)\n",
    "    \n",
    "    # Print the pivot table for each variable\n",
    "    print(f'{var}:\\n{pivot}\\n')"
   ]
  },
  {
   "cell_type": "markdown",
   "id": "83313301",
   "metadata": {},
   "source": [
    "# Problem #1b:"
   ]
  },
  {
   "cell_type": "code",
   "execution_count": 5,
   "id": "b5ac647f",
   "metadata": {},
   "outputs": [
    {
     "name": "stdout",
     "output_type": "stream",
     "text": [
      "Accuracy of logistic model with all predictors/features: 0.6692015209125475\n"
     ]
    }
   ],
   "source": [
    "from sklearn.linear_model import LogisticRegression\n",
    "from sklearn.metrics import accuracy_score\n",
    "from sklearn.preprocessing import MinMaxScaler\n",
    "\n",
    "X_train, X_valid, y_train, y_valid = train_test_split(X, y, test_size=0.40, random_state=1)\n",
    "\n",
    "scaler = MinMaxScaler()\n",
    "X_train_nd = scaler.fit_transform(X_train)\n",
    "X_train = pd.DataFrame(X_train_nd, columns=X.columns, index=X_train.index)\n",
    "\n",
    "scaler.fit(X_valid)\n",
    "X_valid_nd = scaler.transform(X_valid)\n",
    "X_valid = pd.DataFrame(X_valid_nd, columns=X.columns, index=X_valid.index)\n",
    "\n",
    "model = LogisticRegression(max_iter=100000)\n",
    "model.fit(X_train, y_train)\n",
    "\n",
    "# Predict on validation set\n",
    "y_pred = model.predict(X_valid)\n",
    "\n",
    "# Calculate accuracy\n",
    "accuracy = accuracy_score(y_valid, y_pred)\n",
    "print(\"Accuracy of logistic model with all predictors/features:\", accuracy)"
   ]
  },
  {
   "cell_type": "code",
   "execution_count": 6,
   "id": "617a60cd",
   "metadata": {},
   "outputs": [
    {
     "name": "stdout",
     "output_type": "stream",
     "text": [
      "<class 'pandas.core.frame.DataFrame'>\n"
     ]
    }
   ],
   "source": [
    "print(type(X_train))"
   ]
  },
  {
   "cell_type": "code",
   "execution_count": 7,
   "id": "05f5cc75",
   "metadata": {},
   "outputs": [
    {
     "name": "stdout",
     "output_type": "stream",
     "text": [
      "      Category_Automotive  Category_Books  Category_Business/Industrial  \\\n",
      "503                   0.0             0.0                           0.0   \n",
      "733                   0.0             0.0                           0.0   \n",
      "383                   0.0             0.0                           0.0   \n",
      "725                   0.0             0.0                           0.0   \n",
      "310                   0.0             0.0                           0.0   \n",
      "...                   ...             ...                           ...   \n",
      "1791                  1.0             0.0                           0.0   \n",
      "1096                  0.0             0.0                           0.0   \n",
      "1932                  0.0             0.0                           0.0   \n",
      "235                   0.0             0.0                           0.0   \n",
      "1061                  0.0             0.0                           0.0   \n",
      "\n",
      "      Category_Clothing/Accessories  Category_Coins/Stamps  \\\n",
      "503                             0.0                    0.0   \n",
      "733                             0.0                    0.0   \n",
      "383                             0.0                    0.0   \n",
      "725                             0.0                    0.0   \n",
      "310                             0.0                    0.0   \n",
      "...                             ...                    ...   \n",
      "1791                            0.0                    0.0   \n",
      "1096                            0.0                    0.0   \n",
      "1932                            0.0                    0.0   \n",
      "235                             0.0                    0.0   \n",
      "1061                            0.0                    0.0   \n",
      "\n",
      "      Category_Collectibles  Category_Computer  Category_Electronics  \\\n",
      "503                     1.0                0.0                   0.0   \n",
      "733                     0.0                0.0                   0.0   \n",
      "383                     1.0                0.0                   0.0   \n",
      "725                     0.0                0.0                   0.0   \n",
      "310                     0.0                0.0                   0.0   \n",
      "...                     ...                ...                   ...   \n",
      "1791                    0.0                0.0                   0.0   \n",
      "1096                    1.0                0.0                   0.0   \n",
      "1932                    0.0                0.0                   0.0   \n",
      "235                     1.0                0.0                   0.0   \n",
      "1061                    0.0                0.0                   0.0   \n",
      "\n",
      "      Category_EverythingElse  Category_Health/Beauty  ...  Duration_10  \\\n",
      "503                       0.0                     0.0  ...          1.0   \n",
      "733                       0.0                     0.0  ...          0.0   \n",
      "383                       0.0                     0.0  ...          1.0   \n",
      "725                       0.0                     0.0  ...          0.0   \n",
      "310                       0.0                     0.0  ...          0.0   \n",
      "...                       ...                     ...  ...          ...   \n",
      "1791                      0.0                     0.0  ...          0.0   \n",
      "1096                      0.0                     0.0  ...          0.0   \n",
      "1932                      0.0                     0.0  ...          0.0   \n",
      "235                       0.0                     0.0  ...          1.0   \n",
      "1061                      0.0                     0.0  ...          0.0   \n",
      "\n",
      "      endDay_Mon  endDay_Sat  endDay_Sun  endDay_Thu  endDay_Tue  endDay_Wed  \\\n",
      "503          1.0         0.0         0.0         0.0         0.0         0.0   \n",
      "733          0.0         0.0         0.0         0.0         0.0         0.0   \n",
      "383          1.0         0.0         0.0         0.0         0.0         0.0   \n",
      "725          0.0         0.0         0.0         0.0         0.0         0.0   \n",
      "310          1.0         0.0         0.0         0.0         0.0         0.0   \n",
      "...          ...         ...         ...         ...         ...         ...   \n",
      "1791         0.0         0.0         1.0         0.0         0.0         0.0   \n",
      "1096         0.0         0.0         0.0         0.0         0.0         0.0   \n",
      "1932         0.0         0.0         1.0         0.0         0.0         0.0   \n",
      "235          0.0         0.0         0.0         0.0         1.0         0.0   \n",
      "1061         0.0         0.0         0.0         0.0         0.0         0.0   \n",
      "\n",
      "      sellerRating  ClosePrice  OpenPrice  \n",
      "503       0.016802    0.004925   0.002442  \n",
      "733       0.068371    0.005606   0.003594  \n",
      "383       0.025712    0.002442   0.002442  \n",
      "725       0.068371    0.005496   0.003594  \n",
      "310       0.002999    0.003063   0.001221  \n",
      "...            ...         ...        ...  \n",
      "1791      0.070642    0.033974   0.033974  \n",
      "1096      0.059548    0.007498   0.007498  \n",
      "1932      0.015520    0.154376   0.080061  \n",
      "235       0.053928    0.001221   0.001221  \n",
      "1061      0.127803    0.006987   0.006987  \n",
      "\n",
      "[1183 rows x 32 columns]\n"
     ]
    }
   ],
   "source": [
    "print(X_train)"
   ]
  },
  {
   "cell_type": "markdown",
   "id": "9b7da7f0",
   "metadata": {},
   "source": [
    "# Problem #1c:"
   ]
  },
  {
   "cell_type": "code",
   "execution_count": 8,
   "id": "2d8c8d1f",
   "metadata": {},
   "outputs": [],
   "source": [
    "X_alt = X.drop(columns='ClosePrice')"
   ]
  },
  {
   "cell_type": "code",
   "execution_count": 9,
   "id": "52771ee6",
   "metadata": {},
   "outputs": [
    {
     "name": "stdout",
     "output_type": "stream",
     "text": [
      "Accuracy of logistic model excluding price: 0.6476552598225602\n"
     ]
    }
   ],
   "source": [
    "X_train_alt, X_valid_alt, y_train_alt, y_valid_alt = train_test_split(X_alt, y, test_size=0.4, random_state=42)\n",
    "\n",
    "X_train_alt = scaler.fit_transform(X_train_alt)\n",
    "X_valid_alt = scaler.transform(X_valid_alt)\n",
    "\n",
    "model_no_price = LogisticRegression()\n",
    "model_no_price.fit(X_train_alt, y_train_alt)\n",
    "\n",
    "y_pred_no_price = model_no_price.predict(X_valid_alt)\n",
    "\n",
    "accuracy_no_price = accuracy_score(y_valid_alt, y_pred_no_price)\n",
    "print(\"Accuracy of logistic model excluding price:\", accuracy_no_price)"
   ]
  },
  {
   "cell_type": "markdown",
   "id": "5498a9e8",
   "metadata": {},
   "source": [
    "Less accurate "
   ]
  },
  {
   "cell_type": "markdown",
   "id": "69c409e4",
   "metadata": {},
   "source": [
    "# Problem #1d:"
   ]
  },
  {
   "cell_type": "code",
   "execution_count": 10,
   "id": "95e0bf5a",
   "metadata": {
    "scrolled": true
   },
   "outputs": [
    {
     "name": "stdout",
     "output_type": "stream",
     "text": [
      "Warning: Maximum number of iterations has been exceeded.\n",
      "         Current function value: 0.499076\n",
      "         Iterations: 35\n",
      "                           Logit Regression Results                           \n",
      "==============================================================================\n",
      "Dep. Variable:           Competitive?   No. Observations:                 1183\n",
      "Model:                          Logit   Df Residuals:                     1150\n",
      "Method:                           MLE   Df Model:                           32\n",
      "Date:                Tue, 27 Feb 2024   Pseudo R-squ.:                  0.2778\n",
      "Time:                        23:21:40   Log-Likelihood:                -590.41\n",
      "converged:                      False   LL-Null:                       -817.49\n",
      "Covariance Type:            nonrobust   LLR p-value:                 4.332e-76\n",
      "=================================================================================================\n",
      "                                    coef    std err          z      P>|z|      [0.025      0.975]\n",
      "-------------------------------------------------------------------------------------------------\n",
      "const                            -0.7236      0.941     -0.769      0.442      -2.569       1.121\n",
      "Category_Automotive              -0.6548      0.399     -1.639      0.101      -1.438       0.128\n",
      "Category_Books                    0.1812      0.456      0.397      0.691      -0.712       1.075\n",
      "Category_Business/Industrial      1.2358      0.881      1.402      0.161      -0.491       2.963\n",
      "Category_Clothing/Accessories    -1.3415      0.433     -3.100      0.002      -2.190      -0.493\n",
      "Category_Coins/Stamps            -2.1089      0.716     -2.947      0.003      -3.511      -0.706\n",
      "Category_Collectibles            -0.0924      0.306     -0.302      0.762      -0.691       0.506\n",
      "Category_Computer                -0.1968      0.585     -0.336      0.737      -1.344       0.950\n",
      "Category_Electronics              0.4588      0.586      0.783      0.433      -0.689       1.607\n",
      "Category_EverythingElse          -1.7292      0.856     -2.019      0.043      -3.408      -0.051\n",
      "Category_Health/Beauty           -2.0036      0.516     -3.885      0.000      -3.014      -0.993\n",
      "Category_Home/Garden             -0.0864      0.404     -0.214      0.830      -0.878       0.705\n",
      "Category_Jewelry                 -0.5342      0.439     -1.216      0.224      -1.395       0.327\n",
      "Category_Music/Movie/Game         0.0199      0.283      0.071      0.944      -0.534       0.574\n",
      "Category_Photography             21.6806   2.91e+04      0.001      0.999    -5.7e+04     5.7e+04\n",
      "Category_Pottery/Glass           -0.2383      0.736     -0.324      0.746      -1.681       1.204\n",
      "Category_SportingGoods           -0.1976      0.438     -0.451      0.652      -1.056       0.661\n",
      "Category_Toys/Hobbies             0.2322      0.315      0.736      0.462      -0.386       0.851\n",
      "currency_GBP                      1.8101      0.603      2.999      0.003       0.627       2.993\n",
      "currency_US                       0.5708      0.259      2.204      0.028       0.063       1.078\n",
      "Duration_3                        0.2733      0.920      0.297      0.766      -1.530       2.077\n",
      "Duration_5                        0.7367      0.911      0.809      0.419      -1.049       2.522\n",
      "Duration_7                        0.3783      0.897      0.422      0.673      -1.379       2.136\n",
      "Duration_10                       0.5958      0.929      0.641      0.522      -1.226       2.417\n",
      "endDay_Mon                        0.2526      0.260      0.970      0.332      -0.258       0.763\n",
      "endDay_Sat                       -0.5937      0.278     -2.136      0.033      -1.139      -0.049\n",
      "endDay_Sun                       -0.4861      0.262     -1.858      0.063      -0.999       0.027\n",
      "endDay_Thu                       -0.6235      0.558     -1.118      0.264      -1.717       0.470\n",
      "endDay_Tue                       -0.2386      0.306     -0.780      0.435      -0.838       0.361\n",
      "endDay_Wed                       -0.7161      0.475     -1.506      0.132      -1.648       0.216\n",
      "sellerRating                     -1.5583      0.574     -2.715      0.007      -2.683      -0.434\n",
      "ClosePrice                       89.2691      9.440      9.457      0.000      70.768     107.771\n",
      "OpenPrice                      -106.0984     11.225     -9.452      0.000    -128.098     -84.099\n",
      "=================================================================================================\n"
     ]
    },
    {
     "name": "stderr",
     "output_type": "stream",
     "text": [
      "/Library/Frameworks/Python.framework/Versions/3.11/lib/python3.11/site-packages/statsmodels/base/model.py:607: ConvergenceWarning: Maximum Likelihood optimization failed to converge. Check mle_retvals\n",
      "  warnings.warn(\"Maximum Likelihood optimization failed to \"\n"
     ]
    }
   ],
   "source": [
    "import statsmodels.api as sm\n",
    "model_eval = sm.Logit(y_train, sm.add_constant(X_train))\n",
    "model_eval = model_eval.fit()\n",
    "print(model_eval.summary())"
   ]
  },
  {
   "cell_type": "markdown",
   "id": "5a33e145",
   "metadata": {},
   "source": [
    "The log probability of a competetive auction is increased by 0.0894 for each 1 unit (dollar) of closing price and it is statistically significant (p < 0.1)"
   ]
  },
  {
   "cell_type": "markdown",
   "id": "6b11f87b",
   "metadata": {},
   "source": [
    "# Problem #1e: "
   ]
  },
  {
   "cell_type": "code",
   "execution_count": 11,
   "id": "c8513a79",
   "metadata": {},
   "outputs": [
    {
     "name": "stdout",
     "output_type": "stream",
     "text": [
      "Accuracy of regularized logistic model: 0.6894803548795945\n"
     ]
    }
   ],
   "source": [
    "model_regularized = LogisticRegression(penalty='l1', solver='liblinear')\n",
    "model_regularized.fit(X_train, y_train)\n",
    "\n",
    "# Predict on validation set\n",
    "y_pred_regularized = model_regularized.predict(X_valid)\n",
    "\n",
    "# Calculate accuracy\n",
    "accuracy_regularized = accuracy_score(y_valid, y_pred_regularized)\n",
    "print(\"Accuracy of regularized logistic model:\", accuracy_regularized)"
   ]
  },
  {
   "cell_type": "markdown",
   "id": "60c24fbd",
   "metadata": {},
   "source": [
    "# Problem #1f:"
   ]
  },
  {
   "cell_type": "markdown",
   "id": "ae00ccfa",
   "metadata": {},
   "source": [
    "We would recommend an auction with a duration of 5 days ending on either Friday or Monday given that those have the highest possitive coefficients, and that the auction use British Pounds (GBP) and is in the category \"photography\" although the reliance of these data is undetermined in our model. "
   ]
  }
 ],
 "metadata": {
  "kernelspec": {
   "display_name": "Python 3 (ipykernel)",
   "language": "python",
   "name": "python3"
  },
  "language_info": {
   "codemirror_mode": {
    "name": "ipython",
    "version": 3
   },
   "file_extension": ".py",
   "mimetype": "text/x-python",
   "name": "python",
   "nbconvert_exporter": "python",
   "pygments_lexer": "ipython3",
   "version": "3.10.13"
  }
 },
 "nbformat": 4,
 "nbformat_minor": 5
}
