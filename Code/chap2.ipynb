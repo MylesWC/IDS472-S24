{
 "cells": [
  {
   "cell_type": "markdown",
   "metadata": {},
   "source": [
    "## Chapter 2. Three Fundamental Python Packages"
   ]
  },
  {
   "cell_type": "markdown",
   "metadata": {},
   "source": [
    "* `NumPy` is a fundamental package at the core of various Python data science libraries including `Scikit-Learn`.\n",
    "\n",
    "* `Pandas`, which is built on top of `NumPy`, is another useful library for data analysis and particularly facilitates working with tabular data.\n",
    "\n",
    "* `Matplotlib` is the primary Python plotting library built on `NumPy`.\n"
   ]
  },
  {
   "cell_type": "code",
   "execution_count": 1,
   "metadata": {},
   "outputs": [
    {
     "data": {
      "text/plain": [
       "<module 'numpy' from 'C:\\\\Users\\\\wenxinz\\\\AppData\\\\Local\\\\Packages\\\\PythonSoftwareFoundation.Python.3.11_qbz5n2kfra8p0\\\\LocalCache\\\\local-packages\\\\Python311\\\\site-packages\\\\numpy\\\\__init__.py'>"
      ]
     },
     "execution_count": 1,
     "metadata": {},
     "output_type": "execute_result"
    }
   ],
   "source": [
    "import numpy as np\n",
    "np"
   ]
  },
  {
   "cell_type": "markdown",
   "metadata": {},
   "source": [
    "### NumPy"
   ]
  },
  {
   "cell_type": "code",
   "execution_count": 2,
   "metadata": {},
   "outputs": [
    {
     "data": {
      "text/plain": [
       "[[1, 2, 3], [4, 5, 6]]"
      ]
     },
     "execution_count": 2,
     "metadata": {},
     "output_type": "execute_result"
    }
   ],
   "source": [
    "list1 = [[1,2,3], [4,5,6]]\n",
    "list1"
   ]
  },
  {
   "cell_type": "code",
   "execution_count": 3,
   "metadata": {},
   "outputs": [
    {
     "data": {
      "text/plain": [
       "array([[1, 2, 3],\n",
       "       [4, 5, 6]])"
      ]
     },
     "execution_count": 3,
     "metadata": {},
     "output_type": "execute_result"
    }
   ],
   "source": [
    "a1 = np.array(list1)\n",
    "a1"
   ]
  },
  {
   "cell_type": "code",
   "execution_count": 4,
   "metadata": {},
   "outputs": [
    {
     "data": {
      "text/plain": [
       "numpy.ndarray"
      ]
     },
     "execution_count": 4,
     "metadata": {},
     "output_type": "execute_result"
    }
   ],
   "source": [
    "type(a1)"
   ]
  },
  {
   "cell_type": "code",
   "execution_count": 5,
   "metadata": {},
   "outputs": [
    {
     "data": {
      "text/plain": [
       "[[1, 2, 3.6], [4, 5, 6]]"
      ]
     },
     "execution_count": 5,
     "metadata": {},
     "output_type": "execute_result"
    }
   ],
   "source": [
    "list2 = [[1, 2, 3.6], [4, 5, 6]]\n",
    "list2"
   ]
  },
  {
   "cell_type": "code",
   "execution_count": 6,
   "metadata": {},
   "outputs": [
    {
     "data": {
      "text/plain": [
       "array([[1. , 2. , 3.6],\n",
       "       [4. , 5. , 6. ]])"
      ]
     },
     "execution_count": 6,
     "metadata": {},
     "output_type": "execute_result"
    }
   ],
   "source": [
    "a2 = np.array(list2)\n",
    "a2"
   ]
  },
  {
   "cell_type": "code",
   "execution_count": 7,
   "metadata": {},
   "outputs": [
    {
     "name": "stdout",
     "output_type": "stream",
     "text": [
      "int32 float64\n"
     ]
    }
   ],
   "source": [
    "print(a1.dtype, a2.dtype)"
   ]
  },
  {
   "cell_type": "code",
   "execution_count": 8,
   "metadata": {},
   "outputs": [
    {
     "data": {
      "text/plain": [
       "array([[1. , 2. , 3.6],\n",
       "       [4. , 5. , 6. ]], dtype=float32)"
      ]
     },
     "execution_count": 8,
     "metadata": {},
     "output_type": "execute_result"
    }
   ],
   "source": [
    "a3 = np.array(list2, dtype='float32')\n",
    "a3"
   ]
  },
  {
   "cell_type": "code",
   "execution_count": 9,
   "metadata": {},
   "outputs": [
    {
     "data": {
      "text/plain": [
       "array([[1, 2, 3],\n",
       "       [4, 5, 6]])"
      ]
     },
     "execution_count": 9,
     "metadata": {},
     "output_type": "execute_result"
    }
   ],
   "source": [
    "# produce a copy of the array while casting the specified type\n",
    "a4 = a3.astype(int)\n",
    "a4"
   ]
  },
  {
   "cell_type": "code",
   "execution_count": 10,
   "metadata": {},
   "outputs": [
    {
     "name": "stdout",
     "output_type": "stream",
     "text": [
      "float32 int32\n"
     ]
    }
   ],
   "source": [
    "print(a3.dtype, a4.dtype)"
   ]
  },
  {
   "cell_type": "code",
   "execution_count": 11,
   "metadata": {},
   "outputs": [
    {
     "name": "stdout",
     "output_type": "stream",
     "text": [
      "6 2 (2, 3)\n"
     ]
    }
   ],
   "source": [
    "print(a4.size, a4.ndim, a4.shape)"
   ]
  },
  {
   "cell_type": "code",
   "execution_count": 12,
   "metadata": {},
   "outputs": [
    {
     "name": "stdout",
     "output_type": "stream",
     "text": [
      "(5,) [0 1 2 3 4] 3\n"
     ]
    }
   ],
   "source": [
    "a5 = np.arange(5)\n",
    "print(a5.shape, a5, a5[3])"
   ]
  },
  {
   "cell_type": "code",
   "execution_count": 13,
   "metadata": {},
   "outputs": [
    {
     "name": "stdout",
     "output_type": "stream",
     "text": [
      "(1, 5)\n"
     ]
    },
    {
     "data": {
      "text/plain": [
       "array([[0, 1, 2, 3, 4]])"
      ]
     },
     "execution_count": 13,
     "metadata": {},
     "output_type": "execute_result"
    }
   ],
   "source": [
    "a6 = np.array([[0, 1, 2, 3, 4]])\n",
    "print(a6.shape)\n",
    "a6"
   ]
  },
  {
   "cell_type": "code",
   "execution_count": 14,
   "metadata": {},
   "outputs": [
    {
     "name": "stdout",
     "output_type": "stream",
     "text": [
      "(5, 1)\n"
     ]
    },
    {
     "data": {
      "text/plain": [
       "array([[0],\n",
       "       [1],\n",
       "       [2],\n",
       "       [3],\n",
       "       [4]])"
      ]
     },
     "execution_count": 14,
     "metadata": {},
     "output_type": "execute_result"
    }
   ],
   "source": [
    "# take the transpose of the array using .T and look into its shape\n",
    "print(a6.T.shape) \n",
    "\n",
    "a6.T # this array has 5 rows and 1 column (or 5 lists each with 1 element)"
   ]
  },
  {
   "cell_type": "code",
   "execution_count": 15,
   "metadata": {},
   "outputs": [
    {
     "data": {
      "text/plain": [
       "4"
      ]
     },
     "execution_count": 15,
     "metadata": {},
     "output_type": "execute_result"
    }
   ],
   "source": [
    "a4.itemsize # int64 has 64 bits or 8 bytes"
   ]
  },
  {
   "cell_type": "code",
   "execution_count": 16,
   "metadata": {},
   "outputs": [
    {
     "data": {
      "text/plain": [
       "array([0., 0., 0., 0., 0.])"
      ]
     },
     "execution_count": 16,
     "metadata": {},
     "output_type": "execute_result"
    }
   ],
   "source": [
    "a = np.zeros(5)\n",
    "a"
   ]
  },
  {
   "cell_type": "code",
   "execution_count": 17,
   "metadata": {},
   "outputs": [
    {
     "name": "stdout",
     "output_type": "stream",
     "text": [
      "int32\n"
     ]
    },
    {
     "data": {
      "text/plain": [
       "array([[0, 0],\n",
       "       [0, 0],\n",
       "       [0, 0]])"
      ]
     },
     "execution_count": 17,
     "metadata": {},
     "output_type": "execute_result"
    }
   ],
   "source": [
    "a = np.zeros((3,2), dtype='int_') # int_ is the default system-dependent int type, either int64 or int32\n",
    "print(a.dtype)\n",
    "\n",
    "a"
   ]
  },
  {
   "cell_type": "code",
   "execution_count": 18,
   "metadata": {},
   "outputs": [
    {
     "data": {
      "text/plain": [
       "array([[1., 1., 1., 1., 1.],\n",
       "       [1., 1., 1., 1., 1.],\n",
       "       [1., 1., 1., 1., 1.]])"
      ]
     },
     "execution_count": 18,
     "metadata": {},
     "output_type": "execute_result"
    }
   ],
   "source": [
    "a = np.ones((3,5))\n",
    "a"
   ]
  },
  {
   "cell_type": "code",
   "execution_count": 19,
   "metadata": {},
   "outputs": [
    {
     "data": {
      "text/plain": [
       "array([[5.5, 5.5, 5.5, 5.5],\n",
       "       [5.5, 5.5, 5.5, 5.5]])"
      ]
     },
     "execution_count": 19,
     "metadata": {},
     "output_type": "execute_result"
    }
   ],
   "source": [
    "a = np.full((2,4), 5.5)\n",
    "a"
   ]
  },
  {
   "cell_type": "code",
   "execution_count": 20,
   "metadata": {},
   "outputs": [
    {
     "data": {
      "text/plain": [
       "array([[1., 0., 0., 0., 0.],\n",
       "       [0., 1., 0., 0., 0.],\n",
       "       [0., 0., 1., 0., 0.],\n",
       "       [0., 0., 0., 1., 0.],\n",
       "       [0., 0., 0., 0., 1.]])"
      ]
     },
     "execution_count": 20,
     "metadata": {},
     "output_type": "execute_result"
    }
   ],
   "source": [
    "a = np.eye(5)\n",
    "a"
   ]
  },
  {
   "cell_type": "code",
   "execution_count": 21,
   "metadata": {},
   "outputs": [
    {
     "data": {
      "text/plain": [
       "array([0, 1, 2, 3, 4])"
      ]
     },
     "execution_count": 21,
     "metadata": {},
     "output_type": "execute_result"
    }
   ],
   "source": [
    "a = np.arange(5)\n",
    "a"
   ]
  },
  {
   "cell_type": "code",
   "execution_count": 22,
   "metadata": {},
   "outputs": [
    {
     "data": {
      "text/plain": [
       "array([3, 4, 5, 6, 7])"
      ]
     },
     "execution_count": 22,
     "metadata": {},
     "output_type": "execute_result"
    }
   ],
   "source": [
    "a = np.arange(3, 8)\n",
    "a"
   ]
  },
  {
   "cell_type": "code",
   "execution_count": 23,
   "metadata": {},
   "outputs": [
    {
     "data": {
      "text/plain": [
       "array([[-0.61468688, -0.70043097,  0.54956134,  2.51439376],\n",
       "       [ 1.19546242, -1.26903509,  1.06181417, -0.76773384],\n",
       "       [ 0.40338604, -1.15904458,  0.2027004 ,  0.60556515]])"
      ]
     },
     "execution_count": 23,
     "metadata": {},
     "output_type": "execute_result"
    }
   ],
   "source": [
    "a = np.random.normal(0, 1, size=(3,4))\n",
    "a"
   ]
  },
  {
   "cell_type": "code",
   "execution_count": 24,
   "metadata": {},
   "outputs": [
    {
     "data": {
      "text/plain": [
       "array([[ 0,  1,  2],\n",
       "       [ 3,  4,  5],\n",
       "       [ 6,  7,  8],\n",
       "       [ 9, 10, 11]])"
      ]
     },
     "execution_count": 24,
     "metadata": {},
     "output_type": "execute_result"
    }
   ],
   "source": [
    "a = np.array([[0, 1, 2], [3, 4, 5], [6, 7, 8], [9, 10, 11]])\n",
    "a"
   ]
  },
  {
   "cell_type": "code",
   "execution_count": 25,
   "metadata": {},
   "outputs": [
    {
     "name": "stdout",
     "output_type": "stream",
     "text": [
      "[3 4 5]\n",
      "3\n",
      "3\n"
     ]
    }
   ],
   "source": [
    "print(a[1])\n",
    "\n",
    "print(a[1][0])\n",
    "\n",
    "print(a[1, 0])"
   ]
  },
  {
   "cell_type": "code",
   "execution_count": 26,
   "metadata": {},
   "outputs": [
    {
     "data": {
      "text/plain": [
       "array([[1, 2],\n",
       "       [7, 8]])"
      ]
     },
     "execution_count": 26,
     "metadata": {},
     "output_type": "execute_result"
    }
   ],
   "source": [
    "a[:3:2,-2:]"
   ]
  },
  {
   "cell_type": "code",
   "execution_count": 27,
   "metadata": {},
   "outputs": [
    {
     "data": {
      "text/plain": [
       "array([[ 9, 11],\n",
       "       [ 6,  8]])"
      ]
     },
     "execution_count": 27,
     "metadata": {},
     "output_type": "execute_result"
    }
   ],
   "source": [
    "a[:-3:-1,::2]"
   ]
  },
  {
   "cell_type": "code",
   "execution_count": 28,
   "metadata": {},
   "outputs": [
    {
     "data": {
      "text/plain": [
       "array([[ 0,  1,  2],\n",
       "       [ 3,  4,  5],\n",
       "       [ 6,  7,  8],\n",
       "       [ 9, 10, 21]])"
      ]
     },
     "execution_count": 28,
     "metadata": {},
     "output_type": "execute_result"
    }
   ],
   "source": [
    "b = a[:-3:-1,::2]\n",
    "b[0,1] = 21 # change 11 in b to 21\n",
    "a # the change appears in a too"
   ]
  },
  {
   "cell_type": "code",
   "execution_count": 29,
   "metadata": {},
   "outputs": [
    {
     "data": {
      "text/plain": [
       "array([[ 9, 21],\n",
       "       [ 6,  8]])"
      ]
     },
     "execution_count": 29,
     "metadata": {},
     "output_type": "execute_result"
    }
   ],
   "source": [
    "b = a[:-3:-1,::2].copy() # using copy()\n",
    "b"
   ]
  },
  {
   "cell_type": "code",
   "execution_count": 30,
   "metadata": {},
   "outputs": [
    {
     "data": {
      "text/plain": [
       "array([[ 0,  1,  2],\n",
       "       [ 3,  4,  5],\n",
       "       [ 6,  7,  8],\n",
       "       [ 9, 10, 21]])"
      ]
     },
     "execution_count": 30,
     "metadata": {},
     "output_type": "execute_result"
    }
   ],
   "source": [
    "b[1,1] = 18\n",
    "a # the change does not appear in a"
   ]
  },
  {
   "cell_type": "code",
   "execution_count": 31,
   "metadata": {},
   "outputs": [
    {
     "data": {
      "text/plain": [
       "array([[ 9, 21],\n",
       "       [ 6,  8]])"
      ]
     },
     "execution_count": 31,
     "metadata": {},
     "output_type": "execute_result"
    }
   ],
   "source": [
    "b = np.array(a[:-3:-1,::2]) # using array()\n",
    "b"
   ]
  },
  {
   "cell_type": "code",
   "execution_count": 32,
   "metadata": {},
   "outputs": [
    {
     "data": {
      "text/plain": [
       "array([[ 0,  1,  2],\n",
       "       [ 3,  4,  5],\n",
       "       [ 6,  7,  8],\n",
       "       [ 9, 10, 21]])"
      ]
     },
     "execution_count": 32,
     "metadata": {},
     "output_type": "execute_result"
    }
   ],
   "source": [
    "b[1,1] = 18\n",
    "a # the change does not appear in a"
   ]
  },
  {
   "cell_type": "code",
   "execution_count": 33,
   "metadata": {},
   "outputs": [
    {
     "name": "stdout",
     "output_type": "stream",
     "text": [
      "c = [10 11 12 13 14 15 16 17 18 19 20 21 22 23 24 25 26 27 28 29]\n",
      "idx = [19 17 15 13 11]\n",
      "c[idx] = [29 27 25 23 21]\n"
     ]
    }
   ],
   "source": [
    "# fancy indexing\n",
    "c = np.arange(10, 30)\n",
    "idx = np.arange(19, 10, -2)\n",
    "print('c = ' + str(c) \\\n",
    "      + '\\n' + 'idx = ' + str(idx) \\\n",
    "        + '\\n' + 'c[idx] = ' + str(c[idx]))"
   ]
  },
  {
   "cell_type": "code",
   "execution_count": 34,
   "metadata": {},
   "outputs": [],
   "source": [
    "# if we change the dtype of idx to float32 an error will be raised\n",
    "#idx = idx.astype('float32')\n",
    "#c[idx] "
   ]
  },
  {
   "cell_type": "code",
   "execution_count": 35,
   "metadata": {},
   "outputs": [
    {
     "name": "stdout",
     "output_type": "stream",
     "text": [
      "\n",
      "idx = [-1 17 15 13 11]\n",
      "c[idx] = [29 27 25 23 21]\n"
     ]
    }
   ],
   "source": [
    "idx = idx.astype('int_')\n",
    "idx[0] = -1 # observe how the negative index is interpreted\n",
    "print('\\n' + 'idx = ' + str(idx) \\\n",
    "      + '\\n' + 'c[idx] = ' + str(c[idx]))"
   ]
  },
  {
   "cell_type": "code",
   "execution_count": 36,
   "metadata": {},
   "outputs": [
    {
     "data": {
      "text/plain": [
       "array([[ 0,  1,  2,  3,  4],\n",
       "       [ 5,  6,  7,  8,  9],\n",
       "       [10, 11, 12, 13, 14],\n",
       "       [15, 16, 17, 18, 19]])"
      ]
     },
     "execution_count": 36,
     "metadata": {},
     "output_type": "execute_result"
    }
   ],
   "source": [
    "# 4 elements in the first dimension (axis 0) \n",
    "# and 5 in the second dimension (axis 1)\n",
    "a = np.arange(20).reshape(4,5) \n",
    "a"
   ]
  },
  {
   "cell_type": "code",
   "execution_count": 37,
   "metadata": {},
   "outputs": [
    {
     "data": {
      "text/plain": [
       "array([[ 0,  1,  2,  3,  4,  5,  6,  7,  8,  9],\n",
       "       [10, 11, 12, 13, 14, 15, 16, 17, 18, 19]])"
      ]
     },
     "execution_count": 37,
     "metadata": {},
     "output_type": "execute_result"
    }
   ],
   "source": [
    "b = a.reshape(2,10)\n",
    "b"
   ]
  },
  {
   "cell_type": "code",
   "execution_count": 38,
   "metadata": {},
   "outputs": [
    {
     "data": {
      "text/plain": [
       "array([[ 0,  1,  2,  3,  4],\n",
       "       [ 5,  6,  7,  8, 29],\n",
       "       [10, 11, 12, 13, 14],\n",
       "       [15, 16, 17, 18, 19]])"
      ]
     },
     "execution_count": 38,
     "metadata": {},
     "output_type": "execute_result"
    }
   ],
   "source": [
    "b[0,9] = 29\n",
    "a # observe that the change in b appears in a"
   ]
  },
  {
   "cell_type": "code",
   "execution_count": 39,
   "metadata": {},
   "outputs": [
    {
     "data": {
      "text/plain": [
       "array([[ 0,  1,  2,  3],\n",
       "       [ 4,  5,  6,  7],\n",
       "       [ 8, 29, 10, 11],\n",
       "       [12, 13, 14, 15],\n",
       "       [16, 17, 18, 19]])"
      ]
     },
     "execution_count": 39,
     "metadata": {},
     "output_type": "execute_result"
    }
   ],
   "source": [
    "c = b.reshape(5,-1)\n",
    "c"
   ]
  },
  {
   "cell_type": "code",
   "execution_count": 40,
   "metadata": {},
   "outputs": [
    {
     "data": {
      "text/plain": [
       "array([ 0,  1,  2,  3,  4,  5,  6,  7,  8, 29, 10, 11, 12, 13, 14, 15, 16,\n",
       "       17, 18, 19])"
      ]
     },
     "execution_count": 40,
     "metadata": {},
     "output_type": "execute_result"
    }
   ],
   "source": [
    "# return a flattened array regardless of the original shape\n",
    "c.reshape(-1) "
   ]
  },
  {
   "cell_type": "code",
   "execution_count": 41,
   "metadata": {},
   "outputs": [
    {
     "data": {
      "text/plain": [
       "array([ 0,  1,  2,  3,  4,  5,  6,  7,  8, 29, 10, 11, 12, 13, 14, 15, 16,\n",
       "       17, 18, 19])"
      ]
     },
     "execution_count": 41,
     "metadata": {},
     "output_type": "execute_result"
    }
   ],
   "source": [
    "c.ravel() # this could be used instead of reshape(-1)"
   ]
  },
  {
   "cell_type": "code",
   "execution_count": 42,
   "metadata": {},
   "outputs": [
    {
     "data": {
      "text/plain": [
       "array([0, 1, 2, 3, 4])"
      ]
     },
     "execution_count": 42,
     "metadata": {},
     "output_type": "execute_result"
    }
   ],
   "source": [
    "# create a 1D array with 5 elements\n",
    "c = np.arange(5)\n",
    "c"
   ]
  },
  {
   "cell_type": "code",
   "execution_count": 43,
   "metadata": {},
   "outputs": [
    {
     "data": {
      "text/plain": [
       "array([[0],\n",
       "       [1],\n",
       "       [2],\n",
       "       [3],\n",
       "       [4]])"
      ]
     },
     "execution_count": 43,
     "metadata": {},
     "output_type": "execute_result"
    }
   ],
   "source": [
    "# a 2D array with 5 rows and 1 column using reshape method\n",
    "c.reshape(-1,1)"
   ]
  },
  {
   "cell_type": "code",
   "execution_count": 44,
   "metadata": {},
   "outputs": [
    {
     "data": {
      "text/plain": [
       "array([[0],\n",
       "       [1],\n",
       "       [2],\n",
       "       [3],\n",
       "       [4]])"
      ]
     },
     "execution_count": 44,
     "metadata": {},
     "output_type": "execute_result"
    }
   ],
   "source": [
    "# a 2D array with 5 rows and 1 column\n",
    "c[:,np.newaxis] "
   ]
  },
  {
   "cell_type": "code",
   "execution_count": 45,
   "metadata": {},
   "outputs": [
    {
     "data": {
      "text/plain": [
       "array([[0, 1, 2, 3, 4]])"
      ]
     },
     "execution_count": 45,
     "metadata": {},
     "output_type": "execute_result"
    }
   ],
   "source": [
    "c[np.newaxis,:] # a 2D array with 1 row and 5 columns, which is equivalent to c.reshape(1,5)"
   ]
  },
  {
   "cell_type": "markdown",
   "metadata": {},
   "source": [
    "#### Universal Functions"
   ]
  },
  {
   "cell_type": "code",
   "execution_count": 46,
   "metadata": {},
   "outputs": [
    {
     "name": "stdout",
     "output_type": "stream",
     "text": [
      "2.03 ms ± 25.3 µs per loop (mean ± std. dev. of 7 runs, 100 loops each)\n"
     ]
    }
   ],
   "source": [
    "%%timeit\n",
    "a = np.arange(10000)\n",
    "for i, v in enumerate(a):\n",
    "    a[i] -= 1"
   ]
  },
  {
   "cell_type": "code",
   "execution_count": 47,
   "metadata": {},
   "outputs": [
    {
     "name": "stdout",
     "output_type": "stream",
     "text": [
      "9.18 µs ± 81.9 ns per loop (mean ± std. dev. of 7 runs, 100,000 loops each)\n"
     ]
    }
   ],
   "source": [
    "%%timeit\n",
    "a = np.arange(10000)\n",
    "a = a - 1 # vectorized operation using the subtraction operator"
   ]
  },
  {
   "cell_type": "code",
   "execution_count": 48,
   "metadata": {},
   "outputs": [
    {
     "data": {
      "text/plain": [
       "array([[ 3,  5,  8,  2,  4],\n",
       "       [ 8, 10,  2,  3,  5]])"
      ]
     },
     "execution_count": 48,
     "metadata": {},
     "output_type": "execute_result"
    }
   ],
   "source": [
    "a = np.array([[3,5,8,2,4],[8, 10, 2, 3, 5]])\n",
    "a"
   ]
  },
  {
   "cell_type": "code",
   "execution_count": 49,
   "metadata": {},
   "outputs": [
    {
     "data": {
      "text/plain": [
       "array([3, 5, 2, 2, 4])"
      ]
     },
     "execution_count": 49,
     "metadata": {},
     "output_type": "execute_result"
    }
   ],
   "source": [
    "np.min(a, axis=0)"
   ]
  },
  {
   "cell_type": "code",
   "execution_count": 50,
   "metadata": {},
   "outputs": [
    {
     "data": {
      "text/plain": [
       "array([22, 28])"
      ]
     },
     "execution_count": 50,
     "metadata": {},
     "output_type": "execute_result"
    }
   ],
   "source": [
    "np.sum(a, axis=1)"
   ]
  },
  {
   "cell_type": "code",
   "execution_count": 51,
   "metadata": {},
   "outputs": [
    {
     "data": {
      "text/plain": [
       "array([22, 28])"
      ]
     },
     "execution_count": 51,
     "metadata": {},
     "output_type": "execute_result"
    }
   ],
   "source": [
    "# here sum is the method of the array object\n",
    "a.sum(axis=1)"
   ]
  },
  {
   "cell_type": "markdown",
   "metadata": {},
   "source": [
    "#### Broadcasting"
   ]
  },
  {
   "cell_type": "code",
   "execution_count": 52,
   "metadata": {},
   "outputs": [
    {
     "data": {
      "text/plain": [
       "array([2, 3, 4, 5, 6])"
      ]
     },
     "execution_count": 52,
     "metadata": {},
     "output_type": "execute_result"
    }
   ],
   "source": [
    "a = np.array([0, 1, 2, 3, 4])\n",
    "b = a + 2\n",
    "b"
   ]
  },
  {
   "cell_type": "code",
   "execution_count": 53,
   "metadata": {},
   "outputs": [
    {
     "name": "stdout",
     "output_type": "stream",
     "text": [
      "[[1. 1. 1. 1.]\n",
      " [1. 1. 1. 1.]]\n"
     ]
    },
    {
     "data": {
      "text/plain": [
       "(2, 4)"
      ]
     },
     "execution_count": 53,
     "metadata": {},
     "output_type": "execute_result"
    }
   ],
   "source": [
    "a = np.ones((2,4))\n",
    "print(a)\n",
    "a.shape"
   ]
  },
  {
   "cell_type": "code",
   "execution_count": 54,
   "metadata": {},
   "outputs": [
    {
     "name": "stdout",
     "output_type": "stream",
     "text": [
      "[1 2 7 7]\n"
     ]
    },
    {
     "data": {
      "text/plain": [
       "(4,)"
      ]
     },
     "execution_count": 54,
     "metadata": {},
     "output_type": "execute_result"
    }
   ],
   "source": [
    "# generate random integers \n",
    "# (see https://numpy.org/doc/stable/reference/random/generated/numpy.random.randint.html)\n",
    "\n",
    "b = np.random.randint(1, 10, 4)\n",
    "print(b)\n",
    "b.shape"
   ]
  },
  {
   "cell_type": "code",
   "execution_count": 55,
   "metadata": {},
   "outputs": [
    {
     "name": "stdout",
     "output_type": "stream",
     "text": [
      "[[2. 3. 8. 8.]\n",
      " [2. 3. 8. 8.]]\n"
     ]
    },
    {
     "data": {
      "text/plain": [
       "(2, 4)"
      ]
     },
     "execution_count": 55,
     "metadata": {},
     "output_type": "execute_result"
    }
   ],
   "source": [
    "c = a + b\n",
    "print(c)\n",
    "c.shape"
   ]
  },
  {
   "cell_type": "code",
   "execution_count": 56,
   "metadata": {},
   "outputs": [
    {
     "name": "stdout",
     "output_type": "stream",
     "text": [
      "[[[0]\n",
      "  [1]\n",
      "  [2]\n",
      "  [3]]\n",
      "\n",
      " [[4]\n",
      "  [5]\n",
      "  [6]\n",
      "  [7]]]\n"
     ]
    },
    {
     "data": {
      "text/plain": [
       "(2, 4, 1)"
      ]
     },
     "execution_count": 56,
     "metadata": {},
     "output_type": "execute_result"
    }
   ],
   "source": [
    "a = np.arange(8).reshape(2,4,1) # a 3-dimensional array\n",
    "print(a)\n",
    "a.shape"
   ]
  },
  {
   "cell_type": "code",
   "execution_count": 57,
   "metadata": {},
   "outputs": [
    {
     "name": "stdout",
     "output_type": "stream",
     "text": [
      "[[[10 20 30 40]\n",
      "  [11 21 31 41]\n",
      "  [12 22 32 42]\n",
      "  [13 23 33 43]]\n",
      "\n",
      " [[14 24 34 44]\n",
      "  [15 25 35 45]\n",
      "  [16 26 36 46]\n",
      "  [17 27 37 47]]]\n"
     ]
    },
    {
     "data": {
      "text/plain": [
       "(2, 4, 4)"
      ]
     },
     "execution_count": 57,
     "metadata": {},
     "output_type": "execute_result"
    }
   ],
   "source": [
    "b = np.array([10, 20, 30, 40])\n",
    "\n",
    "c = a + b\n",
    "print(c)\n",
    "c.shape"
   ]
  },
  {
   "cell_type": "code",
   "execution_count": 58,
   "metadata": {},
   "outputs": [
    {
     "name": "stdout",
     "output_type": "stream",
     "text": [
      "[[10 20]\n",
      " [30 40]]\n",
      "(2, 4, 1) (2, 2)\n"
     ]
    }
   ],
   "source": [
    "a = np.arange(8).reshape(2,4,1) # a 3-dimensional array\n",
    "\n",
    "b = np.array([10, 20, 30, 40]).reshape(2,2)\n",
    "print(b)\n",
    "\n",
    "print(a.shape, b.shape)"
   ]
  },
  {
   "cell_type": "code",
   "execution_count": 59,
   "metadata": {},
   "outputs": [],
   "source": [
    "# broadcasting is not possible here (error raised if running)\n",
    "#a + b "
   ]
  },
  {
   "cell_type": "markdown",
   "metadata": {},
   "source": [
    "### Pandas"
   ]
  },
  {
   "cell_type": "code",
   "execution_count": 60,
   "metadata": {},
   "outputs": [],
   "source": [
    "import pandas as pd"
   ]
  },
  {
   "cell_type": "markdown",
   "metadata": {},
   "source": [
    "#### Series"
   ]
  },
  {
   "cell_type": "code",
   "execution_count": 61,
   "metadata": {},
   "outputs": [
    {
     "data": {
      "text/plain": [
       "0                         a\n",
       "1    [[0, 1, 2], [3, 4, 5]]\n",
       "2                         b\n",
       "3                  [3.4, 4]\n",
       "dtype: object"
      ]
     },
     "execution_count": 61,
     "metadata": {},
     "output_type": "execute_result"
    }
   ],
   "source": [
    "# create a series from a list\n",
    "s1 = pd.Series(['a', np.arange(6).reshape(2,3), 'b', [3.4, 4]])\n",
    "s1 "
   ]
  },
  {
   "cell_type": "code",
   "execution_count": 62,
   "metadata": {},
   "outputs": [
    {
     "data": {
      "text/plain": [
       "1                         a\n",
       "2    [[0, 1, 2], [3, 4, 5]]\n",
       "3                         b\n",
       "4                  [3.4, 4]\n",
       "dtype: object"
      ]
     },
     "execution_count": 62,
     "metadata": {},
     "output_type": "execute_result"
    }
   ],
   "source": [
    "# provide the index\n",
    "s1 = pd.Series(['a', np.arange(6).reshape(2,3), 'b', [3.4, 4]], \n",
    "               index=np.arange(1,5))\n",
    "s1"
   ]
  },
  {
   "cell_type": "code",
   "execution_count": 63,
   "metadata": {},
   "outputs": [
    {
     "data": {
      "text/plain": [
       "0    2\n",
       "1    3\n",
       "2    4\n",
       "3    5\n",
       "4    6\n",
       "5    7\n",
       "6    8\n",
       "7    9\n",
       "dtype: int32"
      ]
     },
     "execution_count": 63,
     "metadata": {},
     "output_type": "execute_result"
    }
   ],
   "source": [
    "s2 = pd.Series(np.arange(2, 10))\n",
    "s2"
   ]
  },
  {
   "cell_type": "code",
   "execution_count": 64,
   "metadata": {},
   "outputs": [
    {
     "data": {
      "text/plain": [
       "array([2, 3, 4, 5, 6, 7, 8, 9])"
      ]
     },
     "execution_count": 64,
     "metadata": {},
     "output_type": "execute_result"
    }
   ],
   "source": [
    "s2.values"
   ]
  },
  {
   "cell_type": "code",
   "execution_count": 65,
   "metadata": {},
   "outputs": [
    {
     "data": {
      "text/plain": [
       "RangeIndex(start=0, stop=8, step=1)"
      ]
     },
     "execution_count": 65,
     "metadata": {},
     "output_type": "execute_result"
    }
   ],
   "source": [
    "s2.index"
   ]
  },
  {
   "cell_type": "code",
   "execution_count": 66,
   "metadata": {},
   "outputs": [
    {
     "data": {
      "text/plain": [
       "4"
      ]
     },
     "execution_count": 66,
     "metadata": {},
     "output_type": "execute_result"
    }
   ],
   "source": [
    "# use index 2 to access its associated value\n",
    "s2[2]"
   ]
  },
  {
   "cell_type": "code",
   "execution_count": 67,
   "metadata": {},
   "outputs": [
    {
     "data": {
      "text/plain": [
       "1    3\n",
       "3    5\n",
       "5    7\n",
       "dtype: int32"
      ]
     },
     "execution_count": 67,
     "metadata": {},
     "output_type": "execute_result"
    }
   ],
   "source": [
    "s2[1:-1:2] # the use of slicing"
   ]
  },
  {
   "cell_type": "code",
   "execution_count": 68,
   "metadata": {},
   "outputs": [
    {
     "data": {
      "text/plain": [
       "0     2\n",
       "1     3\n",
       "2    14\n",
       "3     5\n",
       "4     6\n",
       "5     7\n",
       "6     8\n",
       "7     9\n",
       "dtype: int32"
      ]
     },
     "execution_count": 68,
     "metadata": {},
     "output_type": "execute_result"
    }
   ],
   "source": [
    "s3 = s2[2::2]\n",
    "s3[2] += 10\n",
    "s2"
   ]
  },
  {
   "cell_type": "code",
   "execution_count": 69,
   "metadata": {},
   "outputs": [
    {
     "data": {
      "text/plain": [
       "2    14\n",
       "4     6\n",
       "6     8\n",
       "dtype: int32"
      ]
     },
     "execution_count": 69,
     "metadata": {},
     "output_type": "execute_result"
    }
   ],
   "source": [
    "s3"
   ]
  },
  {
   "cell_type": "code",
   "execution_count": 70,
   "metadata": {},
   "outputs": [],
   "source": [
    "# raises error if run the following\n",
    "#s3[0] "
   ]
  },
  {
   "cell_type": "code",
   "execution_count": 71,
   "metadata": {},
   "outputs": [
    {
     "data": {
      "text/plain": [
       "14"
      ]
     },
     "execution_count": 71,
     "metadata": {},
     "output_type": "execute_result"
    }
   ],
   "source": [
    "s3[2]"
   ]
  },
  {
   "cell_type": "code",
   "execution_count": 72,
   "metadata": {},
   "outputs": [
    {
     "data": {
      "text/plain": [
       "spring    10\n",
       "river     11\n",
       "lake      12\n",
       "sea       13\n",
       "ocean     14\n",
       "dtype: int32"
      ]
     },
     "execution_count": 72,
     "metadata": {},
     "output_type": "execute_result"
    }
   ],
   "source": [
    "s4 = pd.Series(np.arange(10, 15), \n",
    "               index = ['spring', 'river', 'lake', 'sea', 'ocean'])\n",
    "s4"
   ]
  },
  {
   "cell_type": "code",
   "execution_count": 73,
   "metadata": {},
   "outputs": [
    {
     "data": {
      "text/plain": [
       "river    11\n",
       "sea      13\n",
       "dtype: int32"
      ]
     },
     "execution_count": 73,
     "metadata": {},
     "output_type": "execute_result"
    }
   ],
   "source": [
    "s4[['river', 'sea']]"
   ]
  },
  {
   "cell_type": "code",
   "execution_count": 74,
   "metadata": {},
   "outputs": [
    {
     "data": {
      "text/plain": [
       "2    14\n",
       "4     6\n",
       "dtype: int32"
      ]
     },
     "execution_count": 74,
     "metadata": {},
     "output_type": "execute_result"
    }
   ],
   "source": [
    "s3[0:2]"
   ]
  },
  {
   "cell_type": "code",
   "execution_count": 75,
   "metadata": {},
   "outputs": [
    {
     "data": {
      "text/plain": [
       "spring    10\n",
       "lake      12\n",
       "ocean     14\n",
       "dtype: int32"
      ]
     },
     "execution_count": 75,
     "metadata": {},
     "output_type": "execute_result"
    }
   ],
   "source": [
    "s4['spring':'ocean':2]"
   ]
  },
  {
   "cell_type": "code",
   "execution_count": 76,
   "metadata": {},
   "outputs": [
    {
     "data": {
      "text/plain": [
       "2    1\n",
       "3    7\n",
       "4    2\n",
       "5    7\n",
       "6    5\n",
       "7    7\n",
       "8    5\n",
       "dtype: int32"
      ]
     },
     "execution_count": 76,
     "metadata": {},
     "output_type": "execute_result"
    }
   ],
   "source": [
    "s = pd.Series(np.random.randint(1, 10, 7), \n",
    "              index = np.arange(2, 9))\n",
    "s"
   ]
  },
  {
   "cell_type": "code",
   "execution_count": 77,
   "metadata": {},
   "outputs": [
    {
     "data": {
      "text/plain": [
       "2    1\n",
       "3    7\n",
       "4    2\n",
       "dtype: int32"
      ]
     },
     "execution_count": 77,
     "metadata": {},
     "output_type": "execute_result"
    }
   ],
   "source": [
    "s[0:3] # slicing uses implicit indexing"
   ]
  },
  {
   "cell_type": "code",
   "execution_count": 78,
   "metadata": {},
   "outputs": [
    {
     "data": {
      "text/plain": [
       "2    1\n",
       "3    7\n",
       "4    2\n",
       "dtype: int32"
      ]
     },
     "execution_count": 78,
     "metadata": {},
     "output_type": "execute_result"
    }
   ],
   "source": [
    "s.iloc[0:3] # note that the value corresponding to \"3\" is NOT included"
   ]
  },
  {
   "cell_type": "code",
   "execution_count": 79,
   "metadata": {},
   "outputs": [
    {
     "data": {
      "text/plain": [
       "2    1\n",
       "3    7\n",
       "4    2\n",
       "dtype: int32"
      ]
     },
     "execution_count": 79,
     "metadata": {},
     "output_type": "execute_result"
    }
   ],
   "source": [
    "s.loc[2:4] # note that the value corresponding to \"4\" IS included"
   ]
  },
  {
   "cell_type": "code",
   "execution_count": 80,
   "metadata": {},
   "outputs": [
    {
     "data": {
      "text/plain": [
       "c    20\n",
       "a    40\n",
       "b    10\n",
       "dtype: int64"
      ]
     },
     "execution_count": 80,
     "metadata": {},
     "output_type": "execute_result"
    }
   ],
   "source": [
    "s = pd.Series({\"c\": 20, \"a\": 40, \"b\": 10})\n",
    "s"
   ]
  },
  {
   "cell_type": "code",
   "execution_count": 81,
   "metadata": {},
   "outputs": [
    {
     "data": {
      "text/plain": [
       "b    10.0\n",
       "c    20.0\n",
       "d     NaN\n",
       "c    20.0\n",
       "dtype: float64"
      ]
     },
     "execution_count": 81,
     "metadata": {},
     "output_type": "execute_result"
    }
   ],
   "source": [
    "s = pd.Series({\"c\": 20, \"a\": 40, \"b\": 10}, \n",
    "              index=[\"b\",\"c\",\"d\",\"c\"] )\n",
    "s"
   ]
  },
  {
   "cell_type": "code",
   "execution_count": 82,
   "metadata": {},
   "outputs": [
    {
     "data": {
      "text/plain": [
       "0    hi\n",
       "1    hi\n",
       "2    hi\n",
       "3    hi\n",
       "4    hi\n",
       "dtype: object"
      ]
     },
     "execution_count": 82,
     "metadata": {},
     "output_type": "execute_result"
    }
   ],
   "source": [
    "s = pd.Series('hi', index = np.arange(5))\n",
    "s"
   ]
  },
  {
   "cell_type": "markdown",
   "metadata": {},
   "source": [
    "#### DataFrame"
   ]
  },
  {
   "cell_type": "code",
   "execution_count": 83,
   "metadata": {},
   "outputs": [
    {
     "data": {
      "text/plain": [
       "{'one': a    hi\n",
       " b    hi\n",
       " c    hi\n",
       " d    hi\n",
       " dtype: object,\n",
       " 'two': a          1.0\n",
       " b    [yes, no]\n",
       " c          3.0\n",
       " d            5\n",
       " dtype: object,\n",
       " 'three': a    40.0\n",
       " b    10.0\n",
       " c    20.0\n",
       " d     NaN\n",
       " dtype: float64}"
      ]
     },
     "execution_count": 83,
     "metadata": {},
     "output_type": "execute_result"
    }
   ],
   "source": [
    "d = {\"one\": pd.Series('hi', index=[\"a\", \"b\", \"c\", \"d\"]), \n",
    "     \"two\": pd.Series([1.0, [\"yes\", \"no\"], 3.0, 5], index=[\"a\", \"b\", \"c\", \"d\"]),\n",
    "     \"three\": pd.Series({\"c\": 20, \"a\": 40, \"b\": 10}, index=[\"a\",\"b\",\"c\",\"d\"])}\n",
    "d"
   ]
  },
  {
   "cell_type": "code",
   "execution_count": 84,
   "metadata": {},
   "outputs": [
    {
     "data": {
      "text/html": [
       "<div>\n",
       "<style scoped>\n",
       "    .dataframe tbody tr th:only-of-type {\n",
       "        vertical-align: middle;\n",
       "    }\n",
       "\n",
       "    .dataframe tbody tr th {\n",
       "        vertical-align: top;\n",
       "    }\n",
       "\n",
       "    .dataframe thead th {\n",
       "        text-align: right;\n",
       "    }\n",
       "</style>\n",
       "<table border=\"1\" class=\"dataframe\">\n",
       "  <thead>\n",
       "    <tr style=\"text-align: right;\">\n",
       "      <th></th>\n",
       "      <th>one</th>\n",
       "      <th>two</th>\n",
       "      <th>three</th>\n",
       "    </tr>\n",
       "  </thead>\n",
       "  <tbody>\n",
       "    <tr>\n",
       "      <th>a</th>\n",
       "      <td>hi</td>\n",
       "      <td>1.0</td>\n",
       "      <td>40.0</td>\n",
       "    </tr>\n",
       "    <tr>\n",
       "      <th>b</th>\n",
       "      <td>hi</td>\n",
       "      <td>[yes, no]</td>\n",
       "      <td>10.0</td>\n",
       "    </tr>\n",
       "    <tr>\n",
       "      <th>c</th>\n",
       "      <td>hi</td>\n",
       "      <td>3.0</td>\n",
       "      <td>20.0</td>\n",
       "    </tr>\n",
       "    <tr>\n",
       "      <th>d</th>\n",
       "      <td>hi</td>\n",
       "      <td>5</td>\n",
       "      <td>NaN</td>\n",
       "    </tr>\n",
       "  </tbody>\n",
       "</table>\n",
       "</div>"
      ],
      "text/plain": [
       "  one        two  three\n",
       "a  hi        1.0   40.0\n",
       "b  hi  [yes, no]   10.0\n",
       "c  hi        3.0   20.0\n",
       "d  hi          5    NaN"
      ]
     },
     "execution_count": 84,
     "metadata": {},
     "output_type": "execute_result"
    }
   ],
   "source": [
    "df = pd.DataFrame(d)\n",
    "df # pandas nicely presents the DataFrame"
   ]
  },
  {
   "cell_type": "code",
   "execution_count": 85,
   "metadata": {},
   "outputs": [
    {
     "data": {
      "text/html": [
       "<div>\n",
       "<style scoped>\n",
       "    .dataframe tbody tr th:only-of-type {\n",
       "        vertical-align: middle;\n",
       "    }\n",
       "\n",
       "    .dataframe tbody tr th {\n",
       "        vertical-align: top;\n",
       "    }\n",
       "\n",
       "    .dataframe thead th {\n",
       "        text-align: right;\n",
       "    }\n",
       "</style>\n",
       "<table border=\"1\" class=\"dataframe\">\n",
       "  <thead>\n",
       "    <tr style=\"text-align: right;\">\n",
       "      <th></th>\n",
       "      <th>Korea</th>\n",
       "      <th>Japan</th>\n",
       "    </tr>\n",
       "  </thead>\n",
       "  <tbody>\n",
       "    <tr>\n",
       "      <th>lake</th>\n",
       "      <td>10</td>\n",
       "      <td>80.0</td>\n",
       "    </tr>\n",
       "    <tr>\n",
       "      <th>pond</th>\n",
       "      <td>30</td>\n",
       "      <td>NaN</td>\n",
       "    </tr>\n",
       "    <tr>\n",
       "      <th>river</th>\n",
       "      <td>200</td>\n",
       "      <td>300.0</td>\n",
       "    </tr>\n",
       "    <tr>\n",
       "      <th>spring</th>\n",
       "      <td>1000</td>\n",
       "      <td>900.0</td>\n",
       "    </tr>\n",
       "  </tbody>\n",
       "</table>\n",
       "</div>"
      ],
      "text/plain": [
       "        Korea  Japan\n",
       "lake       10   80.0\n",
       "pond       30    NaN\n",
       "river     200  300.0\n",
       "spring   1000  900.0"
      ]
     },
     "execution_count": 85,
     "metadata": {},
     "output_type": "execute_result"
    }
   ],
   "source": [
    "kor = pd.Series([1000, 200, 30, 10], index = ['spring', 'river', 'pond', 'lake'])\n",
    "jap = pd.Series([900, 80, 300], index = ['spring', 'lake', 'river'])\n",
    "df = pd.DataFrame({\"Korea\": kor, \"Japan\": jap})\n",
    "df # observe the missing data"
   ]
  },
  {
   "cell_type": "code",
   "execution_count": 86,
   "metadata": {},
   "outputs": [
    {
     "data": {
      "text/html": [
       "<div>\n",
       "<style scoped>\n",
       "    .dataframe tbody tr th:only-of-type {\n",
       "        vertical-align: middle;\n",
       "    }\n",
       "\n",
       "    .dataframe tbody tr th {\n",
       "        vertical-align: top;\n",
       "    }\n",
       "\n",
       "    .dataframe thead th {\n",
       "        text-align: right;\n",
       "    }\n",
       "</style>\n",
       "<table border=\"1\" class=\"dataframe\">\n",
       "  <thead>\n",
       "    <tr style=\"text-align: right;\">\n",
       "      <th></th>\n",
       "      <th>Korea</th>\n",
       "      <th>Japan</th>\n",
       "    </tr>\n",
       "  </thead>\n",
       "  <tbody>\n",
       "    <tr>\n",
       "      <th>lake</th>\n",
       "      <td>10.0</td>\n",
       "      <td>80.0</td>\n",
       "    </tr>\n",
       "    <tr>\n",
       "      <th>pond</th>\n",
       "      <td>30.0</td>\n",
       "      <td>NaN</td>\n",
       "    </tr>\n",
       "    <tr>\n",
       "      <th>river</th>\n",
       "      <td>200.0</td>\n",
       "      <td>300.0</td>\n",
       "    </tr>\n",
       "    <tr>\n",
       "      <th>spring</th>\n",
       "      <td>1000.0</td>\n",
       "      <td>900.0</td>\n",
       "    </tr>\n",
       "  </tbody>\n",
       "</table>\n",
       "</div>"
      ],
      "text/plain": [
       "         Korea  Japan\n",
       "lake      10.0   80.0\n",
       "pond      30.0    NaN\n",
       "river    200.0  300.0\n",
       "spring  1000.0  900.0"
      ]
     },
     "execution_count": 86,
     "metadata": {},
     "output_type": "execute_result"
    }
   ],
   "source": [
    "a = np.array([[10,30,200,1000],[80, np.nan, 300, 900]]).T # to transpose\n",
    "df = pd.DataFrame(a, \n",
    "                  index = ['lake', 'pond', 'river', 'spring'], \n",
    "                  columns = ['Korea','Japan'])\n",
    "df"
   ]
  },
  {
   "cell_type": "code",
   "execution_count": 87,
   "metadata": {},
   "outputs": [
    {
     "data": {
      "text/html": [
       "<div>\n",
       "<style scoped>\n",
       "    .dataframe tbody tr th:only-of-type {\n",
       "        vertical-align: middle;\n",
       "    }\n",
       "\n",
       "    .dataframe tbody tr th {\n",
       "        vertical-align: top;\n",
       "    }\n",
       "\n",
       "    .dataframe thead th {\n",
       "        text-align: right;\n",
       "    }\n",
       "</style>\n",
       "<table border=\"1\" class=\"dataframe\">\n",
       "  <thead>\n",
       "    <tr style=\"text-align: right;\">\n",
       "      <th></th>\n",
       "      <th>Korea</th>\n",
       "      <th>Japan</th>\n",
       "    </tr>\n",
       "  </thead>\n",
       "  <tbody>\n",
       "    <tr>\n",
       "      <th>spring</th>\n",
       "      <td>100</td>\n",
       "      <td>900.0</td>\n",
       "    </tr>\n",
       "    <tr>\n",
       "      <th>river</th>\n",
       "      <td>200</td>\n",
       "      <td>300.0</td>\n",
       "    </tr>\n",
       "    <tr>\n",
       "      <th>pond</th>\n",
       "      <td>30</td>\n",
       "      <td>NaN</td>\n",
       "    </tr>\n",
       "    <tr>\n",
       "      <th>lake</th>\n",
       "      <td>10</td>\n",
       "      <td>80.0</td>\n",
       "    </tr>\n",
       "  </tbody>\n",
       "</table>\n",
       "</div>"
      ],
      "text/plain": [
       "        Korea  Japan\n",
       "spring    100  900.0\n",
       "river     200  300.0\n",
       "pond       30    NaN\n",
       "lake       10   80.0"
      ]
     },
     "execution_count": 87,
     "metadata": {},
     "output_type": "execute_result"
    }
   ],
   "source": [
    "dict = {\"Korea\": [100, 200, 30, 10], \n",
    "        \"Japan\": [900, 300, None, 80]}\n",
    "df = pd.DataFrame(dict,\n",
    "                  index=['spring', 'river', 'pond', 'lake'])\n",
    "df"
   ]
  },
  {
   "cell_type": "code",
   "execution_count": 89,
   "metadata": {},
   "outputs": [
    {
     "data": {
      "text/html": [
       "<div>\n",
       "<style scoped>\n",
       "    .dataframe tbody tr th:only-of-type {\n",
       "        vertical-align: middle;\n",
       "    }\n",
       "\n",
       "    .dataframe tbody tr th {\n",
       "        vertical-align: top;\n",
       "    }\n",
       "\n",
       "    .dataframe thead th {\n",
       "        text-align: right;\n",
       "    }\n",
       "</style>\n",
       "<table border=\"1\" class=\"dataframe\">\n",
       "  <thead>\n",
       "    <tr style=\"text-align: right;\">\n",
       "      <th></th>\n",
       "      <th>Korea</th>\n",
       "      <th>Japan</th>\n",
       "    </tr>\n",
       "  </thead>\n",
       "  <tbody>\n",
       "    <tr>\n",
       "      <th>spring</th>\n",
       "      <td>100</td>\n",
       "      <td>900.0</td>\n",
       "    </tr>\n",
       "    <tr>\n",
       "      <th>river</th>\n",
       "      <td>200</td>\n",
       "      <td>300.0</td>\n",
       "    </tr>\n",
       "    <tr>\n",
       "      <th>pond</th>\n",
       "      <td>30</td>\n",
       "      <td>NaN</td>\n",
       "    </tr>\n",
       "    <tr>\n",
       "      <th>lake</th>\n",
       "      <td>10</td>\n",
       "      <td>80.0</td>\n",
       "    </tr>\n",
       "  </tbody>\n",
       "</table>\n",
       "</div>"
      ],
      "text/plain": [
       "        Korea  Japan\n",
       "spring    100  900.0\n",
       "river     200  300.0\n",
       "pond       30    NaN\n",
       "lake       10   80.0"
      ]
     },
     "execution_count": 89,
     "metadata": {},
     "output_type": "execute_result"
    }
   ],
   "source": [
    "my_list = [{\"Korea\": 100, \"Japan\": 900}, \n",
    "           {\"Korea\": 200, \"Japan\": 300}, \n",
    "           {\"Korea\": 30}, \n",
    "           {\"Korea\": 10, \"Japan\": 80}]\n",
    "df = pd.DataFrame(my_list, \n",
    "                  index=['spring', 'river', 'pond', 'lake'])\n",
    "df"
   ]
  },
  {
   "cell_type": "code",
   "execution_count": 90,
   "metadata": {},
   "outputs": [
    {
     "data": {
      "text/html": [
       "<div>\n",
       "<style scoped>\n",
       "    .dataframe tbody tr th:only-of-type {\n",
       "        vertical-align: middle;\n",
       "    }\n",
       "\n",
       "    .dataframe tbody tr th {\n",
       "        vertical-align: top;\n",
       "    }\n",
       "\n",
       "    .dataframe thead th {\n",
       "        text-align: right;\n",
       "    }\n",
       "</style>\n",
       "<table border=\"1\" class=\"dataframe\">\n",
       "  <thead>\n",
       "    <tr style=\"text-align: right;\">\n",
       "      <th></th>\n",
       "      <th>Japan</th>\n",
       "      <th>USA</th>\n",
       "      <th>Korea</th>\n",
       "    </tr>\n",
       "  </thead>\n",
       "  <tbody>\n",
       "    <tr>\n",
       "      <th>spring</th>\n",
       "      <td>900.0</td>\n",
       "      <td>NaN</td>\n",
       "      <td>100</td>\n",
       "    </tr>\n",
       "    <tr>\n",
       "      <th>river</th>\n",
       "      <td>300.0</td>\n",
       "      <td>NaN</td>\n",
       "      <td>200</td>\n",
       "    </tr>\n",
       "    <tr>\n",
       "      <th>pond</th>\n",
       "      <td>NaN</td>\n",
       "      <td>NaN</td>\n",
       "      <td>30</td>\n",
       "    </tr>\n",
       "    <tr>\n",
       "      <th>lake</th>\n",
       "      <td>80.0</td>\n",
       "      <td>NaN</td>\n",
       "      <td>10</td>\n",
       "    </tr>\n",
       "  </tbody>\n",
       "</table>\n",
       "</div>"
      ],
      "text/plain": [
       "        Japan  USA  Korea\n",
       "spring  900.0  NaN    100\n",
       "river   300.0  NaN    200\n",
       "pond      NaN  NaN     30\n",
       "lake     80.0  NaN     10"
      ]
     },
     "execution_count": 90,
     "metadata": {},
     "output_type": "execute_result"
    }
   ],
   "source": [
    "list1 = [{\"Korea\": 100, \"Japan\": 900}, \n",
    "         {\"Korea\": 200, \"Japan\": 300}, \n",
    "         {\"Korea\": 30}, \n",
    "         {\"Korea\": 10, \"Japan\": 80}]\n",
    "df = pd.DataFrame(list1, \n",
    "                  index=['spring', 'river', 'pond', 'lake'],\n",
    "                  columns=['Japan', 'USA', 'Korea'])\n",
    "df"
   ]
  },
  {
   "cell_type": "code",
   "execution_count": 91,
   "metadata": {},
   "outputs": [
    {
     "data": {
      "text/plain": [
       "spring    900.0\n",
       "river     300.0\n",
       "pond        NaN\n",
       "lake       80.0\n",
       "Name: Japan, dtype: float64"
      ]
     },
     "execution_count": 91,
     "metadata": {},
     "output_type": "execute_result"
    }
   ],
   "source": [
    "df['Japan']"
   ]
  },
  {
   "cell_type": "code",
   "execution_count": 92,
   "metadata": {},
   "outputs": [
    {
     "data": {
      "text/plain": [
       "pandas.core.series.Series"
      ]
     },
     "execution_count": 92,
     "metadata": {},
     "output_type": "execute_result"
    }
   ],
   "source": [
    "type(df['Japan'])"
   ]
  },
  {
   "cell_type": "code",
   "execution_count": 93,
   "metadata": {},
   "outputs": [
    {
     "data": {
      "text/plain": [
       "pandas.core.frame.DataFrame"
      ]
     },
     "execution_count": 93,
     "metadata": {},
     "output_type": "execute_result"
    }
   ],
   "source": [
    "type(df[['USA','Japan']])"
   ]
  },
  {
   "cell_type": "code",
   "execution_count": 94,
   "metadata": {},
   "outputs": [
    {
     "data": {
      "text/plain": [
       "spring    900.0\n",
       "river     300.0\n",
       "pond        NaN\n",
       "lake       80.0\n",
       "Name: Japan, dtype: float64"
      ]
     },
     "execution_count": 94,
     "metadata": {},
     "output_type": "execute_result"
    }
   ],
   "source": [
    "df.Japan"
   ]
  },
  {
   "cell_type": "code",
   "execution_count": 95,
   "metadata": {},
   "outputs": [
    {
     "data": {
      "text/html": [
       "<div>\n",
       "<style scoped>\n",
       "    .dataframe tbody tr th:only-of-type {\n",
       "        vertical-align: middle;\n",
       "    }\n",
       "\n",
       "    .dataframe tbody tr th {\n",
       "        vertical-align: top;\n",
       "    }\n",
       "\n",
       "    .dataframe thead th {\n",
       "        text-align: right;\n",
       "    }\n",
       "</style>\n",
       "<table border=\"1\" class=\"dataframe\">\n",
       "  <thead>\n",
       "    <tr style=\"text-align: right;\">\n",
       "      <th></th>\n",
       "      <th>USA</th>\n",
       "      <th>Japan</th>\n",
       "    </tr>\n",
       "  </thead>\n",
       "  <tbody>\n",
       "    <tr>\n",
       "      <th>spring</th>\n",
       "      <td>NaN</td>\n",
       "      <td>900.0</td>\n",
       "    </tr>\n",
       "    <tr>\n",
       "      <th>river</th>\n",
       "      <td>NaN</td>\n",
       "      <td>300.0</td>\n",
       "    </tr>\n",
       "    <tr>\n",
       "      <th>pond</th>\n",
       "      <td>NaN</td>\n",
       "      <td>NaN</td>\n",
       "    </tr>\n",
       "    <tr>\n",
       "      <th>lake</th>\n",
       "      <td>NaN</td>\n",
       "      <td>80.0</td>\n",
       "    </tr>\n",
       "  </tbody>\n",
       "</table>\n",
       "</div>"
      ],
      "text/plain": [
       "        USA  Japan\n",
       "spring  NaN  900.0\n",
       "river   NaN  300.0\n",
       "pond    NaN    NaN\n",
       "lake    NaN   80.0"
      ]
     },
     "execution_count": 95,
     "metadata": {},
     "output_type": "execute_result"
    }
   ],
   "source": [
    "df[['USA','Japan']]"
   ]
  },
  {
   "cell_type": "code",
   "execution_count": 96,
   "metadata": {},
   "outputs": [
    {
     "data": {
      "text/html": [
       "<div>\n",
       "<style scoped>\n",
       "    .dataframe tbody tr th:only-of-type {\n",
       "        vertical-align: middle;\n",
       "    }\n",
       "\n",
       "    .dataframe tbody tr th {\n",
       "        vertical-align: top;\n",
       "    }\n",
       "\n",
       "    .dataframe thead th {\n",
       "        text-align: right;\n",
       "    }\n",
       "</style>\n",
       "<table border=\"1\" class=\"dataframe\">\n",
       "  <thead>\n",
       "    <tr style=\"text-align: right;\">\n",
       "      <th></th>\n",
       "      <th>Japan</th>\n",
       "      <th>USA</th>\n",
       "    </tr>\n",
       "  </thead>\n",
       "  <tbody>\n",
       "    <tr>\n",
       "      <th>river</th>\n",
       "      <td>300.0</td>\n",
       "      <td>NaN</td>\n",
       "    </tr>\n",
       "    <tr>\n",
       "      <th>pond</th>\n",
       "      <td>NaN</td>\n",
       "      <td>NaN</td>\n",
       "    </tr>\n",
       "    <tr>\n",
       "      <th>lake</th>\n",
       "      <td>80.0</td>\n",
       "      <td>NaN</td>\n",
       "    </tr>\n",
       "  </tbody>\n",
       "</table>\n",
       "</div>"
      ],
      "text/plain": [
       "       Japan  USA\n",
       "river  300.0  NaN\n",
       "pond     NaN  NaN\n",
       "lake    80.0  NaN"
      ]
     },
     "execution_count": 96,
     "metadata": {},
     "output_type": "execute_result"
    }
   ],
   "source": [
    "df.iloc[1:4,0:2]"
   ]
  },
  {
   "cell_type": "code",
   "execution_count": 97,
   "metadata": {},
   "outputs": [
    {
     "data": {
      "text/html": [
       "<div>\n",
       "<style scoped>\n",
       "    .dataframe tbody tr th:only-of-type {\n",
       "        vertical-align: middle;\n",
       "    }\n",
       "\n",
       "    .dataframe tbody tr th {\n",
       "        vertical-align: top;\n",
       "    }\n",
       "\n",
       "    .dataframe thead th {\n",
       "        text-align: right;\n",
       "    }\n",
       "</style>\n",
       "<table border=\"1\" class=\"dataframe\">\n",
       "  <thead>\n",
       "    <tr style=\"text-align: right;\">\n",
       "      <th></th>\n",
       "      <th>Japan</th>\n",
       "      <th>USA</th>\n",
       "    </tr>\n",
       "  </thead>\n",
       "  <tbody>\n",
       "    <tr>\n",
       "      <th>river</th>\n",
       "      <td>300.0</td>\n",
       "      <td>NaN</td>\n",
       "    </tr>\n",
       "    <tr>\n",
       "      <th>lake</th>\n",
       "      <td>80.0</td>\n",
       "      <td>NaN</td>\n",
       "    </tr>\n",
       "  </tbody>\n",
       "</table>\n",
       "</div>"
      ],
      "text/plain": [
       "       Japan  USA\n",
       "river  300.0  NaN\n",
       "lake    80.0  NaN"
      ]
     },
     "execution_count": 97,
     "metadata": {},
     "output_type": "execute_result"
    }
   ],
   "source": [
    "df.loc[['river','lake'], 'Japan':'USA']"
   ]
  },
  {
   "cell_type": "code",
   "execution_count": 98,
   "metadata": {},
   "outputs": [
    {
     "data": {
      "text/plain": [
       "spring    900.0\n",
       "river     300.0\n",
       "Name: Japan, dtype: float64"
      ]
     },
     "execution_count": 98,
     "metadata": {},
     "output_type": "execute_result"
    }
   ],
   "source": [
    "df.Japan.iloc[:2]"
   ]
  },
  {
   "cell_type": "code",
   "execution_count": 99,
   "metadata": {},
   "outputs": [
    {
     "data": {
      "text/plain": [
       "spring    900.0\n",
       "river     300.0\n",
       "Name: Japan, dtype: float64"
      ]
     },
     "execution_count": 99,
     "metadata": {},
     "output_type": "execute_result"
    }
   ],
   "source": [
    "df['Japan'].iloc[:2]"
   ]
  },
  {
   "cell_type": "code",
   "execution_count": 100,
   "metadata": {},
   "outputs": [
    {
     "data": {
      "text/plain": [
       "300.0"
      ]
     },
     "execution_count": 100,
     "metadata": {},
     "output_type": "execute_result"
    }
   ],
   "source": [
    "df.iloc[1,0]"
   ]
  },
  {
   "cell_type": "code",
   "execution_count": 101,
   "metadata": {},
   "outputs": [
    {
     "data": {
      "text/plain": [
       "300.0"
      ]
     },
     "execution_count": 101,
     "metadata": {},
     "output_type": "execute_result"
    }
   ],
   "source": [
    "df.loc['river', 'Japan']"
   ]
  },
  {
   "cell_type": "code",
   "execution_count": 102,
   "metadata": {},
   "outputs": [],
   "source": [
    "#df['river', 'Japan'] # raises error if run"
   ]
  },
  {
   "cell_type": "code",
   "execution_count": 103,
   "metadata": {},
   "outputs": [
    {
     "data": {
      "text/html": [
       "<div>\n",
       "<style scoped>\n",
       "    .dataframe tbody tr th:only-of-type {\n",
       "        vertical-align: middle;\n",
       "    }\n",
       "\n",
       "    .dataframe tbody tr th {\n",
       "        vertical-align: top;\n",
       "    }\n",
       "\n",
       "    .dataframe thead th {\n",
       "        text-align: right;\n",
       "    }\n",
       "</style>\n",
       "<table border=\"1\" class=\"dataframe\">\n",
       "  <thead>\n",
       "    <tr style=\"text-align: right;\">\n",
       "      <th></th>\n",
       "      <th>GPA</th>\n",
       "      <th>Name</th>\n",
       "      <th>Phone</th>\n",
       "    </tr>\n",
       "  </thead>\n",
       "  <tbody>\n",
       "    <tr>\n",
       "      <th>0</th>\n",
       "      <td>3.00</td>\n",
       "      <td>Askar</td>\n",
       "      <td>8728</td>\n",
       "    </tr>\n",
       "    <tr>\n",
       "      <th>1</th>\n",
       "      <td>3.92</td>\n",
       "      <td>Aygul</td>\n",
       "      <td>8730</td>\n",
       "    </tr>\n",
       "    <tr>\n",
       "      <th>2</th>\n",
       "      <td>2.89</td>\n",
       "      <td>Ainur</td>\n",
       "      <td>8712</td>\n",
       "    </tr>\n",
       "    <tr>\n",
       "      <th>3</th>\n",
       "      <td>3.43</td>\n",
       "      <td>John</td>\n",
       "      <td>8776</td>\n",
       "    </tr>\n",
       "    <tr>\n",
       "      <th>4</th>\n",
       "      <td>3.55</td>\n",
       "      <td>Smith</td>\n",
       "      <td>8770</td>\n",
       "    </tr>\n",
       "    <tr>\n",
       "      <th>5</th>\n",
       "      <td>2.75</td>\n",
       "      <td>Xian</td>\n",
       "      <td>8765</td>\n",
       "    </tr>\n",
       "  </tbody>\n",
       "</table>\n",
       "</div>"
      ],
      "text/plain": [
       "    GPA   Name  Phone\n",
       "0  3.00  Askar   8728\n",
       "1  3.92  Aygul   8730\n",
       "2  2.89  Ainur   8712\n",
       "3  3.43   John   8776\n",
       "4  3.55  Smith   8770\n",
       "5  2.75   Xian   8765"
      ]
     },
     "execution_count": 103,
     "metadata": {},
     "output_type": "execute_result"
    }
   ],
   "source": [
    "dict1 = {\"GPA\": pd.Series([3.00, 3.92, 2.89, 3.43, 3.55, 2.75]),\n",
    "         \"Name\": pd.Series(['Askar', 'Aygul', 'Ainur', 'John', 'Smith', 'Xian']),\n",
    "         \"Phone\": pd.Series([8728, 8730, 8712, 8776, 8770, 8765])\n",
    "         }\n",
    "df = pd.DataFrame(dict1)\n",
    "df"
   ]
  },
  {
   "cell_type": "code",
   "execution_count": 104,
   "metadata": {},
   "outputs": [
    {
     "data": {
      "text/plain": [
       "0    False\n",
       "1     True\n",
       "2    False\n",
       "3    False\n",
       "4     True\n",
       "5    False\n",
       "Name: GPA, dtype: bool"
      ]
     },
     "execution_count": 104,
     "metadata": {},
     "output_type": "execute_result"
    }
   ],
   "source": [
    "df.GPA > 3.5"
   ]
  },
  {
   "cell_type": "code",
   "execution_count": 105,
   "metadata": {},
   "outputs": [
    {
     "data": {
      "text/plain": [
       "1    Aygul\n",
       "4    Smith\n",
       "Name: Name, dtype: object"
      ]
     },
     "execution_count": 105,
     "metadata": {},
     "output_type": "execute_result"
    }
   ],
   "source": [
    "df.Name[df.GPA > 3.5]"
   ]
  },
  {
   "cell_type": "code",
   "execution_count": 106,
   "metadata": {},
   "outputs": [
    {
     "data": {
      "text/html": [
       "<div>\n",
       "<style scoped>\n",
       "    .dataframe tbody tr th:only-of-type {\n",
       "        vertical-align: middle;\n",
       "    }\n",
       "\n",
       "    .dataframe tbody tr th {\n",
       "        vertical-align: top;\n",
       "    }\n",
       "\n",
       "    .dataframe thead th {\n",
       "        text-align: right;\n",
       "    }\n",
       "</style>\n",
       "<table border=\"1\" class=\"dataframe\">\n",
       "  <thead>\n",
       "    <tr style=\"text-align: right;\">\n",
       "      <th></th>\n",
       "      <th>GPA</th>\n",
       "      <th>Name</th>\n",
       "      <th>Phone</th>\n",
       "    </tr>\n",
       "  </thead>\n",
       "  <tbody>\n",
       "    <tr>\n",
       "      <th>1</th>\n",
       "      <td>3.92</td>\n",
       "      <td>Aygul</td>\n",
       "      <td>8730</td>\n",
       "    </tr>\n",
       "    <tr>\n",
       "      <th>4</th>\n",
       "      <td>3.55</td>\n",
       "      <td>Smith</td>\n",
       "      <td>8770</td>\n",
       "    </tr>\n",
       "  </tbody>\n",
       "</table>\n",
       "</div>"
      ],
      "text/plain": [
       "    GPA   Name  Phone\n",
       "1  3.92  Aygul   8730\n",
       "4  3.55  Smith   8770"
      ]
     },
     "execution_count": 106,
     "metadata": {},
     "output_type": "execute_result"
    }
   ],
   "source": [
    "df[df.GPA > 3.5]"
   ]
  },
  {
   "cell_type": "code",
   "execution_count": 107,
   "metadata": {},
   "outputs": [
    {
     "data": {
      "text/html": [
       "<div>\n",
       "<style scoped>\n",
       "    .dataframe tbody tr th:only-of-type {\n",
       "        vertical-align: middle;\n",
       "    }\n",
       "\n",
       "    .dataframe tbody tr th {\n",
       "        vertical-align: top;\n",
       "    }\n",
       "\n",
       "    .dataframe thead th {\n",
       "        text-align: right;\n",
       "    }\n",
       "</style>\n",
       "<table border=\"1\" class=\"dataframe\">\n",
       "  <thead>\n",
       "    <tr style=\"text-align: right;\">\n",
       "      <th></th>\n",
       "      <th>GPA</th>\n",
       "      <th>Name</th>\n",
       "      <th>Phone</th>\n",
       "    </tr>\n",
       "  </thead>\n",
       "  <tbody>\n",
       "    <tr>\n",
       "      <th>0</th>\n",
       "      <td>3.00</td>\n",
       "      <td>Askar</td>\n",
       "      <td>8728</td>\n",
       "    </tr>\n",
       "    <tr>\n",
       "      <th>1</th>\n",
       "      <td>3.92</td>\n",
       "      <td>Aygul</td>\n",
       "      <td>8730</td>\n",
       "    </tr>\n",
       "    <tr>\n",
       "      <th>2</th>\n",
       "      <td>2.89</td>\n",
       "      <td>Ainur</td>\n",
       "      <td>8712</td>\n",
       "    </tr>\n",
       "    <tr>\n",
       "      <th>3</th>\n",
       "      <td>3.43</td>\n",
       "      <td>John</td>\n",
       "      <td>8776</td>\n",
       "    </tr>\n",
       "    <tr>\n",
       "      <th>4</th>\n",
       "      <td>3.55</td>\n",
       "      <td>Smith</td>\n",
       "      <td>8770</td>\n",
       "    </tr>\n",
       "  </tbody>\n",
       "</table>\n",
       "</div>"
      ],
      "text/plain": [
       "    GPA   Name  Phone\n",
       "0  3.00  Askar   8728\n",
       "1  3.92  Aygul   8730\n",
       "2  2.89  Ainur   8712\n",
       "3  3.43   John   8776\n",
       "4  3.55  Smith   8770"
      ]
     },
     "execution_count": 107,
     "metadata": {},
     "output_type": "execute_result"
    }
   ],
   "source": [
    "df.head()"
   ]
  },
  {
   "cell_type": "code",
   "execution_count": 108,
   "metadata": {},
   "outputs": [
    {
     "data": {
      "text/plain": [
       "Index(['GPA', 'Name', 'Phone'], dtype='object')"
      ]
     },
     "execution_count": 108,
     "metadata": {},
     "output_type": "execute_result"
    }
   ],
   "source": [
    "df.columns"
   ]
  },
  {
   "cell_type": "markdown",
   "metadata": {},
   "source": [
    "#### Pandas read and write data"
   ]
  },
  {
   "cell_type": "code",
   "execution_count": 109,
   "metadata": {},
   "outputs": [],
   "source": [
    "#!pip install lxml"
   ]
  },
  {
   "cell_type": "code",
   "execution_count": 110,
   "metadata": {},
   "outputs": [
    {
     "name": "stdout",
     "output_type": "stream",
     "text": [
      "8\n"
     ]
    }
   ],
   "source": [
    "url = 'https://pandas.pydata.org/pandas-docs/stable/user_guide/io.html'\n",
    "table = pd.read_html(url)\n",
    "print(len(table))"
   ]
  },
  {
   "cell_type": "code",
   "execution_count": 111,
   "metadata": {},
   "outputs": [
    {
     "data": {
      "text/html": [
       "<div>\n",
       "<style scoped>\n",
       "    .dataframe tbody tr th:only-of-type {\n",
       "        vertical-align: middle;\n",
       "    }\n",
       "\n",
       "    .dataframe tbody tr th {\n",
       "        vertical-align: top;\n",
       "    }\n",
       "\n",
       "    .dataframe thead th {\n",
       "        text-align: right;\n",
       "    }\n",
       "</style>\n",
       "<table border=\"1\" class=\"dataframe\">\n",
       "  <thead>\n",
       "    <tr style=\"text-align: right;\">\n",
       "      <th></th>\n",
       "      <th>Format Type</th>\n",
       "      <th>Data Description</th>\n",
       "      <th>Reader</th>\n",
       "      <th>Writer</th>\n",
       "    </tr>\n",
       "  </thead>\n",
       "  <tbody>\n",
       "    <tr>\n",
       "      <th>0</th>\n",
       "      <td>text</td>\n",
       "      <td>CSV</td>\n",
       "      <td>read_csv</td>\n",
       "      <td>to_csv</td>\n",
       "    </tr>\n",
       "    <tr>\n",
       "      <th>1</th>\n",
       "      <td>text</td>\n",
       "      <td>Fixed-Width Text File</td>\n",
       "      <td>read_fwf</td>\n",
       "      <td>NaN</td>\n",
       "    </tr>\n",
       "    <tr>\n",
       "      <th>2</th>\n",
       "      <td>text</td>\n",
       "      <td>JSON</td>\n",
       "      <td>read_json</td>\n",
       "      <td>to_json</td>\n",
       "    </tr>\n",
       "    <tr>\n",
       "      <th>3</th>\n",
       "      <td>text</td>\n",
       "      <td>HTML</td>\n",
       "      <td>read_html</td>\n",
       "      <td>to_html</td>\n",
       "    </tr>\n",
       "    <tr>\n",
       "      <th>4</th>\n",
       "      <td>text</td>\n",
       "      <td>LaTeX</td>\n",
       "      <td>NaN</td>\n",
       "      <td>Styler.to_latex</td>\n",
       "    </tr>\n",
       "    <tr>\n",
       "      <th>5</th>\n",
       "      <td>text</td>\n",
       "      <td>XML</td>\n",
       "      <td>read_xml</td>\n",
       "      <td>to_xml</td>\n",
       "    </tr>\n",
       "    <tr>\n",
       "      <th>6</th>\n",
       "      <td>text</td>\n",
       "      <td>Local clipboard</td>\n",
       "      <td>read_clipboard</td>\n",
       "      <td>to_clipboard</td>\n",
       "    </tr>\n",
       "    <tr>\n",
       "      <th>7</th>\n",
       "      <td>binary</td>\n",
       "      <td>MS Excel</td>\n",
       "      <td>read_excel</td>\n",
       "      <td>to_excel</td>\n",
       "    </tr>\n",
       "    <tr>\n",
       "      <th>8</th>\n",
       "      <td>binary</td>\n",
       "      <td>OpenDocument</td>\n",
       "      <td>read_excel</td>\n",
       "      <td>NaN</td>\n",
       "    </tr>\n",
       "    <tr>\n",
       "      <th>9</th>\n",
       "      <td>binary</td>\n",
       "      <td>HDF5 Format</td>\n",
       "      <td>read_hdf</td>\n",
       "      <td>to_hdf</td>\n",
       "    </tr>\n",
       "    <tr>\n",
       "      <th>10</th>\n",
       "      <td>binary</td>\n",
       "      <td>Feather Format</td>\n",
       "      <td>read_feather</td>\n",
       "      <td>to_feather</td>\n",
       "    </tr>\n",
       "    <tr>\n",
       "      <th>11</th>\n",
       "      <td>binary</td>\n",
       "      <td>Parquet Format</td>\n",
       "      <td>read_parquet</td>\n",
       "      <td>to_parquet</td>\n",
       "    </tr>\n",
       "    <tr>\n",
       "      <th>12</th>\n",
       "      <td>binary</td>\n",
       "      <td>ORC Format</td>\n",
       "      <td>read_orc</td>\n",
       "      <td>to_orc</td>\n",
       "    </tr>\n",
       "    <tr>\n",
       "      <th>13</th>\n",
       "      <td>binary</td>\n",
       "      <td>Stata</td>\n",
       "      <td>read_stata</td>\n",
       "      <td>to_stata</td>\n",
       "    </tr>\n",
       "    <tr>\n",
       "      <th>14</th>\n",
       "      <td>binary</td>\n",
       "      <td>SAS</td>\n",
       "      <td>read_sas</td>\n",
       "      <td>NaN</td>\n",
       "    </tr>\n",
       "    <tr>\n",
       "      <th>15</th>\n",
       "      <td>binary</td>\n",
       "      <td>SPSS</td>\n",
       "      <td>read_spss</td>\n",
       "      <td>NaN</td>\n",
       "    </tr>\n",
       "    <tr>\n",
       "      <th>16</th>\n",
       "      <td>binary</td>\n",
       "      <td>Python Pickle Format</td>\n",
       "      <td>read_pickle</td>\n",
       "      <td>to_pickle</td>\n",
       "    </tr>\n",
       "    <tr>\n",
       "      <th>17</th>\n",
       "      <td>SQL</td>\n",
       "      <td>SQL</td>\n",
       "      <td>read_sql</td>\n",
       "      <td>to_sql</td>\n",
       "    </tr>\n",
       "    <tr>\n",
       "      <th>18</th>\n",
       "      <td>SQL</td>\n",
       "      <td>Google BigQuery</td>\n",
       "      <td>read_gbq</td>\n",
       "      <td>to_gbq</td>\n",
       "    </tr>\n",
       "  </tbody>\n",
       "</table>\n",
       "</div>"
      ],
      "text/plain": [
       "   Format Type       Data Description          Reader           Writer\n",
       "0         text                    CSV        read_csv           to_csv\n",
       "1         text  Fixed-Width Text File        read_fwf              NaN\n",
       "2         text                   JSON       read_json          to_json\n",
       "3         text                   HTML       read_html          to_html\n",
       "4         text                  LaTeX             NaN  Styler.to_latex\n",
       "5         text                    XML        read_xml           to_xml\n",
       "6         text        Local clipboard  read_clipboard     to_clipboard\n",
       "7       binary               MS Excel      read_excel         to_excel\n",
       "8       binary           OpenDocument      read_excel              NaN\n",
       "9       binary            HDF5 Format        read_hdf           to_hdf\n",
       "10      binary         Feather Format    read_feather       to_feather\n",
       "11      binary         Parquet Format    read_parquet       to_parquet\n",
       "12      binary             ORC Format        read_orc           to_orc\n",
       "13      binary                  Stata      read_stata         to_stata\n",
       "14      binary                    SAS        read_sas              NaN\n",
       "15      binary                   SPSS       read_spss              NaN\n",
       "16      binary   Python Pickle Format     read_pickle        to_pickle\n",
       "17         SQL                    SQL        read_sql           to_sql\n",
       "18         SQL        Google BigQuery        read_gbq           to_gbq"
      ]
     },
     "execution_count": 111,
     "metadata": {},
     "output_type": "execute_result"
    }
   ],
   "source": [
    "table[0]"
   ]
  },
  {
   "cell_type": "code",
   "execution_count": 112,
   "metadata": {},
   "outputs": [
    {
     "data": {
      "text/html": [
       "<div>\n",
       "<style scoped>\n",
       "    .dataframe tbody tr th:only-of-type {\n",
       "        vertical-align: middle;\n",
       "    }\n",
       "\n",
       "    .dataframe tbody tr th {\n",
       "        vertical-align: top;\n",
       "    }\n",
       "\n",
       "    .dataframe thead th {\n",
       "        text-align: right;\n",
       "    }\n",
       "</style>\n",
       "<table border=\"1\" class=\"dataframe\">\n",
       "  <thead>\n",
       "    <tr style=\"text-align: right;\">\n",
       "      <th></th>\n",
       "      <th>0</th>\n",
       "      <th>1</th>\n",
       "    </tr>\n",
       "  </thead>\n",
       "  <tbody>\n",
       "    <tr>\n",
       "      <th>0</th>\n",
       "      <td>split</td>\n",
       "      <td>dict like {index -&gt; [index], columns -&gt; [colum...</td>\n",
       "    </tr>\n",
       "    <tr>\n",
       "      <th>1</th>\n",
       "      <td>records</td>\n",
       "      <td>list like [{column -&gt; value}, … , {column -&gt; v...</td>\n",
       "    </tr>\n",
       "    <tr>\n",
       "      <th>2</th>\n",
       "      <td>index</td>\n",
       "      <td>dict like {index -&gt; {column -&gt; value}}</td>\n",
       "    </tr>\n",
       "    <tr>\n",
       "      <th>3</th>\n",
       "      <td>columns</td>\n",
       "      <td>dict like {column -&gt; {index -&gt; value}}</td>\n",
       "    </tr>\n",
       "    <tr>\n",
       "      <th>4</th>\n",
       "      <td>values</td>\n",
       "      <td>just the values array</td>\n",
       "    </tr>\n",
       "    <tr>\n",
       "      <th>5</th>\n",
       "      <td>table</td>\n",
       "      <td>adhering to the JSON Table Schema</td>\n",
       "    </tr>\n",
       "  </tbody>\n",
       "</table>\n",
       "</div>"
      ],
      "text/plain": [
       "         0                                                  1\n",
       "0    split  dict like {index -> [index], columns -> [colum...\n",
       "1  records  list like [{column -> value}, … , {column -> v...\n",
       "2    index             dict like {index -> {column -> value}}\n",
       "3  columns             dict like {column -> {index -> value}}\n",
       "4   values                              just the values array\n",
       "5    table                  adhering to the JSON Table Schema"
      ]
     },
     "execution_count": 112,
     "metadata": {},
     "output_type": "execute_result"
    }
   ],
   "source": [
    "table[1]"
   ]
  },
  {
   "cell_type": "markdown",
   "metadata": {},
   "source": [
    "**Excercise 1.** The following wikipedia page includes a list of many machine learning datasets:\n",
    "https://en.wikipedia.org/wiki/List_of_datasets_for_machine-learning_research\n",
    "\n",
    "Extract the table of datasets for “News articles” only and then find the minimum sample size used in datasets used in this table (i.e., the minimum of column “Instances”). In doing so,\n",
    "\n",
    "1) Do not extract all tables to choose this one from the list of tables. Make sure you only extract this table. To do so, use something unique in this table and use it as for the `match` argument of `pandas.read_html()`;\n",
    "\n",
    "2) The column “Instances” should be converted to numeric. For doing so, use `pandas.to_numeric()` function. Study and properly use the `errors` parameter of this function to be able to complete this task.\n",
    "\n",
    "3) See an appropriate `pandas.DataFrame` method to find the minimum."
   ]
  },
  {
   "cell_type": "code",
   "execution_count": 113,
   "metadata": {},
   "outputs": [
    {
     "name": "stdout",
     "output_type": "stream",
     "text": [
      "<class 'list'>\n",
      "<class 'pandas.core.frame.DataFrame'>\n"
     ]
    }
   ],
   "source": [
    "import pandas as pd\n",
    "url = 'https://en.wikipedia.org/wiki/List_of_datasets_for_machine-learning_research'\n",
    "\n",
    "# use something unique in the table that we need\n",
    "table = pd.read_html(url, match = 'NYSK Dataset') \n",
    "print(type(table))\n",
    "print(type(table[0]))"
   ]
  },
  {
   "cell_type": "code",
   "execution_count": 114,
   "metadata": {},
   "outputs": [
    {
     "data": {
      "text/plain": [
       "10421.0"
      ]
     },
     "execution_count": 114,
     "metadata": {},
     "output_type": "execute_result"
    }
   ],
   "source": [
    "table[0].Instances = pd.to_numeric(table[0].Instances, errors='coerce')\n",
    "table[0].Instances.min()"
   ]
  },
  {
   "cell_type": "markdown",
   "metadata": {},
   "source": [
    "Setting `errors='coerce'` means that if there are any values in the specified column (`table[0].Instances`) that cannot be converted to numeric (numbers), those values will be replaced with NaN (Not a Number). This can be useful when you want to convert a column to numeric values but allow non-numeric values to be handled gracefully by converting them to NaN rather than raising an error."
   ]
  },
  {
   "cell_type": "markdown",
   "metadata": {},
   "source": [
    "**Exercise 2.** The “data” folder, contains `GenomicData_orig.csv` file. This file contains a real dataset taken from Gene Expression Omnibus (GEO), https://www.ncbi.nlm.nih.gov/geo/ with accession ID `GSE37745`. The original data contains gene expression taken from 196 individuals with either squamous cell carcinoma (66 individuals), adenocarcinoma (106), or large cell carcinoma (24); however, we have chosen a subset of these individuals and also artificially removed some of the measurements to create the effect of missing data.\n",
    "\n",
    "1) Use an appropriate reader function from `pandas` to read this file and show the first 10 rows.\n",
    "\n",
    "2) What are the labels of the first column (index 0) and 20th column (index 19)?\n",
    "Hint: use the `columns` attribute of the DataFrame\n",
    "\n",
    "3) Drop the first two columns (index 0 and 1) because they are sample ID info\n",
    "and we do not need. Hint: use `pandas.DataFrame.drop()` method. You can use Part 2 to access the labels of these columns to use as input to `pandas.DataFrame.drop()`\n",
    "\n",
    "4) How many missing values are in this dataset? Hint: first use `pandas.DataFrame.isnull()` to return a DataFrame with `True` for missing values and `False` otherwise, and then either use `numpy.sum()` or `pandas.DataFrame.sum()`. Use `sum()` two times.\n",
    "\n",
    "5) Use `DataFrame.fillna()` method to fill the missing values with 0 (filling missing values with some values is known as imputing missing values). Use the method in Part 4 to show that there is no missing value now."
   ]
  },
  {
   "cell_type": "code",
   "execution_count": 115,
   "metadata": {},
   "outputs": [
    {
     "data": {
      "text/plain": [
       "(172, 21053)"
      ]
     },
     "execution_count": 115,
     "metadata": {},
     "output_type": "execute_result"
    }
   ],
   "source": [
    "import numpy as np\n",
    "import pandas as pd\n",
    "\n",
    "df = pd.read_csv('data/GenomicData_orig.csv')\n",
    "df.shape"
   ]
  },
  {
   "cell_type": "code",
   "execution_count": 116,
   "metadata": {},
   "outputs": [
    {
     "data": {
      "text/html": [
       "<div>\n",
       "<style scoped>\n",
       "    .dataframe tbody tr th:only-of-type {\n",
       "        vertical-align: middle;\n",
       "    }\n",
       "\n",
       "    .dataframe tbody tr th {\n",
       "        vertical-align: top;\n",
       "    }\n",
       "\n",
       "    .dataframe thead th {\n",
       "        text-align: right;\n",
       "    }\n",
       "</style>\n",
       "<table border=\"1\" class=\"dataframe\">\n",
       "  <thead>\n",
       "    <tr style=\"text-align: right;\">\n",
       "      <th></th>\n",
       "      <th>Unnamed: 0.1</th>\n",
       "      <th>Unnamed: 0</th>\n",
       "      <th>DDR1</th>\n",
       "      <th>RFC2</th>\n",
       "      <th>HSPA6</th>\n",
       "      <th>PAX8</th>\n",
       "      <th>GUCA1A</th>\n",
       "      <th>UBA7</th>\n",
       "      <th>THRA</th>\n",
       "      <th>PTPN21</th>\n",
       "      <th>...</th>\n",
       "      <th>LOC100505794 /// LOC100509111</th>\n",
       "      <th>LOC100505562</th>\n",
       "      <th>LOC388210</th>\n",
       "      <th>GALR3</th>\n",
       "      <th>NUS1P3</th>\n",
       "      <th>ITIH4</th>\n",
       "      <th>C1orf175 /// TTC4</th>\n",
       "      <th>LOC100294402 /// SIGIRR</th>\n",
       "      <th>FAM86B1</th>\n",
       "      <th>ClassType</th>\n",
       "    </tr>\n",
       "  </thead>\n",
       "  <tbody>\n",
       "    <tr>\n",
       "      <th>0</th>\n",
       "      <td>0</td>\n",
       "      <td>GSM1019138</td>\n",
       "      <td>11.696575</td>\n",
       "      <td>9.498098</td>\n",
       "      <td>6.926517</td>\n",
       "      <td>8.119192</td>\n",
       "      <td>3.412547</td>\n",
       "      <td>7.605915</td>\n",
       "      <td>5.287406</td>\n",
       "      <td>5.144362</td>\n",
       "      <td>...</td>\n",
       "      <td>4.265834</td>\n",
       "      <td>4.959345</td>\n",
       "      <td>6.715859</td>\n",
       "      <td>6.735606</td>\n",
       "      <td>6.747213</td>\n",
       "      <td>5.447054</td>\n",
       "      <td>9.377416</td>\n",
       "      <td>8.683283</td>\n",
       "      <td>6.336367</td>\n",
       "      <td>3</td>\n",
       "    </tr>\n",
       "    <tr>\n",
       "      <th>1</th>\n",
       "      <td>1</td>\n",
       "      <td>GSM1019139</td>\n",
       "      <td>10.324599</td>\n",
       "      <td>8.463703</td>\n",
       "      <td>7.473955</td>\n",
       "      <td>7.874865</td>\n",
       "      <td>3.328430</td>\n",
       "      <td>8.129946</td>\n",
       "      <td>5.352852</td>\n",
       "      <td>5.608019</td>\n",
       "      <td>...</td>\n",
       "      <td>4.213007</td>\n",
       "      <td>4.685613</td>\n",
       "      <td>6.637119</td>\n",
       "      <td>6.655126</td>\n",
       "      <td>5.412674</td>\n",
       "      <td>5.795338</td>\n",
       "      <td>8.626626</td>\n",
       "      <td>8.089686</td>\n",
       "      <td>6.563692</td>\n",
       "      <td>1</td>\n",
       "    </tr>\n",
       "    <tr>\n",
       "      <th>2</th>\n",
       "      <td>2</td>\n",
       "      <td>GSM1019140</td>\n",
       "      <td>11.416296</td>\n",
       "      <td>7.519654</td>\n",
       "      <td>6.387836</td>\n",
       "      <td>7.983135</td>\n",
       "      <td>3.646711</td>\n",
       "      <td>8.583098</td>\n",
       "      <td>5.611202</td>\n",
       "      <td>5.319620</td>\n",
       "      <td>...</td>\n",
       "      <td>3.806343</td>\n",
       "      <td>4.963023</td>\n",
       "      <td>6.939407</td>\n",
       "      <td>6.499424</td>\n",
       "      <td>5.213913</td>\n",
       "      <td>5.458659</td>\n",
       "      <td>8.571116</td>\n",
       "      <td>9.250713</td>\n",
       "      <td>6.835900</td>\n",
       "      <td>1</td>\n",
       "    </tr>\n",
       "    <tr>\n",
       "      <th>3</th>\n",
       "      <td>3</td>\n",
       "      <td>GSM1019141</td>\n",
       "      <td>10.621342</td>\n",
       "      <td>8.555675</td>\n",
       "      <td>8.714281</td>\n",
       "      <td>7.824748</td>\n",
       "      <td>4.590441</td>\n",
       "      <td>7.437547</td>\n",
       "      <td>4.943707</td>\n",
       "      <td>5.927861</td>\n",
       "      <td>...</td>\n",
       "      <td>4.538299</td>\n",
       "      <td>4.893736</td>\n",
       "      <td>6.761510</td>\n",
       "      <td>6.743840</td>\n",
       "      <td>6.288999</td>\n",
       "      <td>5.163930</td>\n",
       "      <td>9.400735</td>\n",
       "      <td>7.373988</td>\n",
       "      <td>5.743980</td>\n",
       "      <td>3</td>\n",
       "    </tr>\n",
       "    <tr>\n",
       "      <th>4</th>\n",
       "      <td>4</td>\n",
       "      <td>GSM1019142</td>\n",
       "      <td>10.227293</td>\n",
       "      <td>8.057257</td>\n",
       "      <td>8.236758</td>\n",
       "      <td>8.188167</td>\n",
       "      <td>4.062502</td>\n",
       "      <td>8.115143</td>\n",
       "      <td>5.536319</td>\n",
       "      <td>5.310099</td>\n",
       "      <td>...</td>\n",
       "      <td>4.568268</td>\n",
       "      <td>5.207185</td>\n",
       "      <td>7.023235</td>\n",
       "      <td>6.803608</td>\n",
       "      <td>7.004808</td>\n",
       "      <td>5.580082</td>\n",
       "      <td>8.802098</td>\n",
       "      <td>8.083213</td>\n",
       "      <td>6.872932</td>\n",
       "      <td>3</td>\n",
       "    </tr>\n",
       "    <tr>\n",
       "      <th>5</th>\n",
       "      <td>5</td>\n",
       "      <td>GSM1019143</td>\n",
       "      <td>10.852090</td>\n",
       "      <td>7.205088</td>\n",
       "      <td>6.797035</td>\n",
       "      <td>7.912747</td>\n",
       "      <td>3.782219</td>\n",
       "      <td>8.508192</td>\n",
       "      <td>5.454158</td>\n",
       "      <td>5.222022</td>\n",
       "      <td>...</td>\n",
       "      <td>4.267486</td>\n",
       "      <td>5.138446</td>\n",
       "      <td>6.883770</td>\n",
       "      <td>6.831136</td>\n",
       "      <td>4.594271</td>\n",
       "      <td>5.347909</td>\n",
       "      <td>8.154713</td>\n",
       "      <td>9.710947</td>\n",
       "      <td>8.269086</td>\n",
       "      <td>1</td>\n",
       "    </tr>\n",
       "    <tr>\n",
       "      <th>6</th>\n",
       "      <td>6</td>\n",
       "      <td>GSM1019144</td>\n",
       "      <td>10.327652</td>\n",
       "      <td>7.231442</td>\n",
       "      <td>7.063369</td>\n",
       "      <td>8.197583</td>\n",
       "      <td>3.626755</td>\n",
       "      <td>7.888974</td>\n",
       "      <td>5.722468</td>\n",
       "      <td>5.007221</td>\n",
       "      <td>...</td>\n",
       "      <td>4.367740</td>\n",
       "      <td>5.258414</td>\n",
       "      <td>7.184051</td>\n",
       "      <td>6.382832</td>\n",
       "      <td>4.822792</td>\n",
       "      <td>5.380583</td>\n",
       "      <td>7.531887</td>\n",
       "      <td>9.351460</td>\n",
       "      <td>7.533097</td>\n",
       "      <td>1</td>\n",
       "    </tr>\n",
       "    <tr>\n",
       "      <th>7</th>\n",
       "      <td>7</td>\n",
       "      <td>GSM1019145</td>\n",
       "      <td>10.941056</td>\n",
       "      <td>8.450882</td>\n",
       "      <td>6.798260</td>\n",
       "      <td>7.844914</td>\n",
       "      <td>3.523140</td>\n",
       "      <td>7.919265</td>\n",
       "      <td>5.487347</td>\n",
       "      <td>5.187310</td>\n",
       "      <td>...</td>\n",
       "      <td>5.038338</td>\n",
       "      <td>5.266794</td>\n",
       "      <td>7.181236</td>\n",
       "      <td>6.872071</td>\n",
       "      <td>4.789776</td>\n",
       "      <td>5.704748</td>\n",
       "      <td>8.010049</td>\n",
       "      <td>8.890014</td>\n",
       "      <td>8.698736</td>\n",
       "      <td>1</td>\n",
       "    </tr>\n",
       "    <tr>\n",
       "      <th>8</th>\n",
       "      <td>8</td>\n",
       "      <td>GSM1019146</td>\n",
       "      <td>10.840963</td>\n",
       "      <td>9.236060</td>\n",
       "      <td>6.940457</td>\n",
       "      <td>7.980586</td>\n",
       "      <td>4.228664</td>\n",
       "      <td>7.044434</td>\n",
       "      <td>5.382199</td>\n",
       "      <td>5.825585</td>\n",
       "      <td>...</td>\n",
       "      <td>3.847062</td>\n",
       "      <td>5.101884</td>\n",
       "      <td>6.711120</td>\n",
       "      <td>6.947955</td>\n",
       "      <td>6.973497</td>\n",
       "      <td>5.202546</td>\n",
       "      <td>8.462112</td>\n",
       "      <td>7.620480</td>\n",
       "      <td>6.431878</td>\n",
       "      <td>3</td>\n",
       "    </tr>\n",
       "    <tr>\n",
       "      <th>9</th>\n",
       "      <td>9</td>\n",
       "      <td>GSM1019147</td>\n",
       "      <td>10.191486</td>\n",
       "      <td>7.451627</td>\n",
       "      <td>7.559550</td>\n",
       "      <td>7.677324</td>\n",
       "      <td>3.120559</td>\n",
       "      <td>8.173592</td>\n",
       "      <td>5.388087</td>\n",
       "      <td>5.462368</td>\n",
       "      <td>...</td>\n",
       "      <td>4.885072</td>\n",
       "      <td>4.823036</td>\n",
       "      <td>6.570310</td>\n",
       "      <td>6.113975</td>\n",
       "      <td>5.257866</td>\n",
       "      <td>5.743545</td>\n",
       "      <td>8.846900</td>\n",
       "      <td>7.886050</td>\n",
       "      <td>6.279620</td>\n",
       "      <td>1</td>\n",
       "    </tr>\n",
       "  </tbody>\n",
       "</table>\n",
       "<p>10 rows × 21053 columns</p>\n",
       "</div>"
      ],
      "text/plain": [
       "   Unnamed: 0.1  Unnamed: 0       DDR1      RFC2     HSPA6      PAX8  \\\n",
       "0             0  GSM1019138  11.696575  9.498098  6.926517  8.119192   \n",
       "1             1  GSM1019139  10.324599  8.463703  7.473955  7.874865   \n",
       "2             2  GSM1019140  11.416296  7.519654  6.387836  7.983135   \n",
       "3             3  GSM1019141  10.621342  8.555675  8.714281  7.824748   \n",
       "4             4  GSM1019142  10.227293  8.057257  8.236758  8.188167   \n",
       "5             5  GSM1019143  10.852090  7.205088  6.797035  7.912747   \n",
       "6             6  GSM1019144  10.327652  7.231442  7.063369  8.197583   \n",
       "7             7  GSM1019145  10.941056  8.450882  6.798260  7.844914   \n",
       "8             8  GSM1019146  10.840963  9.236060  6.940457  7.980586   \n",
       "9             9  GSM1019147  10.191486  7.451627  7.559550  7.677324   \n",
       "\n",
       "     GUCA1A      UBA7      THRA    PTPN21  ...  LOC100505794 /// LOC100509111  \\\n",
       "0  3.412547  7.605915  5.287406  5.144362  ...                       4.265834   \n",
       "1  3.328430  8.129946  5.352852  5.608019  ...                       4.213007   \n",
       "2  3.646711  8.583098  5.611202  5.319620  ...                       3.806343   \n",
       "3  4.590441  7.437547  4.943707  5.927861  ...                       4.538299   \n",
       "4  4.062502  8.115143  5.536319  5.310099  ...                       4.568268   \n",
       "5  3.782219  8.508192  5.454158  5.222022  ...                       4.267486   \n",
       "6  3.626755  7.888974  5.722468  5.007221  ...                       4.367740   \n",
       "7  3.523140  7.919265  5.487347  5.187310  ...                       5.038338   \n",
       "8  4.228664  7.044434  5.382199  5.825585  ...                       3.847062   \n",
       "9  3.120559  8.173592  5.388087  5.462368  ...                       4.885072   \n",
       "\n",
       "   LOC100505562  LOC388210     GALR3    NUS1P3     ITIH4  C1orf175 /// TTC4  \\\n",
       "0      4.959345   6.715859  6.735606  6.747213  5.447054           9.377416   \n",
       "1      4.685613   6.637119  6.655126  5.412674  5.795338           8.626626   \n",
       "2      4.963023   6.939407  6.499424  5.213913  5.458659           8.571116   \n",
       "3      4.893736   6.761510  6.743840  6.288999  5.163930           9.400735   \n",
       "4      5.207185   7.023235  6.803608  7.004808  5.580082           8.802098   \n",
       "5      5.138446   6.883770  6.831136  4.594271  5.347909           8.154713   \n",
       "6      5.258414   7.184051  6.382832  4.822792  5.380583           7.531887   \n",
       "7      5.266794   7.181236  6.872071  4.789776  5.704748           8.010049   \n",
       "8      5.101884   6.711120  6.947955  6.973497  5.202546           8.462112   \n",
       "9      4.823036   6.570310  6.113975  5.257866  5.743545           8.846900   \n",
       "\n",
       "   LOC100294402 /// SIGIRR   FAM86B1  ClassType  \n",
       "0                 8.683283  6.336367          3  \n",
       "1                 8.089686  6.563692          1  \n",
       "2                 9.250713  6.835900          1  \n",
       "3                 7.373988  5.743980          3  \n",
       "4                 8.083213  6.872932          3  \n",
       "5                 9.710947  8.269086          1  \n",
       "6                 9.351460  7.533097          1  \n",
       "7                 8.890014  8.698736          1  \n",
       "8                 7.620480  6.431878          3  \n",
       "9                 7.886050  6.279620          1  \n",
       "\n",
       "[10 rows x 21053 columns]"
      ]
     },
     "execution_count": 116,
     "metadata": {},
     "output_type": "execute_result"
    }
   ],
   "source": [
    "# show the first 10 row\n",
    "df.head(n=10)"
   ]
  },
  {
   "cell_type": "code",
   "execution_count": 117,
   "metadata": {},
   "outputs": [
    {
     "data": {
      "text/html": [
       "<div>\n",
       "<style scoped>\n",
       "    .dataframe tbody tr th:only-of-type {\n",
       "        vertical-align: middle;\n",
       "    }\n",
       "\n",
       "    .dataframe tbody tr th {\n",
       "        vertical-align: top;\n",
       "    }\n",
       "\n",
       "    .dataframe thead th {\n",
       "        text-align: right;\n",
       "    }\n",
       "</style>\n",
       "<table border=\"1\" class=\"dataframe\">\n",
       "  <thead>\n",
       "    <tr style=\"text-align: right;\">\n",
       "      <th></th>\n",
       "      <th>Unnamed: 0.1</th>\n",
       "      <th>Unnamed: 0</th>\n",
       "      <th>DDR1</th>\n",
       "      <th>RFC2</th>\n",
       "      <th>ClassType</th>\n",
       "    </tr>\n",
       "  </thead>\n",
       "  <tbody>\n",
       "    <tr>\n",
       "      <th>0</th>\n",
       "      <td>0</td>\n",
       "      <td>GSM1019138</td>\n",
       "      <td>11.696575</td>\n",
       "      <td>9.498098</td>\n",
       "      <td>3</td>\n",
       "    </tr>\n",
       "    <tr>\n",
       "      <th>1</th>\n",
       "      <td>1</td>\n",
       "      <td>GSM1019139</td>\n",
       "      <td>10.324599</td>\n",
       "      <td>8.463703</td>\n",
       "      <td>1</td>\n",
       "    </tr>\n",
       "    <tr>\n",
       "      <th>2</th>\n",
       "      <td>2</td>\n",
       "      <td>GSM1019140</td>\n",
       "      <td>11.416296</td>\n",
       "      <td>7.519654</td>\n",
       "      <td>1</td>\n",
       "    </tr>\n",
       "    <tr>\n",
       "      <th>3</th>\n",
       "      <td>3</td>\n",
       "      <td>GSM1019141</td>\n",
       "      <td>10.621342</td>\n",
       "      <td>8.555675</td>\n",
       "      <td>3</td>\n",
       "    </tr>\n",
       "    <tr>\n",
       "      <th>4</th>\n",
       "      <td>4</td>\n",
       "      <td>GSM1019142</td>\n",
       "      <td>10.227293</td>\n",
       "      <td>8.057257</td>\n",
       "      <td>3</td>\n",
       "    </tr>\n",
       "  </tbody>\n",
       "</table>\n",
       "</div>"
      ],
      "text/plain": [
       "   Unnamed: 0.1  Unnamed: 0       DDR1      RFC2  ClassType\n",
       "0             0  GSM1019138  11.696575  9.498098          3\n",
       "1             1  GSM1019139  10.324599  8.463703          1\n",
       "2             2  GSM1019140  11.416296  7.519654          1\n",
       "3             3  GSM1019141  10.621342  8.555675          3\n",
       "4             4  GSM1019142  10.227293  8.057257          3"
      ]
     },
     "execution_count": 117,
     "metadata": {},
     "output_type": "execute_result"
    }
   ],
   "source": [
    "# show the first 5 rows and the first four columns + the last column\n",
    "df.iloc[:5 , [0,1,2,3, df.shape[1]-1]]"
   ]
  },
  {
   "cell_type": "code",
   "execution_count": 118,
   "metadata": {},
   "outputs": [
    {
     "data": {
      "text/plain": [
       "Index(['Unnamed: 0.1', 'MAPK1'], dtype='object')"
      ]
     },
     "execution_count": 118,
     "metadata": {},
     "output_type": "execute_result"
    }
   ],
   "source": [
    "# the labels of the first and 20th columns\n",
    "df.columns[[0,19]]"
   ]
  },
  {
   "cell_type": "code",
   "execution_count": 119,
   "metadata": {},
   "outputs": [
    {
     "data": {
      "text/html": [
       "<div>\n",
       "<style scoped>\n",
       "    .dataframe tbody tr th:only-of-type {\n",
       "        vertical-align: middle;\n",
       "    }\n",
       "\n",
       "    .dataframe tbody tr th {\n",
       "        vertical-align: top;\n",
       "    }\n",
       "\n",
       "    .dataframe thead th {\n",
       "        text-align: right;\n",
       "    }\n",
       "</style>\n",
       "<table border=\"1\" class=\"dataframe\">\n",
       "  <thead>\n",
       "    <tr style=\"text-align: right;\">\n",
       "      <th></th>\n",
       "      <th>DDR1</th>\n",
       "      <th>RFC2</th>\n",
       "      <th>HSPA6</th>\n",
       "      <th>PAX8</th>\n",
       "      <th>GUCA1A</th>\n",
       "      <th>UBA7</th>\n",
       "      <th>THRA</th>\n",
       "      <th>PTPN21</th>\n",
       "      <th>CCL5</th>\n",
       "      <th>CYP2E1</th>\n",
       "      <th>...</th>\n",
       "      <th>LOC100505794 /// LOC100509111</th>\n",
       "      <th>LOC100505562</th>\n",
       "      <th>LOC388210</th>\n",
       "      <th>GALR3</th>\n",
       "      <th>NUS1P3</th>\n",
       "      <th>ITIH4</th>\n",
       "      <th>C1orf175 /// TTC4</th>\n",
       "      <th>LOC100294402 /// SIGIRR</th>\n",
       "      <th>FAM86B1</th>\n",
       "      <th>ClassType</th>\n",
       "    </tr>\n",
       "  </thead>\n",
       "  <tbody>\n",
       "    <tr>\n",
       "      <th>0</th>\n",
       "      <td>11.696575</td>\n",
       "      <td>9.498098</td>\n",
       "      <td>6.926517</td>\n",
       "      <td>8.119192</td>\n",
       "      <td>3.412547</td>\n",
       "      <td>7.605915</td>\n",
       "      <td>5.287406</td>\n",
       "      <td>5.144362</td>\n",
       "      <td>8.563300</td>\n",
       "      <td>4.454118</td>\n",
       "      <td>...</td>\n",
       "      <td>4.265834</td>\n",
       "      <td>4.959345</td>\n",
       "      <td>6.715859</td>\n",
       "      <td>6.735606</td>\n",
       "      <td>6.747213</td>\n",
       "      <td>5.447054</td>\n",
       "      <td>9.377416</td>\n",
       "      <td>8.683283</td>\n",
       "      <td>6.336367</td>\n",
       "      <td>3</td>\n",
       "    </tr>\n",
       "    <tr>\n",
       "      <th>1</th>\n",
       "      <td>10.324599</td>\n",
       "      <td>8.463703</td>\n",
       "      <td>7.473955</td>\n",
       "      <td>7.874865</td>\n",
       "      <td>3.328430</td>\n",
       "      <td>8.129946</td>\n",
       "      <td>5.352852</td>\n",
       "      <td>5.608019</td>\n",
       "      <td>8.014143</td>\n",
       "      <td>4.797404</td>\n",
       "      <td>...</td>\n",
       "      <td>4.213007</td>\n",
       "      <td>4.685613</td>\n",
       "      <td>6.637119</td>\n",
       "      <td>6.655126</td>\n",
       "      <td>5.412674</td>\n",
       "      <td>5.795338</td>\n",
       "      <td>8.626626</td>\n",
       "      <td>8.089686</td>\n",
       "      <td>6.563692</td>\n",
       "      <td>1</td>\n",
       "    </tr>\n",
       "    <tr>\n",
       "      <th>2</th>\n",
       "      <td>11.416296</td>\n",
       "      <td>7.519654</td>\n",
       "      <td>6.387836</td>\n",
       "      <td>7.983135</td>\n",
       "      <td>3.646711</td>\n",
       "      <td>8.583098</td>\n",
       "      <td>5.611202</td>\n",
       "      <td>5.319620</td>\n",
       "      <td>8.858539</td>\n",
       "      <td>4.705669</td>\n",
       "      <td>...</td>\n",
       "      <td>3.806343</td>\n",
       "      <td>4.963023</td>\n",
       "      <td>6.939407</td>\n",
       "      <td>6.499424</td>\n",
       "      <td>5.213913</td>\n",
       "      <td>5.458659</td>\n",
       "      <td>8.571116</td>\n",
       "      <td>9.250713</td>\n",
       "      <td>6.835900</td>\n",
       "      <td>1</td>\n",
       "    </tr>\n",
       "    <tr>\n",
       "      <th>3</th>\n",
       "      <td>10.621342</td>\n",
       "      <td>8.555675</td>\n",
       "      <td>8.714281</td>\n",
       "      <td>7.824748</td>\n",
       "      <td>4.590441</td>\n",
       "      <td>7.437547</td>\n",
       "      <td>4.943707</td>\n",
       "      <td>5.927861</td>\n",
       "      <td>9.663748</td>\n",
       "      <td>4.409423</td>\n",
       "      <td>...</td>\n",
       "      <td>4.538299</td>\n",
       "      <td>4.893736</td>\n",
       "      <td>6.761510</td>\n",
       "      <td>6.743840</td>\n",
       "      <td>6.288999</td>\n",
       "      <td>5.163930</td>\n",
       "      <td>9.400735</td>\n",
       "      <td>7.373988</td>\n",
       "      <td>5.743980</td>\n",
       "      <td>3</td>\n",
       "    </tr>\n",
       "    <tr>\n",
       "      <th>4</th>\n",
       "      <td>10.227293</td>\n",
       "      <td>8.057257</td>\n",
       "      <td>8.236758</td>\n",
       "      <td>8.188167</td>\n",
       "      <td>4.062502</td>\n",
       "      <td>8.115143</td>\n",
       "      <td>5.536319</td>\n",
       "      <td>5.310099</td>\n",
       "      <td>10.588755</td>\n",
       "      <td>4.421362</td>\n",
       "      <td>...</td>\n",
       "      <td>4.568268</td>\n",
       "      <td>5.207185</td>\n",
       "      <td>7.023235</td>\n",
       "      <td>6.803608</td>\n",
       "      <td>7.004808</td>\n",
       "      <td>5.580082</td>\n",
       "      <td>8.802098</td>\n",
       "      <td>8.083213</td>\n",
       "      <td>6.872932</td>\n",
       "      <td>3</td>\n",
       "    </tr>\n",
       "  </tbody>\n",
       "</table>\n",
       "<p>5 rows × 21051 columns</p>\n",
       "</div>"
      ],
      "text/plain": [
       "        DDR1      RFC2     HSPA6      PAX8    GUCA1A      UBA7      THRA  \\\n",
       "0  11.696575  9.498098  6.926517  8.119192  3.412547  7.605915  5.287406   \n",
       "1  10.324599  8.463703  7.473955  7.874865  3.328430  8.129946  5.352852   \n",
       "2  11.416296  7.519654  6.387836  7.983135  3.646711  8.583098  5.611202   \n",
       "3  10.621342  8.555675  8.714281  7.824748  4.590441  7.437547  4.943707   \n",
       "4  10.227293  8.057257  8.236758  8.188167  4.062502  8.115143  5.536319   \n",
       "\n",
       "     PTPN21       CCL5    CYP2E1  ...  LOC100505794 /// LOC100509111  \\\n",
       "0  5.144362   8.563300  4.454118  ...                       4.265834   \n",
       "1  5.608019   8.014143  4.797404  ...                       4.213007   \n",
       "2  5.319620   8.858539  4.705669  ...                       3.806343   \n",
       "3  5.927861   9.663748  4.409423  ...                       4.538299   \n",
       "4  5.310099  10.588755  4.421362  ...                       4.568268   \n",
       "\n",
       "   LOC100505562  LOC388210     GALR3    NUS1P3     ITIH4  C1orf175 /// TTC4  \\\n",
       "0      4.959345   6.715859  6.735606  6.747213  5.447054           9.377416   \n",
       "1      4.685613   6.637119  6.655126  5.412674  5.795338           8.626626   \n",
       "2      4.963023   6.939407  6.499424  5.213913  5.458659           8.571116   \n",
       "3      4.893736   6.761510  6.743840  6.288999  5.163930           9.400735   \n",
       "4      5.207185   7.023235  6.803608  7.004808  5.580082           8.802098   \n",
       "\n",
       "   LOC100294402 /// SIGIRR   FAM86B1  ClassType  \n",
       "0                 8.683283  6.336367          3  \n",
       "1                 8.089686  6.563692          1  \n",
       "2                 9.250713  6.835900          1  \n",
       "3                 7.373988  5.743980          3  \n",
       "4                 8.083213  6.872932          3  \n",
       "\n",
       "[5 rows x 21051 columns]"
      ]
     },
     "execution_count": 119,
     "metadata": {},
     "output_type": "execute_result"
    }
   ],
   "source": [
    "# drop the first two columns\n",
    "df = df.drop(df.columns[[0,1]], axis=1)\n",
    "df.head()"
   ]
  },
  {
   "cell_type": "code",
   "execution_count": 120,
   "metadata": {},
   "outputs": [
    {
     "name": "stdout",
     "output_type": "stream",
     "text": [
      "Number of missing values are 1988\n"
     ]
    }
   ],
   "source": [
    "print(\"Number of missing values are {}\".format(df.isnull().sum().sum()))"
   ]
  },
  {
   "cell_type": "code",
   "execution_count": 121,
   "metadata": {},
   "outputs": [
    {
     "data": {
      "text/plain": [
       "0"
      ]
     },
     "execution_count": 121,
     "metadata": {},
     "output_type": "execute_result"
    }
   ],
   "source": [
    "# filling missing values with 0\n",
    "df.fillna(0, inplace=True) \n",
    "df.isnull().sum().sum()"
   ]
  },
  {
   "cell_type": "code",
   "execution_count": null,
   "metadata": {},
   "outputs": [],
   "source": []
  },
  {
   "cell_type": "markdown",
   "metadata": {},
   "source": [
    "### Matplotlib"
   ]
  },
  {
   "cell_type": "code",
   "execution_count": 1,
   "metadata": {},
   "outputs": [
    {
     "data": {
      "image/png": "[encoded data removed]",
      "text/plain": [
       "<Figure size 900x500 with 1 Axes>"
      ]
     },
     "metadata": {},
     "output_type": "display_data"
    }
   ],
   "source": [
    "%matplotlib inline\n",
    "import numpy as np\n",
    "import matplotlib.pyplot as plt\n",
    "\n",
    "# create an array of x axis elements\n",
    "x = np.linspace(0, 1, 20) \n",
    "plt.figure(figsize=(4.5, 2.5), dpi = 200)\n",
    "\n",
    "# use the default line style and color, and change the width of the line using linewidth\n",
    "plt.plot(x, x, linewidth=2)\n",
    "\n",
    "# use the red color and cross marker to plot, and label parameter for legend\n",
    "plt.plot(x, x**3, 'r+', label = 'cubic function')\n",
    "\n",
    "# use the marker paramater and the markersize to control the size\n",
    "# below we use blue color, a dash-dot line style, and a diamond marker\n",
    "plt.plot(x, np.cos(np.pi * x), 'b-.', label = 'cosine function', marker='d', markersize = 5) \n",
    "\n",
    "plt.xlabel('time', fontsize='small')\n",
    "plt.ylabel('amplitude', fontsize='small')\n",
    "plt.title('time-amplitude', fontsize='small')\n",
    "\n",
    "# add the legend\n",
    "plt.legend(fontsize='small')\n",
    "\n",
    "# adjust the size of tick labels on both axes\n",
    "plt.tick_params(axis='both', labelsize=7)\n",
    "\n",
    "# this is not required here because Jupyter backends will call show() at the end of each cell by themselves\n",
    "# plt.show() "
   ]
  },
  {
   "cell_type": "code",
   "execution_count": 123,
   "metadata": {},
   "outputs": [
    {
     "data": {
      "image/png": "[encoded data removed]",
      "text/plain": [
       "<Figure size 900x500 with 1 Axes>"
      ]
     },
     "metadata": {},
     "output_type": "display_data"
    }
   ],
   "source": [
    "# create a figure and an axes object\n",
    "fig, ax = plt.subplots(figsize=(4.5, 2.5), dpi = 200) \n",
    "ax.plot(x, x, linewidth=2)\n",
    "ax.plot(x, x**3, 'r+', label = 'cubic function')\n",
    "ax.plot(x, np.cos(np.pi * x), 'b-.', \n",
    "        label = 'cosine function', \n",
    "        marker='d', markersize = 5)\n",
    "ax.set_xlabel('time', fontsize='small')\n",
    "ax.set_ylabel('amplitude', fontsize='small')\n",
    "ax.set_title('time-amplitude', fontsize='small')\n",
    "ax.legend(fontsize='small')\n",
    "\n",
    "# adjust the size of tick labels on both axes\n",
    "ax.tick_params(axis='both', labelsize=7) "
   ]
  },
  {
   "cell_type": "code",
   "execution_count": 124,
   "metadata": {},
   "outputs": [
    {
     "data": {
      "image/png": "[encoded data removed]",
      "text/plain": [
       "<Figure size 900x800 with 2 Axes>"
      ]
     },
     "metadata": {},
     "output_type": "display_data"
    },
    {
     "data": {
      "image/png": "[encoded data removed]",
      "text/plain": [
       "<Figure size 900x400 with 1 Axes>"
      ]
     },
     "metadata": {},
     "output_type": "display_data"
    }
   ],
   "source": [
    "x = np.linspace(0, 1, 20)\n",
    "\n",
    "# create the first figure\n",
    "plt.figure(1, figsize=(4.5, 4), dpi = 200)  \n",
    "\n",
    "plt.subplot(2, 1, 1)  # the same as subplot(211)\n",
    "plt.suptitle('time-amplitude', fontsize='small')\n",
    "plt.plot(x, x**3, 'r+', label = 'cubic function') \n",
    "plt.legend(fontsize='small') \n",
    "plt.ylabel('amplitude', fontsize='small') \n",
    "plt.tick_params(axis='both', labelsize=7)\n",
    "\n",
    "plt.subplot(212)\n",
    "plt.plot(x, np.cos(np.pi * x), 'b-.', label = 'cosine function', marker='d', markersize = 5)\n",
    "plt.plot(x, x, linewidth=2, label = 'linear') \n",
    "plt.legend(fontsize='small') \n",
    "plt.ylabel('amplitude', fontsize='small') \n",
    "plt.xlabel('time', fontsize='small') \n",
    "plt.tick_params(axis='both', labelsize=7)\n",
    "\n",
    "# create the second figure \n",
    "plt.figure(2, figsize=(4.5, 2), dpi = 200) \n",
    "plt.plot(x, x**2, linewidth=2)\n",
    "plt.title('time-amplitude', fontsize='small')\n",
    "plt.tick_params(axis='both', labelsize=7)"
   ]
  },
  {
   "cell_type": "code",
   "execution_count": 2,
   "metadata": {},
   "outputs": [
    {
     "data": {
      "image/png": "[encoded data removed]",
      "text/plain": [
       "<Figure size 900x700 with 2 Axes>"
      ]
     },
     "metadata": {},
     "output_type": "display_data"
    },
    {
     "data": {
      "image/png": "[encoded data removed]",
      "text/plain": [
       "<Figure size 900x400 with 1 Axes>"
      ]
     },
     "metadata": {},
     "output_type": "display_data"
    }
   ],
   "source": [
    "x = np.linspace(0, 1, 20)\n",
    "fig1, axs = plt.subplots(2, 1, figsize=(4.5, 3.5), dpi = 200)\n",
    "\n",
    "# another form in which we use sequence unpacking fig1.suptitle('time-amplitude', fontsize='small')\n",
    "# fig, (ax1, ax2) = plt.subplots(2, 1) \n",
    "\n",
    "axs[0].plot(x, x**3, 'r+', label = 'cubic function') \n",
    "axs[0].legend(fontsize='small')\n",
    "axs[0].set_ylabel('amplitude', fontsize='small') \n",
    "axs[0].tick_params(axis='both', labelsize=7)\n",
    "axs[1].plot(x, np.cos(np.pi * x), 'b-.', label = 'cosine function', marker='d', markersize = 5)\n",
    "axs[1].plot(x, x, linewidth=2, label = 'linear') \n",
    "plt.legend(fontsize='small') \n",
    "\n",
    "axs[1].set_ylabel('amplitude', fontsize='small') \n",
    "axs[1].set_xlabel('time', fontsize='small') \n",
    "axs[1].tick_params(axis='both', labelsize=7)\n",
    "\n",
    "# use the default values 1 and 1 for nrows and ncols\n",
    "fig2, ax = plt.subplots(figsize=(4.5, 2), dpi = 200) \n",
    "ax.plot(x, x**2, linewidth=2) \n",
    "ax.set_title('time-ampl', fontsize='small') \n",
    "ax.tick_params(axis='both', labelsize=7)"
   ]
  },
  {
   "cell_type": "code",
   "execution_count": 126,
   "metadata": {},
   "outputs": [],
   "source": [
    "# if scipy is not installed, run the following\n",
    "#!pip install scipy"
   ]
  },
  {
   "cell_type": "code",
   "execution_count": 127,
   "metadata": {},
   "outputs": [],
   "source": [
    "from scipy.stats import multivariate_normal as mvn\n",
    "\n",
    "np.random.seed(100)\n",
    "m0 = np.array([-1,-1])\n",
    "m1= np.array([1,1])\n",
    "cov0 = np.eye(2)\n",
    "cov1 = np.eye(2)\n",
    "n = 15 # number of observations from each Gaussian distribution\n",
    "\n",
    "X0 = mvn.rvs(m0,cov0,n)\n",
    "x0, y0 = np.split(X0,2,1)\n",
    "X1 = mvn.rvs(m1,cov1,n)\n",
    "x1, y1 = np.split(X1,2,1)"
   ]
  },
  {
   "cell_type": "code",
   "execution_count": 128,
   "metadata": {},
   "outputs": [
    {
     "data": {
      "text/plain": [
       "[<matplotlib.lines.Line2D at 0x21f40e89a50>]"
      ]
     },
     "execution_count": 128,
     "metadata": {},
     "output_type": "execute_result"
    },
    {
     "data": {
      "image/png": "[encoded data removed]",
      "text/plain": [
       "<Figure size 600x450 with 1 Axes>"
      ]
     },
     "metadata": {},
     "output_type": "display_data"
    }
   ],
   "source": [
    "plt.style.use('seaborn-v0_8')\n",
    "plt.figure(figsize=(4,3), dpi=150)\n",
    "plt.plot(x0, y0, 'g.', label='class 0', markersize=6)\n",
    "plt.plot(x1, y1, 'r.', label='class 1', markersize=6)\n",
    "plt.xticks(fontsize=8)\n",
    "plt.yticks(fontsize=8)\n",
    "\n",
    "lim_left, lim_right = plt.xlim()\n",
    "\n",
    "# plot the line\n",
    "plt.plot([lim_left, lim_right],\n",
    "         [-lim_left*2/3-1/3,-lim_right*2/3-1/3], 'k', linewidth=1.5) "
   ]
  },
  {
   "cell_type": "code",
   "execution_count": 129,
   "metadata": {},
   "outputs": [
    {
     "data": {
      "text/plain": [
       "['Solarize_Light2',\n",
       " '_classic_test_patch',\n",
       " '_mpl-gallery',\n",
       " '_mpl-gallery-nogrid',\n",
       " 'bmh',\n",
       " 'classic',\n",
       " 'dark_background',\n",
       " 'fast',\n",
       " 'fivethirtyeight',\n",
       " 'ggplot',\n",
       " 'grayscale',\n",
       " 'seaborn-v0_8',\n",
       " 'seaborn-v0_8-bright',\n",
       " 'seaborn-v0_8-colorblind',\n",
       " 'seaborn-v0_8-dark',\n",
       " 'seaborn-v0_8-dark-palette',\n",
       " 'seaborn-v0_8-darkgrid',\n",
       " 'seaborn-v0_8-deep',\n",
       " 'seaborn-v0_8-muted',\n",
       " 'seaborn-v0_8-notebook',\n",
       " 'seaborn-v0_8-paper',\n",
       " 'seaborn-v0_8-pastel',\n",
       " 'seaborn-v0_8-poster',\n",
       " 'seaborn-v0_8-talk',\n",
       " 'seaborn-v0_8-ticks',\n",
       " 'seaborn-v0_8-white',\n",
       " 'seaborn-v0_8-whitegrid',\n",
       " 'tableau-colorblind10']"
      ]
     },
     "execution_count": 129,
     "metadata": {},
     "output_type": "execute_result"
    }
   ],
   "source": [
    "# check available plot styles\n",
    "plt.style.available"
   ]
  },
  {
   "cell_type": "markdown",
   "metadata": {},
   "source": [
    "#### Example"
   ]
  },
  {
   "cell_type": "code",
   "execution_count": 3,
   "metadata": {},
   "outputs": [
    {
     "data": {
      "text/plain": [
       "array([[0, 0],\n",
       "       [1, 0],\n",
       "       [2, 0],\n",
       "       [3, 0],\n",
       "       [4, 0],\n",
       "       [5, 0],\n",
       "       [6, 0],\n",
       "       [7, 0],\n",
       "       [8, 0],\n",
       "       [9, 0],\n",
       "       [0, 1],\n",
       "       [1, 1],\n",
       "       [2, 1],\n",
       "       [3, 1],\n",
       "       [4, 1]])"
      ]
     },
     "execution_count": 3,
     "metadata": {},
     "output_type": "execute_result"
    }
   ],
   "source": [
    "x = np.arange(0, 10, 1)\n",
    "y = np.arange(0, 10, 1)\n",
    "\n",
    "X, Y = np.meshgrid(x, y)\n",
    "coordinates = np.array([X.ravel(), Y.ravel()]).T\n",
    "coordinates[:15]"
   ]
  },
  {
   "cell_type": "code",
   "execution_count": 4,
   "metadata": {},
   "outputs": [
    {
     "data": {
      "text/plain": [
       "array([0, 0, 0, 0, 0, 0, 0, 0, 0, 0, 0, 0, 0, 0, 0, 0, 0, 0, 0, 1, 0, 0,\n",
       "       0, 0, 0, 0, 0, 0, 1, 1, 0, 0, 0, 0, 0, 0, 0, 1, 1, 1, 0, 0, 0, 0,\n",
       "       0, 0, 1, 1, 1, 1, 0, 0, 0, 0, 0, 1, 1, 1, 1, 1, 0, 0, 0, 0, 1, 1,\n",
       "       1, 1, 1, 1, 0, 0, 0, 1, 1, 1, 1, 1, 1, 1, 0, 0, 1, 1, 1, 1, 1, 1,\n",
       "       1, 1, 0, 1, 1, 1, 1, 1, 1, 1, 1, 1])"
      ]
     },
     "execution_count": 4,
     "metadata": {},
     "output_type": "execute_result"
    }
   ],
   "source": [
    "def f(W):\n",
    "    return (W.sum(axis=1) >= 10).astype(int)\n",
    "\n",
    "Z = f(coordinates)\n",
    "Z"
   ]
  },
  {
   "cell_type": "code",
   "execution_count": 13,
   "metadata": {},
   "outputs": [
    {
     "data": {
      "text/plain": [
       "<matplotlib.collections.QuadMesh at 0x11cb7af90>"
      ]
     },
     "execution_count": 13,
     "metadata": {},
     "output_type": "execute_result"
    },
    {
     "data": {
      "image/png": "[encoded data removed]",
      "text/plain": [
       "<Figure size 450x450 with 1 Axes>"
      ]
     },
     "metadata": {},
     "output_type": "display_data"
    }
   ],
   "source": [
    "from matplotlib.colors import ListedColormap\n",
    "color = ['aquamarine', 'bisque']\n",
    "cmap = ListedColormap(color)\n",
    "cmap \n",
    "\n",
    "fig, ax = plt.subplots(figsize=(3,3), dpi=150)\n",
    "ax.tick_params(axis = 'both', labelsize = 6)\n",
    "Z = Z.reshape(X.shape)\n",
    "plt.pcolormesh(X, Y, Z, cmap = cmap, shading='nearest')"
   ]
  },
  {
   "cell_type": "code",
   "execution_count": 14,
   "metadata": {},
   "outputs": [
    {
     "name": "stdout",
     "output_type": "stream",
     "text": [
      "{'aliceblue': '#F0F8FF', 'antiquewhite': '#FAEBD7', 'aqua': '#00FFFF', 'aquamarine': '#7FFFD4', 'azure': '#F0FFFF', 'beige': '#F5F5DC', 'bisque': '#FFE4C4', 'black': '#000000', 'blanchedalmond': '#FFEBCD', 'blue': '#0000FF', 'blueviolet': '#8A2BE2', 'brown': '#A52A2A', 'burlywood': '#DEB887', 'cadetblue': '#5F9EA0', 'chartreuse': '#7FFF00', 'chocolate': '#D2691E', 'coral': '#FF7F50', 'cornflowerblue': '#6495ED', 'cornsilk': '#FFF8DC', 'crimson': '#DC143C', 'cyan': '#00FFFF', 'darkblue': '#00008B', 'darkcyan': '#008B8B', 'darkgoldenrod': '#B8860B', 'darkgray': '#A9A9A9', 'darkgreen': '#006400', 'darkgrey': '#A9A9A9', 'darkkhaki': '#BDB76B', 'darkmagenta': '#8B008B', 'darkolivegreen': '#556B2F', 'darkorange': '#FF8C00', 'darkorchid': '#9932CC', 'darkred': '#8B0000', 'darksalmon': '#E9967A', 'darkseagreen': '#8FBC8F', 'darkslateblue': '#483D8B', 'darkslategray': '#2F4F4F', 'darkslategrey': '#2F4F4F', 'darkturquoise': '#00CED1', 'darkviolet': '#9400D3', 'deeppink': '#FF1493', 'deepskyblue': '#00BFFF', 'dimgray': '#696969', 'dimgrey': '#696969', 'dodgerblue': '#1E90FF', 'firebrick': '#B22222', 'floralwhite': '#FFFAF0', 'forestgreen': '#228B22', 'fuchsia': '#FF00FF', 'gainsboro': '#DCDCDC', 'ghostwhite': '#F8F8FF', 'gold': '#FFD700', 'goldenrod': '#DAA520', 'gray': '#808080', 'green': '#008000', 'greenyellow': '#ADFF2F', 'grey': '#808080', 'honeydew': '#F0FFF0', 'hotpink': '#FF69B4', 'indianred': '#CD5C5C', 'indigo': '#4B0082', 'ivory': '#FFFFF0', 'khaki': '#F0E68C', 'lavender': '#E6E6FA', 'lavenderblush': '#FFF0F5', 'lawngreen': '#7CFC00', 'lemonchiffon': '#FFFACD', 'lightblue': '#ADD8E6', 'lightcoral': '#F08080', 'lightcyan': '#E0FFFF', 'lightgoldenrodyellow': '#FAFAD2', 'lightgray': '#D3D3D3', 'lightgreen': '#90EE90', 'lightgrey': '#D3D3D3', 'lightpink': '#FFB6C1', 'lightsalmon': '#FFA07A', 'lightseagreen': '#20B2AA', 'lightskyblue': '#87CEFA', 'lightslategray': '#778899', 'lightslategrey': '#778899', 'lightsteelblue': '#B0C4DE', 'lightyellow': '#FFFFE0', 'lime': '#00FF00', 'limegreen': '#32CD32', 'linen': '#FAF0E6', 'magenta': '#FF00FF', 'maroon': '#800000', 'mediumaquamarine': '#66CDAA', 'mediumblue': '#0000CD', 'mediumorchid': '#BA55D3', 'mediumpurple': '#9370DB', 'mediumseagreen': '#3CB371', 'mediumslateblue': '#7B68EE', 'mediumspringgreen': '#00FA9A', 'mediumturquoise': '#48D1CC', 'mediumvioletred': '#C71585', 'midnightblue': '#191970', 'mintcream': '#F5FFFA', 'mistyrose': '#FFE4E1', 'moccasin': '#FFE4B5', 'navajowhite': '#FFDEAD', 'navy': '#000080', 'oldlace': '#FDF5E6', 'olive': '#808000', 'olivedrab': '#6B8E23', 'orange': '#FFA500', 'orangered': '#FF4500', 'orchid': '#DA70D6', 'palegoldenrod': '#EEE8AA', 'palegreen': '#98FB98', 'paleturquoise': '#AFEEEE', 'palevioletred': '#DB7093', 'papayawhip': '#FFEFD5', 'peachpuff': '#FFDAB9', 'peru': '#CD853F', 'pink': '#FFC0CB', 'plum': '#DDA0DD', 'powderblue': '#B0E0E6', 'purple': '#800080', 'rebeccapurple': '#663399', 'red': '#FF0000', 'rosybrown': '#BC8F8F', 'royalblue': '#4169E1', 'saddlebrown': '#8B4513', 'salmon': '#FA8072', 'sandybrown': '#F4A460', 'seagreen': '#2E8B57', 'seashell': '#FFF5EE', 'sienna': '#A0522D', 'silver': '#C0C0C0', 'skyblue': '#87CEEB', 'slateblue': '#6A5ACD', 'slategray': '#708090', 'slategrey': '#708090', 'snow': '#FFFAFA', 'springgreen': '#00FF7F', 'steelblue': '#4682B4', 'tan': '#D2B48C', 'teal': '#008080', 'thistle': '#D8BFD8', 'tomato': '#FF6347', 'turquoise': '#40E0D0', 'violet': '#EE82EE', 'wheat': '#F5DEB3', 'white': '#FFFFFF', 'whitesmoke': '#F5F5F5', 'yellow': '#FFFF00', 'yellowgreen': '#9ACD32'}\n"
     ]
    }
   ],
   "source": [
    "import matplotlib.colors as mcolors\n",
    "named_colors = mcolors.CSS4_COLORS\n",
    "print(named_colors)"
   ]
  },
  {
   "cell_type": "code",
   "execution_count": 15,
   "metadata": {},
   "outputs": [
    {
     "data": {
      "text/plain": [
       "{'aliceblue': '#F0F8FF',\n",
       " 'antiquewhite': '#FAEBD7',\n",
       " 'aqua': '#00FFFF',\n",
       " 'aquamarine': '#7FFFD4',\n",
       " 'azure': '#F0FFFF',\n",
       " 'beige': '#F5F5DC',\n",
       " 'bisque': '#FFE4C4',\n",
       " 'black': '#000000',\n",
       " 'blanchedalmond': '#FFEBCD',\n",
       " 'blue': '#0000FF',\n",
       " 'blueviolet': '#8A2BE2',\n",
       " 'brown': '#A52A2A',\n",
       " 'burlywood': '#DEB887',\n",
       " 'cadetblue': '#5F9EA0',\n",
       " 'chartreuse': '#7FFF00',\n",
       " 'chocolate': '#D2691E',\n",
       " 'coral': '#FF7F50',\n",
       " 'cornflowerblue': '#6495ED',\n",
       " 'cornsilk': '#FFF8DC',\n",
       " 'crimson': '#DC143C',\n",
       " 'cyan': '#00FFFF',\n",
       " 'darkblue': '#00008B',\n",
       " 'darkcyan': '#008B8B',\n",
       " 'darkgoldenrod': '#B8860B',\n",
       " 'darkgray': '#A9A9A9',\n",
       " 'darkgreen': '#006400',\n",
       " 'darkgrey': '#A9A9A9',\n",
       " 'darkkhaki': '#BDB76B',\n",
       " 'darkmagenta': '#8B008B',\n",
       " 'darkolivegreen': '#556B2F',\n",
       " 'darkorange': '#FF8C00',\n",
       " 'darkorchid': '#9932CC',\n",
       " 'darkred': '#8B0000',\n",
       " 'darksalmon': '#E9967A',\n",
       " 'darkseagreen': '#8FBC8F',\n",
       " 'darkslateblue': '#483D8B',\n",
       " 'darkslategray': '#2F4F4F',\n",
       " 'darkslategrey': '#2F4F4F',\n",
       " 'darkturquoise': '#00CED1',\n",
       " 'darkviolet': '#9400D3',\n",
       " 'deeppink': '#FF1493',\n",
       " 'deepskyblue': '#00BFFF',\n",
       " 'dimgray': '#696969',\n",
       " 'dimgrey': '#696969',\n",
       " 'dodgerblue': '#1E90FF',\n",
       " 'firebrick': '#B22222',\n",
       " 'floralwhite': '#FFFAF0',\n",
       " 'forestgreen': '#228B22',\n",
       " 'fuchsia': '#FF00FF',\n",
       " 'gainsboro': '#DCDCDC',\n",
       " 'ghostwhite': '#F8F8FF',\n",
       " 'gold': '#FFD700',\n",
       " 'goldenrod': '#DAA520',\n",
       " 'gray': '#808080',\n",
       " 'green': '#008000',\n",
       " 'greenyellow': '#ADFF2F',\n",
       " 'grey': '#808080',\n",
       " 'honeydew': '#F0FFF0',\n",
       " 'hotpink': '#FF69B4',\n",
       " 'indianred': '#CD5C5C',\n",
       " 'indigo': '#4B0082',\n",
       " 'ivory': '#FFFFF0',\n",
       " 'khaki': '#F0E68C',\n",
       " 'lavender': '#E6E6FA',\n",
       " 'lavenderblush': '#FFF0F5',\n",
       " 'lawngreen': '#7CFC00',\n",
       " 'lemonchiffon': '#FFFACD',\n",
       " 'lightblue': '#ADD8E6',\n",
       " 'lightcoral': '#F08080',\n",
       " 'lightcyan': '#E0FFFF',\n",
       " 'lightgoldenrodyellow': '#FAFAD2',\n",
       " 'lightgray': '#D3D3D3',\n",
       " 'lightgreen': '#90EE90',\n",
       " 'lightgrey': '#D3D3D3',\n",
       " 'lightpink': '#FFB6C1',\n",
       " 'lightsalmon': '#FFA07A',\n",
       " 'lightseagreen': '#20B2AA',\n",
       " 'lightskyblue': '#87CEFA',\n",
       " 'lightslategray': '#778899',\n",
       " 'lightslategrey': '#778899',\n",
       " 'lightsteelblue': '#B0C4DE',\n",
       " 'lightyellow': '#FFFFE0',\n",
       " 'lime': '#00FF00',\n",
       " 'limegreen': '#32CD32',\n",
       " 'linen': '#FAF0E6',\n",
       " 'magenta': '#FF00FF',\n",
       " 'maroon': '#800000',\n",
       " 'mediumaquamarine': '#66CDAA',\n",
       " 'mediumblue': '#0000CD',\n",
       " 'mediumorchid': '#BA55D3',\n",
       " 'mediumpurple': '#9370DB',\n",
       " 'mediumseagreen': '#3CB371',\n",
       " 'mediumslateblue': '#7B68EE',\n",
       " 'mediumspringgreen': '#00FA9A',\n",
       " 'mediumturquoise': '#48D1CC',\n",
       " 'mediumvioletred': '#C71585',\n",
       " 'midnightblue': '#191970',\n",
       " 'mintcream': '#F5FFFA',\n",
       " 'mistyrose': '#FFE4E1',\n",
       " 'moccasin': '#FFE4B5',\n",
       " 'navajowhite': '#FFDEAD',\n",
       " 'navy': '#000080',\n",
       " 'oldlace': '#FDF5E6',\n",
       " 'olive': '#808000',\n",
       " 'olivedrab': '#6B8E23',\n",
       " 'orange': '#FFA500',\n",
       " 'orangered': '#FF4500',\n",
       " 'orchid': '#DA70D6',\n",
       " 'palegoldenrod': '#EEE8AA',\n",
       " 'palegreen': '#98FB98',\n",
       " 'paleturquoise': '#AFEEEE',\n",
       " 'palevioletred': '#DB7093',\n",
       " 'papayawhip': '#FFEFD5',\n",
       " 'peachpuff': '#FFDAB9',\n",
       " 'peru': '#CD853F',\n",
       " 'pink': '#FFC0CB',\n",
       " 'plum': '#DDA0DD',\n",
       " 'powderblue': '#B0E0E6',\n",
       " 'purple': '#800080',\n",
       " 'rebeccapurple': '#663399',\n",
       " 'red': '#FF0000',\n",
       " 'rosybrown': '#BC8F8F',\n",
       " 'royalblue': '#4169E1',\n",
       " 'saddlebrown': '#8B4513',\n",
       " 'salmon': '#FA8072',\n",
       " 'sandybrown': '#F4A460',\n",
       " 'seagreen': '#2E8B57',\n",
       " 'seashell': '#FFF5EE',\n",
       " 'sienna': '#A0522D',\n",
       " 'silver': '#C0C0C0',\n",
       " 'skyblue': '#87CEEB',\n",
       " 'slateblue': '#6A5ACD',\n",
       " 'slategray': '#708090',\n",
       " 'slategrey': '#708090',\n",
       " 'snow': '#FFFAFA',\n",
       " 'springgreen': '#00FF7F',\n",
       " 'steelblue': '#4682B4',\n",
       " 'tan': '#D2B48C',\n",
       " 'teal': '#008080',\n",
       " 'thistle': '#D8BFD8',\n",
       " 'tomato': '#FF6347',\n",
       " 'turquoise': '#40E0D0',\n",
       " 'violet': '#EE82EE',\n",
       " 'wheat': '#F5DEB3',\n",
       " 'white': '#FFFFFF',\n",
       " 'whitesmoke': '#F5F5F5',\n",
       " 'yellow': '#FFFF00',\n",
       " 'yellowgreen': '#9ACD32'}"
      ]
     },
     "execution_count": 15,
     "metadata": {},
     "output_type": "execute_result"
    }
   ],
   "source": [
    "named_colors"
   ]
  },
  {
   "cell_type": "code",
   "execution_count": 16,
   "metadata": {},
   "outputs": [],
   "source": [
    "cmap = (ListedColormap('aquamarine'), ListedColormap('bisque'))"
   ]
  },
  {
   "cell_type": "code",
   "execution_count": 12,
   "metadata": {},
   "outputs": [
    {
     "data": {
      "text/plain": [
       "array([[0, 0, 0, 0, 0, 0, 0, 0, 0, 0],\n",
       "       [0, 0, 0, 0, 0, 0, 0, 0, 0, 1],\n",
       "       [0, 0, 0, 0, 0, 0, 0, 0, 1, 1],\n",
       "       [0, 0, 0, 0, 0, 0, 0, 1, 1, 1],\n",
       "       [0, 0, 0, 0, 0, 0, 1, 1, 1, 1],\n",
       "       [0, 0, 0, 0, 0, 1, 1, 1, 1, 1],\n",
       "       [0, 0, 0, 0, 1, 1, 1, 1, 1, 1],\n",
       "       [0, 0, 0, 1, 1, 1, 1, 1, 1, 1],\n",
       "       [0, 0, 1, 1, 1, 1, 1, 1, 1, 1],\n",
       "       [0, 1, 1, 1, 1, 1, 1, 1, 1, 1]])"
      ]
     },
     "execution_count": 12,
     "metadata": {},
     "output_type": "execute_result"
    }
   ],
   "source": [
    "Z"
   ]
  },
  {
   "cell_type": "markdown",
   "metadata": {},
   "source": []
  },
  {
   "cell_type": "markdown",
   "metadata": {},
   "source": [
    "### Take-home excercises"
   ]
  },
  {
   "cell_type": "markdown",
   "metadata": {},
   "source": [
    "**Exercise 3.** Write a piece of code that creates a numpy array of shape `(2,4,3,5,2)` with all elements being 4?"
   ]
  },
  {
   "cell_type": "markdown",
   "metadata": {},
   "source": [
    "**Exercise 4.**  Suppose `a` and `b` are two numpy arrays. Looking at `shape` attribute of array `a` leads to `(2, 5, 2, 1)` and looking at the `shape` attribute of array `b` leads to `(5, 1, 4)`\n",
    "\n",
    "Which of the following options are correct about `c = a + b`?\n",
    "\n",
    "A) `a + b` raises an error because a and b are not broadcastable\n",
    "\n",
    "B) `a` and `b` are broadcastable and the `shape` of `c` is `(5, 2, 4)`\n",
    "\n",
    "C) `a` and `b` are broadcastable and the `shape` of `c` is `(2, 5, 2, 4)`\n",
    "\n",
    "D) `a` and `b` are broadcastable and the `shape` of `c` is `(5, 5, 4, 1)`\n",
    "\n",
    "E) `a` and `b` are broadcastable and the `shape` of `c` is `(2, 5, 2, 1)`"
   ]
  },
  {
   "cell_type": "markdown",
   "metadata": {},
   "source": [
    "**Exercise 5.** Suppose `a` and `b` are two numpy arrays. Looking at `shape` attribute of array `a` leads to `(2, 5, 2, 1)` and looking at the `shape` attribute of array `b` leads to `(5, 1, 4)`. Which of the following options are correct about `c = a + b`?\n",
    "\n",
    "A) `a+b` raises an error because `a` and `b` are not broadcastable\n",
    "\n",
    "B) `a` and `b` are broadcastable and the `shape` of `c` is `(5, 2, 4)`\n",
    "\n",
    "C) `a` and `b` are broadcastable and the `shape` of `c` is `(2, 5, 2, 4)`\n",
    "\n",
    "D) `a` and `b` are broadcastable and the `shape` of `c` is `(5, 5, 4, 1)`\n",
    "\n",
    "E) `a` and `b` are broadcastable and the `shape` of `c` is `(2, 5, 2, 1)`"
   ]
  },
  {
   "cell_type": "markdown",
   "metadata": {},
   "source": [
    "**Exercise 6.** Which of the following options can not create a `DataFrame()`? Explain the reason."
   ]
  },
  {
   "cell_type": "code",
   "execution_count": 136,
   "metadata": {},
   "outputs": [],
   "source": [
    "import pandas as pd\n",
    "import numpy as np\n"
   ]
  },
  {
   "cell_type": "markdown",
   "metadata": {},
   "source": [
    "a)"
   ]
  },
  {
   "cell_type": "code",
   "execution_count": null,
   "metadata": {},
   "outputs": [],
   "source": [
    "dic = {\"A\": [10, 20, 30, 40], \"B\": [80, 90, 100, None]}\n",
    "pd.DataFrame(dic)"
   ]
  },
  {
   "cell_type": "markdown",
   "metadata": {},
   "source": [
    "b)"
   ]
  },
  {
   "cell_type": "code",
   "execution_count": null,
   "metadata": {},
   "outputs": [],
   "source": [
    "dic = {\"A\": [10, 20, 30, 40], \"B\": [80, 90, 100, None]}\n",
    "pd.DataFrame(dic)"
   ]
  },
  {
   "cell_type": "markdown",
   "metadata": {},
   "source": [
    "c)"
   ]
  },
  {
   "cell_type": "code",
   "execution_count": null,
   "metadata": {},
   "outputs": [],
   "source": [
    "dic = {\"A\": [10, 20, 30, 40], \"B\": [80, 90, None]}\n",
    "pd.DataFrame(dic)"
   ]
  },
  {
   "cell_type": "markdown",
   "metadata": {},
   "source": [
    "c)"
   ]
  },
  {
   "cell_type": "code",
   "execution_count": null,
   "metadata": {},
   "outputs": [],
   "source": [
    "dic = {\"A\": np.array([10, 20, 30, 40]), \"B\": [80, 90, 100, None]}\n",
    "pd.DataFrame(dic, index=['z', 'd', 'a', 'b'])"
   ]
  },
  {
   "cell_type": "markdown",
   "metadata": {},
   "source": [
    "**Exercise 7.**  A `DataFrame` named `df` is created as follows:"
   ]
  },
  {
   "cell_type": "code",
   "execution_count": 137,
   "metadata": {},
   "outputs": [
    {
     "data": {
      "text/html": [
       "<div>\n",
       "<style scoped>\n",
       "    .dataframe tbody tr th:only-of-type {\n",
       "        vertical-align: middle;\n",
       "    }\n",
       "\n",
       "    .dataframe tbody tr th {\n",
       "        vertical-align: top;\n",
       "    }\n",
       "\n",
       "    .dataframe thead th {\n",
       "        text-align: right;\n",
       "    }\n",
       "</style>\n",
       "<table border=\"1\" class=\"dataframe\">\n",
       "  <thead>\n",
       "    <tr style=\"text-align: right;\">\n",
       "      <th></th>\n",
       "      <th>1</th>\n",
       "      <th>2</th>\n",
       "      <th>3</th>\n",
       "    </tr>\n",
       "  </thead>\n",
       "  <tbody>\n",
       "    <tr>\n",
       "      <th>1</th>\n",
       "      <td>a</td>\n",
       "      <td>b</td>\n",
       "      <td>NaN</td>\n",
       "    </tr>\n",
       "    <tr>\n",
       "      <th>2</th>\n",
       "      <td>NaN</td>\n",
       "      <td>NaN</td>\n",
       "      <td>c</td>\n",
       "    </tr>\n",
       "    <tr>\n",
       "      <th>3</th>\n",
       "      <td>d</td>\n",
       "      <td>e</td>\n",
       "      <td>NaN</td>\n",
       "    </tr>\n",
       "  </tbody>\n",
       "</table>\n",
       "</div>"
      ],
      "text/plain": [
       "     1    2    3\n",
       "1    a    b  NaN\n",
       "2  NaN  NaN    c\n",
       "3    d    e  NaN"
      ]
     },
     "execution_count": 137,
     "metadata": {},
     "output_type": "execute_result"
    }
   ],
   "source": [
    "list1 = [{1: 'a', 2: 'b'}, {3: 'c'}, {1: 'd', 2: 'e'},]\n",
    "df = pd.DataFrame(list1, index=[1, 2, 3])\n",
    "df"
   ]
  },
  {
   "cell_type": "markdown",
   "metadata": {},
   "source": [
    "In each of the following parts, determine whether the indexing is legitimate, and if it is, deteremine the output:\n",
    "\n",
    "a)\n",
    "df.loc[1, 1]\n",
    "\n",
    "b)\n",
    "df[1]\n",
    "\n",
    "c)\n",
    "df[1][1]\n",
    "\n",
    "d)\n",
    "df[1].iloc[1]\n",
    "\n",
    "e)\n",
    "df[1].loc[1]\n",
    "\n",
    "f)\n",
    "df[1, 1]\n",
    "\n",
    "\n"
   ]
  },
  {
   "cell_type": "markdown",
   "metadata": {},
   "source": [
    "## End"
   ]
  }
 ],
 "metadata": {
  "kernelspec": {
   "display_name": "base",
   "language": "python",
   "name": "python3"
  },
  "language_info": {
   "codemirror_mode": {
    "name": "ipython",
    "version": 3
   },
   "file_extension": ".py",
   "mimetype": "text/x-python",
   "name": "python",
   "nbconvert_exporter": "python",
   "pygments_lexer": "ipython3",
   "version": "3.11.6"
  }
 },
 "nbformat": 4,
 "nbformat_minor": 2
}
