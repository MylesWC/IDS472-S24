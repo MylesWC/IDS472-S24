{
 "cells": [
  {
   "cell_type": "markdown",
   "metadata": {},
   "source": [
    "# k-Nearest Neighbors (kNN)"
   ]
  },
  {
   "cell_type": "code",
   "execution_count": 1,
   "metadata": {},
   "outputs": [],
   "source": [
    "import pandas as pd\n",
    "import matplotlib.pylab as plt\n",
    "from sklearn import preprocessing\n",
    "from sklearn.model_selection import train_test_split\n",
    "from sklearn.metrics import accuracy_score\n",
    "from sklearn.neighbors import NearestNeighbors, KNeighborsClassifier"
   ]
  },
  {
   "cell_type": "markdown",
   "metadata": {},
   "source": [
    "## Example: Riding Mowers\n",
    "\n",
    "A riding-mower manufacturer would like to find a way of classifying families in a city into those likely to purchase a riding mower and those not likely to buy one. A pilot random sample is undertaken of 12 owners and 12 nonowners in the city. The data are in `RidingMowers.csv`. \n",
    "\n",
    "We first partition the data into training data (14 households) and validation data (10 households). Obviously, this dataset is too small for partitioning, which can result in unstable results. We use this partitioning only for illustration purposes.\n",
    "\n",
    "Next, consider a new household with $60,000 income and lot size 20,000 ft2. Among the households in the training set, the one closest to the new household (in Euclidean distance after normalizing income and lot size) is household 4, with $61,500 income and lot size 20,800 ft2. "
   ]
  },
  {
   "cell_type": "code",
   "execution_count": 2,
   "metadata": {},
   "outputs": [
    {
     "data": {
      "text/html": [
       "<div>\n",
       "<style scoped>\n",
       "    .dataframe tbody tr th:only-of-type {\n",
       "        vertical-align: middle;\n",
       "    }\n",
       "\n",
       "    .dataframe tbody tr th {\n",
       "        vertical-align: top;\n",
       "    }\n",
       "\n",
       "    .dataframe thead th {\n",
       "        text-align: right;\n",
       "    }\n",
       "</style>\n",
       "<table border=\"1\" class=\"dataframe\">\n",
       "  <thead>\n",
       "    <tr style=\"text-align: right;\">\n",
       "      <th></th>\n",
       "      <th>Income</th>\n",
       "      <th>Lot_Size</th>\n",
       "      <th>Ownership</th>\n",
       "      <th>Number</th>\n",
       "    </tr>\n",
       "  </thead>\n",
       "  <tbody>\n",
       "    <tr>\n",
       "      <th>0</th>\n",
       "      <td>60.0</td>\n",
       "      <td>18.4</td>\n",
       "      <td>Owner</td>\n",
       "      <td>1</td>\n",
       "    </tr>\n",
       "    <tr>\n",
       "      <th>1</th>\n",
       "      <td>85.5</td>\n",
       "      <td>16.8</td>\n",
       "      <td>Owner</td>\n",
       "      <td>2</td>\n",
       "    </tr>\n",
       "    <tr>\n",
       "      <th>2</th>\n",
       "      <td>64.8</td>\n",
       "      <td>21.6</td>\n",
       "      <td>Owner</td>\n",
       "      <td>3</td>\n",
       "    </tr>\n",
       "    <tr>\n",
       "      <th>3</th>\n",
       "      <td>61.5</td>\n",
       "      <td>20.8</td>\n",
       "      <td>Owner</td>\n",
       "      <td>4</td>\n",
       "    </tr>\n",
       "    <tr>\n",
       "      <th>4</th>\n",
       "      <td>87.0</td>\n",
       "      <td>23.6</td>\n",
       "      <td>Owner</td>\n",
       "      <td>5</td>\n",
       "    </tr>\n",
       "    <tr>\n",
       "      <th>5</th>\n",
       "      <td>110.1</td>\n",
       "      <td>19.2</td>\n",
       "      <td>Owner</td>\n",
       "      <td>6</td>\n",
       "    </tr>\n",
       "    <tr>\n",
       "      <th>6</th>\n",
       "      <td>108.0</td>\n",
       "      <td>17.6</td>\n",
       "      <td>Owner</td>\n",
       "      <td>7</td>\n",
       "    </tr>\n",
       "    <tr>\n",
       "      <th>7</th>\n",
       "      <td>82.8</td>\n",
       "      <td>22.4</td>\n",
       "      <td>Owner</td>\n",
       "      <td>8</td>\n",
       "    </tr>\n",
       "    <tr>\n",
       "      <th>8</th>\n",
       "      <td>69.0</td>\n",
       "      <td>20.0</td>\n",
       "      <td>Owner</td>\n",
       "      <td>9</td>\n",
       "    </tr>\n",
       "  </tbody>\n",
       "</table>\n",
       "</div>"
      ],
      "text/plain": [
       "   Income  Lot_Size Ownership  Number\n",
       "0    60.0      18.4     Owner       1\n",
       "1    85.5      16.8     Owner       2\n",
       "2    64.8      21.6     Owner       3\n",
       "3    61.5      20.8     Owner       4\n",
       "4    87.0      23.6     Owner       5\n",
       "5   110.1      19.2     Owner       6\n",
       "6   108.0      17.6     Owner       7\n",
       "7    82.8      22.4     Owner       8\n",
       "8    69.0      20.0     Owner       9"
      ]
     },
     "execution_count": 2,
     "metadata": {},
     "output_type": "execute_result"
    }
   ],
   "source": [
    "mower_df = pd.read_csv('data/RidingMowers.csv')\n",
    "mower_df['Number'] = mower_df.index + 1\n",
    "mower_df.head(9)"
   ]
  },
  {
   "cell_type": "code",
   "execution_count": 3,
   "metadata": {
    "execution": {
     "iopub.execute_input": "2023-06-26T14:18:06.654650Z",
     "iopub.status.busy": "2023-06-26T14:18:06.654143Z",
     "iopub.status.idle": "2023-06-26T14:18:06.664420Z",
     "shell.execute_reply": "2023-06-26T14:18:06.663467Z"
    }
   },
   "outputs": [
    {
     "name": "stdout",
     "output_type": "stream",
     "text": [
      "(14, 4) (10, 4)\n"
     ]
    },
    {
     "data": {
      "text/html": [
       "<div>\n",
       "<style scoped>\n",
       "    .dataframe tbody tr th:only-of-type {\n",
       "        vertical-align: middle;\n",
       "    }\n",
       "\n",
       "    .dataframe tbody tr th {\n",
       "        vertical-align: top;\n",
       "    }\n",
       "\n",
       "    .dataframe thead th {\n",
       "        text-align: right;\n",
       "    }\n",
       "</style>\n",
       "<table border=\"1\" class=\"dataframe\">\n",
       "  <thead>\n",
       "    <tr style=\"text-align: right;\">\n",
       "      <th></th>\n",
       "      <th>Income</th>\n",
       "      <th>Lot_Size</th>\n",
       "    </tr>\n",
       "  </thead>\n",
       "  <tbody>\n",
       "    <tr>\n",
       "      <th>0</th>\n",
       "      <td>60</td>\n",
       "      <td>20</td>\n",
       "    </tr>\n",
       "  </tbody>\n",
       "</table>\n",
       "</div>"
      ],
      "text/plain": [
       "   Income  Lot_Size\n",
       "0      60        20"
      ]
     },
     "execution_count": 3,
     "metadata": {},
     "output_type": "execute_result"
    }
   ],
   "source": [
    "trainData, validData = train_test_split(mower_df, test_size=0.4, random_state=100)\n",
    "print(trainData.shape, validData.shape)\n",
    "newHousehold = pd.DataFrame([{'Income': 60, 'Lot_Size': 20}])\n",
    "newHousehold"
   ]
  },
  {
   "cell_type": "markdown",
   "metadata": {},
   "source": [
    "### Visualization"
   ]
  },
  {
   "cell_type": "code",
   "execution_count": 4,
   "metadata": {
    "execution": {
     "iopub.execute_input": "2023-06-26T14:18:06.667877Z",
     "iopub.status.busy": "2023-06-26T14:18:06.667511Z",
     "iopub.status.idle": "2023-06-26T14:18:07.047386Z",
     "shell.execute_reply": "2023-06-26T14:18:07.046398Z"
    }
   },
   "outputs": [
    {
     "data": {
      "image/png": "[encoded data removed]",
      "text/plain": [
       "<Figure size 640x480 with 1 Axes>"
      ]
     },
     "metadata": {},
     "output_type": "display_data"
    }
   ],
   "source": [
    "# OO-style plotting\n",
    "fig, ax = plt.subplots() \n",
    "\n",
    "subset = trainData.loc[trainData['Ownership']=='Owner']\n",
    "ax.scatter(subset.Income, subset.Lot_Size, marker='o', label='owner', color='C1')\n",
    "\n",
    "subset = trainData.loc[trainData['Ownership']=='Nonowner']\n",
    "ax.scatter(subset.Income, subset.Lot_Size, marker='D', label='nonowner', color='C0')\n",
    "\n",
    "ax.scatter(newHousehold.Income, newHousehold.Lot_Size, marker='*', \n",
    "           label='new household', color='black', s=150)\n",
    "\n",
    "plt.xlabel('Income')  # set x-axis label\n",
    "plt.ylabel('Lot_Size')  # set y-axis label\n",
    "for _, row in trainData.iterrows():\n",
    "    ax.annotate(row.Number, (row.Income + 2, row.Lot_Size))\n",
    "    \n",
    "handles, labels = ax.get_legend_handles_labels()\n",
    "ax.set_xlim(40, 115)\n",
    "ax.legend(handles, labels, loc=4)\n",
    "\n",
    "plt.show()"
   ]
  },
  {
   "cell_type": "markdown",
   "metadata": {},
   "source": [
    "As shown above, if we use a 1-NN classifier, we would classify the new household as an owner, like household 4."
   ]
  },
  {
   "cell_type": "code",
   "execution_count": 5,
   "metadata": {
    "execution": {
     "iopub.execute_input": "2023-06-26T14:18:07.050134Z",
     "iopub.status.busy": "2023-06-26T14:18:07.049762Z",
     "iopub.status.idle": "2023-06-26T14:18:07.386904Z",
     "shell.execute_reply": "2023-06-26T14:18:07.386196Z"
    }
   },
   "outputs": [
    {
     "data": {
      "image/png": "[encoded data removed]",
      "text/plain": [
       "<Figure size 640x480 with 1 Axes>"
      ]
     },
     "metadata": {},
     "output_type": "display_data"
    }
   ],
   "source": [
    "def plotDataset(ax, data, showLabel=True, **kwargs):\n",
    "    subset = data.loc[data['Ownership']=='Owner']\n",
    "    ax.scatter(subset.Income, subset.Lot_Size, marker='o', \n",
    "               label='owner' if showLabel else None, color='C1', **kwargs)\n",
    "\n",
    "    subset = data.loc[data['Ownership']=='Nonowner']\n",
    "    ax.scatter(subset.Income, subset.Lot_Size, marker='D', \n",
    "               label='nonowner' if showLabel else None, color='C0', **kwargs)\n",
    "\n",
    "    plt.xlabel('Income')  # set x-axis label\n",
    "    plt.ylabel('Lot_Size')  # set y-axis label\n",
    "    for _, row in data.iterrows():\n",
    "        ax.annotate(row.Number, (row.Income + 2, row.Lot_Size))\n",
    "\n",
    "fig, ax = plt.subplots()\n",
    "\n",
    "plotDataset(ax, trainData)\n",
    "plotDataset(ax, validData, showLabel=False, facecolors='none')\n",
    "\n",
    "ax.scatter(newHousehold.Income, newHousehold.Lot_Size, marker='*', \n",
    "           label='new household', color='black', s=150)\n",
    "\n",
    "plt.xlabel('Income')  # set x-axis label\n",
    "plt.ylabel('Lot_Size')  # set y-axis label\n",
    "    \n",
    "handles, labels = ax.get_legend_handles_labels()\n",
    "ax.set_xlim(40, 115)\n",
    "ax.legend(handles, labels, loc=4)\n",
    "\n",
    "plt.show()"
   ]
  },
  {
   "cell_type": "markdown",
   "metadata": {},
   "source": [
    "If we use $k = 3$, the three nearest households are 4, 14, and 1, as can be seen visually in the scatter plot, and as computed by the software. Two of these neighbors are owners of riding mowers, and one is a nonowner. The majority vote is therefore owner, and the new household would be classified as an owner."
   ]
  },
  {
   "cell_type": "markdown",
   "metadata": {},
   "source": [
    "Initialize normalized training, validation, and complete data frames. Use the training data to learn the transformation."
   ]
  },
  {
   "cell_type": "code",
   "execution_count": 6,
   "metadata": {
    "execution": {
     "iopub.execute_input": "2023-06-26T14:18:07.389198Z",
     "iopub.status.busy": "2023-06-26T14:18:07.388836Z",
     "iopub.status.idle": "2023-06-26T14:18:07.398673Z",
     "shell.execute_reply": "2023-06-26T14:18:07.398025Z"
    }
   },
   "outputs": [],
   "source": [
    "scaler = preprocessing.StandardScaler()\n",
    "scaler.fit(trainData[['Income', 'Lot_Size']])  \n",
    "# note that scaler is only fitted to the training data\n",
    "# the same scaling is then applied to the validation data\n",
    "\n",
    "# transform the full dataset\n",
    "mowerNorm = pd.concat([pd.DataFrame(scaler.transform(mower_df[['Income', 'Lot_Size']]), \n",
    "                                    columns=['zIncome', 'zLot_Size']),\n",
    "                       mower_df[['Ownership', 'Number']]], axis=1)\n",
    "trainNorm = mowerNorm.iloc[trainData.index]\n",
    "validNorm = mowerNorm.iloc[validData.index]\n",
    "newHouseholdNorm = pd.DataFrame(scaler.transform(newHousehold), \n",
    "                                columns=['zIncome', 'zLot_Size'])"
   ]
  },
  {
   "cell_type": "markdown",
   "metadata": {},
   "source": [
    "### Apply $k$-nearest neighbour\n",
    "\n",
    "The `NearestNeighbors` class from the `sklearn.neighbors` module is commonly used for finding the nearest neighbors of a data point in a dataset."
   ]
  },
  {
   "cell_type": "code",
   "execution_count": 7,
   "metadata": {
    "execution": {
     "iopub.execute_input": "2023-06-26T14:18:07.402292Z",
     "iopub.status.busy": "2023-06-26T14:18:07.401127Z",
     "iopub.status.idle": "2023-06-26T14:18:07.411682Z",
     "shell.execute_reply": "2023-06-26T14:18:07.410857Z"
    }
   },
   "outputs": [
    {
     "name": "stdout",
     "output_type": "stream",
     "text": [
      "     zIncome  zLot_Size Ownership  Number\n",
      "3  -0.409776   0.743358     Owner       4\n",
      "13 -0.804953   0.743358  Nonowner      14\n",
      "0  -0.477910  -0.174908     Owner       1\n"
     ]
    }
   ],
   "source": [
    "knn = NearestNeighbors(n_neighbors=3)\n",
    "knn.fit(trainNorm[['zIncome', 'zLot_Size']])\n",
    "distances, indices = knn.kneighbors(newHouseholdNorm)\n",
    "print(trainNorm.iloc[indices[0], :])  # indices is a list of lists, we are only interested in the first element"
   ]
  },
  {
   "cell_type": "code",
   "execution_count": 8,
   "metadata": {},
   "outputs": [
    {
     "name": "stdout",
     "output_type": "stream",
     "text": [
      "    zIncome  zLot_Size Ownership  Number\n",
      "3 -0.409776   0.743358     Owner       4\n"
     ]
    }
   ],
   "source": [
    "knn = NearestNeighbors(n_neighbors=1)\n",
    "knn.fit(trainNorm[['zIncome', 'zLot_Size']])\n",
    "distances, indices = knn.kneighbors(newHouseholdNorm)\n",
    "print(trainNorm.iloc[indices[0], :])"
   ]
  },
  {
   "cell_type": "markdown",
   "metadata": {},
   "source": [
    "### Choosing $k$\n",
    "\n",
    "The advantage of choosing $k > 1$ is that higher values of $k$ provide smoothing that reduces the risk of overfitting due to noise in the training data. Generally speaking, if $k$ is too low, we may be fitting to the noise in the data. However, if $k$ is too high, we will miss out on the method’s ability to capture the local structure in the data, one of its main advantages. In the extreme, $k = n =$\n",
    "the number of records in the training dataset. In that case, we simply assign all records to the majority class in the training data, irrespective of the values of $(x_1, x_2, \\ldots, x_p)$, which coincides with the naive rule! This is clearly a case of oversmoothing in the absence of useful information in the predictors about the class membership. In other words, we want to balance between overfitting\n",
    "to the predictor information and ignoring this information completely. A balanced choice greatly depends on the nature of the data. The more complex and irregular the structure of the data, the lower the optimum value of $k$. Typically, values of $k$ fall in the range of 1--20. We will use odd numbers to avoid ties."
   ]
  },
  {
   "cell_type": "markdown",
   "metadata": {},
   "source": [
    "**So how is $k$ chosen?** Answer: We choose the $k$ with the best classification performance. We use the training data to classify the records in the validation data, then compute error rates for various choices of $k$. For our example, if we choose $k = 1$, we will classify in a way that is very sensitive to the local characteristics of the training data. On the other hand, if we choose a large value of $k$, such as $k = 14$, we would simply predict the most frequent class in the dataset in all cases. This is a very stable prediction but it completely ignores the information in the predictors. To find a balance, we examine the accuracy (of predictions in the validation set) that results from different choices of $k$ between 1 and 14. For an even number $k$, if there is a tie in classifying a household, the tie is broken randomly. We would choose $k = 4$, which maximizes our accuracy in the validation set. Note, however, that now the validation set is used as part of the training process (to set $k$) and does not reflect a true holdout set as before. Ideally, we would want a third test set to evaluate the performance of the method on data that it did not see.\n",
    "\n",
    "\n",
    "Once $k$ is chosen, we rerun the algorithm on the combined training and testing sets in order to generate classifications of new records. An example is shown below, where the four nearest neighbors are used to classify the new household."
   ]
  },
  {
   "cell_type": "markdown",
   "metadata": {},
   "source": [
    "Initialize a data frame with two columns: `k` and `accuracy`"
   ]
  },
  {
   "cell_type": "code",
   "execution_count": 9,
   "metadata": {
    "execution": {
     "iopub.execute_input": "2023-06-26T14:18:07.413776Z",
     "iopub.status.busy": "2023-06-26T14:18:07.413401Z",
     "iopub.status.idle": "2023-06-26T14:18:07.506067Z",
     "shell.execute_reply": "2023-06-26T14:18:07.505162Z"
    }
   },
   "outputs": [
    {
     "name": "stdout",
     "output_type": "stream",
     "text": [
      "     k  accuracy\n",
      "0    1       0.6\n",
      "1    2       0.7\n",
      "2    3       0.8\n",
      "3    4       0.9\n",
      "4    5       0.7\n",
      "5    6       0.9\n",
      "6    7       0.9\n",
      "7    8       0.9\n",
      "8    9       0.9\n",
      "9   10       0.8\n",
      "10  11       0.8\n",
      "11  12       0.9\n",
      "12  13       0.4\n",
      "13  14       0.4\n"
     ]
    }
   ],
   "source": [
    "train_X = trainNorm[['zIncome', 'zLot_Size']]\n",
    "train_y = trainNorm['Ownership']\n",
    "valid_X = validNorm[['zIncome', 'zLot_Size']]\n",
    "valid_y = validNorm['Ownership']\n",
    "\n",
    "# train a classifier for different values of k\n",
    "results = []\n",
    "for k in range(1, 15):\n",
    "    knn = KNeighborsClassifier(n_neighbors=k).fit(train_X, train_y)\n",
    "    results.append({\n",
    "        'k': k,\n",
    "        'accuracy': accuracy_score(valid_y, knn.predict(valid_X))\n",
    "    })\n",
    "\n",
    "# convert results to a pandas data frame\n",
    "results = pd.DataFrame(results)\n",
    "print(results)"
   ]
  },
  {
   "cell_type": "code",
   "execution_count": 10,
   "metadata": {
    "execution": {
     "iopub.execute_input": "2023-06-26T14:18:07.509075Z",
     "iopub.status.busy": "2023-06-26T14:18:07.508670Z",
     "iopub.status.idle": "2023-06-26T14:18:07.520623Z",
     "shell.execute_reply": "2023-06-26T14:18:07.519950Z"
    }
   },
   "outputs": [
    {
     "name": "stdout",
     "output_type": "stream",
     "text": [
      "['Owner']\n",
      "Distances [[0.31358009 0.40880312 0.44793643 0.61217726]]\n",
      "Indices [[ 3  8 13  0]]\n",
      "     zIncome  zLot_Size Ownership  Number\n",
      "3  -0.409776   0.743358     Owner       4\n",
      "8  -0.069107   0.437269     Owner       9\n",
      "13 -0.804953   0.743358  Nonowner      14\n",
      "0  -0.477910  -0.174908     Owner       1\n"
     ]
    }
   ],
   "source": [
    "# retrain with full dataset\n",
    "mower_X = mowerNorm[['zIncome', 'zLot_Size']]\n",
    "mower_y = mowerNorm['Ownership']\n",
    "knn = KNeighborsClassifier(n_neighbors=4).fit(mower_X, mower_y)\n",
    "distances, indices = knn.kneighbors(newHouseholdNorm)\n",
    "print(knn.predict(newHouseholdNorm))\n",
    "print('Distances',distances)\n",
    "print('Indices', indices)\n",
    "print(mowerNorm.iloc[indices[0], :])"
   ]
  },
  {
   "cell_type": "markdown",
   "metadata": {},
   "source": [
    "### Converting categorical variables to binary dummies\n",
    "\n",
    "It usually does not make sense to calculate Euclidean distance between two nonnumeric categories (e.g., cookbooks and maps, in a bookstore). Therefore, before kNN can be applied, categorical variables must be converted to binary dummies. \n",
    "\n",
    "In contrast to the situation with statistical models such as regression, all $m$ binaries should be created and used with kNN. While mathematically this is redundant, since $m-1$ dummies contain the same information asmdummies, this redundant information **does not create the multicollinearity problems that it does for linear models**. Moreover, in kNN the use of $m-1$ dummies can yield different classifications than the use of $m$ dummies, and lead to an imbalance in the contribution of the different categories to the model."
   ]
  }
 ],
 "metadata": {
  "kernelspec": {
   "display_name": "Python 3 (ipykernel)",
   "language": "python",
   "name": "python3"
  },
  "language_info": {
   "codemirror_mode": {
    "name": "ipython",
    "version": 3
   },
   "file_extension": ".py",
   "mimetype": "text/x-python",
   "name": "python",
   "nbconvert_exporter": "python",
   "pygments_lexer": "ipython3",
   "version": "3.11.6"
  }
 },
 "nbformat": 4,
 "nbformat_minor": 4
}
