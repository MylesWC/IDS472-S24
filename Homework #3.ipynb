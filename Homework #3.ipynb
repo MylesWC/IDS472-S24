{
 "cells": [
  {
   "cell_type": "markdown",
   "id": "84b56322",
   "metadata": {},
   "source": [
    "# Homework #3 by Tasneem Abbasi, Myles Cook, and Keegan Smith"
   ]
  },
  {
   "cell_type": "code",
   "execution_count": 1,
   "id": "7be91f3d",
   "metadata": {},
   "outputs": [],
   "source": [
    "import pandas as pd\n",
    "import matplotlib.pylab as plt\n",
    "from sklearn.model_selection import train_test_split\n",
    "from sklearn.naive_bayes import MultinomialNB\n",
    "from sklearn.metrics import accuracy_score, confusion_matrix"
   ]
  },
  {
   "cell_type": "code",
   "execution_count": 2,
   "id": "13bdce5d",
   "metadata": {},
   "outputs": [
    {
     "data": {
      "text/html": [
       "<div>\n",
       "<style scoped>\n",
       "    .dataframe tbody tr th:only-of-type {\n",
       "        vertical-align: middle;\n",
       "    }\n",
       "\n",
       "    .dataframe tbody tr th {\n",
       "        vertical-align: top;\n",
       "    }\n",
       "\n",
       "    .dataframe thead th {\n",
       "        text-align: right;\n",
       "    }\n",
       "</style>\n",
       "<table border=\"1\" class=\"dataframe\">\n",
       "  <thead>\n",
       "    <tr style=\"text-align: right;\">\n",
       "      <th></th>\n",
       "      <th>Category</th>\n",
       "      <th>currency</th>\n",
       "      <th>sellerRating</th>\n",
       "      <th>Duration</th>\n",
       "      <th>endDay</th>\n",
       "      <th>ClosePrice</th>\n",
       "      <th>OpenPrice</th>\n",
       "      <th>Competitive?</th>\n",
       "    </tr>\n",
       "  </thead>\n",
       "  <tbody>\n",
       "    <tr>\n",
       "      <th>0</th>\n",
       "      <td>Music/Movie/Game</td>\n",
       "      <td>US</td>\n",
       "      <td>3249</td>\n",
       "      <td>5</td>\n",
       "      <td>Mon</td>\n",
       "      <td>0.01</td>\n",
       "      <td>0.01</td>\n",
       "      <td>0</td>\n",
       "    </tr>\n",
       "    <tr>\n",
       "      <th>1</th>\n",
       "      <td>Music/Movie/Game</td>\n",
       "      <td>US</td>\n",
       "      <td>3249</td>\n",
       "      <td>5</td>\n",
       "      <td>Mon</td>\n",
       "      <td>0.01</td>\n",
       "      <td>0.01</td>\n",
       "      <td>0</td>\n",
       "    </tr>\n",
       "    <tr>\n",
       "      <th>2</th>\n",
       "      <td>Music/Movie/Game</td>\n",
       "      <td>US</td>\n",
       "      <td>3249</td>\n",
       "      <td>5</td>\n",
       "      <td>Mon</td>\n",
       "      <td>0.01</td>\n",
       "      <td>0.01</td>\n",
       "      <td>0</td>\n",
       "    </tr>\n",
       "    <tr>\n",
       "      <th>3</th>\n",
       "      <td>Music/Movie/Game</td>\n",
       "      <td>US</td>\n",
       "      <td>3249</td>\n",
       "      <td>5</td>\n",
       "      <td>Mon</td>\n",
       "      <td>0.01</td>\n",
       "      <td>0.01</td>\n",
       "      <td>0</td>\n",
       "    </tr>\n",
       "    <tr>\n",
       "      <th>4</th>\n",
       "      <td>Music/Movie/Game</td>\n",
       "      <td>US</td>\n",
       "      <td>3249</td>\n",
       "      <td>5</td>\n",
       "      <td>Mon</td>\n",
       "      <td>0.01</td>\n",
       "      <td>0.01</td>\n",
       "      <td>0</td>\n",
       "    </tr>\n",
       "  </tbody>\n",
       "</table>\n",
       "</div>"
      ],
      "text/plain": [
       "           Category currency  sellerRating  Duration endDay  ClosePrice  \\\n",
       "0  Music/Movie/Game       US          3249         5    Mon        0.01   \n",
       "1  Music/Movie/Game       US          3249         5    Mon        0.01   \n",
       "2  Music/Movie/Game       US          3249         5    Mon        0.01   \n",
       "3  Music/Movie/Game       US          3249         5    Mon        0.01   \n",
       "4  Music/Movie/Game       US          3249         5    Mon        0.01   \n",
       "\n",
       "   OpenPrice  Competitive?  \n",
       "0       0.01             0  \n",
       "1       0.01             0  \n",
       "2       0.01             0  \n",
       "3       0.01             0  \n",
       "4       0.01             0  "
      ]
     },
     "execution_count": 2,
     "metadata": {},
     "output_type": "execute_result"
    }
   ],
   "source": [
    "auctions_df = pd.read_csv('eBayAuctions.csv')\n",
    "auctions_df.head()"
   ]
  },
  {
   "cell_type": "code",
   "execution_count": 3,
   "id": "7d4c4288",
   "metadata": {},
   "outputs": [],
   "source": [
    "auctions_df.dropna(inplace=True)\n",
    "\n",
    "auctions_df['Category'] = auctions_df['Category'].astype('category')\n",
    "auctions_df['currency'] = auctions_df['currency'].astype('category')\n",
    "auctions_df['endDay'] = auctions_df['endDay'].astype('category')\n",
    "auctions_df['Duration'] = auctions_df['Duration'].astype('category')\n",
    "\n",
    "cat_predictors = ['Category', 'currency', 'Duration', 'endDay']\n",
    "predictors = ['Category', 'currency','sellerRating', 'Duration', 'endDay', 'ClosePrice', 'OpenPrice']\n",
    "outcome = 'Competitive?'\n",
    "\n",
    "X_cat = pd.get_dummies(auctions_df[cat_predictors], dtype=int)\n",
    "\n",
    "X = pd.concat([X_cat, auctions_df[['sellerRating', 'ClosePrice', 'OpenPrice']]], axis=1)\n",
    "y = auctions_df['Competitive?']"
   ]
  },
  {
   "cell_type": "markdown",
   "id": "91d1b998",
   "metadata": {},
   "source": [
    "# Problem #1a:"
   ]
  },
  {
   "cell_type": "code",
   "execution_count": 4,
   "id": "447c32b4",
   "metadata": {},
   "outputs": [
    {
     "name": "stdout",
     "output_type": "stream",
     "text": [
      "Category      Antique/Art/Craft  Automotive     Books  Business/Industrial  \\\n",
      "Competitive?                                                                 \n",
      "0                      0.084989    0.126932  0.029801             0.006623   \n",
      "1                      0.093809    0.059099  0.025328             0.011257   \n",
      "\n",
      "Category      Clothing/Accessories  Coins/Stamps  Collectibles  Computer  \\\n",
      "Competitive?                                                               \n",
      "0                         0.065121      0.028698      0.111479  0.013245   \n",
      "1                         0.056285      0.010319      0.129456  0.022514   \n",
      "\n",
      "Category      Electronics  EverythingElse  Health/Beauty  Home/Garden  \\\n",
      "Competitive?                                                            \n",
      "0                0.012141        0.014349       0.058499     0.038631   \n",
      "1                0.041276        0.003752       0.010319     0.062852   \n",
      "\n",
      "Category       Jewelry  Music/Movie/Game  Photography  Pottery/Glass  \\\n",
      "Competitive?                                                           \n",
      "0             0.057395          0.176600     0.002208       0.014349   \n",
      "1             0.028143          0.227955     0.010319       0.006567   \n",
      "\n",
      "Category      SportingGoods  Toys/Hobbies  \n",
      "Competitive?                               \n",
      "0                  0.037528      0.121413  \n",
      "1                  0.084428      0.116323  \n",
      "\n",
      "currency           EUR       GBP        US\n",
      "Competitive?                              \n",
      "0             0.263797  0.050773  0.685430\n",
      "1             0.275797  0.094747  0.629456\n",
      "\n",
      "Duration             1         3         5         7        10\n",
      "Competitive?                                                  \n",
      "0             0.012141  0.129139  0.161148  0.545254  0.152318\n",
      "1             0.011257  0.090056  0.300188  0.443715  0.154784\n",
      "\n",
      "endDay             Fri       Mon       Sat       Sun       Thu       Tue  \\\n",
      "Competitive?                                                               \n",
      "0             0.168874  0.197572  0.221854  0.192053  0.088300  0.088300   \n",
      "1             0.125704  0.346154  0.140713  0.153846  0.114447  0.085366   \n",
      "\n",
      "endDay             Wed  \n",
      "Competitive?            \n",
      "0             0.043046  \n",
      "1             0.033771  \n",
      "\n"
     ]
    }
   ],
   "source": [
    "for predictor in cat_predictors:\n",
    "    df = auctions_df[['Competitive?',predictor]]\n",
    "    freqTable = df.pivot_table(index='Competitive?', columns=predictor,aggfunc=len)\n",
    "    propTable = freqTable.apply(lambda x: x / sum(x), axis = 1)\n",
    "    print(propTable)\n",
    "    print()"
   ]
  },
  {
   "cell_type": "markdown",
   "id": "83313301",
   "metadata": {},
   "source": [
    "# Problem #1b:"
   ]
  },
  {
   "cell_type": "code",
   "execution_count": 5,
   "id": "b5ac647f",
   "metadata": {},
   "outputs": [
    {
     "name": "stdout",
     "output_type": "stream",
     "text": [
      "Accuracy of logistic model with all predictors/features: 0.779467680608365\n"
     ]
    }
   ],
   "source": [
    "from sklearn.linear_model import LogisticRegression\n",
    "from sklearn.metrics import accuracy_score\n",
    "\n",
    "X_train, X_valid, y_train, y_valid = train_test_split(X, y, test_size=0.40, random_state=1)\n",
    "\n",
    "# Run logistic regression with all predictors\n",
    "model = LogisticRegression(max_iter=100000)\n",
    "model.fit(X_train, y_train)\n",
    "\n",
    "# Predict on validation set\n",
    "y_pred = model.predict(X_valid)\n",
    "\n",
    "# Calculate accuracy\n",
    "accuracy = accuracy_score(y_valid, y_pred)\n",
    "print(\"Accuracy of logistic model with all predictors/features:\", accuracy)"
   ]
  },
  {
   "cell_type": "markdown",
   "id": "9b7da7f0",
   "metadata": {},
   "source": [
    "# Problem #1c:"
   ]
  },
  {
   "cell_type": "code",
   "execution_count": 6,
   "id": "2d8c8d1f",
   "metadata": {},
   "outputs": [],
   "source": [
    "X_alt = X.drop(columns='ClosePrice')"
   ]
  },
  {
   "cell_type": "code",
   "execution_count": 7,
   "id": "52771ee6",
   "metadata": {},
   "outputs": [
    {
     "name": "stdout",
     "output_type": "stream",
     "text": [
      "Accuracy of logistic model excluding price: 0.632446134347275\n"
     ]
    }
   ],
   "source": [
    "X_train_alt, X_valid_alt, y_train_alt, y_valid_alt = train_test_split(X_alt, y, test_size=0.4, random_state=42)\n",
    "\n",
    "model_no_price = LogisticRegression(max_iter=100000)\n",
    "model_no_price.fit(X_train_alt, y_train_alt)\n",
    "\n",
    "y_pred_no_price = model_no_price.predict(X_valid_alt)\n",
    "\n",
    "accuracy_no_price = accuracy_score(y_valid_alt, y_pred_no_price)\n",
    "print(\"Accuracy of logistic model excluding price:\", accuracy_no_price)"
   ]
  },
  {
   "cell_type": "markdown",
   "id": "5498a9e8",
   "metadata": {},
   "source": [
    "Less accurate "
   ]
  },
  {
   "cell_type": "markdown",
   "id": "69c409e4",
   "metadata": {},
   "source": [
    "# Problem #1d:"
   ]
  },
  {
   "cell_type": "code",
   "execution_count": 11,
   "id": "95e0bf5a",
   "metadata": {},
   "outputs": [
    {
     "name": "stdout",
     "output_type": "stream",
     "text": [
      "Warning: Maximum number of iterations has been exceeded.\n",
      "         Current function value: 0.499076\n",
      "         Iterations: 35\n",
      "                           Logit Regression Results                           \n",
      "==============================================================================\n",
      "Dep. Variable:           Competitive?   No. Observations:                 1183\n",
      "Model:                          Logit   Df Residuals:                     1150\n",
      "Method:                           MLE   Df Model:                           32\n",
      "Date:                Mon, 26 Feb 2024   Pseudo R-squ.:                  0.2778\n",
      "Time:                        22:45:22   Log-Likelihood:                -590.41\n",
      "converged:                      False   LL-Null:                       -817.49\n",
      "Covariance Type:            nonrobust   LLR p-value:                 4.332e-76\n",
      "=================================================================================================\n",
      "                                    coef    std err          z      P>|z|      [0.025      0.975]\n",
      "-------------------------------------------------------------------------------------------------\n",
      "const                             0.4803        nan        nan        nan         nan         nan\n",
      "Category_Antique/Art/Craft       -0.6817        nan        nan        nan         nan         nan\n",
      "Category_Automotive              -1.3365        nan        nan        nan         nan         nan\n",
      "Category_Books                   -0.5005        nan        nan        nan         nan         nan\n",
      "Category_Business/Industrial      0.5541        nan        nan        nan         nan         nan\n",
      "Category_Clothing/Accessories    -2.0232        nan        nan        nan         nan         nan\n",
      "Category_Coins/Stamps            -2.7906        nan        nan        nan         nan         nan\n",
      "Category_Collectibles            -0.7741        nan        nan        nan         nan         nan\n",
      "Category_Computer                -0.8785        nan        nan        nan         nan         nan\n",
      "Category_Electronics             -0.2229        nan        nan        nan         nan         nan\n",
      "Category_EverythingElse          -2.4109        nan        nan        nan         nan         nan\n",
      "Category_Health/Beauty           -2.6853        nan        nan        nan         nan         nan\n",
      "Category_Home/Garden             -0.7681        nan        nan        nan         nan         nan\n",
      "Category_Jewelry                 -1.2159        nan        nan        nan         nan         nan\n",
      "Category_Music/Movie/Game        -0.6618        nan        nan        nan         nan         nan\n",
      "Category_Photography             19.1249        nan        nan        nan         nan         nan\n",
      "Category_Pottery/Glass           -0.9200        nan        nan        nan         nan         nan\n",
      "Category_SportingGoods           -0.8793        nan        nan        nan         nan         nan\n",
      "Category_Toys/Hobbies            -0.4495        nan        nan        nan         nan         nan\n",
      "currency_EUR                     -0.6335        nan        nan        nan         nan         nan\n",
      "currency_GBP                      1.1765        nan        nan        nan         nan         nan\n",
      "currency_US                      -0.0627        nan        nan        nan         nan         nan\n",
      "Duration_1                       -0.3007   1.16e+07  -2.58e-08      1.000   -2.28e+07    2.28e+07\n",
      "Duration_3                       -0.0274   1.16e+07  -2.36e-09      1.000   -2.28e+07    2.28e+07\n",
      "Duration_5                        0.4359   1.16e+07   3.76e-08      1.000   -2.27e+07    2.27e+07\n",
      "Duration_7                        0.0776   1.15e+07   6.72e-09      1.000   -2.26e+07    2.26e+07\n",
      "Duration_10                       0.2950   1.16e+07   2.54e-08      1.000   -2.27e+07    2.27e+07\n",
      "endDay_Fri                        0.4123    7.1e+06    5.8e-08      1.000   -1.39e+07    1.39e+07\n",
      "endDay_Mon                        0.6648    7.1e+06   9.36e-08      1.000   -1.39e+07    1.39e+07\n",
      "endDay_Sat                       -0.1815    7.1e+06  -2.55e-08      1.000   -1.39e+07    1.39e+07\n",
      "endDay_Sun                       -0.0739    7.1e+06  -1.04e-08      1.000   -1.39e+07    1.39e+07\n",
      "endDay_Thu                       -0.2113    7.1e+06  -2.97e-08      1.000   -1.39e+07    1.39e+07\n",
      "endDay_Tue                        0.1737    7.1e+06   2.44e-08      1.000   -1.39e+07    1.39e+07\n",
      "endDay_Wed                       -0.3038    7.1e+06  -4.28e-08      1.000   -1.39e+07    1.39e+07\n",
      "sellerRating                  -4.538e-05   1.67e-05     -2.715      0.007   -7.81e-05   -1.26e-05\n",
      "ClosePrice                        0.0894      0.009      9.457      0.000       0.071       0.108\n",
      "OpenPrice                        -0.1062      0.011     -9.452      0.000      -0.128      -0.084\n",
      "=================================================================================================\n"
     ]
    },
    {
     "name": "stderr",
     "output_type": "stream",
     "text": [
      "C:\\Users\\pff_ksmith\\AppData\\Local\\anaconda3\\Lib\\site-packages\\statsmodels\\base\\model.py:607: ConvergenceWarning: Maximum Likelihood optimization failed to converge. Check mle_retvals\n",
      "  warnings.warn(\"Maximum Likelihood optimization failed to \"\n"
     ]
    }
   ],
   "source": [
    "import statsmodels.api as sm\n",
    "model_eval = sm.Logit(y_train, sm.add_constant(X_train))\n",
    "model_eval = model_eval.fit()\n",
    "print(model_eval.summary())"
   ]
  },
  {
   "cell_type": "markdown",
   "id": "5a33e145",
   "metadata": {},
   "source": [
    "The log probability of a competetive auction is increased by 0.0894 for each 1 unit (dollar) of closing price and it is statistically significant (p < 0.1)"
   ]
  },
  {
   "cell_type": "markdown",
   "id": "6b11f87b",
   "metadata": {},
   "source": [
    "# Problem #1e: "
   ]
  },
  {
   "cell_type": "code",
   "execution_count": 9,
   "id": "c8513a79",
   "metadata": {},
   "outputs": [
    {
     "name": "stdout",
     "output_type": "stream",
     "text": [
      "Accuracy of regularized logistic model: 0.7667934093789607\n"
     ]
    }
   ],
   "source": [
    "model_regularized = LogisticRegression(penalty='l1', solver='liblinear')\n",
    "model_regularized.fit(X_train, y_train)\n",
    "\n",
    "# Predict on validation set\n",
    "y_pred_regularized = model_regularized.predict(X_valid)\n",
    "\n",
    "# Calculate accuracy\n",
    "accuracy_regularized = accuracy_score(y_valid, y_pred_regularized)\n",
    "print(\"Accuracy of regularized logistic model:\", accuracy_regularized)"
   ]
  },
  {
   "cell_type": "markdown",
   "id": "60c24fbd",
   "metadata": {},
   "source": [
    "# Problem #1f:"
   ]
  },
  {
   "cell_type": "markdown",
   "id": "ae00ccfa",
   "metadata": {},
   "source": [
    "We would recommend an auction with a duration of 5 days ending on either Friday or Monday given that those have the highest possitive coefficients, and that the auction use British Pounds (GBP) and is in the category \"photography\" although the reliance of these data is undetermined in our model. "
   ]
  }
 ],
 "metadata": {
  "kernelspec": {
   "display_name": "Python 3 (ipykernel)",
   "language": "python",
   "name": "python3"
  },
  "language_info": {
   "codemirror_mode": {
    "name": "ipython",
    "version": 3
   },
   "file_extension": ".py",
   "mimetype": "text/x-python",
   "name": "python",
   "nbconvert_exporter": "python",
   "pygments_lexer": "ipython3",
   "version": "3.11.5"
  }
 },
 "nbformat": 4,
 "nbformat_minor": 5
}
