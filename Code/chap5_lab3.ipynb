{
 "cells": [
  {
   "cell_type": "markdown",
   "metadata": {},
   "source": [
    "# Chapter 5-3: Multiple Linear Regression"
   ]
  },
  {
   "cell_type": "code",
   "execution_count": 23,
   "metadata": {
    "execution": {
     "iopub.execute_input": "2023-06-26T14:17:53.350547Z",
     "iopub.status.busy": "2023-06-26T14:17:53.350268Z",
     "iopub.status.idle": "2023-06-26T14:17:54.567583Z",
     "shell.execute_reply": "2023-06-26T14:17:54.566116Z"
    }
   },
   "outputs": [],
   "source": [
    "import numpy as np\n",
    "import pandas as pd\n",
    "from sklearn.model_selection import train_test_split\n",
    "from sklearn.linear_model import LinearRegression, Lasso, Ridge, LassoCV, BayesianRidge\n",
    "import statsmodels.api as sm\n",
    "import matplotlib.pylab as plt"
   ]
  },
  {
   "cell_type": "markdown",
   "metadata": {},
   "source": [
    "## Example: Predicting the Price of Used Toyota Corolla Cars\n",
    "\n",
    "A large Toyota car dealership offers purchasers of new Toyota cars the option to buy their used car as part of a trade-in. In particular, a new promotion promises to pay high prices for used Toyota Corolla cars for purchasers of a new car. The dealer then sells the used cars for a small profit. To ensure a reasonable profit, the dealer needs to be able to predict the price that the dealership will get for the used cars. For that reason, data were collected on all previous sales of used Toyota Corollas at the dealership. The data include the `sales price` and other information on the car, such as its `age`, `mileage`, `fuel type`, and `engine size`."
   ]
  },
  {
   "cell_type": "code",
   "execution_count": 24,
   "metadata": {},
   "outputs": [
    {
     "name": "stdout",
     "output_type": "stream",
     "text": [
      "(1436, 39)\n",
      "\n"
     ]
    },
    {
     "data": {
      "text/plain": [
       "Index(['Id', 'Model', 'Price', 'Age_08_04', 'Mfg_Month', 'Mfg_Year', 'KM',\n",
       "       'Fuel_Type', 'HP', 'Met_Color', 'Color', 'Automatic', 'CC', 'Doors',\n",
       "       'Cylinders', 'Gears', 'Quarterly_Tax', 'Weight', 'Mfr_Guarantee',\n",
       "       'BOVAG_Guarantee', 'Guarantee_Period', 'ABS', 'Airbag_1', 'Airbag_2',\n",
       "       'Airco', 'Automatic_airco', 'Boardcomputer', 'CD_Player',\n",
       "       'Central_Lock', 'Powered_Windows', 'Power_Steering', 'Radio',\n",
       "       'Mistlamps', 'Sport_Model', 'Backseat_Divider', 'Metallic_Rim',\n",
       "       'Radio_cassette', 'Parking_Assistant', 'Tow_Bar'],\n",
       "      dtype='object')"
      ]
     },
     "execution_count": 24,
     "metadata": {},
     "output_type": "execute_result"
    }
   ],
   "source": [
    "# reduce data frame to the top 1000 rows and select columns for regression analysis\n",
    "car_df = pd.read_csv('data/ToyotaCorolla.csv')\n",
    "print(car_df.shape)\n",
    "print()\n",
    "\n",
    "car_df.columns"
   ]
  },
  {
   "cell_type": "markdown",
   "metadata": {},
   "source": [
    "Values in the Toyota Corolla example:\n",
    "\n",
    " \n",
    "* `Price` Offer price in Euros\n",
    "* `Age`  Age in months as of August 2004\n",
    "* `Kilometers` Accumulated kilometers on odometer\n",
    "* `Fuel` type Fuel type (Petrol, Diesel, CNG)\n",
    "* `HP` Horsepower\n",
    "* `Metallic` Metallic color? (Yes = 1, No = 0)\n",
    "* `Automatic` Automatic (Yes = 1, No = 0)\n",
    "* `CC` Cylinder volume in cubic centimeters \n",
    "* `Doors` Number of doors\n",
    "* `QuartTax` Quarterly road tax in Euros\n",
    "* `Weight` Weight in kilograms"
   ]
  },
  {
   "cell_type": "code",
   "execution_count": 25,
   "metadata": {
    "execution": {
     "iopub.execute_input": "2023-06-26T14:17:54.571490Z",
     "iopub.status.busy": "2023-06-26T14:17:54.570989Z",
     "iopub.status.idle": "2023-06-26T14:17:54.604525Z",
     "shell.execute_reply": "2023-06-26T14:17:54.603490Z"
    },
    "scrolled": false
   },
   "outputs": [
    {
     "name": "stdout",
     "output_type": "stream",
     "text": [
      "intercept: -258.6042161509922\n",
      "           Predictor  coefficient\n",
      "0          Age_08_04  -124.110305\n",
      "1                 KM    -0.016059\n",
      "2                 HP    75.549218\n",
      "3          Met_Color    47.715778\n",
      "4          Automatic   462.441526\n",
      "5                 CC    -5.027585\n",
      "6              Doors    58.417871\n",
      "7      Quarterly_Tax    13.009195\n",
      "8             Weight    14.156177\n",
      "9   Fuel_Type_Diesel  4481.088703\n",
      "10  Fuel_Type_Petrol  2413.063717\n",
      "\n",
      "train R-squared: 0.8740198772919548\n",
      "valid R-squared: 0.10270749215842112\n"
     ]
    }
   ],
   "source": [
    "predictors = ['Age_08_04', 'KM', 'Fuel_Type', 'HP', 'Met_Color', 'Automatic', 'CC', \n",
    "              'Doors', 'Quarterly_Tax', 'Weight']\n",
    "outcome = 'Price'\n",
    "\n",
    "# partition data\n",
    "X = pd.get_dummies(car_df[predictors], drop_first=True, dtype=float)\n",
    "y = car_df[outcome]\n",
    "train_X, valid_X, train_y, valid_y \\\n",
    "    = train_test_split(X, y, test_size=0.4, random_state=1)\n",
    "\n",
    "car_lm = LinearRegression()\n",
    "car_lm.fit(train_X, train_y)\n",
    "\n",
    "# print coefficients\n",
    "print('intercept:', car_lm.intercept_)\n",
    "print(pd.DataFrame({'Predictor': X.columns, 'coefficient': car_lm.coef_}))\n",
    "print()\n",
    "\n",
    "# print performance measures\n",
    "print('train R-squared:', car_lm.score(train_X, train_y))\n",
    "print('valid R-squared:', car_lm.score(valid_X, valid_y))"
   ]
  },
  {
   "cell_type": "code",
   "execution_count": 26,
   "metadata": {
    "execution": {
     "iopub.execute_input": "2023-06-26T14:17:54.618493Z",
     "iopub.status.busy": "2023-06-26T14:17:54.617815Z",
     "iopub.status.idle": "2023-06-26T14:17:54.627744Z",
     "shell.execute_reply": "2023-06-26T14:17:54.626840Z"
    }
   },
   "outputs": [
    {
     "name": "stdout",
     "output_type": "stream",
     "text": [
      "         Predicted  Actual     Residual\n",
      "509   12323.811858   10900 -1423.811858\n",
      "435   11177.152249   10895  -282.152249\n",
      "321   14033.803003   10750 -3283.803003\n",
      "1055   6413.897879    6500    86.102121\n",
      "288   12724.302918   11895  -829.302918\n",
      "48    18226.582638   17950  -276.582638\n",
      "1403   7665.856654    7000  -665.856654\n",
      "952    9961.900457    8400 -1561.900457\n",
      "1097   7182.829823    7250    67.170177\n",
      "204   11985.986724   12950   964.013276\n",
      "978    9556.854777    8745  -811.854777\n",
      "404    9938.011124    9450  -488.011124\n",
      "1338   7456.762516    7499    42.237484\n",
      "754    8953.201306    9950   996.798694\n",
      "1189   6873.469434    8500  1626.530566\n",
      "948    8266.616892    7750  -516.616892\n",
      "1079   6140.669878    8950  2809.330122\n",
      "1108   7274.154503    8250   975.845497\n",
      "107   17074.195776   17450   375.804224\n",
      "1065   5951.980341    6550   598.019659\n"
     ]
    }
   ],
   "source": [
    "# use predict() to make predictions on a new set\n",
    "car_lm_pred = car_lm.predict(valid_X)\n",
    "\n",
    "result = pd.DataFrame({'Predicted': car_lm_pred, 'Actual': valid_y,\n",
    "                       'Residual': valid_y - car_lm_pred})\n",
    "print(result.head(20))"
   ]
  },
  {
   "cell_type": "markdown",
   "metadata": {},
   "source": [
    "Determine the residuals and create a histogram"
   ]
  },
  {
   "cell_type": "code",
   "execution_count": 27,
   "metadata": {
    "execution": {
     "iopub.execute_input": "2023-06-26T14:17:54.630440Z",
     "iopub.status.busy": "2023-06-26T14:17:54.630109Z",
     "iopub.status.idle": "2023-06-26T14:17:54.976751Z",
     "shell.execute_reply": "2023-06-26T14:17:54.975807Z"
    }
   },
   "outputs": [
    {
     "name": "stdout",
     "output_type": "stream",
     "text": [
      "0.7634782608695653\n"
     ]
    },
    {
     "data": {
      "image/png": "[encoded data removed]",
      "text/plain": [
       "<Figure size 640x480 with 1 Axes>"
      ]
     },
     "metadata": {},
     "output_type": "display_data"
    }
   ],
   "source": [
    "car_lm_pred = car_lm.predict(valid_X)\n",
    "all_residuals = valid_y - car_lm_pred\n",
    "\n",
    "# determine the percentage of datapoints with a residual in [-1406, 1406] = approx. 75\\%\n",
    "print(len(all_residuals[abs(all_residuals)<1406]) / len(all_residuals))\n",
    "\n",
    "ax = pd.DataFrame({'Residuals': all_residuals}).hist(bins=25)\n",
    "\n",
    "plt.tight_layout()\n",
    "plt.show()"
   ]
  },
  {
   "cell_type": "code",
   "execution_count": 28,
   "metadata": {},
   "outputs": [
    {
     "name": "stdout",
     "output_type": "stream",
     "text": [
      "train R-squared: 0.8652525623609486\n",
      "valid R-squared: 0.7936605802934318\n"
     ]
    }
   ],
   "source": [
    "# apply log transformation to the outcome variable\n",
    "new_train_y = np.log(train_y)\n",
    "new_valid_y = np.log(valid_y)\n",
    "\n",
    "# re-fit the linear model using the log-transformed outcome\n",
    "car_lm_log = LinearRegression()\n",
    "car_lm_log.fit(train_X, new_train_y)\n",
    "\n",
    "# print performance measures\n",
    "print('train R-squared:', car_lm_log.score(train_X, new_train_y))\n",
    "print('valid R-squared:', car_lm_log.score(valid_X, new_valid_y))"
   ]
  },
  {
   "cell_type": "code",
   "execution_count": 29,
   "metadata": {},
   "outputs": [
    {
     "name": "stdout",
     "output_type": "stream",
     "text": [
      "count    575.000000\n",
      "mean       0.009115\n",
      "std        0.132552\n",
      "min       -0.646688\n",
      "25%       -0.060488\n",
      "50%        0.012498\n",
      "75%        0.084408\n",
      "max        1.553833\n",
      "Name: Price, dtype: float64\n"
     ]
    },
    {
     "data": {
      "image/png": "[encoded data removed]",
      "text/plain": [
       "<Figure size 640x480 with 1 Axes>"
      ]
     },
     "metadata": {},
     "output_type": "display_data"
    }
   ],
   "source": [
    "car_lm_log_pred = car_lm_log.predict(valid_X)\n",
    "new_residuals = new_valid_y - car_lm_log_pred\n",
    "print(new_residuals.describe())\n",
    "\n",
    "ax = pd.DataFrame({'Log-Residuals': new_residuals}).hist(bins=25)\n",
    "plt.tight_layout()\n",
    "plt.show()"
   ]
  },
  {
   "cell_type": "code",
   "execution_count": 39,
   "metadata": {},
   "outputs": [
    {
     "name": "stdout",
     "output_type": "stream",
     "text": [
      "count      575.000000\n",
      "mean       159.953191\n",
      "std       1293.278906\n",
      "min      -3955.048138\n",
      "25%       -607.241787\n",
      "50%        134.096722\n",
      "75%        876.454937\n",
      "max      14943.289769\n",
      "Name: Price, dtype: float64\n"
     ]
    },
    {
     "data": {
      "image/png": "[encoded data removed]",
      "text/plain": [
       "<Figure size 640x480 with 1 Axes>"
      ]
     },
     "metadata": {},
     "output_type": "display_data"
    }
   ],
   "source": [
    "# visualize residuals between the original outcomes and exponentiated predictions\n",
    "res = valid_y - np.exp(car_lm_log_pred) \n",
    "print(res.describe())\n",
    "\n",
    "ax = pd.DataFrame({'Original Residuals': res}).hist(bins=25)\n",
    "plt.tight_layout()\n",
    "plt.show()"
   ]
  },
  {
   "cell_type": "code",
   "execution_count": 45,
   "metadata": {},
   "outputs": [
    {
     "name": "stdout",
     "output_type": "stream",
     "text": [
      "intercept: 8.727878646626106\n",
      "           Predictor  coefficient\n",
      "0          Age_08_04    -0.010551\n",
      "1                 KM    -0.000002\n",
      "2                 HP     0.003366\n",
      "3          Met_Color     0.004800\n",
      "4          Automatic     0.053488\n",
      "5                 CC    -0.000106\n",
      "6              Doors     0.008232\n",
      "7      Quarterly_Tax     0.001284\n",
      "8             Weight     0.000658\n",
      "9   Fuel_Type_Diesel     0.131916\n",
      "10  Fuel_Type_Petrol     0.183795\n",
      "\n"
     ]
    }
   ],
   "source": [
    "print('intercept:', car_lm_log.intercept_)\n",
    "print(pd.DataFrame({'Predictor': X.columns, 'coefficient': car_lm_log.coef_}))\n",
    "print()"
   ]
  },
  {
   "cell_type": "markdown",
   "metadata": {},
   "source": [
    "### Use `statsmodels` to fit linear regression"
   ]
  },
  {
   "cell_type": "code",
   "execution_count": null,
   "metadata": {},
   "outputs": [
    {
     "name": "stdout",
     "output_type": "stream",
     "text": [
      "                            OLS Regression Results                            \n",
      "==============================================================================\n",
      "Dep. Variable:                  Price   R-squared:                       0.874\n",
      "Model:                            OLS   Adj. R-squared:                  0.872\n",
      "Method:                 Least Squares   F-statistic:                     535.5\n",
      "Date:                Tue, 20 Feb 2024   Prob (F-statistic):               0.00\n",
      "Time:                        17:38:20   Log-Likelihood:                -7405.4\n",
      "No. Observations:                 861   AIC:                         1.483e+04\n",
      "Df Residuals:                     849   BIC:                         1.489e+04\n",
      "Df Model:                          11                                         \n",
      "Covariance Type:            nonrobust                                         \n",
      "====================================================================================\n",
      "                       coef    std err          t      P>|t|      [0.025      0.975]\n",
      "------------------------------------------------------------------------------------\n",
      "const             -258.6042   1551.111     -0.167      0.868   -3303.066    2785.857\n",
      "Age_08_04         -124.1103      3.328    -37.294      0.000    -130.642    -117.579\n",
      "KM                  -0.0161      0.002     -9.372      0.000      -0.019      -0.013\n",
      "HP                  75.5492      7.570      9.980      0.000      60.691      90.408\n",
      "Met_Color           47.7158     97.356      0.490      0.624    -143.371     238.802\n",
      "Automatic          462.4415    192.349      2.404      0.016      84.907     839.976\n",
      "CC                  -5.0276      0.724     -6.947      0.000      -6.448      -3.607\n",
      "Doors               58.4179     52.361      1.116      0.265     -44.353     161.189\n",
      "Quarterly_Tax       13.0092      2.149      6.055      0.000       8.792      17.226\n",
      "Weight              14.1562      1.392     10.172      0.000      11.425      16.888\n",
      "Fuel_Type_Diesel  4481.0887    689.530      6.499      0.000    3127.706    5834.471\n",
      "Fuel_Type_Petrol  2413.0637    507.893      4.751      0.000    1416.191    3409.936\n",
      "==============================================================================\n",
      "Omnibus:                       99.178   Durbin-Watson:                   2.018\n",
      "Prob(Omnibus):                  0.000   Jarque-Bera (JB):              814.983\n",
      "Skew:                           0.071   Prob(JB):                    1.07e-177\n",
      "Kurtosis:                       7.764   Cond. No.                     2.68e+06\n",
      "==============================================================================\n",
      "\n",
      "Notes:\n",
      "[1] Standard Errors assume that the covariance matrix of the errors is correctly specified.\n",
      "[2] The condition number is large, 2.68e+06. This might indicate that there are\n",
      "strong multicollinearity or other numerical problems.\n"
     ]
    }
   ],
   "source": [
    "train_X, valid_X, train_y, valid_y \\\n",
    "    = train_test_split(X, y, test_size=0.4, random_state=1)\n",
    "\n",
    "# add a column of 1s to the feature matrix (for the intercept)\n",
    "train_X1 = sm.add_constant(train_X)\n",
    "valid_X1 = sm.add_constant(valid_X)\n",
    "\n",
    "# fit the model using the raw data/feature matrix\n",
    "model1 = sm.OLS(train_y, train_X1)\n",
    "results1 = model1.fit()\n",
    "print(results1.summary())"
   ]
  },
  {
   "cell_type": "code",
   "execution_count": null,
   "metadata": {},
   "outputs": [
    {
     "name": "stdout",
     "output_type": "stream",
     "text": [
      "                            OLS Regression Results                            \n",
      "==============================================================================\n",
      "Dep. Variable:                  Price   R-squared:                       0.874\n",
      "Model:                            OLS   Adj. R-squared:                  0.872\n",
      "Method:                 Least Squares   F-statistic:                     535.5\n",
      "Date:                Tue, 20 Feb 2024   Prob (F-statistic):               0.00\n",
      "Time:                        17:38:20   Log-Likelihood:                -7405.4\n",
      "No. Observations:                 861   AIC:                         1.483e+04\n",
      "Df Residuals:                     849   BIC:                         1.489e+04\n",
      "Df Model:                          11                                         \n",
      "Covariance Type:            nonrobust                                         \n",
      "==============================================================================\n",
      "                 coef    std err          t      P>|t|      [0.025      0.975]\n",
      "------------------------------------------------------------------------------\n",
      "const       1.077e+04     45.149    238.636      0.000    1.07e+04    1.09e+04\n",
      "x1         -2351.0249     63.040    -37.294      0.000   -2474.757   -2227.293\n",
      "x2          -603.2619     64.370     -9.372      0.000    -729.605    -476.919\n",
      "x3          1106.4225    110.867      9.980      0.000     888.816    1324.028\n",
      "x4            22.4934     45.894      0.490      0.624     -67.586     112.572\n",
      "x5           112.1211     46.636      2.404      0.016      20.586     203.656\n",
      "x6          -943.4186    135.807     -6.947      0.000   -1209.975    -676.862\n",
      "x7            55.6377     49.869      1.116      0.265     -42.243     153.518\n",
      "x8           545.3964     90.079      6.055      0.000     368.593     722.200\n",
      "x9           795.8188     78.235     10.172      0.000     642.263     949.375\n",
      "x10         1384.3231    213.013      6.499      0.000     966.229    1802.418\n",
      "x11          776.4851    163.432      4.751      0.000     455.708    1097.263\n",
      "==============================================================================\n",
      "Omnibus:                       99.178   Durbin-Watson:                   2.018\n",
      "Prob(Omnibus):                  0.000   Jarque-Bera (JB):              814.983\n",
      "Skew:                           0.071   Prob(JB):                    1.07e-177\n",
      "Kurtosis:                       7.764   Cond. No.                         12.0\n",
      "==============================================================================\n",
      "\n",
      "Notes:\n",
      "[1] Standard Errors assume that the covariance matrix of the errors is correctly specified.\n"
     ]
    }
   ],
   "source": [
    "from sklearn.preprocessing import StandardScaler\n",
    "\n",
    "# normalize the features\n",
    "scaler = StandardScaler()\n",
    "train_X_scaled = scaler.fit_transform(train_X)\n",
    "valid_X_scaled = scaler.transform(valid_X)\n",
    "# add a column of 1s to the feature matrix (for the intercept)\n",
    "train_X_scaled = sm.add_constant(train_X_scaled)\n",
    "valid_X_scaled = sm.add_constant(valid_X_scaled)\n",
    "\n",
    "# refit a model using the scaled features\n",
    "model2 = sm.OLS(train_y, train_X_scaled)\n",
    "results2 = model2.fit()\n",
    "print(results2.summary())"
   ]
  },
  {
   "cell_type": "markdown",
   "metadata": {},
   "source": [
    "Between `Model1` and `Model2`, which one should we use?"
   ]
  },
  {
   "cell_type": "code",
   "execution_count": null,
   "metadata": {},
   "outputs": [],
   "source": []
  },
  {
   "cell_type": "markdown",
   "metadata": {},
   "source": [
    "## Regularized Methods"
   ]
  },
  {
   "cell_type": "code",
   "execution_count": null,
   "metadata": {
    "execution": {
     "iopub.execute_input": "2023-06-26T14:18:02.387086Z",
     "iopub.status.busy": "2023-06-26T14:18:02.386271Z",
     "iopub.status.idle": "2023-06-26T14:18:02.459914Z",
     "shell.execute_reply": "2023-06-26T14:18:02.458900Z"
    }
   },
   "outputs": [
    {
     "name": "stdout",
     "output_type": "stream",
     "text": [
      "Lasso\n",
      "R-squared for the training set: 0.8740127047433279\n",
      "R-squared for the validation set: 0.137106432696116\n",
      "\n",
      "Lasso-CV\n",
      "R-squared for the training set: 0.8739330944962086\n",
      "R-squared for the validation set: 0.21974123763113085\n",
      "Lasso-CV chosen regularization:  3.2490254673278853\n",
      "[-2352.85131594  -608.30796232  1048.76008237    18.83250289\n",
      "   106.03901005  -867.88989075    46.80019064   526.05069621\n",
      "   806.71004096  1234.41874558   701.92509825]\n",
      "\n",
      "Ridge\n",
      "R-squared for the training set: 0.8740068514907722\n",
      "R-squared for the validation set: 0.15063088748363673\n",
      "\n",
      "BayesianRidge\n",
      "R-squared for the training set: 0.8739823829806066\n",
      "R-squared for the validation set: 0.18303280187024962\n",
      "Bayesian ridge chosen regularization:  1.7418534810361945\n"
     ]
    }
   ],
   "source": [
    "from sklearn.pipeline import Pipeline\n",
    "from sklearn.preprocessing import StandardScaler\n",
    "\n",
    "train_X, valid_X, train_y, valid_y \\\n",
    "    = train_test_split(X, y, test_size=0.4, random_state=1)\n",
    "\n",
    "\n",
    "lasso = Pipeline([\n",
    "    ['normalize', StandardScaler()],\n",
    "    ['model', Lasso(alpha=1)],\n",
    "])\n",
    "lasso.fit(train_X, train_y)\n",
    "print('Lasso')\n",
    "print('R-squared for the training set:', lasso.score(train_X, train_y))\n",
    "print('R-squared for the validation set:', lasso.score(valid_X, valid_y))\n",
    "print()\n",
    "\n",
    "\n",
    "lasso_cv = Pipeline([\n",
    "    ['normalize', StandardScaler()],\n",
    "    ['model', LassoCV(cv=5)],\n",
    "])\n",
    "lasso_cv.fit(train_X, train_y)\n",
    "print('Lasso-CV')\n",
    "print('R-squared for the training set:', lasso_cv.score(train_X, train_y))\n",
    "print('R-squared for the validation set:', lasso_cv.score(valid_X, valid_y))\n",
    "print('Lasso-CV chosen regularization: ', lasso_cv['model'].alpha_)\n",
    "print(lasso_cv['model'].coef_)\n",
    "print()\n",
    "\n",
    "\n",
    "ridge = Pipeline([\n",
    "    ['normalize', StandardScaler()],\n",
    "    ['model', Ridge(alpha=1)],\n",
    "])\n",
    "ridge.fit(train_X, train_y)\n",
    "print('Ridge')\n",
    "print('R-squared for the training set:', ridge.score(train_X, train_y))\n",
    "print('R-squared for the validation set:', ridge.score(valid_X, valid_y))\n",
    "print()\n",
    "\n",
    "\n",
    "bayesianRidge = Pipeline([\n",
    "    ['normalize', StandardScaler()],\n",
    "    ['model', BayesianRidge()],\n",
    "])\n",
    "bayesianRidge.fit(train_X, train_y)\n",
    "print('BayesianRidge')\n",
    "print('R-squared for the training set:', bayesianRidge.score(train_X, train_y))\n",
    "print('R-squared for the validation set:', bayesianRidge.score(valid_X, valid_y))\n",
    "print('Bayesian ridge chosen regularization: ', \n",
    "      bayesianRidge['model'].lambda_ / bayesianRidge['model'].alpha_)"
   ]
  },
  {
   "cell_type": "code",
   "execution_count": null,
   "metadata": {
    "execution": {
     "iopub.execute_input": "2023-06-26T14:18:02.463366Z",
     "iopub.status.busy": "2023-06-26T14:18:02.462819Z",
     "iopub.status.idle": "2023-06-26T14:18:02.476068Z",
     "shell.execute_reply": "2023-06-26T14:18:02.474874Z"
    }
   },
   "outputs": [
    {
     "name": "stdout",
     "output_type": "stream",
     "text": [
      "OLS\n",
      "R-squared for the training set: 0.8740198772919548\n",
      "R-squared for the validation set: 0.10270749215842112\n",
      "\n"
     ]
    }
   ],
   "source": [
    "linearRegression = Pipeline([\n",
    "    ['normalize', StandardScaler()],\n",
    "    ['model', LinearRegression()],\n",
    "])\n",
    "linearRegression.fit(train_X, train_y)\n",
    "print('OLS')\n",
    "print('R-squared for the training set:', linearRegression.score(train_X, train_y))\n",
    "print('R-squared for the validation set:', linearRegression.score(valid_X, valid_y))\n",
    "print()"
   ]
  },
  {
   "cell_type": "code",
   "execution_count": null,
   "metadata": {
    "execution": {
     "iopub.execute_input": "2023-06-26T14:18:02.479801Z",
     "iopub.status.busy": "2023-06-26T14:18:02.479207Z",
     "iopub.status.idle": "2023-06-26T14:18:02.490817Z",
     "shell.execute_reply": "2023-06-26T14:18:02.489826Z"
    }
   },
   "outputs": [
    {
     "data": {
      "text/html": [
       "<div>\n",
       "<style scoped>\n",
       "    .dataframe tbody tr th:only-of-type {\n",
       "        vertical-align: middle;\n",
       "    }\n",
       "\n",
       "    .dataframe tbody tr th {\n",
       "        vertical-align: top;\n",
       "    }\n",
       "\n",
       "    .dataframe thead th {\n",
       "        text-align: right;\n",
       "    }\n",
       "</style>\n",
       "<table border=\"1\" class=\"dataframe\">\n",
       "  <thead>\n",
       "    <tr style=\"text-align: right;\">\n",
       "      <th></th>\n",
       "      <th>features</th>\n",
       "      <th>OLS</th>\n",
       "      <th>lassoCV</th>\n",
       "      <th>bayesianRidge</th>\n",
       "    </tr>\n",
       "  </thead>\n",
       "  <tbody>\n",
       "    <tr>\n",
       "      <th>0</th>\n",
       "      <td>Age_08_04</td>\n",
       "      <td>-2351.024903</td>\n",
       "      <td>-2352.851316</td>\n",
       "      <td>-2345.943411</td>\n",
       "    </tr>\n",
       "    <tr>\n",
       "      <th>1</th>\n",
       "      <td>KM</td>\n",
       "      <td>-603.261857</td>\n",
       "      <td>-608.307962</td>\n",
       "      <td>-610.442944</td>\n",
       "    </tr>\n",
       "    <tr>\n",
       "      <th>2</th>\n",
       "      <td>HP</td>\n",
       "      <td>1106.422467</td>\n",
       "      <td>1048.760082</td>\n",
       "      <td>1065.899345</td>\n",
       "    </tr>\n",
       "    <tr>\n",
       "      <th>3</th>\n",
       "      <td>Met_Color</td>\n",
       "      <td>22.493434</td>\n",
       "      <td>18.832503</td>\n",
       "      <td>22.450193</td>\n",
       "    </tr>\n",
       "    <tr>\n",
       "      <th>4</th>\n",
       "      <td>Automatic</td>\n",
       "      <td>112.121093</td>\n",
       "      <td>106.039010</td>\n",
       "      <td>109.497863</td>\n",
       "    </tr>\n",
       "    <tr>\n",
       "      <th>5</th>\n",
       "      <td>CC</td>\n",
       "      <td>-943.418599</td>\n",
       "      <td>-867.889891</td>\n",
       "      <td>-892.420883</td>\n",
       "    </tr>\n",
       "    <tr>\n",
       "      <th>6</th>\n",
       "      <td>Doors</td>\n",
       "      <td>55.637722</td>\n",
       "      <td>46.800191</td>\n",
       "      <td>51.747040</td>\n",
       "    </tr>\n",
       "    <tr>\n",
       "      <th>7</th>\n",
       "      <td>Quarterly_Tax</td>\n",
       "      <td>545.396413</td>\n",
       "      <td>526.050696</td>\n",
       "      <td>538.762866</td>\n",
       "    </tr>\n",
       "    <tr>\n",
       "      <th>8</th>\n",
       "      <td>Weight</td>\n",
       "      <td>795.818801</td>\n",
       "      <td>806.710041</td>\n",
       "      <td>804.936034</td>\n",
       "    </tr>\n",
       "    <tr>\n",
       "      <th>9</th>\n",
       "      <td>Fuel_Type_Diesel</td>\n",
       "      <td>1384.323122</td>\n",
       "      <td>1234.418746</td>\n",
       "      <td>1283.680652</td>\n",
       "    </tr>\n",
       "    <tr>\n",
       "      <th>10</th>\n",
       "      <td>Fuel_Type_Petrol</td>\n",
       "      <td>776.485091</td>\n",
       "      <td>701.925098</td>\n",
       "      <td>732.179220</td>\n",
       "    </tr>\n",
       "  </tbody>\n",
       "</table>\n",
       "</div>"
      ],
      "text/plain": [
       "            features          OLS      lassoCV  bayesianRidge\n",
       "0          Age_08_04 -2351.024903 -2352.851316   -2345.943411\n",
       "1                 KM  -603.261857  -608.307962    -610.442944\n",
       "2                 HP  1106.422467  1048.760082    1065.899345\n",
       "3          Met_Color    22.493434    18.832503      22.450193\n",
       "4          Automatic   112.121093   106.039010     109.497863\n",
       "5                 CC  -943.418599  -867.889891    -892.420883\n",
       "6              Doors    55.637722    46.800191      51.747040\n",
       "7      Quarterly_Tax   545.396413   526.050696     538.762866\n",
       "8             Weight   795.818801   806.710041     804.936034\n",
       "9   Fuel_Type_Diesel  1384.323122  1234.418746    1283.680652\n",
       "10  Fuel_Type_Petrol   776.485091   701.925098     732.179220"
      ]
     },
     "execution_count": 35,
     "metadata": {},
     "output_type": "execute_result"
    }
   ],
   "source": [
    "pd.DataFrame({\n",
    "    'features': train_X.columns, \n",
    "    'OLS': linearRegression['model'].coef_, \n",
    "    'lassoCV': lasso_cv['model'].coef_, \n",
    "    'bayesianRidge': bayesianRidge['model'].coef_,\n",
    "})"
   ]
  },
  {
   "cell_type": "code",
   "execution_count": null,
   "metadata": {
    "execution": {
     "iopub.execute_input": "2023-06-26T14:18:02.494166Z",
     "iopub.status.busy": "2023-06-26T14:18:02.493570Z",
     "iopub.status.idle": "2023-06-26T14:18:02.532848Z",
     "shell.execute_reply": "2023-06-26T14:18:02.531922Z"
    },
    "scrolled": false
   },
   "outputs": [
    {
     "name": "stdout",
     "output_type": "stream",
     "text": [
      "                            OLS Regression Results                            \n",
      "==============================================================================\n",
      "Dep. Variable:                  Price   R-squared:                       0.874\n",
      "Model:                            OLS   Adj. R-squared:                  0.872\n",
      "Method:                 Least Squares   F-statistic:                     535.5\n",
      "Date:                Tue, 20 Feb 2024   Prob (F-statistic):               0.00\n",
      "Time:                        17:38:21   Log-Likelihood:                -7405.4\n",
      "No. Observations:                 861   AIC:                         1.483e+04\n",
      "Df Residuals:                     849   BIC:                         1.489e+04\n",
      "Df Model:                          11                                         \n",
      "Covariance Type:            nonrobust                                         \n",
      "====================================================================================\n",
      "                       coef    std err          t      P>|t|      [0.025      0.975]\n",
      "------------------------------------------------------------------------------------\n",
      "Intercept         -258.6042   1551.111     -0.167      0.868   -3303.066    2785.857\n",
      "Age_08_04         -124.1103      3.328    -37.294      0.000    -130.642    -117.579\n",
      "KM                  -0.0161      0.002     -9.372      0.000      -0.019      -0.013\n",
      "HP                  75.5492      7.570      9.980      0.000      60.691      90.408\n",
      "Met_Color           47.7158     97.356      0.490      0.624    -143.371     238.802\n",
      "Automatic          462.4415    192.349      2.404      0.016      84.907     839.976\n",
      "CC                  -5.0276      0.724     -6.947      0.000      -6.448      -3.607\n",
      "Doors               58.4179     52.361      1.116      0.265     -44.353     161.189\n",
      "Quarterly_Tax       13.0092      2.149      6.055      0.000       8.792      17.226\n",
      "Weight              14.1562      1.392     10.172      0.000      11.425      16.888\n",
      "Fuel_Type_Diesel  4481.0887    689.530      6.499      0.000    3127.706    5834.471\n",
      "Fuel_Type_Petrol  2413.0637    507.893      4.751      0.000    1416.191    3409.936\n",
      "==============================================================================\n",
      "Omnibus:                       99.178   Durbin-Watson:                   2.018\n",
      "Prob(Omnibus):                  0.000   Jarque-Bera (JB):              814.983\n",
      "Skew:                           0.071   Prob(JB):                    1.07e-177\n",
      "Kurtosis:                       7.764   Cond. No.                     2.68e+06\n",
      "==============================================================================\n",
      "\n",
      "Notes:\n",
      "[1] Standard Errors assume that the covariance matrix of the errors is correctly specified.\n",
      "[2] The condition number is large, 2.68e+06. This might indicate that there are\n",
      "strong multicollinearity or other numerical problems.\n"
     ]
    }
   ],
   "source": [
    "# run a linear regression of Price on the remaining 11 predictors in the training set\n",
    "import statsmodels.formula.api as smf\n",
    "\n",
    "train_X, valid_X, train_y, valid_y \\\n",
    "    = train_test_split(X, y, test_size=0.4, random_state=1)\n",
    "train_df = train_X.join(train_y)\n",
    "\n",
    "predictors = train_X.columns\n",
    "formula = 'Price ~ ' + ' + '.join(predictors)\n",
    "\n",
    "car_lm = smf.ols(formula=formula, data=train_df).fit()\n",
    "print(car_lm.summary())"
   ]
  },
  {
   "cell_type": "code",
   "execution_count": null,
   "metadata": {},
   "outputs": [],
   "source": []
  }
 ],
 "metadata": {
  "kernelspec": {
   "display_name": "Python 3 (ipykernel)",
   "language": "python",
   "name": "python3"
  },
  "language_info": {
   "codemirror_mode": {
    "name": "ipython",
    "version": 3
   },
   "file_extension": ".py",
   "mimetype": "text/x-python",
   "name": "python",
   "nbconvert_exporter": "python",
   "pygments_lexer": "ipython3",
   "version": "3.10.13"
  }
 },
 "nbformat": 4,
 "nbformat_minor": 2
}
