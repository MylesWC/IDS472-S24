{
 "cells": [
  {
   "cell_type": "markdown",
   "metadata": {},
   "source": [
    "# Problem 2.1\n"
   ]
  },
  {
   "cell_type": "code",
   "execution_count": 3,
   "metadata": {},
   "outputs": [],
   "source": [
    "import pandas as pd\n",
    "from sklearn.model_selection import train_test_split\n",
    "from sklearn.preprocessing import StandardScaler\n",
    "from sklearn.neighbors import KNeighborsClassifier"
   ]
  },
  {
   "cell_type": "code",
   "execution_count": 4,
   "metadata": {},
   "outputs": [],
   "source": [
    "# Load the data\n",
    "data = pd.read_csv('UniversalBank.csv')\n",
    "\n",
    "# Drop the ID and ZIP Code columns as they are not useful for prediction\n",
    "data.drop(['ID', 'ZIP Code'], axis=1, inplace=True)\n",
    "\n",
    "# Professor made each education level a separate column in his - he said it was a mistake\n",
    "# Convert categorical variables into dummy variables\n",
    "data = pd.get_dummies(data, columns=['Education'], drop_first=True)\n",
    "\n",
    "# Split the data into features and target variable\n",
    "X = data.drop('Personal Loan', axis=1)\n",
    "y = data['Personal Loan']\n",
    "\n",
    "# Standardize the features\n",
    "scaler = StandardScaler()\n",
    "X_scaled = scaler.fit_transform(X)\n",
    "\n",
    "# Split the data into training (60%) and validation (40%) sets\n",
    "X_train, X_val, y_train, y_val = train_test_split(X_scaled, y, test_size=0.4, random_state=42)"
   ]
  },
  {
   "cell_type": "markdown",
   "metadata": {},
   "source": [
    "# Part a:"
   ]
  },
  {
   "cell_type": "code",
   "execution_count": 5,
   "metadata": {},
   "outputs": [
    {
     "name": "stdout",
     "output_type": "stream",
     "text": [
      "Customer's loan acceptance prediction (k=1): 0\n"
     ]
    }
   ],
   "source": [
    "# Define the specific customer's data\n",
    "customer_data = pd.DataFrame({\n",
    "    'Age': [40],\n",
    "    'Experience': [10],\n",
    "    'Income': [84],\n",
    "    'Family': [2],\n",
    "    'CCAvg': [2],\n",
    "    'Mortgage': [0],\n",
    "    'Securities Account': [0],\n",
    "    'CD Account': [0],\n",
    "    'Online': [1],\n",
    "    'CreditCard': [1],\n",
    "    'Education_2': [1],\n",
    "    'Education_3': [0]\n",
    "})\n",
    "\n",
    "# Standardize the customer's data\n",
    "customer_data_scaled = scaler.transform(customer_data)\n",
    "\n",
    "# Perform k-NN classification with k=1\n",
    "knn = KNeighborsClassifier(n_neighbors=1)\n",
    "knn.fit(X_train, y_train)\n",
    "customer_prediction = knn.predict(customer_data_scaled)\n",
    "\n",
    "print(f\"Customer's loan acceptance prediction (k=1): {customer_prediction[0]}\")"
   ]
  },
  {
   "cell_type": "markdown",
   "metadata": {},
   "source": [
    "# Part b:"
   ]
  },
  {
   "cell_type": "code",
   "execution_count": 6,
   "metadata": {},
   "outputs": [
    {
     "name": "stdout",
     "output_type": "stream",
     "text": [
      "k=1, Validation Accuracy=0.96\n",
      "k=2, Validation Accuracy=0.947\n",
      "k=3, Validation Accuracy=0.956\n",
      "k=4, Validation Accuracy=0.9455\n",
      "k=5, Validation Accuracy=0.953\n",
      "k=6, Validation Accuracy=0.9425\n",
      "k=7, Validation Accuracy=0.95\n",
      "k=8, Validation Accuracy=0.9445\n",
      "k=9, Validation Accuracy=0.9475\n",
      "k=10, Validation Accuracy=0.9385\n",
      "k=11, Validation Accuracy=0.9435\n",
      "k=12, Validation Accuracy=0.938\n",
      "k=13, Validation Accuracy=0.94\n",
      "k=14, Validation Accuracy=0.9365\n",
      "k=15, Validation Accuracy=0.9415\n",
      "k=16, Validation Accuracy=0.937\n",
      "k=17, Validation Accuracy=0.94\n",
      "k=18, Validation Accuracy=0.9345\n",
      "k=19, Validation Accuracy=0.937\n",
      "k=20, Validation Accuracy=0.9315\n",
      "Best k: 1 with Accuracy: 0.96\n"
     ]
    }
   ],
   "source": [
    "from sklearn.metrics import accuracy_score\n",
    "\n",
    "# Placeholder for best k and its accuracy\n",
    "best_k = 1\n",
    "best_accuracy = 0\n",
    "\n",
    "# Try different values of k\n",
    "for k in range(1, 21):  # Trying k from 1 to 20\n",
    "    knn = KNeighborsClassifier(n_neighbors=k)\n",
    "    knn.fit(X_train, y_train)\n",
    "    val_predictions = knn.predict(X_val)\n",
    "    accuracy = accuracy_score(y_val, val_predictions)\n",
    "    print(f\"k={k}, Validation Accuracy={accuracy}\")\n",
    "    \n",
    "    if accuracy > best_accuracy:\n",
    "        best_k = k\n",
    "        best_accuracy = accuracy\n",
    "\n",
    "print(f\"Best k: {best_k} with Accuracy: {best_accuracy}\")"
   ]
  },
  {
   "cell_type": "markdown",
   "metadata": {},
   "source": [
    "# Part c:"
   ]
  },
  {
   "cell_type": "code",
   "execution_count": 7,
   "metadata": {},
   "outputs": [
    {
     "name": "stdout",
     "output_type": "stream",
     "text": [
      "Customer's loan acceptance prediction (best k=1): 0\n"
     ]
    }
   ],
   "source": [
    "# Perform k-NN classification with the best k\n",
    "knn_best = KNeighborsClassifier(n_neighbors=best_k)\n",
    "knn_best.fit(X_train, y_train)\n",
    "customer_prediction_best_k = knn_best.predict(customer_data_scaled)\n",
    "\n",
    "print(f\"Customer's loan acceptance prediction (best k={best_k}): {customer_prediction_best_k[0]}\")"
   ]
  },
  {
   "cell_type": "markdown",
   "metadata": {},
   "source": [
    "# Problem 2.2"
   ]
  },
  {
   "cell_type": "markdown",
   "metadata": {},
   "source": [
    "## Part a:"
   ]
  },
  {
   "cell_type": "code",
   "execution_count": 2,
   "metadata": {},
   "outputs": [
    {
     "name": "stdout",
     "output_type": "stream",
     "text": [
      "Summary statistics for continuous predictors - Loan Acceptors:\n",
      "              Age  Experience      Income      Family       CCAvg    Mortgage\n",
      "count  279.000000  279.000000  279.000000  279.000000  279.000000  279.000000\n",
      "mean    45.261649   20.086022  144.025090    2.641577    3.962258  113.838710\n",
      "std     11.732618   11.795612   31.999484    1.128693    2.108355  170.909835\n",
      "min     26.000000    0.000000   60.000000    1.000000    0.000000    0.000000\n",
      "25%     35.000000    9.000000  122.000000    2.000000    2.650000    0.000000\n",
      "50%     45.000000   20.000000  142.000000    3.000000    3.900000    0.000000\n",
      "75%     56.000000   31.000000  172.000000    4.000000    5.400000  221.000000\n",
      "max     65.000000   41.000000  195.000000    4.000000    9.300000  617.000000\n",
      "\n",
      "Summary statistics for continuous predictors - Loan Non-Acceptors:\n",
      "               Age   Experience       Income       Family        CCAvg  \\\n",
      "count  2721.000000  2721.000000  2721.000000  2721.000000  2721.000000   \n",
      "mean     44.927600    19.685042    66.380742     2.353546     1.722080   \n",
      "std      11.359641    11.350095    40.208764     1.149151     1.556032   \n",
      "min      23.000000    -3.000000     8.000000     1.000000     0.000000   \n",
      "25%      35.000000    10.000000    38.000000     1.000000     0.600000   \n",
      "50%      45.000000    20.000000    59.000000     2.000000     1.400000   \n",
      "75%      55.000000    29.000000    85.000000     3.000000     2.300000   \n",
      "max      67.000000    43.000000   205.000000     4.000000     8.800000   \n",
      "\n",
      "          Mortgage  \n",
      "count  2721.000000  \n",
      "mean     52.259463  \n",
      "std      93.428824  \n",
      "min       0.000000  \n",
      "25%       0.000000  \n",
      "50%       0.000000  \n",
      "75%      97.000000  \n",
      "max     601.000000  \n",
      "\n",
      "Percentages for categorical predictors - Loan Acceptors:\n",
      "Securities Account    12.544803\n",
      "CD Account            28.673835\n",
      "Online                62.724014\n",
      "CreditCard            28.673835\n",
      "Education_2           36.917563\n",
      "Education_3           42.293907\n",
      "dtype: float64\n",
      "\n",
      "Percentages for categorical predictors - Loan Non-Acceptors:\n",
      "Securities Account    10.363837\n",
      "CD Account             3.785373\n",
      "Online                59.610437\n",
      "CreditCard            29.400956\n",
      "Education_2           27.710401\n",
      "Education_3           28.629180\n",
      "dtype: float64\n"
     ]
    }
   ],
   "source": [
    "import pandas as pd\n",
    "from sklearn.model_selection import train_test_split\n",
    "from sklearn.preprocessing import StandardScaler\n",
    "\n",
    "# Load the dataset\n",
    "data = pd.read_csv('UniversalBank.csv')\n",
    "\n",
    "# Drop the ID and ZIP Code columns as they are not useful for prediction\n",
    "data.drop(['ID', 'ZIP Code'], axis=1, inplace=True)\n",
    "\n",
    "# Convert categorical variables into dummy variables\n",
    "data = pd.get_dummies(data, columns=['Education'], drop_first=True)\n",
    "\n",
    "# Partition the data into training (60%) and validation (40%) sets\n",
    "X = data.drop('Personal Loan', axis=1)\n",
    "y = data['Personal Loan']\n",
    "X_train, X_val, y_train, y_val = train_test_split(X, y, test_size=0.4, random_state=42)\n",
    "\n",
    "# Compute summary statistics for the predictors separately for loan acceptors and non-acceptors\n",
    "loan_acceptors = X_train[y_train == 1]\n",
    "loan_non_acceptors = X_train[y_train == 0]\n",
    "\n",
    "# For continuous predictors, compute the mean and standard deviation\n",
    "continuous_cols = ['Age', 'Experience', 'Income', 'Family', 'CCAvg', 'Mortgage']\n",
    "print(\"Summary statistics for continuous predictors - Loan Acceptors:\")\n",
    "print(loan_acceptors[continuous_cols].describe())\n",
    "print(\"\\nSummary statistics for continuous predictors - Loan Non-Acceptors:\")\n",
    "print(loan_non_acceptors[continuous_cols].describe())\n",
    "\n",
    "# For categorical predictors, compute the percentages\n",
    "categorical_cols = ['Securities Account', 'CD Account', 'Online', 'CreditCard', 'Education_2', 'Education_3']\n",
    "print(\"\\nPercentages for categorical predictors - Loan Acceptors:\")\n",
    "print(loan_acceptors[categorical_cols].mean() * 100)\n",
    "print(\"\\nPercentages for categorical predictors - Loan Non-Acceptors:\")\n",
    "print(loan_non_acceptors[categorical_cols].mean() * 100)"
   ]
  },
  {
   "cell_type": "markdown",
   "metadata": {},
   "source": [
    "## Part b:"
   ]
  },
  {
   "cell_type": "code",
   "execution_count": 3,
   "metadata": {},
   "outputs": [
    {
     "name": "stdout",
     "output_type": "stream",
     "text": [
      "Accuracy: 0.9455\n",
      "Confusion Matrix:\n",
      "[[1767   32]\n",
      " [  77  124]]\n"
     ]
    }
   ],
   "source": [
    "from sklearn.discriminant_analysis import LinearDiscriminantAnalysis\n",
    "from sklearn.metrics import accuracy_score, confusion_matrix\n",
    "\n",
    "# Perform Linear Discriminant Analysis\n",
    "lda = LinearDiscriminantAnalysis()\n",
    "lda.fit(X_train, y_train)\n",
    "\n",
    "# Predict on the validation set\n",
    "y_pred = lda.predict(X_val)\n",
    "\n",
    "# Examine the model performance\n",
    "accuracy = accuracy_score(y_val, y_pred)\n",
    "conf_matrix = confusion_matrix(y_val, y_pred)\n",
    "print(f\"Accuracy: {accuracy}\")\n",
    "print(f\"Confusion Matrix:\\n{conf_matrix}\")"
   ]
  }
 ],
 "metadata": {
  "kernelspec": {
   "display_name": "Python 3",
   "language": "python",
   "name": "python3"
  },
  "language_info": {
   "codemirror_mode": {
    "name": "ipython",
    "version": 3
   },
   "file_extension": ".py",
   "mimetype": "text/x-python",
   "name": "python",
   "nbconvert_exporter": "python",
   "pygments_lexer": "ipython3",
   "version": "3.10.13"
  }
 },
 "nbformat": 4,
 "nbformat_minor": 2
}
